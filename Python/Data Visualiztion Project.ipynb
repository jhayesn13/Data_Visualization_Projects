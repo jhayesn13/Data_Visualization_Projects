{
 "cells": [
  {
   "cell_type": "code",
   "execution_count": 2,
   "id": "fdb47f11",
   "metadata": {},
   "outputs": [
    {
     "name": "stdout",
     "output_type": "stream",
     "text": [
      "<bound method NDFrame.head of       pclass  survived                                             name  \\\n",
      "0        1.0       1.0                    Allen, Miss. Elisabeth Walton   \n",
      "1        1.0       1.0                   Allison, Master. Hudson Trevor   \n",
      "2        1.0       0.0                     Allison, Miss. Helen Loraine   \n",
      "3        1.0       0.0             Allison, Mr. Hudson Joshua Creighton   \n",
      "4        1.0       0.0  Allison, Mrs. Hudson J C (Bessie Waldo Daniels)   \n",
      "...      ...       ...                                              ...   \n",
      "1305     3.0       0.0                            Zabour, Miss. Thamine   \n",
      "1306     3.0       0.0                        Zakarian, Mr. Mapriededer   \n",
      "1307     3.0       0.0                              Zakarian, Mr. Ortin   \n",
      "1308     3.0       0.0                               Zimmerman, Mr. Leo   \n",
      "1309     NaN       NaN                                              NaN   \n",
      "\n",
      "         sex      age  sibsp  parch  ticket      fare    cabin embarked boat  \\\n",
      "0     female  29.0000    0.0    0.0   24160  211.3375       B5        S    2   \n",
      "1       male   0.9167    1.0    2.0  113781  151.5500  C22 C26        S   11   \n",
      "2     female   2.0000    1.0    2.0  113781  151.5500  C22 C26        S  NaN   \n",
      "3       male  30.0000    1.0    2.0  113781  151.5500  C22 C26        S  NaN   \n",
      "4     female  25.0000    1.0    2.0  113781  151.5500  C22 C26        S  NaN   \n",
      "...      ...      ...    ...    ...     ...       ...      ...      ...  ...   \n",
      "1305  female      NaN    1.0    0.0    2665   14.4542      NaN        C  NaN   \n",
      "1306    male  26.5000    0.0    0.0    2656    7.2250      NaN        C  NaN   \n",
      "1307    male  27.0000    0.0    0.0    2670    7.2250      NaN        C  NaN   \n",
      "1308    male  29.0000    0.0    0.0  315082    7.8750      NaN        S  NaN   \n",
      "1309     NaN      NaN    NaN    NaN     NaN       NaN      NaN      NaN  NaN   \n",
      "\n",
      "       body                        home.dest  \n",
      "0       NaN                     St Louis, MO  \n",
      "1       NaN  Montreal, PQ / Chesterville, ON  \n",
      "2       NaN  Montreal, PQ / Chesterville, ON  \n",
      "3     135.0  Montreal, PQ / Chesterville, ON  \n",
      "4       NaN  Montreal, PQ / Chesterville, ON  \n",
      "...     ...                              ...  \n",
      "1305    NaN                              NaN  \n",
      "1306  304.0                              NaN  \n",
      "1307    NaN                              NaN  \n",
      "1308    NaN                              NaN  \n",
      "1309    NaN                              NaN  \n",
      "\n",
      "[1310 rows x 14 columns]>\n"
     ]
    }
   ],
   "source": [
    "import pandas as pd\n",
    "import numpy as np\n",
    "import matplotlib.pyplot as plt\n",
    "import plotly.express as px\n",
    "import seaborn as sns\n",
    "import plotly.graph_objects as go\n",
    "from plotly.subplots import make_subplots\n",
    "\n",
    "df = pd.read_csv(r'D:\\2023\\School\\St Johns\\Fall 2023\\Data Visualization\\Python Project\\Titanic Data.csv')\n",
    "\n",
    "print(df.head)"
   ]
  },
  {
   "cell_type": "code",
   "execution_count": 3,
   "id": "4a69f242",
   "metadata": {},
   "outputs": [
    {
     "data": {
      "text/html": [
       "<div>\n",
       "<style scoped>\n",
       "    .dataframe tbody tr th:only-of-type {\n",
       "        vertical-align: middle;\n",
       "    }\n",
       "\n",
       "    .dataframe tbody tr th {\n",
       "        vertical-align: top;\n",
       "    }\n",
       "\n",
       "    .dataframe thead th {\n",
       "        text-align: right;\n",
       "    }\n",
       "</style>\n",
       "<table border=\"1\" class=\"dataframe\">\n",
       "  <thead>\n",
       "    <tr style=\"text-align: right;\">\n",
       "      <th></th>\n",
       "      <th>pclass</th>\n",
       "      <th>survived</th>\n",
       "      <th>age</th>\n",
       "      <th>sibsp</th>\n",
       "      <th>parch</th>\n",
       "      <th>fare</th>\n",
       "      <th>body</th>\n",
       "    </tr>\n",
       "  </thead>\n",
       "  <tbody>\n",
       "    <tr>\n",
       "      <th>count</th>\n",
       "      <td>1309.000000</td>\n",
       "      <td>1309.000000</td>\n",
       "      <td>1046.000000</td>\n",
       "      <td>1309.000000</td>\n",
       "      <td>1309.000000</td>\n",
       "      <td>1308.000000</td>\n",
       "      <td>121.000000</td>\n",
       "    </tr>\n",
       "    <tr>\n",
       "      <th>mean</th>\n",
       "      <td>2.294882</td>\n",
       "      <td>0.381971</td>\n",
       "      <td>29.881135</td>\n",
       "      <td>0.498854</td>\n",
       "      <td>0.385027</td>\n",
       "      <td>33.295479</td>\n",
       "      <td>160.809917</td>\n",
       "    </tr>\n",
       "    <tr>\n",
       "      <th>std</th>\n",
       "      <td>0.837836</td>\n",
       "      <td>0.486055</td>\n",
       "      <td>14.413500</td>\n",
       "      <td>1.041658</td>\n",
       "      <td>0.865560</td>\n",
       "      <td>51.758668</td>\n",
       "      <td>97.696922</td>\n",
       "    </tr>\n",
       "    <tr>\n",
       "      <th>min</th>\n",
       "      <td>1.000000</td>\n",
       "      <td>0.000000</td>\n",
       "      <td>0.166700</td>\n",
       "      <td>0.000000</td>\n",
       "      <td>0.000000</td>\n",
       "      <td>0.000000</td>\n",
       "      <td>1.000000</td>\n",
       "    </tr>\n",
       "    <tr>\n",
       "      <th>25%</th>\n",
       "      <td>2.000000</td>\n",
       "      <td>0.000000</td>\n",
       "      <td>21.000000</td>\n",
       "      <td>0.000000</td>\n",
       "      <td>0.000000</td>\n",
       "      <td>7.895800</td>\n",
       "      <td>72.000000</td>\n",
       "    </tr>\n",
       "    <tr>\n",
       "      <th>50%</th>\n",
       "      <td>3.000000</td>\n",
       "      <td>0.000000</td>\n",
       "      <td>28.000000</td>\n",
       "      <td>0.000000</td>\n",
       "      <td>0.000000</td>\n",
       "      <td>14.454200</td>\n",
       "      <td>155.000000</td>\n",
       "    </tr>\n",
       "    <tr>\n",
       "      <th>75%</th>\n",
       "      <td>3.000000</td>\n",
       "      <td>1.000000</td>\n",
       "      <td>39.000000</td>\n",
       "      <td>1.000000</td>\n",
       "      <td>0.000000</td>\n",
       "      <td>31.275000</td>\n",
       "      <td>256.000000</td>\n",
       "    </tr>\n",
       "    <tr>\n",
       "      <th>max</th>\n",
       "      <td>3.000000</td>\n",
       "      <td>1.000000</td>\n",
       "      <td>80.000000</td>\n",
       "      <td>8.000000</td>\n",
       "      <td>9.000000</td>\n",
       "      <td>512.329200</td>\n",
       "      <td>328.000000</td>\n",
       "    </tr>\n",
       "  </tbody>\n",
       "</table>\n",
       "</div>"
      ],
      "text/plain": [
       "            pclass     survived          age        sibsp        parch  \\\n",
       "count  1309.000000  1309.000000  1046.000000  1309.000000  1309.000000   \n",
       "mean      2.294882     0.381971    29.881135     0.498854     0.385027   \n",
       "std       0.837836     0.486055    14.413500     1.041658     0.865560   \n",
       "min       1.000000     0.000000     0.166700     0.000000     0.000000   \n",
       "25%       2.000000     0.000000    21.000000     0.000000     0.000000   \n",
       "50%       3.000000     0.000000    28.000000     0.000000     0.000000   \n",
       "75%       3.000000     1.000000    39.000000     1.000000     0.000000   \n",
       "max       3.000000     1.000000    80.000000     8.000000     9.000000   \n",
       "\n",
       "              fare        body  \n",
       "count  1308.000000  121.000000  \n",
       "mean     33.295479  160.809917  \n",
       "std      51.758668   97.696922  \n",
       "min       0.000000    1.000000  \n",
       "25%       7.895800   72.000000  \n",
       "50%      14.454200  155.000000  \n",
       "75%      31.275000  256.000000  \n",
       "max     512.329200  328.000000  "
      ]
     },
     "execution_count": 3,
     "metadata": {},
     "output_type": "execute_result"
    }
   ],
   "source": [
    "df.describe()"
   ]
  },
  {
   "cell_type": "code",
   "execution_count": 4,
   "id": "bc5248cf",
   "metadata": {},
   "outputs": [
    {
     "data": {
      "text/plain": [
       "Index(['pclass', 'survived', 'name', 'sex', 'age', 'sibsp', 'parch', 'ticket',\n",
       "       'fare', 'cabin', 'embarked', 'boat', 'body', 'home.dest'],\n",
       "      dtype='object')"
      ]
     },
     "execution_count": 4,
     "metadata": {},
     "output_type": "execute_result"
    }
   ],
   "source": [
    "df.columns"
   ]
  },
  {
   "cell_type": "code",
   "execution_count": 5,
   "id": "f8ecb9ad",
   "metadata": {},
   "outputs": [
    {
     "data": {
      "text/html": [
       "<div>\n",
       "<style scoped>\n",
       "    .dataframe tbody tr th:only-of-type {\n",
       "        vertical-align: middle;\n",
       "    }\n",
       "\n",
       "    .dataframe tbody tr th {\n",
       "        vertical-align: top;\n",
       "    }\n",
       "\n",
       "    .dataframe thead th {\n",
       "        text-align: right;\n",
       "    }\n",
       "</style>\n",
       "<table border=\"1\" class=\"dataframe\">\n",
       "  <thead>\n",
       "    <tr style=\"text-align: right;\">\n",
       "      <th></th>\n",
       "      <th>pclass</th>\n",
       "      <th>survived</th>\n",
       "      <th>name</th>\n",
       "      <th>sex</th>\n",
       "      <th>age</th>\n",
       "      <th>sibsp</th>\n",
       "      <th>parch</th>\n",
       "      <th>ticket</th>\n",
       "      <th>fare</th>\n",
       "      <th>cabin</th>\n",
       "      <th>embarked</th>\n",
       "      <th>boat</th>\n",
       "      <th>body</th>\n",
       "      <th>home.dest</th>\n",
       "    </tr>\n",
       "  </thead>\n",
       "  <tbody>\n",
       "    <tr>\n",
       "      <th>1263</th>\n",
       "      <td>3.0</td>\n",
       "      <td>0.0</td>\n",
       "      <td>van Billiard, Master. Walter John</td>\n",
       "      <td>male</td>\n",
       "      <td>11.5</td>\n",
       "      <td>1.0</td>\n",
       "      <td>1.0</td>\n",
       "      <td>A/5. 851</td>\n",
       "      <td>14.5000</td>\n",
       "      <td>NaN</td>\n",
       "      <td>S</td>\n",
       "      <td>NaN</td>\n",
       "      <td>1.0</td>\n",
       "      <td>NaN</td>\n",
       "    </tr>\n",
       "    <tr>\n",
       "      <th>1096</th>\n",
       "      <td>3.0</td>\n",
       "      <td>0.0</td>\n",
       "      <td>Palsson, Master. Gosta Leonard</td>\n",
       "      <td>male</td>\n",
       "      <td>2.0</td>\n",
       "      <td>3.0</td>\n",
       "      <td>1.0</td>\n",
       "      <td>349909</td>\n",
       "      <td>21.0750</td>\n",
       "      <td>NaN</td>\n",
       "      <td>S</td>\n",
       "      <td>NaN</td>\n",
       "      <td>4.0</td>\n",
       "      <td>NaN</td>\n",
       "    </tr>\n",
       "    <tr>\n",
       "      <th>1153</th>\n",
       "      <td>3.0</td>\n",
       "      <td>0.0</td>\n",
       "      <td>Robins, Mrs. Alexander A (Grace Charity Laury)</td>\n",
       "      <td>female</td>\n",
       "      <td>47.0</td>\n",
       "      <td>1.0</td>\n",
       "      <td>0.0</td>\n",
       "      <td>A/5. 3337</td>\n",
       "      <td>14.5000</td>\n",
       "      <td>NaN</td>\n",
       "      <td>S</td>\n",
       "      <td>NaN</td>\n",
       "      <td>7.0</td>\n",
       "      <td>NaN</td>\n",
       "    </tr>\n",
       "    <tr>\n",
       "      <th>741</th>\n",
       "      <td>3.0</td>\n",
       "      <td>0.0</td>\n",
       "      <td>Daher, Mr. Shedid</td>\n",
       "      <td>male</td>\n",
       "      <td>22.5</td>\n",
       "      <td>0.0</td>\n",
       "      <td>0.0</td>\n",
       "      <td>2698</td>\n",
       "      <td>7.2250</td>\n",
       "      <td>NaN</td>\n",
       "      <td>C</td>\n",
       "      <td>NaN</td>\n",
       "      <td>9.0</td>\n",
       "      <td>NaN</td>\n",
       "    </tr>\n",
       "    <tr>\n",
       "      <th>1294</th>\n",
       "      <td>3.0</td>\n",
       "      <td>0.0</td>\n",
       "      <td>Williams, Mr. Leslie</td>\n",
       "      <td>male</td>\n",
       "      <td>28.5</td>\n",
       "      <td>0.0</td>\n",
       "      <td>0.0</td>\n",
       "      <td>54636</td>\n",
       "      <td>16.1000</td>\n",
       "      <td>NaN</td>\n",
       "      <td>S</td>\n",
       "      <td>NaN</td>\n",
       "      <td>14.0</td>\n",
       "      <td>NaN</td>\n",
       "    </tr>\n",
       "    <tr>\n",
       "      <th>...</th>\n",
       "      <td>...</td>\n",
       "      <td>...</td>\n",
       "      <td>...</td>\n",
       "      <td>...</td>\n",
       "      <td>...</td>\n",
       "      <td>...</td>\n",
       "      <td>...</td>\n",
       "      <td>...</td>\n",
       "      <td>...</td>\n",
       "      <td>...</td>\n",
       "      <td>...</td>\n",
       "      <td>...</td>\n",
       "      <td>...</td>\n",
       "      <td>...</td>\n",
       "    </tr>\n",
       "    <tr>\n",
       "      <th>1303</th>\n",
       "      <td>3.0</td>\n",
       "      <td>0.0</td>\n",
       "      <td>Yousseff, Mr. Gerious</td>\n",
       "      <td>male</td>\n",
       "      <td>NaN</td>\n",
       "      <td>0.0</td>\n",
       "      <td>0.0</td>\n",
       "      <td>2627</td>\n",
       "      <td>14.4583</td>\n",
       "      <td>NaN</td>\n",
       "      <td>C</td>\n",
       "      <td>NaN</td>\n",
       "      <td>NaN</td>\n",
       "      <td>NaN</td>\n",
       "    </tr>\n",
       "    <tr>\n",
       "      <th>1305</th>\n",
       "      <td>3.0</td>\n",
       "      <td>0.0</td>\n",
       "      <td>Zabour, Miss. Thamine</td>\n",
       "      <td>female</td>\n",
       "      <td>NaN</td>\n",
       "      <td>1.0</td>\n",
       "      <td>0.0</td>\n",
       "      <td>2665</td>\n",
       "      <td>14.4542</td>\n",
       "      <td>NaN</td>\n",
       "      <td>C</td>\n",
       "      <td>NaN</td>\n",
       "      <td>NaN</td>\n",
       "      <td>NaN</td>\n",
       "    </tr>\n",
       "    <tr>\n",
       "      <th>1307</th>\n",
       "      <td>3.0</td>\n",
       "      <td>0.0</td>\n",
       "      <td>Zakarian, Mr. Ortin</td>\n",
       "      <td>male</td>\n",
       "      <td>27.0</td>\n",
       "      <td>0.0</td>\n",
       "      <td>0.0</td>\n",
       "      <td>2670</td>\n",
       "      <td>7.2250</td>\n",
       "      <td>NaN</td>\n",
       "      <td>C</td>\n",
       "      <td>NaN</td>\n",
       "      <td>NaN</td>\n",
       "      <td>NaN</td>\n",
       "    </tr>\n",
       "    <tr>\n",
       "      <th>1308</th>\n",
       "      <td>3.0</td>\n",
       "      <td>0.0</td>\n",
       "      <td>Zimmerman, Mr. Leo</td>\n",
       "      <td>male</td>\n",
       "      <td>29.0</td>\n",
       "      <td>0.0</td>\n",
       "      <td>0.0</td>\n",
       "      <td>315082</td>\n",
       "      <td>7.8750</td>\n",
       "      <td>NaN</td>\n",
       "      <td>S</td>\n",
       "      <td>NaN</td>\n",
       "      <td>NaN</td>\n",
       "      <td>NaN</td>\n",
       "    </tr>\n",
       "    <tr>\n",
       "      <th>1309</th>\n",
       "      <td>NaN</td>\n",
       "      <td>NaN</td>\n",
       "      <td>NaN</td>\n",
       "      <td>NaN</td>\n",
       "      <td>NaN</td>\n",
       "      <td>NaN</td>\n",
       "      <td>NaN</td>\n",
       "      <td>NaN</td>\n",
       "      <td>NaN</td>\n",
       "      <td>NaN</td>\n",
       "      <td>NaN</td>\n",
       "      <td>NaN</td>\n",
       "      <td>NaN</td>\n",
       "      <td>NaN</td>\n",
       "    </tr>\n",
       "  </tbody>\n",
       "</table>\n",
       "<p>1310 rows × 14 columns</p>\n",
       "</div>"
      ],
      "text/plain": [
       "      pclass  survived                                            name  \\\n",
       "1263     3.0       0.0               van Billiard, Master. Walter John   \n",
       "1096     3.0       0.0                  Palsson, Master. Gosta Leonard   \n",
       "1153     3.0       0.0  Robins, Mrs. Alexander A (Grace Charity Laury)   \n",
       "741      3.0       0.0                               Daher, Mr. Shedid   \n",
       "1294     3.0       0.0                            Williams, Mr. Leslie   \n",
       "...      ...       ...                                             ...   \n",
       "1303     3.0       0.0                           Yousseff, Mr. Gerious   \n",
       "1305     3.0       0.0                           Zabour, Miss. Thamine   \n",
       "1307     3.0       0.0                             Zakarian, Mr. Ortin   \n",
       "1308     3.0       0.0                              Zimmerman, Mr. Leo   \n",
       "1309     NaN       NaN                                             NaN   \n",
       "\n",
       "         sex   age  sibsp  parch     ticket     fare cabin embarked boat  \\\n",
       "1263    male  11.5    1.0    1.0   A/5. 851  14.5000   NaN        S  NaN   \n",
       "1096    male   2.0    3.0    1.0     349909  21.0750   NaN        S  NaN   \n",
       "1153  female  47.0    1.0    0.0  A/5. 3337  14.5000   NaN        S  NaN   \n",
       "741     male  22.5    0.0    0.0       2698   7.2250   NaN        C  NaN   \n",
       "1294    male  28.5    0.0    0.0      54636  16.1000   NaN        S  NaN   \n",
       "...      ...   ...    ...    ...        ...      ...   ...      ...  ...   \n",
       "1303    male   NaN    0.0    0.0       2627  14.4583   NaN        C  NaN   \n",
       "1305  female   NaN    1.0    0.0       2665  14.4542   NaN        C  NaN   \n",
       "1307    male  27.0    0.0    0.0       2670   7.2250   NaN        C  NaN   \n",
       "1308    male  29.0    0.0    0.0     315082   7.8750   NaN        S  NaN   \n",
       "1309     NaN   NaN    NaN    NaN        NaN      NaN   NaN      NaN  NaN   \n",
       "\n",
       "      body home.dest  \n",
       "1263   1.0       NaN  \n",
       "1096   4.0       NaN  \n",
       "1153   7.0       NaN  \n",
       "741    9.0       NaN  \n",
       "1294  14.0       NaN  \n",
       "...    ...       ...  \n",
       "1303   NaN       NaN  \n",
       "1305   NaN       NaN  \n",
       "1307   NaN       NaN  \n",
       "1308   NaN       NaN  \n",
       "1309   NaN       NaN  \n",
       "\n",
       "[1310 rows x 14 columns]"
      ]
     },
     "execution_count": 5,
     "metadata": {},
     "output_type": "execute_result"
    }
   ],
   "source": [
    "df.sort_values(by='body')"
   ]
  },
  {
   "cell_type": "code",
   "execution_count": 6,
   "id": "507d1308",
   "metadata": {},
   "outputs": [
    {
     "name": "stdout",
     "output_type": "stream",
     "text": [
      "      pclass  survived                                             name  \\\n",
      "0        1.0       1.0                    Allen, Miss. Elisabeth Walton   \n",
      "1        1.0       1.0                   Allison, Master. Hudson Trevor   \n",
      "2        1.0       0.0                     Allison, Miss. Helen Loraine   \n",
      "3        1.0       0.0             Allison, Mr. Hudson Joshua Creighton   \n",
      "4        1.0       0.0  Allison, Mrs. Hudson J C (Bessie Waldo Daniels)   \n",
      "...      ...       ...                                              ...   \n",
      "1304     3.0       0.0                             Zabour, Miss. Hileni   \n",
      "1305     3.0       0.0                            Zabour, Miss. Thamine   \n",
      "1306     3.0       0.0                        Zakarian, Mr. Mapriededer   \n",
      "1307     3.0       0.0                              Zakarian, Mr. Ortin   \n",
      "1308     3.0       0.0                               Zimmerman, Mr. Leo   \n",
      "\n",
      "         sex      age  sibsp  parch  ticket      fare    cabin embarked boat  \\\n",
      "0     female  29.0000    0.0    0.0   24160  211.3375       B5        S    2   \n",
      "1       male   0.9167    1.0    2.0  113781  151.5500  C22 C26        S   11   \n",
      "2     female   2.0000    1.0    2.0  113781  151.5500  C22 C26        S  NaN   \n",
      "3       male  30.0000    1.0    2.0  113781  151.5500  C22 C26        S  NaN   \n",
      "4     female  25.0000    1.0    2.0  113781  151.5500  C22 C26        S  NaN   \n",
      "...      ...      ...    ...    ...     ...       ...      ...      ...  ...   \n",
      "1304  female  14.5000    1.0    0.0    2665   14.4542      NaN        C  NaN   \n",
      "1305  female      NaN    1.0    0.0    2665   14.4542      NaN        C  NaN   \n",
      "1306    male  26.5000    0.0    0.0    2656    7.2250      NaN        C  NaN   \n",
      "1307    male  27.0000    0.0    0.0    2670    7.2250      NaN        C  NaN   \n",
      "1308    male  29.0000    0.0    0.0  315082    7.8750      NaN        S  NaN   \n",
      "\n",
      "       body                        home.dest  \n",
      "0       NaN                     St Louis, MO  \n",
      "1       NaN  Montreal, PQ / Chesterville, ON  \n",
      "2       NaN  Montreal, PQ / Chesterville, ON  \n",
      "3     135.0  Montreal, PQ / Chesterville, ON  \n",
      "4       NaN  Montreal, PQ / Chesterville, ON  \n",
      "...     ...                              ...  \n",
      "1304  328.0                              NaN  \n",
      "1305    NaN                              NaN  \n",
      "1306  304.0                              NaN  \n",
      "1307    NaN                              NaN  \n",
      "1308    NaN                              NaN  \n",
      "\n",
      "[1309 rows x 14 columns]\n"
     ]
    }
   ],
   "source": [
    "df = df.drop(1309)\n",
    "print(df)"
   ]
  },
  {
   "cell_type": "code",
   "execution_count": 7,
   "id": "bb350833",
   "metadata": {},
   "outputs": [],
   "source": [
    "def add_50plus(value):\n",
    "    if value > 50:\n",
    "        return '50+'\n",
    "    else:\n",
    "        return 'Under 50'\n",
    "    \n",
    "df['50plus'] = df['age'].apply(add_50plus)"
   ]
  },
  {
   "cell_type": "code",
   "execution_count": 8,
   "id": "63a89152",
   "metadata": {},
   "outputs": [],
   "source": [
    "def add_survived(value):\n",
    "    if value == 1.0:\n",
    "        return 'Survived'\n",
    "    elif value == 0.0:\n",
    "        return 'Not Survived'\n",
    "    else:\n",
    "        return 'unknown'\n",
    "    \n",
    "df['survivedStatus'] = df['survived'].apply(add_survived)"
   ]
  },
  {
   "cell_type": "code",
   "execution_count": 9,
   "id": "4e21028e",
   "metadata": {},
   "outputs": [],
   "source": [
    "def add_class(value):\n",
    "    if value == 1.0:\n",
    "        return 'First'\n",
    "    elif value == 2.0:\n",
    "        return 'Second'\n",
    "    elif value == 3.0:\n",
    "        return 'Third'\n",
    "    else:\n",
    "        return 'unknown'\n",
    "    \n",
    "df['classStatus'] = df['pclass'].apply(add_class)"
   ]
  },
  {
   "cell_type": "code",
   "execution_count": 10,
   "id": "0429378a",
   "metadata": {},
   "outputs": [],
   "source": [
    "def add_50plus(value):\n",
    "    if value > 50:\n",
    "        return '50+'\n",
    "    else:\n",
    "        return 'Under 50'\n",
    "    \n",
    "df['50plus'] = df['age'].apply(add_50plus)"
   ]
  },
  {
   "cell_type": "code",
   "execution_count": 11,
   "id": "07d7b984",
   "metadata": {},
   "outputs": [],
   "source": [
    "def add_childrenAdults(value):\n",
    "    if value < 19:\n",
    "        return 'Child (1-18)'\n",
    "    elif value >= 19:\n",
    "        return 'Adult (18+)'\n",
    "    else:\n",
    "        return 'unknown'\n",
    "    \n",
    "df['childrenAdults'] = df['age'].apply(add_childrenAdults)"
   ]
  },
  {
   "cell_type": "code",
   "execution_count": 12,
   "id": "f2ba3fa9",
   "metadata": {},
   "outputs": [],
   "source": [
    "def add_boysgirls(row):\n",
    "    try:\n",
    "        if row['childrenAdults'] == \"Child (1-18)\":\n",
    "            if row['sex'] == \"male\":\n",
    "                return 'Boys'\n",
    "            elif row['sex'] == \"female\":\n",
    "                return 'Girls'\n",
    "            else:\n",
    "                return 'Age Unknown'\n",
    "        elif row['childrenAdults'] == 'Adult (18+)':\n",
    "            if row['sex'] == \"male\":\n",
    "                return 'Men'\n",
    "            elif row['sex'] == \"female\":\n",
    "                return 'Women'\n",
    "            else:\n",
    "                return 'Age Unknown'\n",
    "        else:\n",
    "            return 'Age Unknown'\n",
    "    except Exception as err:\n",
    "        # Handle the exception if needed\n",
    "        print(err)\n",
    "\n",
    "df['boyGirls'] = df.apply(add_boysgirls, axis=1)\n",
    "\n",
    "#print(df)"
   ]
  },
  {
   "cell_type": "code",
   "execution_count": 13,
   "id": "5c216ec6",
   "metadata": {},
   "outputs": [],
   "source": [
    "def add_embarked(value):\n",
    "    if value == 'C':\n",
    "        return 'Cherbourg'\n",
    "    elif value == 'Q':\n",
    "        return 'Queenstown'\n",
    "    elif value == 'S':\n",
    "        return 'Southampton'\n",
    "    else:\n",
    "        return 'Unknown'\n",
    "    \n",
    "df['portOfEmbark'] = df['embarked'].apply(add_embarked)"
   ]
  },
  {
   "cell_type": "code",
   "execution_count": 14,
   "id": "305cfeda",
   "metadata": {},
   "outputs": [],
   "source": [
    "def add_recovered(row):\n",
    "    try:\n",
    "        if row['survivedStatus'] == \"Survived\":\n",
    "            return 'Survived'\n",
    "        elif row['survivedStatus'] == 'Not Survived':\n",
    "            if row['body'] > 0:\n",
    "                return 'Dead - Recovered'\n",
    "            else:\n",
    "                return 'Dead - Not Recovered'\n",
    "        else:\n",
    "            return 'Unknown'\n",
    "    except Exception as err:\n",
    "        # Handle the exception if needed\n",
    "        print(err)\n",
    "\n",
    "df['recovered'] = df.apply(add_recovered, axis=1)"
   ]
  },
  {
   "cell_type": "code",
   "execution_count": 15,
   "id": "8bdd34eb",
   "metadata": {},
   "outputs": [
    {
     "name": "stdout",
     "output_type": "stream",
     "text": [
      "      pclass  survived                                             name  \\\n",
      "0        1.0       1.0                    Allen, Miss. Elisabeth Walton   \n",
      "1        1.0       1.0                   Allison, Master. Hudson Trevor   \n",
      "2        1.0       0.0                     Allison, Miss. Helen Loraine   \n",
      "3        1.0       0.0             Allison, Mr. Hudson Joshua Creighton   \n",
      "4        1.0       0.0  Allison, Mrs. Hudson J C (Bessie Waldo Daniels)   \n",
      "...      ...       ...                                              ...   \n",
      "1304     3.0       0.0                             Zabour, Miss. Hileni   \n",
      "1305     3.0       0.0                            Zabour, Miss. Thamine   \n",
      "1306     3.0       0.0                        Zakarian, Mr. Mapriededer   \n",
      "1307     3.0       0.0                              Zakarian, Mr. Ortin   \n",
      "1308     3.0       0.0                               Zimmerman, Mr. Leo   \n",
      "\n",
      "         sex      age  sibsp  parch  ticket      fare    cabin  ... boat  \\\n",
      "0     female  29.0000    0.0    0.0   24160  211.3375       B5  ...    2   \n",
      "1       male   0.9167    1.0    2.0  113781  151.5500  C22 C26  ...   11   \n",
      "2     female   2.0000    1.0    2.0  113781  151.5500  C22 C26  ...  NaN   \n",
      "3       male  30.0000    1.0    2.0  113781  151.5500  C22 C26  ...  NaN   \n",
      "4     female  25.0000    1.0    2.0  113781  151.5500  C22 C26  ...  NaN   \n",
      "...      ...      ...    ...    ...     ...       ...      ...  ...  ...   \n",
      "1304  female  14.5000    1.0    0.0    2665   14.4542      NaN  ...  NaN   \n",
      "1305  female      NaN    1.0    0.0    2665   14.4542      NaN  ...  NaN   \n",
      "1306    male  26.5000    0.0    0.0    2656    7.2250      NaN  ...  NaN   \n",
      "1307    male  27.0000    0.0    0.0    2670    7.2250      NaN  ...  NaN   \n",
      "1308    male  29.0000    0.0    0.0  315082    7.8750      NaN  ...  NaN   \n",
      "\n",
      "       body                        home.dest    50plus survivedStatus  \\\n",
      "0       NaN                     St Louis, MO  Under 50       Survived   \n",
      "1       NaN  Montreal, PQ / Chesterville, ON  Under 50       Survived   \n",
      "2       NaN  Montreal, PQ / Chesterville, ON  Under 50   Not Survived   \n",
      "3     135.0  Montreal, PQ / Chesterville, ON  Under 50   Not Survived   \n",
      "4       NaN  Montreal, PQ / Chesterville, ON  Under 50   Not Survived   \n",
      "...     ...                              ...       ...            ...   \n",
      "1304  328.0                              NaN  Under 50   Not Survived   \n",
      "1305    NaN                              NaN  Under 50   Not Survived   \n",
      "1306  304.0                              NaN  Under 50   Not Survived   \n",
      "1307    NaN                              NaN  Under 50   Not Survived   \n",
      "1308    NaN                              NaN  Under 50   Not Survived   \n",
      "\n",
      "     classStatus childrenAdults     boyGirls portOfEmbark  \\\n",
      "0          First    Adult (18+)        Women  Southampton   \n",
      "1          First   Child (1-18)         Boys  Southampton   \n",
      "2          First   Child (1-18)        Girls  Southampton   \n",
      "3          First    Adult (18+)          Men  Southampton   \n",
      "4          First    Adult (18+)        Women  Southampton   \n",
      "...          ...            ...          ...          ...   \n",
      "1304       Third   Child (1-18)        Girls    Cherbourg   \n",
      "1305       Third        unknown  Age Unknown    Cherbourg   \n",
      "1306       Third    Adult (18+)          Men    Cherbourg   \n",
      "1307       Third    Adult (18+)          Men    Cherbourg   \n",
      "1308       Third    Adult (18+)          Men  Southampton   \n",
      "\n",
      "                 recovered  \n",
      "0                 Survived  \n",
      "1                 Survived  \n",
      "2     Dead - Not Recovered  \n",
      "3         Dead - Recovered  \n",
      "4     Dead - Not Recovered  \n",
      "...                    ...  \n",
      "1304      Dead - Recovered  \n",
      "1305  Dead - Not Recovered  \n",
      "1306      Dead - Recovered  \n",
      "1307  Dead - Not Recovered  \n",
      "1308  Dead - Not Recovered  \n",
      "\n",
      "[1309 rows x 21 columns]\n"
     ]
    }
   ],
   "source": [
    "print(df)"
   ]
  },
  {
   "cell_type": "code",
   "execution_count": 23,
   "id": "9de0c292",
   "metadata": {
    "scrolled": false
   },
   "outputs": [
    {
     "name": "stderr",
     "output_type": "stream",
     "text": [
      "C:\\Users\\jhaye\\AppData\\Local\\Temp\\ipykernel_5756\\243194881.py:5: UserWarning:\n",
      "\n",
      "Boolean Series key will be reindexed to match DataFrame index.\n",
      "\n",
      "C:\\Users\\jhaye\\AppData\\Local\\Temp\\ipykernel_5756\\243194881.py:9: UserWarning:\n",
      "\n",
      "Boolean Series key will be reindexed to match DataFrame index.\n",
      "\n",
      "C:\\Users\\jhaye\\AppData\\Local\\Temp\\ipykernel_5756\\243194881.py:13: UserWarning:\n",
      "\n",
      "Boolean Series key will be reindexed to match DataFrame index.\n",
      "\n",
      "C:\\Users\\jhaye\\AppData\\Local\\Temp\\ipykernel_5756\\243194881.py:17: UserWarning:\n",
      "\n",
      "Boolean Series key will be reindexed to match DataFrame index.\n",
      "\n"
     ]
    },
    {
     "data": {
      "application/vnd.plotly.v1+json": {
       "config": {
        "plotlyServerURL": "https://plot.ly"
       },
       "data": [
        {
         "marker": {
          "color": "#003758"
         },
         "name": "Survived",
         "opacity": 0.75,
         "showlegend": true,
         "text": [
          "32",
          "129",
          "26"
         ],
         "textposition": "outside",
         "type": "histogram",
         "x": [
          "Boys",
          "Men",
          "Men",
          "Men",
          "Men",
          "Men",
          "Men",
          "Men",
          "Age Unknown",
          "Men",
          "Men",
          "Boys",
          "Men",
          "Men",
          "Men",
          "Men",
          "Men",
          "Men",
          "Men",
          "Boys",
          "Men",
          "Men",
          "Men",
          "Men",
          "Men",
          "Men",
          "Men",
          "Men",
          "Men",
          "Men",
          "Men",
          "Age Unknown",
          "Men",
          "Men",
          "Men",
          "Men",
          "Men",
          "Age Unknown",
          "Men",
          "Men",
          "Age Unknown",
          "Men",
          "Age Unknown",
          "Men",
          "Boys",
          "Age Unknown",
          "Age Unknown",
          "Men",
          "Men",
          "Men",
          "Men",
          "Men",
          "Boys",
          "Men",
          "Men",
          "Men",
          "Men",
          "Boys",
          "Men",
          "Men",
          "Age Unknown",
          "Men",
          "Boys",
          "Men",
          "Boys",
          "Men",
          "Men",
          "Boys",
          "Boys",
          "Boys",
          "Men",
          "Men",
          "Boys",
          "Men",
          "Boys",
          "Boys",
          "Men",
          "Men",
          "Age Unknown",
          "Men",
          "Men",
          "Boys",
          "Boys",
          "Boys",
          "Men",
          "Age Unknown",
          "Men",
          "Men",
          "Boys",
          "Men",
          "Men",
          "Boys",
          "Men",
          "Men",
          "Men",
          "Men",
          "Men",
          "Boys",
          "Boys",
          "Boys",
          "Men",
          "Men",
          "Men",
          "Men",
          "Boys",
          "Men",
          "Men",
          "Age Unknown",
          "Age Unknown",
          "Boys",
          "Men",
          "Age Unknown",
          "Age Unknown",
          "Men",
          "Men",
          "Age Unknown",
          "Men",
          "Boys",
          "Men",
          "Men",
          "Men",
          "Men",
          "Age Unknown",
          "Men",
          "Men",
          "Age Unknown",
          "Men",
          "Men",
          "Men",
          "Men",
          "Men",
          "Men",
          "Age Unknown",
          "Age Unknown",
          "Age Unknown",
          "Men",
          "Boys",
          "Age Unknown",
          "Age Unknown",
          "Age Unknown",
          "Men",
          "Boys",
          "Men",
          "Age Unknown",
          "Boys",
          "Men",
          "Men",
          "Age Unknown",
          "Men",
          "Age Unknown",
          "Men",
          "Men",
          "Men",
          "Boys",
          "Men",
          "Boys",
          "Men",
          "Boys",
          "Men",
          "Boys",
          "Men"
         ],
         "xaxis": "x",
         "yaxis": "y"
        },
        {
         "marker": {
          "color": "#8b0000"
         },
         "name": "Did not survive",
         "opacity": 0.75,
         "showlegend": true,
         "text": [
          "71",
          "611",
          "159"
         ],
         "textposition": "outside",
         "type": "histogram",
         "x": [
          "Men",
          "Men",
          "Men",
          "Men",
          "Age Unknown",
          "Men",
          "Men",
          "Men",
          "Men",
          "Men",
          "Men",
          "Men",
          "Age Unknown",
          "Men",
          "Age Unknown",
          "Men",
          "Men",
          "Boys",
          "Men",
          "Men",
          "Men",
          "Age Unknown",
          "Men",
          "Age Unknown",
          "Men",
          "Men",
          "Age Unknown",
          "Men",
          "Men",
          "Men",
          "Men",
          "Men",
          "Age Unknown",
          "Men",
          "Men",
          "Men",
          "Age Unknown",
          "Age Unknown",
          "Men",
          "Men",
          "Men",
          "Men",
          "Men",
          "Men",
          "Age Unknown",
          "Men",
          "Men",
          "Men",
          "Men",
          "Age Unknown",
          "Men",
          "Men",
          "Age Unknown",
          "Men",
          "Men",
          "Men",
          "Men",
          "Men",
          "Age Unknown",
          "Age Unknown",
          "Men",
          "Men",
          "Men",
          "Men",
          "Men",
          "Men",
          "Men",
          "Men",
          "Men",
          "Men",
          "Men",
          "Men",
          "Men",
          "Men",
          "Men",
          "Men",
          "Men",
          "Age Unknown",
          "Men",
          "Men",
          "Men",
          "Boys",
          "Men",
          "Men",
          "Men",
          "Age Unknown",
          "Men",
          "Age Unknown",
          "Men",
          "Men",
          "Men",
          "Men",
          "Men",
          "Men",
          "Men",
          "Men",
          "Men",
          "Age Unknown",
          "Men",
          "Men",
          "Age Unknown",
          "Men",
          "Men",
          "Men",
          "Men",
          "Men",
          "Men",
          "Men",
          "Men",
          "Men",
          "Men",
          "Men",
          "Men",
          "Men",
          "Men",
          "Men",
          "Age Unknown",
          "Men",
          "Men",
          "Men",
          "Boys",
          "Men",
          "Men",
          "Men",
          "Boys",
          "Men",
          "Men",
          "Men",
          "Men",
          "Men",
          "Men",
          "Men",
          "Men",
          "Men",
          "Men",
          "Men",
          "Men",
          "Age Unknown",
          "Men",
          "Men",
          "Men",
          "Men",
          "Men",
          "Men",
          "Men",
          "Men",
          "Men",
          "Age Unknown",
          "Boys",
          "Men",
          "Boys",
          "Men",
          "Men",
          "Boys",
          "Men",
          "Men",
          "Men",
          "Men",
          "Boys",
          "Men",
          "Boys",
          "Men",
          "Age Unknown",
          "Men",
          "Men",
          "Men",
          "Boys",
          "Men",
          "Men",
          "Men",
          "Men",
          "Men",
          "Men",
          "Men",
          "Men",
          "Men",
          "Men",
          "Men",
          "Men",
          "Men",
          "Men",
          "Men",
          "Men",
          "Men",
          "Men",
          "Men",
          "Men",
          "Men",
          "Men",
          "Men",
          "Men",
          "Men",
          "Men",
          "Men",
          "Men",
          "Men",
          "Men",
          "Men",
          "Men",
          "Men",
          "Age Unknown",
          "Men",
          "Men",
          "Age Unknown",
          "Men",
          "Men",
          "Men",
          "Men",
          "Men",
          "Age Unknown",
          "Men",
          "Age Unknown",
          "Men",
          "Men",
          "Men",
          "Men",
          "Men",
          "Men",
          "Men",
          "Men",
          "Men",
          "Men",
          "Men",
          "Boys",
          "Men",
          "Men",
          "Men",
          "Men",
          "Men",
          "Men",
          "Men",
          "Men",
          "Men",
          "Age Unknown",
          "Men",
          "Age Unknown",
          "Men",
          "Men",
          "Men",
          "Men",
          "Men",
          "Men",
          "Men",
          "Men",
          "Men",
          "Men",
          "Men",
          "Men",
          "Men",
          "Men",
          "Men",
          "Men",
          "Boys",
          "Boys",
          "Men",
          "Men",
          "Men",
          "Men",
          "Men",
          "Age Unknown",
          "Men",
          "Men",
          "Men",
          "Age Unknown",
          "Men",
          "Boys",
          "Boys",
          "Men",
          "Men",
          "Men",
          "Men",
          "Men",
          "Men",
          "Men",
          "Boys",
          "Men",
          "Boys",
          "Men",
          "Men",
          "Men",
          "Men",
          "Men",
          "Men",
          "Men",
          "Boys",
          "Boys",
          "Boys",
          "Men",
          "Men",
          "Men",
          "Men",
          "Men",
          "Men",
          "Men",
          "Men",
          "Men",
          "Men",
          "Men",
          "Men",
          "Men",
          "Age Unknown",
          "Men",
          "Men",
          "Boys",
          "Men",
          "Boys",
          "Age Unknown",
          "Men",
          "Men",
          "Men",
          "Men",
          "Men",
          "Men",
          "Men",
          "Boys",
          "Men",
          "Boys",
          "Boys",
          "Men",
          "Men",
          "Age Unknown",
          "Men",
          "Men",
          "Men",
          "Men",
          "Men",
          "Men",
          "Men",
          "Boys",
          "Men",
          "Men",
          "Men",
          "Men",
          "Men",
          "Men",
          "Men",
          "Men",
          "Men",
          "Men",
          "Men",
          "Men",
          "Men",
          "Men",
          "Men",
          "Boys",
          "Men",
          "Men",
          "Boys",
          "Men",
          "Men",
          "Men",
          "Men",
          "Men",
          "Men",
          "Boys",
          "Age Unknown",
          "Boys",
          "Men",
          "Men",
          "Age Unknown",
          "Age Unknown",
          "Men",
          "Men",
          "Boys",
          "Men",
          "Men",
          "Age Unknown",
          "Men",
          "Men",
          "Men",
          "Men",
          "Boys",
          "Boys",
          "Men",
          "Age Unknown",
          "Men",
          "Boys",
          "Boys",
          "Men",
          "Age Unknown",
          "Men",
          "Men",
          "Boys",
          "Age Unknown",
          "Age Unknown",
          "Men",
          "Age Unknown",
          "Age Unknown",
          "Boys",
          "Boys",
          "Age Unknown",
          "Age Unknown",
          "Men",
          "Age Unknown",
          "Age Unknown",
          "Men",
          "Men",
          "Men",
          "Men",
          "Boys",
          "Boys",
          "Boys",
          "Boys",
          "Men",
          "Men",
          "Men",
          "Age Unknown",
          "Men",
          "Men",
          "Men",
          "Men",
          "Age Unknown",
          "Age Unknown",
          "Men",
          "Men",
          "Men",
          "Men",
          "Men",
          "Men",
          "Men",
          "Age Unknown",
          "Boys",
          "Men",
          "Men",
          "Men",
          "Age Unknown",
          "Men",
          "Men",
          "Age Unknown",
          "Age Unknown",
          "Age Unknown",
          "Men",
          "Men",
          "Boys",
          "Men",
          "Men",
          "Men",
          "Men",
          "Men",
          "Men",
          "Men",
          "Men",
          "Age Unknown",
          "Age Unknown",
          "Men",
          "Men",
          "Boys",
          "Men",
          "Men",
          "Men",
          "Men",
          "Age Unknown",
          "Boys",
          "Age Unknown",
          "Age Unknown",
          "Men",
          "Men",
          "Age Unknown",
          "Age Unknown",
          "Age Unknown",
          "Age Unknown",
          "Men",
          "Boys",
          "Age Unknown",
          "Age Unknown",
          "Age Unknown",
          "Age Unknown",
          "Age Unknown",
          "Men",
          "Men",
          "Men",
          "Age Unknown",
          "Men",
          "Men",
          "Age Unknown",
          "Men",
          "Men",
          "Men",
          "Men",
          "Age Unknown",
          "Men",
          "Age Unknown",
          "Men",
          "Age Unknown",
          "Men",
          "Men",
          "Age Unknown",
          "Age Unknown",
          "Men",
          "Age Unknown",
          "Age Unknown",
          "Men",
          "Age Unknown",
          "Men",
          "Men",
          "Age Unknown",
          "Age Unknown",
          "Age Unknown",
          "Men",
          "Men",
          "Age Unknown",
          "Age Unknown",
          "Men",
          "Men",
          "Men",
          "Age Unknown",
          "Men",
          "Age Unknown",
          "Age Unknown",
          "Age Unknown",
          "Men",
          "Age Unknown",
          "Age Unknown",
          "Age Unknown",
          "Boys",
          "Men",
          "Men",
          "Age Unknown",
          "Age Unknown",
          "Age Unknown",
          "Men",
          "Men",
          "Men",
          "Men",
          "Men",
          "Men",
          "Age Unknown",
          "Age Unknown",
          "Age Unknown",
          "Age Unknown",
          "Age Unknown",
          "Men",
          "Men",
          "Men",
          "Age Unknown",
          "Men",
          "Men",
          "Men",
          "Boys",
          "Boys",
          "Boys",
          "Boys",
          "Boys",
          "Boys",
          "Boys",
          "Boys",
          "Men",
          "Men",
          "Age Unknown",
          "Men",
          "Boys",
          "Age Unknown",
          "Age Unknown",
          "Age Unknown",
          "Men",
          "Men",
          "Men",
          "Men",
          "Men",
          "Age Unknown",
          "Men",
          "Age Unknown",
          "Boys",
          "Men",
          "Age Unknown",
          "Age Unknown",
          "Age Unknown",
          "Men",
          "Men",
          "Boys",
          "Boys",
          "Boys",
          "Boys",
          "Boys",
          "Men",
          "Age Unknown",
          "Men",
          "Age Unknown",
          "Age Unknown",
          "Boys",
          "Men",
          "Boys",
          "Age Unknown",
          "Age Unknown",
          "Men",
          "Age Unknown",
          "Age Unknown",
          "Age Unknown",
          "Men",
          "Age Unknown",
          "Boys",
          "Age Unknown",
          "Age Unknown",
          "Age Unknown",
          "Age Unknown",
          "Men",
          "Men",
          "Age Unknown",
          "Age Unknown",
          "Age Unknown",
          "Men",
          "Men",
          "Age Unknown",
          "Age Unknown",
          "Age Unknown",
          "Age Unknown",
          "Age Unknown",
          "Age Unknown",
          "Men",
          "Age Unknown",
          "Men",
          "Men",
          "Boys",
          "Boys",
          "Men",
          "Age Unknown",
          "Age Unknown",
          "Age Unknown",
          "Age Unknown",
          "Men",
          "Men",
          "Age Unknown",
          "Men",
          "Age Unknown",
          "Men",
          "Men",
          "Men",
          "Men",
          "Men",
          "Men",
          "Men",
          "Men",
          "Men",
          "Age Unknown",
          "Age Unknown",
          "Age Unknown",
          "Age Unknown",
          "Age Unknown",
          "Men",
          "Age Unknown",
          "Age Unknown",
          "Men",
          "Men",
          "Age Unknown",
          "Age Unknown",
          "Men",
          "Age Unknown",
          "Boys",
          "Men",
          "Men",
          "Age Unknown",
          "Men",
          "Men",
          "Men",
          "Men",
          "Men",
          "Boys",
          "Men",
          "Men",
          "Men",
          "Age Unknown",
          "Age Unknown",
          "Age Unknown",
          "Men",
          "Men",
          "Boys",
          "Men",
          "Age Unknown",
          "Age Unknown",
          "Age Unknown",
          "Men",
          "Men",
          "Men",
          "Age Unknown",
          "Men",
          "Men",
          "Men",
          "Age Unknown",
          "Age Unknown",
          "Men",
          "Men",
          "Men"
         ],
         "xaxis": "x",
         "yaxis": "y"
        },
        {
         "marker": {
          "color": "#003758"
         },
         "name": "Survived",
         "opacity": 0.75,
         "showlegend": false,
         "text": [
          "30",
          "97",
          "31"
         ],
         "textposition": "outside",
         "type": "histogram",
         "x": [
          "Girls",
          "Women",
          "Women",
          "Women",
          "Women",
          "Women",
          "Women",
          "Women",
          "Age Unknown",
          "Women",
          "Girls",
          "Women",
          "Women",
          "Women",
          "Women",
          "Women",
          "Women",
          "Women",
          "Girls",
          "Girls",
          "Women",
          "Girls",
          "Girls",
          "Women",
          "Girls",
          "Girls",
          "Girls",
          "Women",
          "Women",
          "Girls",
          "Age Unknown",
          "Age Unknown",
          "Women",
          "Women",
          "Girls",
          "Girls",
          "Women",
          "Women",
          "Women",
          "Age Unknown",
          "Women",
          "Women",
          "Women",
          "Women",
          "Women",
          "Age Unknown",
          "Women",
          "Girls",
          "Women",
          "Girls",
          "Girls",
          "Women",
          "Women",
          "Girls",
          "Age Unknown",
          "Girls",
          "Women",
          "Women",
          "Age Unknown",
          "Women",
          "Women",
          "Age Unknown",
          "Age Unknown",
          "Women",
          "Women",
          "Age Unknown",
          "Women",
          "Girls",
          "Women",
          "Women",
          "Age Unknown",
          "Age Unknown",
          "Age Unknown",
          "Age Unknown",
          "Age Unknown",
          "Women",
          "Women",
          "Women",
          "Women",
          "Age Unknown",
          "Women",
          "Women",
          "Women",
          "Age Unknown",
          "Age Unknown",
          "Age Unknown",
          "Age Unknown",
          "Women",
          "Age Unknown",
          "Women",
          "Women",
          "Women",
          "Age Unknown",
          "Girls",
          "Girls",
          "Women",
          "Women",
          "Girls",
          "Women",
          "Age Unknown",
          "Women",
          "Girls",
          "Age Unknown",
          "Women",
          "Women",
          "Age Unknown",
          "Women",
          "Girls",
          "Women",
          "Age Unknown",
          "Age Unknown",
          "Age Unknown",
          "Age Unknown",
          "Age Unknown",
          "Girls",
          "Girls",
          "Women",
          "Women",
          "Girls",
          "Women",
          "Girls",
          "Women",
          "Girls",
          "Women",
          "Girls",
          "Girls",
          "Age Unknown"
         ],
         "xaxis": "x2",
         "yaxis": "y2"
        },
        {
         "marker": {
          "color": "#8b0000"
         },
         "name": "Did not survive",
         "opacity": 0.75,
         "showlegend": false,
         "text": [
          "63",
          "276",
          "47"
         ],
         "textposition": "outside",
         "type": "histogram",
         "x": [
          "Women",
          "Women",
          "Women",
          "Girls",
          "Women",
          "Women",
          "Women",
          "Women",
          "Women",
          "Women",
          "Women",
          "Women",
          "Women",
          "Women",
          "Women",
          "Women",
          "Women",
          "Women",
          "Women",
          "Women",
          "Women",
          "Women",
          "Women",
          "Girls",
          "Women",
          "Age Unknown",
          "Women",
          "Women",
          "Women",
          "Women",
          "Women",
          "Age Unknown",
          "Women",
          "Women",
          "Women",
          "Women",
          "Women",
          "Women",
          "Women",
          "Women",
          "Women",
          "Women",
          "Girls",
          "Women",
          "Women",
          "Women",
          "Women",
          "Women",
          "Women",
          "Women",
          "Age Unknown",
          "Age Unknown",
          "Women",
          "Women",
          "Women",
          "Women",
          "Women",
          "Age Unknown",
          "Women",
          "Women",
          "Women",
          "Women",
          "Women",
          "Women",
          "Age Unknown",
          "Women",
          "Women",
          "Women",
          "Women",
          "Women",
          "Women",
          "Women",
          "Women",
          "Girls",
          "Women",
          "Women",
          "Women",
          "Women",
          "Women",
          "Age Unknown",
          "Women",
          "Women",
          "Women",
          "Women",
          "Women",
          "Girls",
          "Women",
          "Women",
          "Women",
          "Girls",
          "Girls",
          "Girls",
          "Women",
          "Age Unknown",
          "Women",
          "Women",
          "Women",
          "Women",
          "Women",
          "Women",
          "Women",
          "Women",
          "Girls",
          "Women",
          "Women",
          "Women",
          "Women",
          "Women",
          "Women",
          "Girls",
          "Women",
          "Women",
          "Women",
          "Women",
          "Women",
          "Women",
          "Women",
          "Girls",
          "Women",
          "Women",
          "Age Unknown",
          "Women",
          "Women",
          "Women",
          "Women",
          "Girls",
          "Women",
          "Age Unknown",
          "Women",
          "Age Unknown",
          "Women",
          "Women",
          "Women",
          "Women",
          "Women",
          "Women",
          "Women",
          "Women",
          "Women",
          "Women",
          "Women",
          "Women",
          "Women",
          "Girls",
          "Girls",
          "Women",
          "Women",
          "Women",
          "Girls",
          "Women",
          "Women",
          "Women",
          "Women",
          "Women",
          "Women",
          "Women",
          "Women",
          "Women",
          "Girls",
          "Women",
          "Women",
          "Women",
          "Women",
          "Women",
          "Girls",
          "Women",
          "Women",
          "Women",
          "Women",
          "Women",
          "Women",
          "Women",
          "Girls",
          "Girls",
          "Women",
          "Women",
          "Women",
          "Women",
          "Women",
          "Women",
          "Women",
          "Women",
          "Girls",
          "Women",
          "Women",
          "Women",
          "Age Unknown",
          "Women",
          "Girls",
          "Girls",
          "Women",
          "Girls",
          "Age Unknown",
          "Women",
          "Women",
          "Women",
          "Girls",
          "Women",
          "Girls",
          "Women",
          "Women",
          "Women",
          "Women",
          "Women",
          "Girls",
          "Girls",
          "Women",
          "Women",
          "Women",
          "Women",
          "Women",
          "Women",
          "Women",
          "Girls",
          "Women",
          "Women",
          "Women",
          "Women",
          "Women",
          "Women",
          "Women",
          "Women",
          "Women",
          "Girls",
          "Women",
          "Women",
          "Women",
          "Girls",
          "Women",
          "Girls",
          "Girls",
          "Women",
          "Women",
          "Women",
          "Girls",
          "Girls",
          "Girls",
          "Women",
          "Girls",
          "Girls",
          "Women",
          "Women",
          "Girls",
          "Women",
          "Girls",
          "Girls",
          "Girls",
          "Women",
          "Girls",
          "Women",
          "Girls",
          "Women",
          "Women",
          "Girls",
          "Women",
          "Age Unknown",
          "Women",
          "Girls",
          "Women",
          "Women",
          "Women",
          "Women",
          "Women",
          "Girls",
          "Girls",
          "Age Unknown",
          "Women",
          "Women",
          "Women",
          "Age Unknown",
          "Women",
          "Women",
          "Girls",
          "Women",
          "Women",
          "Age Unknown",
          "Age Unknown",
          "Girls",
          "Women",
          "Girls",
          "Age Unknown",
          "Age Unknown",
          "Girls",
          "Women",
          "Women",
          "Women",
          "Age Unknown",
          "Age Unknown",
          "Age Unknown",
          "Age Unknown",
          "Age Unknown",
          "Age Unknown",
          "Age Unknown",
          "Age Unknown",
          "Girls",
          "Age Unknown",
          "Women",
          "Age Unknown",
          "Age Unknown",
          "Age Unknown",
          "Age Unknown",
          "Women",
          "Age Unknown",
          "Age Unknown",
          "Age Unknown",
          "Girls",
          "Girls",
          "Women",
          "Girls",
          "Girls",
          "Women",
          "Women",
          "Age Unknown",
          "Age Unknown",
          "Age Unknown",
          "Women",
          "Age Unknown",
          "Women",
          "Age Unknown",
          "Age Unknown",
          "Age Unknown",
          "Age Unknown",
          "Women",
          "Girls",
          "Women",
          "Girls",
          "Age Unknown",
          "Girls",
          "Age Unknown",
          "Women",
          "Girls",
          "Age Unknown",
          "Girls",
          "Women",
          "Girls",
          "Women",
          "Women",
          "Women",
          "Girls"
         ],
         "xaxis": "x2",
         "yaxis": "y2"
        }
       ],
       "layout": {
        "annotations": [
         {
          "font": {
           "size": 16
          },
          "showarrow": false,
          "text": "Survival of Males",
          "x": 0.5,
          "xanchor": "center",
          "xref": "paper",
          "y": 1,
          "yanchor": "bottom",
          "yref": "paper"
         },
         {
          "font": {
           "size": 16
          },
          "showarrow": false,
          "text": "Survival of Females",
          "x": 0.5,
          "xanchor": "center",
          "xref": "paper",
          "y": 0.375,
          "yanchor": "bottom",
          "yref": "paper"
         }
        ],
        "bargap": 0.4,
        "bargroupgap": 0,
        "template": {
         "data": {
          "bar": [
           {
            "error_x": {
             "color": "#2a3f5f"
            },
            "error_y": {
             "color": "#2a3f5f"
            },
            "marker": {
             "line": {
              "color": "#E5ECF6",
              "width": 0.5
             },
             "pattern": {
              "fillmode": "overlay",
              "size": 10,
              "solidity": 0.2
             }
            },
            "type": "bar"
           }
          ],
          "barpolar": [
           {
            "marker": {
             "line": {
              "color": "#E5ECF6",
              "width": 0.5
             },
             "pattern": {
              "fillmode": "overlay",
              "size": 10,
              "solidity": 0.2
             }
            },
            "type": "barpolar"
           }
          ],
          "carpet": [
           {
            "aaxis": {
             "endlinecolor": "#2a3f5f",
             "gridcolor": "white",
             "linecolor": "white",
             "minorgridcolor": "white",
             "startlinecolor": "#2a3f5f"
            },
            "baxis": {
             "endlinecolor": "#2a3f5f",
             "gridcolor": "white",
             "linecolor": "white",
             "minorgridcolor": "white",
             "startlinecolor": "#2a3f5f"
            },
            "type": "carpet"
           }
          ],
          "choropleth": [
           {
            "colorbar": {
             "outlinewidth": 0,
             "ticks": ""
            },
            "type": "choropleth"
           }
          ],
          "contour": [
           {
            "colorbar": {
             "outlinewidth": 0,
             "ticks": ""
            },
            "colorscale": [
             [
              0,
              "#0d0887"
             ],
             [
              0.1111111111111111,
              "#46039f"
             ],
             [
              0.2222222222222222,
              "#7201a8"
             ],
             [
              0.3333333333333333,
              "#9c179e"
             ],
             [
              0.4444444444444444,
              "#bd3786"
             ],
             [
              0.5555555555555556,
              "#d8576b"
             ],
             [
              0.6666666666666666,
              "#ed7953"
             ],
             [
              0.7777777777777778,
              "#fb9f3a"
             ],
             [
              0.8888888888888888,
              "#fdca26"
             ],
             [
              1,
              "#f0f921"
             ]
            ],
            "type": "contour"
           }
          ],
          "contourcarpet": [
           {
            "colorbar": {
             "outlinewidth": 0,
             "ticks": ""
            },
            "type": "contourcarpet"
           }
          ],
          "heatmap": [
           {
            "colorbar": {
             "outlinewidth": 0,
             "ticks": ""
            },
            "colorscale": [
             [
              0,
              "#0d0887"
             ],
             [
              0.1111111111111111,
              "#46039f"
             ],
             [
              0.2222222222222222,
              "#7201a8"
             ],
             [
              0.3333333333333333,
              "#9c179e"
             ],
             [
              0.4444444444444444,
              "#bd3786"
             ],
             [
              0.5555555555555556,
              "#d8576b"
             ],
             [
              0.6666666666666666,
              "#ed7953"
             ],
             [
              0.7777777777777778,
              "#fb9f3a"
             ],
             [
              0.8888888888888888,
              "#fdca26"
             ],
             [
              1,
              "#f0f921"
             ]
            ],
            "type": "heatmap"
           }
          ],
          "heatmapgl": [
           {
            "colorbar": {
             "outlinewidth": 0,
             "ticks": ""
            },
            "colorscale": [
             [
              0,
              "#0d0887"
             ],
             [
              0.1111111111111111,
              "#46039f"
             ],
             [
              0.2222222222222222,
              "#7201a8"
             ],
             [
              0.3333333333333333,
              "#9c179e"
             ],
             [
              0.4444444444444444,
              "#bd3786"
             ],
             [
              0.5555555555555556,
              "#d8576b"
             ],
             [
              0.6666666666666666,
              "#ed7953"
             ],
             [
              0.7777777777777778,
              "#fb9f3a"
             ],
             [
              0.8888888888888888,
              "#fdca26"
             ],
             [
              1,
              "#f0f921"
             ]
            ],
            "type": "heatmapgl"
           }
          ],
          "histogram": [
           {
            "marker": {
             "pattern": {
              "fillmode": "overlay",
              "size": 10,
              "solidity": 0.2
             }
            },
            "type": "histogram"
           }
          ],
          "histogram2d": [
           {
            "colorbar": {
             "outlinewidth": 0,
             "ticks": ""
            },
            "colorscale": [
             [
              0,
              "#0d0887"
             ],
             [
              0.1111111111111111,
              "#46039f"
             ],
             [
              0.2222222222222222,
              "#7201a8"
             ],
             [
              0.3333333333333333,
              "#9c179e"
             ],
             [
              0.4444444444444444,
              "#bd3786"
             ],
             [
              0.5555555555555556,
              "#d8576b"
             ],
             [
              0.6666666666666666,
              "#ed7953"
             ],
             [
              0.7777777777777778,
              "#fb9f3a"
             ],
             [
              0.8888888888888888,
              "#fdca26"
             ],
             [
              1,
              "#f0f921"
             ]
            ],
            "type": "histogram2d"
           }
          ],
          "histogram2dcontour": [
           {
            "colorbar": {
             "outlinewidth": 0,
             "ticks": ""
            },
            "colorscale": [
             [
              0,
              "#0d0887"
             ],
             [
              0.1111111111111111,
              "#46039f"
             ],
             [
              0.2222222222222222,
              "#7201a8"
             ],
             [
              0.3333333333333333,
              "#9c179e"
             ],
             [
              0.4444444444444444,
              "#bd3786"
             ],
             [
              0.5555555555555556,
              "#d8576b"
             ],
             [
              0.6666666666666666,
              "#ed7953"
             ],
             [
              0.7777777777777778,
              "#fb9f3a"
             ],
             [
              0.8888888888888888,
              "#fdca26"
             ],
             [
              1,
              "#f0f921"
             ]
            ],
            "type": "histogram2dcontour"
           }
          ],
          "mesh3d": [
           {
            "colorbar": {
             "outlinewidth": 0,
             "ticks": ""
            },
            "type": "mesh3d"
           }
          ],
          "parcoords": [
           {
            "line": {
             "colorbar": {
              "outlinewidth": 0,
              "ticks": ""
             }
            },
            "type": "parcoords"
           }
          ],
          "pie": [
           {
            "automargin": true,
            "type": "pie"
           }
          ],
          "scatter": [
           {
            "fillpattern": {
             "fillmode": "overlay",
             "size": 10,
             "solidity": 0.2
            },
            "type": "scatter"
           }
          ],
          "scatter3d": [
           {
            "line": {
             "colorbar": {
              "outlinewidth": 0,
              "ticks": ""
             }
            },
            "marker": {
             "colorbar": {
              "outlinewidth": 0,
              "ticks": ""
             }
            },
            "type": "scatter3d"
           }
          ],
          "scattercarpet": [
           {
            "marker": {
             "colorbar": {
              "outlinewidth": 0,
              "ticks": ""
             }
            },
            "type": "scattercarpet"
           }
          ],
          "scattergeo": [
           {
            "marker": {
             "colorbar": {
              "outlinewidth": 0,
              "ticks": ""
             }
            },
            "type": "scattergeo"
           }
          ],
          "scattergl": [
           {
            "marker": {
             "colorbar": {
              "outlinewidth": 0,
              "ticks": ""
             }
            },
            "type": "scattergl"
           }
          ],
          "scattermapbox": [
           {
            "marker": {
             "colorbar": {
              "outlinewidth": 0,
              "ticks": ""
             }
            },
            "type": "scattermapbox"
           }
          ],
          "scatterpolar": [
           {
            "marker": {
             "colorbar": {
              "outlinewidth": 0,
              "ticks": ""
             }
            },
            "type": "scatterpolar"
           }
          ],
          "scatterpolargl": [
           {
            "marker": {
             "colorbar": {
              "outlinewidth": 0,
              "ticks": ""
             }
            },
            "type": "scatterpolargl"
           }
          ],
          "scatterternary": [
           {
            "marker": {
             "colorbar": {
              "outlinewidth": 0,
              "ticks": ""
             }
            },
            "type": "scatterternary"
           }
          ],
          "surface": [
           {
            "colorbar": {
             "outlinewidth": 0,
             "ticks": ""
            },
            "colorscale": [
             [
              0,
              "#0d0887"
             ],
             [
              0.1111111111111111,
              "#46039f"
             ],
             [
              0.2222222222222222,
              "#7201a8"
             ],
             [
              0.3333333333333333,
              "#9c179e"
             ],
             [
              0.4444444444444444,
              "#bd3786"
             ],
             [
              0.5555555555555556,
              "#d8576b"
             ],
             [
              0.6666666666666666,
              "#ed7953"
             ],
             [
              0.7777777777777778,
              "#fb9f3a"
             ],
             [
              0.8888888888888888,
              "#fdca26"
             ],
             [
              1,
              "#f0f921"
             ]
            ],
            "type": "surface"
           }
          ],
          "table": [
           {
            "cells": {
             "fill": {
              "color": "#EBF0F8"
             },
             "line": {
              "color": "white"
             }
            },
            "header": {
             "fill": {
              "color": "#C8D4E3"
             },
             "line": {
              "color": "white"
             }
            },
            "type": "table"
           }
          ]
         },
         "layout": {
          "annotationdefaults": {
           "arrowcolor": "#2a3f5f",
           "arrowhead": 0,
           "arrowwidth": 1
          },
          "autotypenumbers": "strict",
          "coloraxis": {
           "colorbar": {
            "outlinewidth": 0,
            "ticks": ""
           }
          },
          "colorscale": {
           "diverging": [
            [
             0,
             "#8e0152"
            ],
            [
             0.1,
             "#c51b7d"
            ],
            [
             0.2,
             "#de77ae"
            ],
            [
             0.3,
             "#f1b6da"
            ],
            [
             0.4,
             "#fde0ef"
            ],
            [
             0.5,
             "#f7f7f7"
            ],
            [
             0.6,
             "#e6f5d0"
            ],
            [
             0.7,
             "#b8e186"
            ],
            [
             0.8,
             "#7fbc41"
            ],
            [
             0.9,
             "#4d9221"
            ],
            [
             1,
             "#276419"
            ]
           ],
           "sequential": [
            [
             0,
             "#0d0887"
            ],
            [
             0.1111111111111111,
             "#46039f"
            ],
            [
             0.2222222222222222,
             "#7201a8"
            ],
            [
             0.3333333333333333,
             "#9c179e"
            ],
            [
             0.4444444444444444,
             "#bd3786"
            ],
            [
             0.5555555555555556,
             "#d8576b"
            ],
            [
             0.6666666666666666,
             "#ed7953"
            ],
            [
             0.7777777777777778,
             "#fb9f3a"
            ],
            [
             0.8888888888888888,
             "#fdca26"
            ],
            [
             1,
             "#f0f921"
            ]
           ],
           "sequentialminus": [
            [
             0,
             "#0d0887"
            ],
            [
             0.1111111111111111,
             "#46039f"
            ],
            [
             0.2222222222222222,
             "#7201a8"
            ],
            [
             0.3333333333333333,
             "#9c179e"
            ],
            [
             0.4444444444444444,
             "#bd3786"
            ],
            [
             0.5555555555555556,
             "#d8576b"
            ],
            [
             0.6666666666666666,
             "#ed7953"
            ],
            [
             0.7777777777777778,
             "#fb9f3a"
            ],
            [
             0.8888888888888888,
             "#fdca26"
            ],
            [
             1,
             "#f0f921"
            ]
           ]
          },
          "colorway": [
           "#636efa",
           "#EF553B",
           "#00cc96",
           "#ab63fa",
           "#FFA15A",
           "#19d3f3",
           "#FF6692",
           "#B6E880",
           "#FF97FF",
           "#FECB52"
          ],
          "font": {
           "color": "#2a3f5f"
          },
          "geo": {
           "bgcolor": "white",
           "lakecolor": "white",
           "landcolor": "#E5ECF6",
           "showlakes": true,
           "showland": true,
           "subunitcolor": "white"
          },
          "hoverlabel": {
           "align": "left"
          },
          "hovermode": "closest",
          "mapbox": {
           "style": "light"
          },
          "paper_bgcolor": "white",
          "plot_bgcolor": "#E5ECF6",
          "polar": {
           "angularaxis": {
            "gridcolor": "white",
            "linecolor": "white",
            "ticks": ""
           },
           "bgcolor": "#E5ECF6",
           "radialaxis": {
            "gridcolor": "white",
            "linecolor": "white",
            "ticks": ""
           }
          },
          "scene": {
           "xaxis": {
            "backgroundcolor": "#E5ECF6",
            "gridcolor": "white",
            "gridwidth": 2,
            "linecolor": "white",
            "showbackground": true,
            "ticks": "",
            "zerolinecolor": "white"
           },
           "yaxis": {
            "backgroundcolor": "#E5ECF6",
            "gridcolor": "white",
            "gridwidth": 2,
            "linecolor": "white",
            "showbackground": true,
            "ticks": "",
            "zerolinecolor": "white"
           },
           "zaxis": {
            "backgroundcolor": "#E5ECF6",
            "gridcolor": "white",
            "gridwidth": 2,
            "linecolor": "white",
            "showbackground": true,
            "ticks": "",
            "zerolinecolor": "white"
           }
          },
          "shapedefaults": {
           "line": {
            "color": "#2a3f5f"
           }
          },
          "ternary": {
           "aaxis": {
            "gridcolor": "white",
            "linecolor": "white",
            "ticks": ""
           },
           "baxis": {
            "gridcolor": "white",
            "linecolor": "white",
            "ticks": ""
           },
           "bgcolor": "#E5ECF6",
           "caxis": {
            "gridcolor": "white",
            "linecolor": "white",
            "ticks": ""
           }
          },
          "title": {
           "x": 0.05
          },
          "xaxis": {
           "automargin": true,
           "gridcolor": "white",
           "linecolor": "white",
           "ticks": "",
           "title": {
            "standoff": 15
           },
           "zerolinecolor": "white",
           "zerolinewidth": 2
          },
          "yaxis": {
           "automargin": true,
           "gridcolor": "white",
           "linecolor": "white",
           "ticks": "",
           "title": {
            "standoff": 15
           },
           "zerolinecolor": "white",
           "zerolinewidth": 2
          }
         }
        },
        "title": {
         "text": "Age of Passengers by Survival"
        },
        "xaxis": {
         "anchor": "y",
         "domain": [
          0,
          1
         ]
        },
        "xaxis2": {
         "anchor": "y2",
         "domain": [
          0,
          1
         ]
        },
        "yaxis": {
         "anchor": "x",
         "domain": [
          0.625,
          1
         ],
         "matches": "y",
         "range": [
          0,
          800
         ]
        },
        "yaxis2": {
         "anchor": "x2",
         "domain": [
          0,
          0.375
         ],
         "matches": "y"
        }
       }
      },
      "text/html": [
       "<div>                            <div id=\"dc35ddfd-7052-4f18-8a34-147374462585\" class=\"plotly-graph-div\" style=\"height:525px; width:100%;\"></div>            <script type=\"text/javascript\">                require([\"plotly\"], function(Plotly) {                    window.PLOTLYENV=window.PLOTLYENV || {};                                    if (document.getElementById(\"dc35ddfd-7052-4f18-8a34-147374462585\")) {                    Plotly.newPlot(                        \"dc35ddfd-7052-4f18-8a34-147374462585\",                        [{\"marker\":{\"color\":\"#003758\"},\"name\":\"Survived\",\"opacity\":0.75,\"showlegend\":true,\"text\":[\"32\",\"129\",\"26\"],\"textposition\":\"outside\",\"x\":[\"Boys\",\"Men\",\"Men\",\"Men\",\"Men\",\"Men\",\"Men\",\"Men\",\"Age Unknown\",\"Men\",\"Men\",\"Boys\",\"Men\",\"Men\",\"Men\",\"Men\",\"Men\",\"Men\",\"Men\",\"Boys\",\"Men\",\"Men\",\"Men\",\"Men\",\"Men\",\"Men\",\"Men\",\"Men\",\"Men\",\"Men\",\"Men\",\"Age Unknown\",\"Men\",\"Men\",\"Men\",\"Men\",\"Men\",\"Age Unknown\",\"Men\",\"Men\",\"Age Unknown\",\"Men\",\"Age Unknown\",\"Men\",\"Boys\",\"Age Unknown\",\"Age Unknown\",\"Men\",\"Men\",\"Men\",\"Men\",\"Men\",\"Boys\",\"Men\",\"Men\",\"Men\",\"Men\",\"Boys\",\"Men\",\"Men\",\"Age Unknown\",\"Men\",\"Boys\",\"Men\",\"Boys\",\"Men\",\"Men\",\"Boys\",\"Boys\",\"Boys\",\"Men\",\"Men\",\"Boys\",\"Men\",\"Boys\",\"Boys\",\"Men\",\"Men\",\"Age Unknown\",\"Men\",\"Men\",\"Boys\",\"Boys\",\"Boys\",\"Men\",\"Age Unknown\",\"Men\",\"Men\",\"Boys\",\"Men\",\"Men\",\"Boys\",\"Men\",\"Men\",\"Men\",\"Men\",\"Men\",\"Boys\",\"Boys\",\"Boys\",\"Men\",\"Men\",\"Men\",\"Men\",\"Boys\",\"Men\",\"Men\",\"Age Unknown\",\"Age Unknown\",\"Boys\",\"Men\",\"Age Unknown\",\"Age Unknown\",\"Men\",\"Men\",\"Age Unknown\",\"Men\",\"Boys\",\"Men\",\"Men\",\"Men\",\"Men\",\"Age Unknown\",\"Men\",\"Men\",\"Age Unknown\",\"Men\",\"Men\",\"Men\",\"Men\",\"Men\",\"Men\",\"Age Unknown\",\"Age Unknown\",\"Age Unknown\",\"Men\",\"Boys\",\"Age Unknown\",\"Age Unknown\",\"Age Unknown\",\"Men\",\"Boys\",\"Men\",\"Age Unknown\",\"Boys\",\"Men\",\"Men\",\"Age Unknown\",\"Men\",\"Age Unknown\",\"Men\",\"Men\",\"Men\",\"Boys\",\"Men\",\"Boys\",\"Men\",\"Boys\",\"Men\",\"Boys\",\"Men\"],\"type\":\"histogram\",\"xaxis\":\"x\",\"yaxis\":\"y\"},{\"marker\":{\"color\":\"#8b0000\"},\"name\":\"Did not survive\",\"opacity\":0.75,\"showlegend\":true,\"text\":[\"71\",\"611\",\"159\"],\"textposition\":\"outside\",\"x\":[\"Men\",\"Men\",\"Men\",\"Men\",\"Age Unknown\",\"Men\",\"Men\",\"Men\",\"Men\",\"Men\",\"Men\",\"Men\",\"Age Unknown\",\"Men\",\"Age Unknown\",\"Men\",\"Men\",\"Boys\",\"Men\",\"Men\",\"Men\",\"Age Unknown\",\"Men\",\"Age Unknown\",\"Men\",\"Men\",\"Age Unknown\",\"Men\",\"Men\",\"Men\",\"Men\",\"Men\",\"Age Unknown\",\"Men\",\"Men\",\"Men\",\"Age Unknown\",\"Age Unknown\",\"Men\",\"Men\",\"Men\",\"Men\",\"Men\",\"Men\",\"Age Unknown\",\"Men\",\"Men\",\"Men\",\"Men\",\"Age Unknown\",\"Men\",\"Men\",\"Age Unknown\",\"Men\",\"Men\",\"Men\",\"Men\",\"Men\",\"Age Unknown\",\"Age Unknown\",\"Men\",\"Men\",\"Men\",\"Men\",\"Men\",\"Men\",\"Men\",\"Men\",\"Men\",\"Men\",\"Men\",\"Men\",\"Men\",\"Men\",\"Men\",\"Men\",\"Men\",\"Age Unknown\",\"Men\",\"Men\",\"Men\",\"Boys\",\"Men\",\"Men\",\"Men\",\"Age Unknown\",\"Men\",\"Age Unknown\",\"Men\",\"Men\",\"Men\",\"Men\",\"Men\",\"Men\",\"Men\",\"Men\",\"Men\",\"Age Unknown\",\"Men\",\"Men\",\"Age Unknown\",\"Men\",\"Men\",\"Men\",\"Men\",\"Men\",\"Men\",\"Men\",\"Men\",\"Men\",\"Men\",\"Men\",\"Men\",\"Men\",\"Men\",\"Men\",\"Age Unknown\",\"Men\",\"Men\",\"Men\",\"Boys\",\"Men\",\"Men\",\"Men\",\"Boys\",\"Men\",\"Men\",\"Men\",\"Men\",\"Men\",\"Men\",\"Men\",\"Men\",\"Men\",\"Men\",\"Men\",\"Men\",\"Age Unknown\",\"Men\",\"Men\",\"Men\",\"Men\",\"Men\",\"Men\",\"Men\",\"Men\",\"Men\",\"Age Unknown\",\"Boys\",\"Men\",\"Boys\",\"Men\",\"Men\",\"Boys\",\"Men\",\"Men\",\"Men\",\"Men\",\"Boys\",\"Men\",\"Boys\",\"Men\",\"Age Unknown\",\"Men\",\"Men\",\"Men\",\"Boys\",\"Men\",\"Men\",\"Men\",\"Men\",\"Men\",\"Men\",\"Men\",\"Men\",\"Men\",\"Men\",\"Men\",\"Men\",\"Men\",\"Men\",\"Men\",\"Men\",\"Men\",\"Men\",\"Men\",\"Men\",\"Men\",\"Men\",\"Men\",\"Men\",\"Men\",\"Men\",\"Men\",\"Men\",\"Men\",\"Men\",\"Men\",\"Men\",\"Men\",\"Age Unknown\",\"Men\",\"Men\",\"Age Unknown\",\"Men\",\"Men\",\"Men\",\"Men\",\"Men\",\"Age Unknown\",\"Men\",\"Age Unknown\",\"Men\",\"Men\",\"Men\",\"Men\",\"Men\",\"Men\",\"Men\",\"Men\",\"Men\",\"Men\",\"Men\",\"Boys\",\"Men\",\"Men\",\"Men\",\"Men\",\"Men\",\"Men\",\"Men\",\"Men\",\"Men\",\"Age Unknown\",\"Men\",\"Age Unknown\",\"Men\",\"Men\",\"Men\",\"Men\",\"Men\",\"Men\",\"Men\",\"Men\",\"Men\",\"Men\",\"Men\",\"Men\",\"Men\",\"Men\",\"Men\",\"Men\",\"Boys\",\"Boys\",\"Men\",\"Men\",\"Men\",\"Men\",\"Men\",\"Age Unknown\",\"Men\",\"Men\",\"Men\",\"Age Unknown\",\"Men\",\"Boys\",\"Boys\",\"Men\",\"Men\",\"Men\",\"Men\",\"Men\",\"Men\",\"Men\",\"Boys\",\"Men\",\"Boys\",\"Men\",\"Men\",\"Men\",\"Men\",\"Men\",\"Men\",\"Men\",\"Boys\",\"Boys\",\"Boys\",\"Men\",\"Men\",\"Men\",\"Men\",\"Men\",\"Men\",\"Men\",\"Men\",\"Men\",\"Men\",\"Men\",\"Men\",\"Men\",\"Age Unknown\",\"Men\",\"Men\",\"Boys\",\"Men\",\"Boys\",\"Age Unknown\",\"Men\",\"Men\",\"Men\",\"Men\",\"Men\",\"Men\",\"Men\",\"Boys\",\"Men\",\"Boys\",\"Boys\",\"Men\",\"Men\",\"Age Unknown\",\"Men\",\"Men\",\"Men\",\"Men\",\"Men\",\"Men\",\"Men\",\"Boys\",\"Men\",\"Men\",\"Men\",\"Men\",\"Men\",\"Men\",\"Men\",\"Men\",\"Men\",\"Men\",\"Men\",\"Men\",\"Men\",\"Men\",\"Men\",\"Boys\",\"Men\",\"Men\",\"Boys\",\"Men\",\"Men\",\"Men\",\"Men\",\"Men\",\"Men\",\"Boys\",\"Age Unknown\",\"Boys\",\"Men\",\"Men\",\"Age Unknown\",\"Age Unknown\",\"Men\",\"Men\",\"Boys\",\"Men\",\"Men\",\"Age Unknown\",\"Men\",\"Men\",\"Men\",\"Men\",\"Boys\",\"Boys\",\"Men\",\"Age Unknown\",\"Men\",\"Boys\",\"Boys\",\"Men\",\"Age Unknown\",\"Men\",\"Men\",\"Boys\",\"Age Unknown\",\"Age Unknown\",\"Men\",\"Age Unknown\",\"Age Unknown\",\"Boys\",\"Boys\",\"Age Unknown\",\"Age Unknown\",\"Men\",\"Age Unknown\",\"Age Unknown\",\"Men\",\"Men\",\"Men\",\"Men\",\"Boys\",\"Boys\",\"Boys\",\"Boys\",\"Men\",\"Men\",\"Men\",\"Age Unknown\",\"Men\",\"Men\",\"Men\",\"Men\",\"Age Unknown\",\"Age Unknown\",\"Men\",\"Men\",\"Men\",\"Men\",\"Men\",\"Men\",\"Men\",\"Age Unknown\",\"Boys\",\"Men\",\"Men\",\"Men\",\"Age Unknown\",\"Men\",\"Men\",\"Age Unknown\",\"Age Unknown\",\"Age Unknown\",\"Men\",\"Men\",\"Boys\",\"Men\",\"Men\",\"Men\",\"Men\",\"Men\",\"Men\",\"Men\",\"Men\",\"Age Unknown\",\"Age Unknown\",\"Men\",\"Men\",\"Boys\",\"Men\",\"Men\",\"Men\",\"Men\",\"Age Unknown\",\"Boys\",\"Age Unknown\",\"Age Unknown\",\"Men\",\"Men\",\"Age Unknown\",\"Age Unknown\",\"Age Unknown\",\"Age Unknown\",\"Men\",\"Boys\",\"Age Unknown\",\"Age Unknown\",\"Age Unknown\",\"Age Unknown\",\"Age Unknown\",\"Men\",\"Men\",\"Men\",\"Age Unknown\",\"Men\",\"Men\",\"Age Unknown\",\"Men\",\"Men\",\"Men\",\"Men\",\"Age Unknown\",\"Men\",\"Age Unknown\",\"Men\",\"Age Unknown\",\"Men\",\"Men\",\"Age Unknown\",\"Age Unknown\",\"Men\",\"Age Unknown\",\"Age Unknown\",\"Men\",\"Age Unknown\",\"Men\",\"Men\",\"Age Unknown\",\"Age Unknown\",\"Age Unknown\",\"Men\",\"Men\",\"Age Unknown\",\"Age Unknown\",\"Men\",\"Men\",\"Men\",\"Age Unknown\",\"Men\",\"Age Unknown\",\"Age Unknown\",\"Age Unknown\",\"Men\",\"Age Unknown\",\"Age Unknown\",\"Age Unknown\",\"Boys\",\"Men\",\"Men\",\"Age Unknown\",\"Age Unknown\",\"Age Unknown\",\"Men\",\"Men\",\"Men\",\"Men\",\"Men\",\"Men\",\"Age Unknown\",\"Age Unknown\",\"Age Unknown\",\"Age Unknown\",\"Age Unknown\",\"Men\",\"Men\",\"Men\",\"Age Unknown\",\"Men\",\"Men\",\"Men\",\"Boys\",\"Boys\",\"Boys\",\"Boys\",\"Boys\",\"Boys\",\"Boys\",\"Boys\",\"Men\",\"Men\",\"Age Unknown\",\"Men\",\"Boys\",\"Age Unknown\",\"Age Unknown\",\"Age Unknown\",\"Men\",\"Men\",\"Men\",\"Men\",\"Men\",\"Age Unknown\",\"Men\",\"Age Unknown\",\"Boys\",\"Men\",\"Age Unknown\",\"Age Unknown\",\"Age Unknown\",\"Men\",\"Men\",\"Boys\",\"Boys\",\"Boys\",\"Boys\",\"Boys\",\"Men\",\"Age Unknown\",\"Men\",\"Age Unknown\",\"Age Unknown\",\"Boys\",\"Men\",\"Boys\",\"Age Unknown\",\"Age Unknown\",\"Men\",\"Age Unknown\",\"Age Unknown\",\"Age Unknown\",\"Men\",\"Age Unknown\",\"Boys\",\"Age Unknown\",\"Age Unknown\",\"Age Unknown\",\"Age Unknown\",\"Men\",\"Men\",\"Age Unknown\",\"Age Unknown\",\"Age Unknown\",\"Men\",\"Men\",\"Age Unknown\",\"Age Unknown\",\"Age Unknown\",\"Age Unknown\",\"Age Unknown\",\"Age Unknown\",\"Men\",\"Age Unknown\",\"Men\",\"Men\",\"Boys\",\"Boys\",\"Men\",\"Age Unknown\",\"Age Unknown\",\"Age Unknown\",\"Age Unknown\",\"Men\",\"Men\",\"Age Unknown\",\"Men\",\"Age Unknown\",\"Men\",\"Men\",\"Men\",\"Men\",\"Men\",\"Men\",\"Men\",\"Men\",\"Men\",\"Age Unknown\",\"Age Unknown\",\"Age Unknown\",\"Age Unknown\",\"Age Unknown\",\"Men\",\"Age Unknown\",\"Age Unknown\",\"Men\",\"Men\",\"Age Unknown\",\"Age Unknown\",\"Men\",\"Age Unknown\",\"Boys\",\"Men\",\"Men\",\"Age Unknown\",\"Men\",\"Men\",\"Men\",\"Men\",\"Men\",\"Boys\",\"Men\",\"Men\",\"Men\",\"Age Unknown\",\"Age Unknown\",\"Age Unknown\",\"Men\",\"Men\",\"Boys\",\"Men\",\"Age Unknown\",\"Age Unknown\",\"Age Unknown\",\"Men\",\"Men\",\"Men\",\"Age Unknown\",\"Men\",\"Men\",\"Men\",\"Age Unknown\",\"Age Unknown\",\"Men\",\"Men\",\"Men\"],\"type\":\"histogram\",\"xaxis\":\"x\",\"yaxis\":\"y\"},{\"marker\":{\"color\":\"#003758\"},\"name\":\"Survived\",\"opacity\":0.75,\"showlegend\":false,\"text\":[\"30\",\"97\",\"31\"],\"textposition\":\"outside\",\"x\":[\"Girls\",\"Women\",\"Women\",\"Women\",\"Women\",\"Women\",\"Women\",\"Women\",\"Age Unknown\",\"Women\",\"Girls\",\"Women\",\"Women\",\"Women\",\"Women\",\"Women\",\"Women\",\"Women\",\"Girls\",\"Girls\",\"Women\",\"Girls\",\"Girls\",\"Women\",\"Girls\",\"Girls\",\"Girls\",\"Women\",\"Women\",\"Girls\",\"Age Unknown\",\"Age Unknown\",\"Women\",\"Women\",\"Girls\",\"Girls\",\"Women\",\"Women\",\"Women\",\"Age Unknown\",\"Women\",\"Women\",\"Women\",\"Women\",\"Women\",\"Age Unknown\",\"Women\",\"Girls\",\"Women\",\"Girls\",\"Girls\",\"Women\",\"Women\",\"Girls\",\"Age Unknown\",\"Girls\",\"Women\",\"Women\",\"Age Unknown\",\"Women\",\"Women\",\"Age Unknown\",\"Age Unknown\",\"Women\",\"Women\",\"Age Unknown\",\"Women\",\"Girls\",\"Women\",\"Women\",\"Age Unknown\",\"Age Unknown\",\"Age Unknown\",\"Age Unknown\",\"Age Unknown\",\"Women\",\"Women\",\"Women\",\"Women\",\"Age Unknown\",\"Women\",\"Women\",\"Women\",\"Age Unknown\",\"Age Unknown\",\"Age Unknown\",\"Age Unknown\",\"Women\",\"Age Unknown\",\"Women\",\"Women\",\"Women\",\"Age Unknown\",\"Girls\",\"Girls\",\"Women\",\"Women\",\"Girls\",\"Women\",\"Age Unknown\",\"Women\",\"Girls\",\"Age Unknown\",\"Women\",\"Women\",\"Age Unknown\",\"Women\",\"Girls\",\"Women\",\"Age Unknown\",\"Age Unknown\",\"Age Unknown\",\"Age Unknown\",\"Age Unknown\",\"Girls\",\"Girls\",\"Women\",\"Women\",\"Girls\",\"Women\",\"Girls\",\"Women\",\"Girls\",\"Women\",\"Girls\",\"Girls\",\"Age Unknown\"],\"type\":\"histogram\",\"xaxis\":\"x2\",\"yaxis\":\"y2\"},{\"marker\":{\"color\":\"#8b0000\"},\"name\":\"Did not survive\",\"opacity\":0.75,\"showlegend\":false,\"text\":[\"63\",\"276\",\"47\"],\"textposition\":\"outside\",\"x\":[\"Women\",\"Women\",\"Women\",\"Girls\",\"Women\",\"Women\",\"Women\",\"Women\",\"Women\",\"Women\",\"Women\",\"Women\",\"Women\",\"Women\",\"Women\",\"Women\",\"Women\",\"Women\",\"Women\",\"Women\",\"Women\",\"Women\",\"Women\",\"Girls\",\"Women\",\"Age Unknown\",\"Women\",\"Women\",\"Women\",\"Women\",\"Women\",\"Age Unknown\",\"Women\",\"Women\",\"Women\",\"Women\",\"Women\",\"Women\",\"Women\",\"Women\",\"Women\",\"Women\",\"Girls\",\"Women\",\"Women\",\"Women\",\"Women\",\"Women\",\"Women\",\"Women\",\"Age Unknown\",\"Age Unknown\",\"Women\",\"Women\",\"Women\",\"Women\",\"Women\",\"Age Unknown\",\"Women\",\"Women\",\"Women\",\"Women\",\"Women\",\"Women\",\"Age Unknown\",\"Women\",\"Women\",\"Women\",\"Women\",\"Women\",\"Women\",\"Women\",\"Women\",\"Girls\",\"Women\",\"Women\",\"Women\",\"Women\",\"Women\",\"Age Unknown\",\"Women\",\"Women\",\"Women\",\"Women\",\"Women\",\"Girls\",\"Women\",\"Women\",\"Women\",\"Girls\",\"Girls\",\"Girls\",\"Women\",\"Age Unknown\",\"Women\",\"Women\",\"Women\",\"Women\",\"Women\",\"Women\",\"Women\",\"Women\",\"Girls\",\"Women\",\"Women\",\"Women\",\"Women\",\"Women\",\"Women\",\"Girls\",\"Women\",\"Women\",\"Women\",\"Women\",\"Women\",\"Women\",\"Women\",\"Girls\",\"Women\",\"Women\",\"Age Unknown\",\"Women\",\"Women\",\"Women\",\"Women\",\"Girls\",\"Women\",\"Age Unknown\",\"Women\",\"Age Unknown\",\"Women\",\"Women\",\"Women\",\"Women\",\"Women\",\"Women\",\"Women\",\"Women\",\"Women\",\"Women\",\"Women\",\"Women\",\"Women\",\"Girls\",\"Girls\",\"Women\",\"Women\",\"Women\",\"Girls\",\"Women\",\"Women\",\"Women\",\"Women\",\"Women\",\"Women\",\"Women\",\"Women\",\"Women\",\"Girls\",\"Women\",\"Women\",\"Women\",\"Women\",\"Women\",\"Girls\",\"Women\",\"Women\",\"Women\",\"Women\",\"Women\",\"Women\",\"Women\",\"Girls\",\"Girls\",\"Women\",\"Women\",\"Women\",\"Women\",\"Women\",\"Women\",\"Women\",\"Women\",\"Girls\",\"Women\",\"Women\",\"Women\",\"Age Unknown\",\"Women\",\"Girls\",\"Girls\",\"Women\",\"Girls\",\"Age Unknown\",\"Women\",\"Women\",\"Women\",\"Girls\",\"Women\",\"Girls\",\"Women\",\"Women\",\"Women\",\"Women\",\"Women\",\"Girls\",\"Girls\",\"Women\",\"Women\",\"Women\",\"Women\",\"Women\",\"Women\",\"Women\",\"Girls\",\"Women\",\"Women\",\"Women\",\"Women\",\"Women\",\"Women\",\"Women\",\"Women\",\"Women\",\"Girls\",\"Women\",\"Women\",\"Women\",\"Girls\",\"Women\",\"Girls\",\"Girls\",\"Women\",\"Women\",\"Women\",\"Girls\",\"Girls\",\"Girls\",\"Women\",\"Girls\",\"Girls\",\"Women\",\"Women\",\"Girls\",\"Women\",\"Girls\",\"Girls\",\"Girls\",\"Women\",\"Girls\",\"Women\",\"Girls\",\"Women\",\"Women\",\"Girls\",\"Women\",\"Age Unknown\",\"Women\",\"Girls\",\"Women\",\"Women\",\"Women\",\"Women\",\"Women\",\"Girls\",\"Girls\",\"Age Unknown\",\"Women\",\"Women\",\"Women\",\"Age Unknown\",\"Women\",\"Women\",\"Girls\",\"Women\",\"Women\",\"Age Unknown\",\"Age Unknown\",\"Girls\",\"Women\",\"Girls\",\"Age Unknown\",\"Age Unknown\",\"Girls\",\"Women\",\"Women\",\"Women\",\"Age Unknown\",\"Age Unknown\",\"Age Unknown\",\"Age Unknown\",\"Age Unknown\",\"Age Unknown\",\"Age Unknown\",\"Age Unknown\",\"Girls\",\"Age Unknown\",\"Women\",\"Age Unknown\",\"Age Unknown\",\"Age Unknown\",\"Age Unknown\",\"Women\",\"Age Unknown\",\"Age Unknown\",\"Age Unknown\",\"Girls\",\"Girls\",\"Women\",\"Girls\",\"Girls\",\"Women\",\"Women\",\"Age Unknown\",\"Age Unknown\",\"Age Unknown\",\"Women\",\"Age Unknown\",\"Women\",\"Age Unknown\",\"Age Unknown\",\"Age Unknown\",\"Age Unknown\",\"Women\",\"Girls\",\"Women\",\"Girls\",\"Age Unknown\",\"Girls\",\"Age Unknown\",\"Women\",\"Girls\",\"Age Unknown\",\"Girls\",\"Women\",\"Girls\",\"Women\",\"Women\",\"Women\",\"Girls\"],\"type\":\"histogram\",\"xaxis\":\"x2\",\"yaxis\":\"y2\"}],                        {\"template\":{\"data\":{\"histogram2dcontour\":[{\"type\":\"histogram2dcontour\",\"colorbar\":{\"outlinewidth\":0,\"ticks\":\"\"},\"colorscale\":[[0.0,\"#0d0887\"],[0.1111111111111111,\"#46039f\"],[0.2222222222222222,\"#7201a8\"],[0.3333333333333333,\"#9c179e\"],[0.4444444444444444,\"#bd3786\"],[0.5555555555555556,\"#d8576b\"],[0.6666666666666666,\"#ed7953\"],[0.7777777777777778,\"#fb9f3a\"],[0.8888888888888888,\"#fdca26\"],[1.0,\"#f0f921\"]]}],\"choropleth\":[{\"type\":\"choropleth\",\"colorbar\":{\"outlinewidth\":0,\"ticks\":\"\"}}],\"histogram2d\":[{\"type\":\"histogram2d\",\"colorbar\":{\"outlinewidth\":0,\"ticks\":\"\"},\"colorscale\":[[0.0,\"#0d0887\"],[0.1111111111111111,\"#46039f\"],[0.2222222222222222,\"#7201a8\"],[0.3333333333333333,\"#9c179e\"],[0.4444444444444444,\"#bd3786\"],[0.5555555555555556,\"#d8576b\"],[0.6666666666666666,\"#ed7953\"],[0.7777777777777778,\"#fb9f3a\"],[0.8888888888888888,\"#fdca26\"],[1.0,\"#f0f921\"]]}],\"heatmap\":[{\"type\":\"heatmap\",\"colorbar\":{\"outlinewidth\":0,\"ticks\":\"\"},\"colorscale\":[[0.0,\"#0d0887\"],[0.1111111111111111,\"#46039f\"],[0.2222222222222222,\"#7201a8\"],[0.3333333333333333,\"#9c179e\"],[0.4444444444444444,\"#bd3786\"],[0.5555555555555556,\"#d8576b\"],[0.6666666666666666,\"#ed7953\"],[0.7777777777777778,\"#fb9f3a\"],[0.8888888888888888,\"#fdca26\"],[1.0,\"#f0f921\"]]}],\"heatmapgl\":[{\"type\":\"heatmapgl\",\"colorbar\":{\"outlinewidth\":0,\"ticks\":\"\"},\"colorscale\":[[0.0,\"#0d0887\"],[0.1111111111111111,\"#46039f\"],[0.2222222222222222,\"#7201a8\"],[0.3333333333333333,\"#9c179e\"],[0.4444444444444444,\"#bd3786\"],[0.5555555555555556,\"#d8576b\"],[0.6666666666666666,\"#ed7953\"],[0.7777777777777778,\"#fb9f3a\"],[0.8888888888888888,\"#fdca26\"],[1.0,\"#f0f921\"]]}],\"contourcarpet\":[{\"type\":\"contourcarpet\",\"colorbar\":{\"outlinewidth\":0,\"ticks\":\"\"}}],\"contour\":[{\"type\":\"contour\",\"colorbar\":{\"outlinewidth\":0,\"ticks\":\"\"},\"colorscale\":[[0.0,\"#0d0887\"],[0.1111111111111111,\"#46039f\"],[0.2222222222222222,\"#7201a8\"],[0.3333333333333333,\"#9c179e\"],[0.4444444444444444,\"#bd3786\"],[0.5555555555555556,\"#d8576b\"],[0.6666666666666666,\"#ed7953\"],[0.7777777777777778,\"#fb9f3a\"],[0.8888888888888888,\"#fdca26\"],[1.0,\"#f0f921\"]]}],\"surface\":[{\"type\":\"surface\",\"colorbar\":{\"outlinewidth\":0,\"ticks\":\"\"},\"colorscale\":[[0.0,\"#0d0887\"],[0.1111111111111111,\"#46039f\"],[0.2222222222222222,\"#7201a8\"],[0.3333333333333333,\"#9c179e\"],[0.4444444444444444,\"#bd3786\"],[0.5555555555555556,\"#d8576b\"],[0.6666666666666666,\"#ed7953\"],[0.7777777777777778,\"#fb9f3a\"],[0.8888888888888888,\"#fdca26\"],[1.0,\"#f0f921\"]]}],\"mesh3d\":[{\"type\":\"mesh3d\",\"colorbar\":{\"outlinewidth\":0,\"ticks\":\"\"}}],\"scatter\":[{\"fillpattern\":{\"fillmode\":\"overlay\",\"size\":10,\"solidity\":0.2},\"type\":\"scatter\"}],\"parcoords\":[{\"type\":\"parcoords\",\"line\":{\"colorbar\":{\"outlinewidth\":0,\"ticks\":\"\"}}}],\"scatterpolargl\":[{\"type\":\"scatterpolargl\",\"marker\":{\"colorbar\":{\"outlinewidth\":0,\"ticks\":\"\"}}}],\"bar\":[{\"error_x\":{\"color\":\"#2a3f5f\"},\"error_y\":{\"color\":\"#2a3f5f\"},\"marker\":{\"line\":{\"color\":\"#E5ECF6\",\"width\":0.5},\"pattern\":{\"fillmode\":\"overlay\",\"size\":10,\"solidity\":0.2}},\"type\":\"bar\"}],\"scattergeo\":[{\"type\":\"scattergeo\",\"marker\":{\"colorbar\":{\"outlinewidth\":0,\"ticks\":\"\"}}}],\"scatterpolar\":[{\"type\":\"scatterpolar\",\"marker\":{\"colorbar\":{\"outlinewidth\":0,\"ticks\":\"\"}}}],\"histogram\":[{\"marker\":{\"pattern\":{\"fillmode\":\"overlay\",\"size\":10,\"solidity\":0.2}},\"type\":\"histogram\"}],\"scattergl\":[{\"type\":\"scattergl\",\"marker\":{\"colorbar\":{\"outlinewidth\":0,\"ticks\":\"\"}}}],\"scatter3d\":[{\"type\":\"scatter3d\",\"line\":{\"colorbar\":{\"outlinewidth\":0,\"ticks\":\"\"}},\"marker\":{\"colorbar\":{\"outlinewidth\":0,\"ticks\":\"\"}}}],\"scattermapbox\":[{\"type\":\"scattermapbox\",\"marker\":{\"colorbar\":{\"outlinewidth\":0,\"ticks\":\"\"}}}],\"scatterternary\":[{\"type\":\"scatterternary\",\"marker\":{\"colorbar\":{\"outlinewidth\":0,\"ticks\":\"\"}}}],\"scattercarpet\":[{\"type\":\"scattercarpet\",\"marker\":{\"colorbar\":{\"outlinewidth\":0,\"ticks\":\"\"}}}],\"carpet\":[{\"aaxis\":{\"endlinecolor\":\"#2a3f5f\",\"gridcolor\":\"white\",\"linecolor\":\"white\",\"minorgridcolor\":\"white\",\"startlinecolor\":\"#2a3f5f\"},\"baxis\":{\"endlinecolor\":\"#2a3f5f\",\"gridcolor\":\"white\",\"linecolor\":\"white\",\"minorgridcolor\":\"white\",\"startlinecolor\":\"#2a3f5f\"},\"type\":\"carpet\"}],\"table\":[{\"cells\":{\"fill\":{\"color\":\"#EBF0F8\"},\"line\":{\"color\":\"white\"}},\"header\":{\"fill\":{\"color\":\"#C8D4E3\"},\"line\":{\"color\":\"white\"}},\"type\":\"table\"}],\"barpolar\":[{\"marker\":{\"line\":{\"color\":\"#E5ECF6\",\"width\":0.5},\"pattern\":{\"fillmode\":\"overlay\",\"size\":10,\"solidity\":0.2}},\"type\":\"barpolar\"}],\"pie\":[{\"automargin\":true,\"type\":\"pie\"}]},\"layout\":{\"autotypenumbers\":\"strict\",\"colorway\":[\"#636efa\",\"#EF553B\",\"#00cc96\",\"#ab63fa\",\"#FFA15A\",\"#19d3f3\",\"#FF6692\",\"#B6E880\",\"#FF97FF\",\"#FECB52\"],\"font\":{\"color\":\"#2a3f5f\"},\"hovermode\":\"closest\",\"hoverlabel\":{\"align\":\"left\"},\"paper_bgcolor\":\"white\",\"plot_bgcolor\":\"#E5ECF6\",\"polar\":{\"bgcolor\":\"#E5ECF6\",\"angularaxis\":{\"gridcolor\":\"white\",\"linecolor\":\"white\",\"ticks\":\"\"},\"radialaxis\":{\"gridcolor\":\"white\",\"linecolor\":\"white\",\"ticks\":\"\"}},\"ternary\":{\"bgcolor\":\"#E5ECF6\",\"aaxis\":{\"gridcolor\":\"white\",\"linecolor\":\"white\",\"ticks\":\"\"},\"baxis\":{\"gridcolor\":\"white\",\"linecolor\":\"white\",\"ticks\":\"\"},\"caxis\":{\"gridcolor\":\"white\",\"linecolor\":\"white\",\"ticks\":\"\"}},\"coloraxis\":{\"colorbar\":{\"outlinewidth\":0,\"ticks\":\"\"}},\"colorscale\":{\"sequential\":[[0.0,\"#0d0887\"],[0.1111111111111111,\"#46039f\"],[0.2222222222222222,\"#7201a8\"],[0.3333333333333333,\"#9c179e\"],[0.4444444444444444,\"#bd3786\"],[0.5555555555555556,\"#d8576b\"],[0.6666666666666666,\"#ed7953\"],[0.7777777777777778,\"#fb9f3a\"],[0.8888888888888888,\"#fdca26\"],[1.0,\"#f0f921\"]],\"sequentialminus\":[[0.0,\"#0d0887\"],[0.1111111111111111,\"#46039f\"],[0.2222222222222222,\"#7201a8\"],[0.3333333333333333,\"#9c179e\"],[0.4444444444444444,\"#bd3786\"],[0.5555555555555556,\"#d8576b\"],[0.6666666666666666,\"#ed7953\"],[0.7777777777777778,\"#fb9f3a\"],[0.8888888888888888,\"#fdca26\"],[1.0,\"#f0f921\"]],\"diverging\":[[0,\"#8e0152\"],[0.1,\"#c51b7d\"],[0.2,\"#de77ae\"],[0.3,\"#f1b6da\"],[0.4,\"#fde0ef\"],[0.5,\"#f7f7f7\"],[0.6,\"#e6f5d0\"],[0.7,\"#b8e186\"],[0.8,\"#7fbc41\"],[0.9,\"#4d9221\"],[1,\"#276419\"]]},\"xaxis\":{\"gridcolor\":\"white\",\"linecolor\":\"white\",\"ticks\":\"\",\"title\":{\"standoff\":15},\"zerolinecolor\":\"white\",\"automargin\":true,\"zerolinewidth\":2},\"yaxis\":{\"gridcolor\":\"white\",\"linecolor\":\"white\",\"ticks\":\"\",\"title\":{\"standoff\":15},\"zerolinecolor\":\"white\",\"automargin\":true,\"zerolinewidth\":2},\"scene\":{\"xaxis\":{\"backgroundcolor\":\"#E5ECF6\",\"gridcolor\":\"white\",\"linecolor\":\"white\",\"showbackground\":true,\"ticks\":\"\",\"zerolinecolor\":\"white\",\"gridwidth\":2},\"yaxis\":{\"backgroundcolor\":\"#E5ECF6\",\"gridcolor\":\"white\",\"linecolor\":\"white\",\"showbackground\":true,\"ticks\":\"\",\"zerolinecolor\":\"white\",\"gridwidth\":2},\"zaxis\":{\"backgroundcolor\":\"#E5ECF6\",\"gridcolor\":\"white\",\"linecolor\":\"white\",\"showbackground\":true,\"ticks\":\"\",\"zerolinecolor\":\"white\",\"gridwidth\":2}},\"shapedefaults\":{\"line\":{\"color\":\"#2a3f5f\"}},\"annotationdefaults\":{\"arrowcolor\":\"#2a3f5f\",\"arrowhead\":0,\"arrowwidth\":1},\"geo\":{\"bgcolor\":\"white\",\"landcolor\":\"#E5ECF6\",\"subunitcolor\":\"white\",\"showland\":true,\"showlakes\":true,\"lakecolor\":\"white\"},\"title\":{\"x\":0.05},\"mapbox\":{\"style\":\"light\"}}},\"xaxis\":{\"anchor\":\"y\",\"domain\":[0.0,1.0]},\"yaxis\":{\"anchor\":\"x\",\"domain\":[0.625,1.0],\"range\":[0,800],\"matches\":\"y\"},\"xaxis2\":{\"anchor\":\"y2\",\"domain\":[0.0,1.0]},\"yaxis2\":{\"anchor\":\"x2\",\"domain\":[0.0,0.375],\"matches\":\"y\"},\"annotations\":[{\"font\":{\"size\":16},\"showarrow\":false,\"text\":\"Survival of Males\",\"x\":0.5,\"xanchor\":\"center\",\"xref\":\"paper\",\"y\":1.0,\"yanchor\":\"bottom\",\"yref\":\"paper\"},{\"font\":{\"size\":16},\"showarrow\":false,\"text\":\"Survival of Females\",\"x\":0.5,\"xanchor\":\"center\",\"xref\":\"paper\",\"y\":0.375,\"yanchor\":\"bottom\",\"yref\":\"paper\"}],\"title\":{\"text\":\"Age of Passengers by Survival\"},\"bargap\":0.4,\"bargroupgap\":0},                        {\"responsive\": true}                    ).then(function(){\n",
       "                            \n",
       "var gd = document.getElementById('dc35ddfd-7052-4f18-8a34-147374462585');\n",
       "var x = new MutationObserver(function (mutations, observer) {{\n",
       "        var display = window.getComputedStyle(gd).display;\n",
       "        if (!display || display === 'none') {{\n",
       "            console.log([gd, 'removed!']);\n",
       "            Plotly.purge(gd);\n",
       "            observer.disconnect();\n",
       "        }}\n",
       "}});\n",
       "\n",
       "// Listen for the removal of the full notebook cells\n",
       "var notebookContainer = gd.closest('#notebook-container');\n",
       "if (notebookContainer) {{\n",
       "    x.observe(notebookContainer, {childList: true});\n",
       "}}\n",
       "\n",
       "// Listen for the clearing of the current output cell\n",
       "var outputEl = gd.closest('.output');\n",
       "if (outputEl) {{\n",
       "    x.observe(outputEl, {childList: true});\n",
       "}}\n",
       "\n",
       "                        })                };                });            </script>        </div>"
      ]
     },
     "metadata": {},
     "output_type": "display_data"
    }
   ],
   "source": [
    "#Question 1\n",
    "#Compare the deaths of children vs. adults broken down by sex. Did more boys or girls survive the disaster?\n",
    "figCA = make_subplots(rows = 2, cols = 1,\n",
    "                   subplot_titles=(\"Survival of Males\", \"Survival of Females\"))\n",
    "traceCA1 = go.Histogram(x=df[df['survivedStatus']=='Survived'][df['sex']=='male'][\"boyGirls\"],  \n",
    "                        text=[\"32\", \"129\", \"26\"], textposition=\"outside\", opacity=0.75, \n",
    "                      marker_color='#003758', name='Survived', \n",
    "                      showlegend=True)\n",
    "traceCA2 = go.Histogram(x=df[df['survivedStatus']=='Not Survived'][df['sex']=='male'][\"boyGirls\"],  \n",
    "                        text=[\"71\", \"611\", \"159\"], textposition=\"outside\", opacity=0.75, \n",
    "                      marker_color='#8b0000', name='Did not survive', \n",
    "                      showlegend=True)\n",
    "traceCA3 = go.Histogram(x=df[df['survivedStatus']=='Not Survived'][df['sex']=='female'][\"boyGirls\"],  \n",
    "                        text=[\"30\", \"97\", \"31\"], textposition=\"outside\", opacity=0.75, \n",
    "                      marker_color='#003758', name='Survived', \n",
    "                      showlegend=False)\n",
    "traceCA4 = go.Histogram(x=df[df['survivedStatus']=='Survived'][df['sex']=='female'][\"boyGirls\"],  \n",
    "                        text=[\"63\", \"276\", \"47\"], textposition=\"outside\", opacity=0.75, \n",
    "                      marker_color='#8b0000', name='Did not survive', \n",
    "                      showlegend=False)\n",
    "\n",
    "\n",
    "figCA.update_layout( \n",
    "    bargap=0.4,\n",
    "    bargroupgap=0, \n",
    "    yaxis = dict(range=[0, 800]),\n",
    "    title_text = \"Age of Passengers by Survival\") \n",
    "\n",
    "figCA.append_trace(traceCA1, 1, 1) \n",
    "figCA.append_trace(traceCA2, 1, 1)\n",
    "figCA.append_trace(traceCA3, 2, 1)\n",
    "figCA.append_trace(traceCA4, 2, 1)\n",
    "\n",
    "\n",
    "\n",
    "\n",
    "figCA.update_yaxes(matches='y')\n",
    "\n",
    "\n",
    "\n",
    "figCA.show()\n"
   ]
  },
  {
   "cell_type": "code",
   "execution_count": 24,
   "id": "f25dfb10",
   "metadata": {},
   "outputs": [
    {
     "data": {
      "application/vnd.plotly.v1+json": {
       "config": {
        "plotlyServerURL": "https://plot.ly"
       },
       "data": [
        {
         "marker": {
          "color": "#003758"
         },
         "name": "Survived",
         "opacity": 0.75,
         "showlegend": true,
         "text": [
          "200",
          "119",
          "181"
         ],
         "textposition": "outside",
         "type": "histogram",
         "x": [
          "First",
          "First",
          "First",
          "First",
          "First",
          "First",
          "First",
          "First",
          "First",
          "First",
          "First",
          "First",
          "First",
          "First",
          "First",
          "First",
          "First",
          "First",
          "First",
          "First",
          "First",
          "First",
          "First",
          "First",
          "First",
          "First",
          "First",
          "First",
          "First",
          "First",
          "First",
          "First",
          "First",
          "First",
          "First",
          "First",
          "First",
          "First",
          "First",
          "First",
          "First",
          "First",
          "First",
          "First",
          "First",
          "First",
          "First",
          "First",
          "First",
          "First",
          "First",
          "First",
          "First",
          "First",
          "First",
          "First",
          "First",
          "First",
          "First",
          "First",
          "First",
          "First",
          "First",
          "First",
          "First",
          "First",
          "First",
          "First",
          "First",
          "First",
          "First",
          "First",
          "First",
          "First",
          "First",
          "First",
          "First",
          "First",
          "First",
          "First",
          "First",
          "First",
          "First",
          "First",
          "First",
          "First",
          "First",
          "First",
          "First",
          "First",
          "First",
          "First",
          "First",
          "First",
          "First",
          "First",
          "First",
          "First",
          "First",
          "First",
          "First",
          "First",
          "First",
          "First",
          "First",
          "First",
          "First",
          "First",
          "First",
          "First",
          "First",
          "First",
          "First",
          "First",
          "First",
          "First",
          "First",
          "First",
          "First",
          "First",
          "First",
          "First",
          "First",
          "First",
          "First",
          "First",
          "First",
          "First",
          "First",
          "First",
          "First",
          "First",
          "First",
          "First",
          "First",
          "First",
          "First",
          "First",
          "First",
          "First",
          "First",
          "First",
          "First",
          "First",
          "First",
          "First",
          "First",
          "First",
          "First",
          "First",
          "First",
          "First",
          "First",
          "First",
          "First",
          "First",
          "First",
          "First",
          "First",
          "First",
          "First",
          "First",
          "First",
          "First",
          "First",
          "First",
          "First",
          "First",
          "First",
          "First",
          "First",
          "First",
          "First",
          "First",
          "First",
          "First",
          "First",
          "First",
          "First",
          "First",
          "First",
          "First",
          "First",
          "First",
          "First",
          "First",
          "First",
          "First",
          "First",
          "First",
          "First",
          "First",
          "First",
          "First",
          "First",
          "First",
          "First",
          "First",
          "First",
          "First",
          "Second",
          "Second",
          "Second",
          "Second",
          "Second",
          "Second",
          "Second",
          "Second",
          "Second",
          "Second",
          "Second",
          "Second",
          "Second",
          "Second",
          "Second",
          "Second",
          "Second",
          "Second",
          "Second",
          "Second",
          "Second",
          "Second",
          "Second",
          "Second",
          "Second",
          "Second",
          "Second",
          "Second",
          "Second",
          "Second",
          "Second",
          "Second",
          "Second",
          "Second",
          "Second",
          "Second",
          "Second",
          "Second",
          "Second",
          "Second",
          "Second",
          "Second",
          "Second",
          "Second",
          "Second",
          "Second",
          "Second",
          "Second",
          "Second",
          "Second",
          "Second",
          "Second",
          "Second",
          "Second",
          "Second",
          "Second",
          "Second",
          "Second",
          "Second",
          "Second",
          "Second",
          "Second",
          "Second",
          "Second",
          "Second",
          "Second",
          "Second",
          "Second",
          "Second",
          "Second",
          "Second",
          "Second",
          "Second",
          "Second",
          "Second",
          "Second",
          "Second",
          "Second",
          "Second",
          "Second",
          "Second",
          "Second",
          "Second",
          "Second",
          "Second",
          "Second",
          "Second",
          "Second",
          "Second",
          "Second",
          "Second",
          "Second",
          "Second",
          "Second",
          "Second",
          "Second",
          "Second",
          "Second",
          "Second",
          "Second",
          "Second",
          "Second",
          "Second",
          "Second",
          "Second",
          "Second",
          "Second",
          "Second",
          "Second",
          "Second",
          "Second",
          "Second",
          "Second",
          "Second",
          "Second",
          "Second",
          "Second",
          "Second",
          "Second",
          "Third",
          "Third",
          "Third",
          "Third",
          "Third",
          "Third",
          "Third",
          "Third",
          "Third",
          "Third",
          "Third",
          "Third",
          "Third",
          "Third",
          "Third",
          "Third",
          "Third",
          "Third",
          "Third",
          "Third",
          "Third",
          "Third",
          "Third",
          "Third",
          "Third",
          "Third",
          "Third",
          "Third",
          "Third",
          "Third",
          "Third",
          "Third",
          "Third",
          "Third",
          "Third",
          "Third",
          "Third",
          "Third",
          "Third",
          "Third",
          "Third",
          "Third",
          "Third",
          "Third",
          "Third",
          "Third",
          "Third",
          "Third",
          "Third",
          "Third",
          "Third",
          "Third",
          "Third",
          "Third",
          "Third",
          "Third",
          "Third",
          "Third",
          "Third",
          "Third",
          "Third",
          "Third",
          "Third",
          "Third",
          "Third",
          "Third",
          "Third",
          "Third",
          "Third",
          "Third",
          "Third",
          "Third",
          "Third",
          "Third",
          "Third",
          "Third",
          "Third",
          "Third",
          "Third",
          "Third",
          "Third",
          "Third",
          "Third",
          "Third",
          "Third",
          "Third",
          "Third",
          "Third",
          "Third",
          "Third",
          "Third",
          "Third",
          "Third",
          "Third",
          "Third",
          "Third",
          "Third",
          "Third",
          "Third",
          "Third",
          "Third",
          "Third",
          "Third",
          "Third",
          "Third",
          "Third",
          "Third",
          "Third",
          "Third",
          "Third",
          "Third",
          "Third",
          "Third",
          "Third",
          "Third",
          "Third",
          "Third",
          "Third",
          "Third",
          "Third",
          "Third",
          "Third",
          "Third",
          "Third",
          "Third",
          "Third",
          "Third",
          "Third",
          "Third",
          "Third",
          "Third",
          "Third",
          "Third",
          "Third",
          "Third",
          "Third",
          "Third",
          "Third",
          "Third",
          "Third",
          "Third",
          "Third",
          "Third",
          "Third",
          "Third",
          "Third",
          "Third",
          "Third",
          "Third",
          "Third",
          "Third",
          "Third",
          "Third",
          "Third",
          "Third",
          "Third",
          "Third",
          "Third",
          "Third",
          "Third",
          "Third",
          "Third",
          "Third",
          "Third",
          "Third",
          "Third",
          "Third",
          "Third",
          "Third",
          "Third",
          "Third",
          "Third",
          "Third",
          "Third",
          "Third",
          "Third",
          "Third",
          "Third",
          "Third",
          "Third",
          "Third"
         ],
         "xaxis": "x",
         "yaxis": "y"
        },
        {
         "marker": {
          "color": "#8b0000"
         },
         "name": "Did not survive",
         "opacity": 0.75,
         "showlegend": true,
         "text": [
          "123",
          "158",
          "528"
         ],
         "textposition": "outside",
         "type": "histogram",
         "x": [
          "First",
          "First",
          "First",
          "First",
          "First",
          "First",
          "First",
          "First",
          "First",
          "First",
          "First",
          "First",
          "First",
          "First",
          "First",
          "First",
          "First",
          "First",
          "First",
          "First",
          "First",
          "First",
          "First",
          "First",
          "First",
          "First",
          "First",
          "First",
          "First",
          "First",
          "First",
          "First",
          "First",
          "First",
          "First",
          "First",
          "First",
          "First",
          "First",
          "First",
          "First",
          "First",
          "First",
          "First",
          "First",
          "First",
          "First",
          "First",
          "First",
          "First",
          "First",
          "First",
          "First",
          "First",
          "First",
          "First",
          "First",
          "First",
          "First",
          "First",
          "First",
          "First",
          "First",
          "First",
          "First",
          "First",
          "First",
          "First",
          "First",
          "First",
          "First",
          "First",
          "First",
          "First",
          "First",
          "First",
          "First",
          "First",
          "First",
          "First",
          "First",
          "First",
          "First",
          "First",
          "First",
          "First",
          "First",
          "First",
          "First",
          "First",
          "First",
          "First",
          "First",
          "First",
          "First",
          "First",
          "First",
          "First",
          "First",
          "First",
          "First",
          "First",
          "First",
          "First",
          "First",
          "First",
          "First",
          "First",
          "First",
          "First",
          "First",
          "First",
          "First",
          "First",
          "First",
          "First",
          "First",
          "First",
          "First",
          "First",
          "First",
          "First",
          "First",
          "Second",
          "Second",
          "Second",
          "Second",
          "Second",
          "Second",
          "Second",
          "Second",
          "Second",
          "Second",
          "Second",
          "Second",
          "Second",
          "Second",
          "Second",
          "Second",
          "Second",
          "Second",
          "Second",
          "Second",
          "Second",
          "Second",
          "Second",
          "Second",
          "Second",
          "Second",
          "Second",
          "Second",
          "Second",
          "Second",
          "Second",
          "Second",
          "Second",
          "Second",
          "Second",
          "Second",
          "Second",
          "Second",
          "Second",
          "Second",
          "Second",
          "Second",
          "Second",
          "Second",
          "Second",
          "Second",
          "Second",
          "Second",
          "Second",
          "Second",
          "Second",
          "Second",
          "Second",
          "Second",
          "Second",
          "Second",
          "Second",
          "Second",
          "Second",
          "Second",
          "Second",
          "Second",
          "Second",
          "Second",
          "Second",
          "Second",
          "Second",
          "Second",
          "Second",
          "Second",
          "Second",
          "Second",
          "Second",
          "Second",
          "Second",
          "Second",
          "Second",
          "Second",
          "Second",
          "Second",
          "Second",
          "Second",
          "Second",
          "Second",
          "Second",
          "Second",
          "Second",
          "Second",
          "Second",
          "Second",
          "Second",
          "Second",
          "Second",
          "Second",
          "Second",
          "Second",
          "Second",
          "Second",
          "Second",
          "Second",
          "Second",
          "Second",
          "Second",
          "Second",
          "Second",
          "Second",
          "Second",
          "Second",
          "Second",
          "Second",
          "Second",
          "Second",
          "Second",
          "Second",
          "Second",
          "Second",
          "Second",
          "Second",
          "Second",
          "Second",
          "Second",
          "Second",
          "Second",
          "Second",
          "Second",
          "Second",
          "Second",
          "Second",
          "Second",
          "Second",
          "Second",
          "Second",
          "Second",
          "Second",
          "Second",
          "Second",
          "Second",
          "Second",
          "Second",
          "Second",
          "Second",
          "Second",
          "Second",
          "Second",
          "Second",
          "Second",
          "Second",
          "Second",
          "Second",
          "Second",
          "Second",
          "Second",
          "Second",
          "Second",
          "Second",
          "Second",
          "Second",
          "Second",
          "Third",
          "Third",
          "Third",
          "Third",
          "Third",
          "Third",
          "Third",
          "Third",
          "Third",
          "Third",
          "Third",
          "Third",
          "Third",
          "Third",
          "Third",
          "Third",
          "Third",
          "Third",
          "Third",
          "Third",
          "Third",
          "Third",
          "Third",
          "Third",
          "Third",
          "Third",
          "Third",
          "Third",
          "Third",
          "Third",
          "Third",
          "Third",
          "Third",
          "Third",
          "Third",
          "Third",
          "Third",
          "Third",
          "Third",
          "Third",
          "Third",
          "Third",
          "Third",
          "Third",
          "Third",
          "Third",
          "Third",
          "Third",
          "Third",
          "Third",
          "Third",
          "Third",
          "Third",
          "Third",
          "Third",
          "Third",
          "Third",
          "Third",
          "Third",
          "Third",
          "Third",
          "Third",
          "Third",
          "Third",
          "Third",
          "Third",
          "Third",
          "Third",
          "Third",
          "Third",
          "Third",
          "Third",
          "Third",
          "Third",
          "Third",
          "Third",
          "Third",
          "Third",
          "Third",
          "Third",
          "Third",
          "Third",
          "Third",
          "Third",
          "Third",
          "Third",
          "Third",
          "Third",
          "Third",
          "Third",
          "Third",
          "Third",
          "Third",
          "Third",
          "Third",
          "Third",
          "Third",
          "Third",
          "Third",
          "Third",
          "Third",
          "Third",
          "Third",
          "Third",
          "Third",
          "Third",
          "Third",
          "Third",
          "Third",
          "Third",
          "Third",
          "Third",
          "Third",
          "Third",
          "Third",
          "Third",
          "Third",
          "Third",
          "Third",
          "Third",
          "Third",
          "Third",
          "Third",
          "Third",
          "Third",
          "Third",
          "Third",
          "Third",
          "Third",
          "Third",
          "Third",
          "Third",
          "Third",
          "Third",
          "Third",
          "Third",
          "Third",
          "Third",
          "Third",
          "Third",
          "Third",
          "Third",
          "Third",
          "Third",
          "Third",
          "Third",
          "Third",
          "Third",
          "Third",
          "Third",
          "Third",
          "Third",
          "Third",
          "Third",
          "Third",
          "Third",
          "Third",
          "Third",
          "Third",
          "Third",
          "Third",
          "Third",
          "Third",
          "Third",
          "Third",
          "Third",
          "Third",
          "Third",
          "Third",
          "Third",
          "Third",
          "Third",
          "Third",
          "Third",
          "Third",
          "Third",
          "Third",
          "Third",
          "Third",
          "Third",
          "Third",
          "Third",
          "Third",
          "Third",
          "Third",
          "Third",
          "Third",
          "Third",
          "Third",
          "Third",
          "Third",
          "Third",
          "Third",
          "Third",
          "Third",
          "Third",
          "Third",
          "Third",
          "Third",
          "Third",
          "Third",
          "Third",
          "Third",
          "Third",
          "Third",
          "Third",
          "Third",
          "Third",
          "Third",
          "Third",
          "Third",
          "Third",
          "Third",
          "Third",
          "Third",
          "Third",
          "Third",
          "Third",
          "Third",
          "Third",
          "Third",
          "Third",
          "Third",
          "Third",
          "Third",
          "Third",
          "Third",
          "Third",
          "Third",
          "Third",
          "Third",
          "Third",
          "Third",
          "Third",
          "Third",
          "Third",
          "Third",
          "Third",
          "Third",
          "Third",
          "Third",
          "Third",
          "Third",
          "Third",
          "Third",
          "Third",
          "Third",
          "Third",
          "Third",
          "Third",
          "Third",
          "Third",
          "Third",
          "Third",
          "Third",
          "Third",
          "Third",
          "Third",
          "Third",
          "Third",
          "Third",
          "Third",
          "Third",
          "Third",
          "Third",
          "Third",
          "Third",
          "Third",
          "Third",
          "Third",
          "Third",
          "Third",
          "Third",
          "Third",
          "Third",
          "Third",
          "Third",
          "Third",
          "Third",
          "Third",
          "Third",
          "Third",
          "Third",
          "Third",
          "Third",
          "Third",
          "Third",
          "Third",
          "Third",
          "Third",
          "Third",
          "Third",
          "Third",
          "Third",
          "Third",
          "Third",
          "Third",
          "Third",
          "Third",
          "Third",
          "Third",
          "Third",
          "Third",
          "Third",
          "Third",
          "Third",
          "Third",
          "Third",
          "Third",
          "Third",
          "Third",
          "Third",
          "Third",
          "Third",
          "Third",
          "Third",
          "Third",
          "Third",
          "Third",
          "Third",
          "Third",
          "Third",
          "Third",
          "Third",
          "Third",
          "Third",
          "Third",
          "Third",
          "Third",
          "Third",
          "Third",
          "Third",
          "Third",
          "Third",
          "Third",
          "Third",
          "Third",
          "Third",
          "Third",
          "Third",
          "Third",
          "Third",
          "Third",
          "Third",
          "Third",
          "Third",
          "Third",
          "Third",
          "Third",
          "Third",
          "Third",
          "Third",
          "Third",
          "Third",
          "Third",
          "Third",
          "Third",
          "Third",
          "Third",
          "Third",
          "Third",
          "Third",
          "Third",
          "Third",
          "Third",
          "Third",
          "Third",
          "Third",
          "Third",
          "Third",
          "Third",
          "Third",
          "Third",
          "Third",
          "Third",
          "Third",
          "Third",
          "Third",
          "Third",
          "Third",
          "Third",
          "Third",
          "Third",
          "Third",
          "Third",
          "Third",
          "Third",
          "Third",
          "Third",
          "Third",
          "Third",
          "Third",
          "Third",
          "Third",
          "Third",
          "Third",
          "Third",
          "Third",
          "Third",
          "Third",
          "Third",
          "Third",
          "Third",
          "Third",
          "Third",
          "Third",
          "Third",
          "Third",
          "Third",
          "Third",
          "Third",
          "Third",
          "Third",
          "Third",
          "Third",
          "Third",
          "Third",
          "Third",
          "Third",
          "Third",
          "Third",
          "Third",
          "Third",
          "Third",
          "Third",
          "Third",
          "Third",
          "Third",
          "Third",
          "Third",
          "Third",
          "Third",
          "Third",
          "Third",
          "Third",
          "Third",
          "Third",
          "Third",
          "Third",
          "Third",
          "Third",
          "Third",
          "Third",
          "Third",
          "Third",
          "Third",
          "Third",
          "Third",
          "Third",
          "Third",
          "Third",
          "Third",
          "Third",
          "Third",
          "Third",
          "Third",
          "Third",
          "Third",
          "Third",
          "Third",
          "Third",
          "Third",
          "Third",
          "Third",
          "Third",
          "Third",
          "Third",
          "Third",
          "Third",
          "Third",
          "Third",
          "Third",
          "Third",
          "Third",
          "Third",
          "Third",
          "Third",
          "Third",
          "Third",
          "Third",
          "Third",
          "Third",
          "Third",
          "Third",
          "Third",
          "Third",
          "Third",
          "Third",
          "Third",
          "Third",
          "Third",
          "Third",
          "Third",
          "Third",
          "Third",
          "Third",
          "Third",
          "Third",
          "Third",
          "Third",
          "Third",
          "Third",
          "Third",
          "Third",
          "Third",
          "Third",
          "Third",
          "Third",
          "Third",
          "Third",
          "Third",
          "Third",
          "Third",
          "Third",
          "Third",
          "Third",
          "Third",
          "Third",
          "Third",
          "Third",
          "Third",
          "Third",
          "Third",
          "Third",
          "Third",
          "Third",
          "Third",
          "Third"
         ],
         "xaxis": "x",
         "yaxis": "y"
        }
       ],
       "layout": {
        "annotations": [
         {
          "font": {
           "size": 16
          },
          "showarrow": false,
          "text": "Survival of Passengers by Class",
          "x": 0.5,
          "xanchor": "center",
          "xref": "paper",
          "y": 1,
          "yanchor": "bottom",
          "yref": "paper"
         }
        ],
        "bargap": 0.4,
        "bargroupgap": 0,
        "template": {
         "data": {
          "bar": [
           {
            "error_x": {
             "color": "#2a3f5f"
            },
            "error_y": {
             "color": "#2a3f5f"
            },
            "marker": {
             "line": {
              "color": "#E5ECF6",
              "width": 0.5
             },
             "pattern": {
              "fillmode": "overlay",
              "size": 10,
              "solidity": 0.2
             }
            },
            "type": "bar"
           }
          ],
          "barpolar": [
           {
            "marker": {
             "line": {
              "color": "#E5ECF6",
              "width": 0.5
             },
             "pattern": {
              "fillmode": "overlay",
              "size": 10,
              "solidity": 0.2
             }
            },
            "type": "barpolar"
           }
          ],
          "carpet": [
           {
            "aaxis": {
             "endlinecolor": "#2a3f5f",
             "gridcolor": "white",
             "linecolor": "white",
             "minorgridcolor": "white",
             "startlinecolor": "#2a3f5f"
            },
            "baxis": {
             "endlinecolor": "#2a3f5f",
             "gridcolor": "white",
             "linecolor": "white",
             "minorgridcolor": "white",
             "startlinecolor": "#2a3f5f"
            },
            "type": "carpet"
           }
          ],
          "choropleth": [
           {
            "colorbar": {
             "outlinewidth": 0,
             "ticks": ""
            },
            "type": "choropleth"
           }
          ],
          "contour": [
           {
            "colorbar": {
             "outlinewidth": 0,
             "ticks": ""
            },
            "colorscale": [
             [
              0,
              "#0d0887"
             ],
             [
              0.1111111111111111,
              "#46039f"
             ],
             [
              0.2222222222222222,
              "#7201a8"
             ],
             [
              0.3333333333333333,
              "#9c179e"
             ],
             [
              0.4444444444444444,
              "#bd3786"
             ],
             [
              0.5555555555555556,
              "#d8576b"
             ],
             [
              0.6666666666666666,
              "#ed7953"
             ],
             [
              0.7777777777777778,
              "#fb9f3a"
             ],
             [
              0.8888888888888888,
              "#fdca26"
             ],
             [
              1,
              "#f0f921"
             ]
            ],
            "type": "contour"
           }
          ],
          "contourcarpet": [
           {
            "colorbar": {
             "outlinewidth": 0,
             "ticks": ""
            },
            "type": "contourcarpet"
           }
          ],
          "heatmap": [
           {
            "colorbar": {
             "outlinewidth": 0,
             "ticks": ""
            },
            "colorscale": [
             [
              0,
              "#0d0887"
             ],
             [
              0.1111111111111111,
              "#46039f"
             ],
             [
              0.2222222222222222,
              "#7201a8"
             ],
             [
              0.3333333333333333,
              "#9c179e"
             ],
             [
              0.4444444444444444,
              "#bd3786"
             ],
             [
              0.5555555555555556,
              "#d8576b"
             ],
             [
              0.6666666666666666,
              "#ed7953"
             ],
             [
              0.7777777777777778,
              "#fb9f3a"
             ],
             [
              0.8888888888888888,
              "#fdca26"
             ],
             [
              1,
              "#f0f921"
             ]
            ],
            "type": "heatmap"
           }
          ],
          "heatmapgl": [
           {
            "colorbar": {
             "outlinewidth": 0,
             "ticks": ""
            },
            "colorscale": [
             [
              0,
              "#0d0887"
             ],
             [
              0.1111111111111111,
              "#46039f"
             ],
             [
              0.2222222222222222,
              "#7201a8"
             ],
             [
              0.3333333333333333,
              "#9c179e"
             ],
             [
              0.4444444444444444,
              "#bd3786"
             ],
             [
              0.5555555555555556,
              "#d8576b"
             ],
             [
              0.6666666666666666,
              "#ed7953"
             ],
             [
              0.7777777777777778,
              "#fb9f3a"
             ],
             [
              0.8888888888888888,
              "#fdca26"
             ],
             [
              1,
              "#f0f921"
             ]
            ],
            "type": "heatmapgl"
           }
          ],
          "histogram": [
           {
            "marker": {
             "pattern": {
              "fillmode": "overlay",
              "size": 10,
              "solidity": 0.2
             }
            },
            "type": "histogram"
           }
          ],
          "histogram2d": [
           {
            "colorbar": {
             "outlinewidth": 0,
             "ticks": ""
            },
            "colorscale": [
             [
              0,
              "#0d0887"
             ],
             [
              0.1111111111111111,
              "#46039f"
             ],
             [
              0.2222222222222222,
              "#7201a8"
             ],
             [
              0.3333333333333333,
              "#9c179e"
             ],
             [
              0.4444444444444444,
              "#bd3786"
             ],
             [
              0.5555555555555556,
              "#d8576b"
             ],
             [
              0.6666666666666666,
              "#ed7953"
             ],
             [
              0.7777777777777778,
              "#fb9f3a"
             ],
             [
              0.8888888888888888,
              "#fdca26"
             ],
             [
              1,
              "#f0f921"
             ]
            ],
            "type": "histogram2d"
           }
          ],
          "histogram2dcontour": [
           {
            "colorbar": {
             "outlinewidth": 0,
             "ticks": ""
            },
            "colorscale": [
             [
              0,
              "#0d0887"
             ],
             [
              0.1111111111111111,
              "#46039f"
             ],
             [
              0.2222222222222222,
              "#7201a8"
             ],
             [
              0.3333333333333333,
              "#9c179e"
             ],
             [
              0.4444444444444444,
              "#bd3786"
             ],
             [
              0.5555555555555556,
              "#d8576b"
             ],
             [
              0.6666666666666666,
              "#ed7953"
             ],
             [
              0.7777777777777778,
              "#fb9f3a"
             ],
             [
              0.8888888888888888,
              "#fdca26"
             ],
             [
              1,
              "#f0f921"
             ]
            ],
            "type": "histogram2dcontour"
           }
          ],
          "mesh3d": [
           {
            "colorbar": {
             "outlinewidth": 0,
             "ticks": ""
            },
            "type": "mesh3d"
           }
          ],
          "parcoords": [
           {
            "line": {
             "colorbar": {
              "outlinewidth": 0,
              "ticks": ""
             }
            },
            "type": "parcoords"
           }
          ],
          "pie": [
           {
            "automargin": true,
            "type": "pie"
           }
          ],
          "scatter": [
           {
            "fillpattern": {
             "fillmode": "overlay",
             "size": 10,
             "solidity": 0.2
            },
            "type": "scatter"
           }
          ],
          "scatter3d": [
           {
            "line": {
             "colorbar": {
              "outlinewidth": 0,
              "ticks": ""
             }
            },
            "marker": {
             "colorbar": {
              "outlinewidth": 0,
              "ticks": ""
             }
            },
            "type": "scatter3d"
           }
          ],
          "scattercarpet": [
           {
            "marker": {
             "colorbar": {
              "outlinewidth": 0,
              "ticks": ""
             }
            },
            "type": "scattercarpet"
           }
          ],
          "scattergeo": [
           {
            "marker": {
             "colorbar": {
              "outlinewidth": 0,
              "ticks": ""
             }
            },
            "type": "scattergeo"
           }
          ],
          "scattergl": [
           {
            "marker": {
             "colorbar": {
              "outlinewidth": 0,
              "ticks": ""
             }
            },
            "type": "scattergl"
           }
          ],
          "scattermapbox": [
           {
            "marker": {
             "colorbar": {
              "outlinewidth": 0,
              "ticks": ""
             }
            },
            "type": "scattermapbox"
           }
          ],
          "scatterpolar": [
           {
            "marker": {
             "colorbar": {
              "outlinewidth": 0,
              "ticks": ""
             }
            },
            "type": "scatterpolar"
           }
          ],
          "scatterpolargl": [
           {
            "marker": {
             "colorbar": {
              "outlinewidth": 0,
              "ticks": ""
             }
            },
            "type": "scatterpolargl"
           }
          ],
          "scatterternary": [
           {
            "marker": {
             "colorbar": {
              "outlinewidth": 0,
              "ticks": ""
             }
            },
            "type": "scatterternary"
           }
          ],
          "surface": [
           {
            "colorbar": {
             "outlinewidth": 0,
             "ticks": ""
            },
            "colorscale": [
             [
              0,
              "#0d0887"
             ],
             [
              0.1111111111111111,
              "#46039f"
             ],
             [
              0.2222222222222222,
              "#7201a8"
             ],
             [
              0.3333333333333333,
              "#9c179e"
             ],
             [
              0.4444444444444444,
              "#bd3786"
             ],
             [
              0.5555555555555556,
              "#d8576b"
             ],
             [
              0.6666666666666666,
              "#ed7953"
             ],
             [
              0.7777777777777778,
              "#fb9f3a"
             ],
             [
              0.8888888888888888,
              "#fdca26"
             ],
             [
              1,
              "#f0f921"
             ]
            ],
            "type": "surface"
           }
          ],
          "table": [
           {
            "cells": {
             "fill": {
              "color": "#EBF0F8"
             },
             "line": {
              "color": "white"
             }
            },
            "header": {
             "fill": {
              "color": "#C8D4E3"
             },
             "line": {
              "color": "white"
             }
            },
            "type": "table"
           }
          ]
         },
         "layout": {
          "annotationdefaults": {
           "arrowcolor": "#2a3f5f",
           "arrowhead": 0,
           "arrowwidth": 1
          },
          "autotypenumbers": "strict",
          "coloraxis": {
           "colorbar": {
            "outlinewidth": 0,
            "ticks": ""
           }
          },
          "colorscale": {
           "diverging": [
            [
             0,
             "#8e0152"
            ],
            [
             0.1,
             "#c51b7d"
            ],
            [
             0.2,
             "#de77ae"
            ],
            [
             0.3,
             "#f1b6da"
            ],
            [
             0.4,
             "#fde0ef"
            ],
            [
             0.5,
             "#f7f7f7"
            ],
            [
             0.6,
             "#e6f5d0"
            ],
            [
             0.7,
             "#b8e186"
            ],
            [
             0.8,
             "#7fbc41"
            ],
            [
             0.9,
             "#4d9221"
            ],
            [
             1,
             "#276419"
            ]
           ],
           "sequential": [
            [
             0,
             "#0d0887"
            ],
            [
             0.1111111111111111,
             "#46039f"
            ],
            [
             0.2222222222222222,
             "#7201a8"
            ],
            [
             0.3333333333333333,
             "#9c179e"
            ],
            [
             0.4444444444444444,
             "#bd3786"
            ],
            [
             0.5555555555555556,
             "#d8576b"
            ],
            [
             0.6666666666666666,
             "#ed7953"
            ],
            [
             0.7777777777777778,
             "#fb9f3a"
            ],
            [
             0.8888888888888888,
             "#fdca26"
            ],
            [
             1,
             "#f0f921"
            ]
           ],
           "sequentialminus": [
            [
             0,
             "#0d0887"
            ],
            [
             0.1111111111111111,
             "#46039f"
            ],
            [
             0.2222222222222222,
             "#7201a8"
            ],
            [
             0.3333333333333333,
             "#9c179e"
            ],
            [
             0.4444444444444444,
             "#bd3786"
            ],
            [
             0.5555555555555556,
             "#d8576b"
            ],
            [
             0.6666666666666666,
             "#ed7953"
            ],
            [
             0.7777777777777778,
             "#fb9f3a"
            ],
            [
             0.8888888888888888,
             "#fdca26"
            ],
            [
             1,
             "#f0f921"
            ]
           ]
          },
          "colorway": [
           "#636efa",
           "#EF553B",
           "#00cc96",
           "#ab63fa",
           "#FFA15A",
           "#19d3f3",
           "#FF6692",
           "#B6E880",
           "#FF97FF",
           "#FECB52"
          ],
          "font": {
           "color": "#2a3f5f"
          },
          "geo": {
           "bgcolor": "white",
           "lakecolor": "white",
           "landcolor": "#E5ECF6",
           "showlakes": true,
           "showland": true,
           "subunitcolor": "white"
          },
          "hoverlabel": {
           "align": "left"
          },
          "hovermode": "closest",
          "mapbox": {
           "style": "light"
          },
          "paper_bgcolor": "white",
          "plot_bgcolor": "#E5ECF6",
          "polar": {
           "angularaxis": {
            "gridcolor": "white",
            "linecolor": "white",
            "ticks": ""
           },
           "bgcolor": "#E5ECF6",
           "radialaxis": {
            "gridcolor": "white",
            "linecolor": "white",
            "ticks": ""
           }
          },
          "scene": {
           "xaxis": {
            "backgroundcolor": "#E5ECF6",
            "gridcolor": "white",
            "gridwidth": 2,
            "linecolor": "white",
            "showbackground": true,
            "ticks": "",
            "zerolinecolor": "white"
           },
           "yaxis": {
            "backgroundcolor": "#E5ECF6",
            "gridcolor": "white",
            "gridwidth": 2,
            "linecolor": "white",
            "showbackground": true,
            "ticks": "",
            "zerolinecolor": "white"
           },
           "zaxis": {
            "backgroundcolor": "#E5ECF6",
            "gridcolor": "white",
            "gridwidth": 2,
            "linecolor": "white",
            "showbackground": true,
            "ticks": "",
            "zerolinecolor": "white"
           }
          },
          "shapedefaults": {
           "line": {
            "color": "#2a3f5f"
           }
          },
          "ternary": {
           "aaxis": {
            "gridcolor": "white",
            "linecolor": "white",
            "ticks": ""
           },
           "baxis": {
            "gridcolor": "white",
            "linecolor": "white",
            "ticks": ""
           },
           "bgcolor": "#E5ECF6",
           "caxis": {
            "gridcolor": "white",
            "linecolor": "white",
            "ticks": ""
           }
          },
          "title": {
           "x": 0.05
          },
          "xaxis": {
           "automargin": true,
           "gridcolor": "white",
           "linecolor": "white",
           "ticks": "",
           "title": {
            "standoff": 15
           },
           "zerolinecolor": "white",
           "zerolinewidth": 2
          },
          "yaxis": {
           "automargin": true,
           "gridcolor": "white",
           "linecolor": "white",
           "ticks": "",
           "title": {
            "standoff": 15
           },
           "zerolinecolor": "white",
           "zerolinewidth": 2
          }
         }
        },
        "xaxis": {
         "anchor": "y",
         "domain": [
          0,
          1
         ]
        },
        "yaxis": {
         "anchor": "x",
         "domain": [
          0,
          1
         ],
         "range": [
          0,
          800
         ]
        }
       }
      },
      "text/html": [
       "<div>                            <div id=\"32c1dddf-bbf4-4804-b7be-243861bd59d0\" class=\"plotly-graph-div\" style=\"height:525px; width:100%;\"></div>            <script type=\"text/javascript\">                require([\"plotly\"], function(Plotly) {                    window.PLOTLYENV=window.PLOTLYENV || {};                                    if (document.getElementById(\"32c1dddf-bbf4-4804-b7be-243861bd59d0\")) {                    Plotly.newPlot(                        \"32c1dddf-bbf4-4804-b7be-243861bd59d0\",                        [{\"marker\":{\"color\":\"#003758\"},\"name\":\"Survived\",\"opacity\":0.75,\"showlegend\":true,\"text\":[\"200\",\"119\",\"181\"],\"textposition\":\"outside\",\"x\":[\"First\",\"First\",\"First\",\"First\",\"First\",\"First\",\"First\",\"First\",\"First\",\"First\",\"First\",\"First\",\"First\",\"First\",\"First\",\"First\",\"First\",\"First\",\"First\",\"First\",\"First\",\"First\",\"First\",\"First\",\"First\",\"First\",\"First\",\"First\",\"First\",\"First\",\"First\",\"First\",\"First\",\"First\",\"First\",\"First\",\"First\",\"First\",\"First\",\"First\",\"First\",\"First\",\"First\",\"First\",\"First\",\"First\",\"First\",\"First\",\"First\",\"First\",\"First\",\"First\",\"First\",\"First\",\"First\",\"First\",\"First\",\"First\",\"First\",\"First\",\"First\",\"First\",\"First\",\"First\",\"First\",\"First\",\"First\",\"First\",\"First\",\"First\",\"First\",\"First\",\"First\",\"First\",\"First\",\"First\",\"First\",\"First\",\"First\",\"First\",\"First\",\"First\",\"First\",\"First\",\"First\",\"First\",\"First\",\"First\",\"First\",\"First\",\"First\",\"First\",\"First\",\"First\",\"First\",\"First\",\"First\",\"First\",\"First\",\"First\",\"First\",\"First\",\"First\",\"First\",\"First\",\"First\",\"First\",\"First\",\"First\",\"First\",\"First\",\"First\",\"First\",\"First\",\"First\",\"First\",\"First\",\"First\",\"First\",\"First\",\"First\",\"First\",\"First\",\"First\",\"First\",\"First\",\"First\",\"First\",\"First\",\"First\",\"First\",\"First\",\"First\",\"First\",\"First\",\"First\",\"First\",\"First\",\"First\",\"First\",\"First\",\"First\",\"First\",\"First\",\"First\",\"First\",\"First\",\"First\",\"First\",\"First\",\"First\",\"First\",\"First\",\"First\",\"First\",\"First\",\"First\",\"First\",\"First\",\"First\",\"First\",\"First\",\"First\",\"First\",\"First\",\"First\",\"First\",\"First\",\"First\",\"First\",\"First\",\"First\",\"First\",\"First\",\"First\",\"First\",\"First\",\"First\",\"First\",\"First\",\"First\",\"First\",\"First\",\"First\",\"First\",\"First\",\"First\",\"First\",\"First\",\"First\",\"First\",\"First\",\"First\",\"First\",\"First\",\"First\",\"First\",\"First\",\"First\",\"First\",\"Second\",\"Second\",\"Second\",\"Second\",\"Second\",\"Second\",\"Second\",\"Second\",\"Second\",\"Second\",\"Second\",\"Second\",\"Second\",\"Second\",\"Second\",\"Second\",\"Second\",\"Second\",\"Second\",\"Second\",\"Second\",\"Second\",\"Second\",\"Second\",\"Second\",\"Second\",\"Second\",\"Second\",\"Second\",\"Second\",\"Second\",\"Second\",\"Second\",\"Second\",\"Second\",\"Second\",\"Second\",\"Second\",\"Second\",\"Second\",\"Second\",\"Second\",\"Second\",\"Second\",\"Second\",\"Second\",\"Second\",\"Second\",\"Second\",\"Second\",\"Second\",\"Second\",\"Second\",\"Second\",\"Second\",\"Second\",\"Second\",\"Second\",\"Second\",\"Second\",\"Second\",\"Second\",\"Second\",\"Second\",\"Second\",\"Second\",\"Second\",\"Second\",\"Second\",\"Second\",\"Second\",\"Second\",\"Second\",\"Second\",\"Second\",\"Second\",\"Second\",\"Second\",\"Second\",\"Second\",\"Second\",\"Second\",\"Second\",\"Second\",\"Second\",\"Second\",\"Second\",\"Second\",\"Second\",\"Second\",\"Second\",\"Second\",\"Second\",\"Second\",\"Second\",\"Second\",\"Second\",\"Second\",\"Second\",\"Second\",\"Second\",\"Second\",\"Second\",\"Second\",\"Second\",\"Second\",\"Second\",\"Second\",\"Second\",\"Second\",\"Second\",\"Second\",\"Second\",\"Second\",\"Second\",\"Second\",\"Second\",\"Second\",\"Second\",\"Third\",\"Third\",\"Third\",\"Third\",\"Third\",\"Third\",\"Third\",\"Third\",\"Third\",\"Third\",\"Third\",\"Third\",\"Third\",\"Third\",\"Third\",\"Third\",\"Third\",\"Third\",\"Third\",\"Third\",\"Third\",\"Third\",\"Third\",\"Third\",\"Third\",\"Third\",\"Third\",\"Third\",\"Third\",\"Third\",\"Third\",\"Third\",\"Third\",\"Third\",\"Third\",\"Third\",\"Third\",\"Third\",\"Third\",\"Third\",\"Third\",\"Third\",\"Third\",\"Third\",\"Third\",\"Third\",\"Third\",\"Third\",\"Third\",\"Third\",\"Third\",\"Third\",\"Third\",\"Third\",\"Third\",\"Third\",\"Third\",\"Third\",\"Third\",\"Third\",\"Third\",\"Third\",\"Third\",\"Third\",\"Third\",\"Third\",\"Third\",\"Third\",\"Third\",\"Third\",\"Third\",\"Third\",\"Third\",\"Third\",\"Third\",\"Third\",\"Third\",\"Third\",\"Third\",\"Third\",\"Third\",\"Third\",\"Third\",\"Third\",\"Third\",\"Third\",\"Third\",\"Third\",\"Third\",\"Third\",\"Third\",\"Third\",\"Third\",\"Third\",\"Third\",\"Third\",\"Third\",\"Third\",\"Third\",\"Third\",\"Third\",\"Third\",\"Third\",\"Third\",\"Third\",\"Third\",\"Third\",\"Third\",\"Third\",\"Third\",\"Third\",\"Third\",\"Third\",\"Third\",\"Third\",\"Third\",\"Third\",\"Third\",\"Third\",\"Third\",\"Third\",\"Third\",\"Third\",\"Third\",\"Third\",\"Third\",\"Third\",\"Third\",\"Third\",\"Third\",\"Third\",\"Third\",\"Third\",\"Third\",\"Third\",\"Third\",\"Third\",\"Third\",\"Third\",\"Third\",\"Third\",\"Third\",\"Third\",\"Third\",\"Third\",\"Third\",\"Third\",\"Third\",\"Third\",\"Third\",\"Third\",\"Third\",\"Third\",\"Third\",\"Third\",\"Third\",\"Third\",\"Third\",\"Third\",\"Third\",\"Third\",\"Third\",\"Third\",\"Third\",\"Third\",\"Third\",\"Third\",\"Third\",\"Third\",\"Third\",\"Third\",\"Third\",\"Third\",\"Third\",\"Third\",\"Third\",\"Third\",\"Third\",\"Third\",\"Third\",\"Third\"],\"type\":\"histogram\",\"xaxis\":\"x\",\"yaxis\":\"y\"},{\"marker\":{\"color\":\"#8b0000\"},\"name\":\"Did not survive\",\"opacity\":0.75,\"showlegend\":true,\"text\":[\"123\",\"158\",\"528\"],\"textposition\":\"outside\",\"x\":[\"First\",\"First\",\"First\",\"First\",\"First\",\"First\",\"First\",\"First\",\"First\",\"First\",\"First\",\"First\",\"First\",\"First\",\"First\",\"First\",\"First\",\"First\",\"First\",\"First\",\"First\",\"First\",\"First\",\"First\",\"First\",\"First\",\"First\",\"First\",\"First\",\"First\",\"First\",\"First\",\"First\",\"First\",\"First\",\"First\",\"First\",\"First\",\"First\",\"First\",\"First\",\"First\",\"First\",\"First\",\"First\",\"First\",\"First\",\"First\",\"First\",\"First\",\"First\",\"First\",\"First\",\"First\",\"First\",\"First\",\"First\",\"First\",\"First\",\"First\",\"First\",\"First\",\"First\",\"First\",\"First\",\"First\",\"First\",\"First\",\"First\",\"First\",\"First\",\"First\",\"First\",\"First\",\"First\",\"First\",\"First\",\"First\",\"First\",\"First\",\"First\",\"First\",\"First\",\"First\",\"First\",\"First\",\"First\",\"First\",\"First\",\"First\",\"First\",\"First\",\"First\",\"First\",\"First\",\"First\",\"First\",\"First\",\"First\",\"First\",\"First\",\"First\",\"First\",\"First\",\"First\",\"First\",\"First\",\"First\",\"First\",\"First\",\"First\",\"First\",\"First\",\"First\",\"First\",\"First\",\"First\",\"First\",\"First\",\"First\",\"First\",\"First\",\"First\",\"Second\",\"Second\",\"Second\",\"Second\",\"Second\",\"Second\",\"Second\",\"Second\",\"Second\",\"Second\",\"Second\",\"Second\",\"Second\",\"Second\",\"Second\",\"Second\",\"Second\",\"Second\",\"Second\",\"Second\",\"Second\",\"Second\",\"Second\",\"Second\",\"Second\",\"Second\",\"Second\",\"Second\",\"Second\",\"Second\",\"Second\",\"Second\",\"Second\",\"Second\",\"Second\",\"Second\",\"Second\",\"Second\",\"Second\",\"Second\",\"Second\",\"Second\",\"Second\",\"Second\",\"Second\",\"Second\",\"Second\",\"Second\",\"Second\",\"Second\",\"Second\",\"Second\",\"Second\",\"Second\",\"Second\",\"Second\",\"Second\",\"Second\",\"Second\",\"Second\",\"Second\",\"Second\",\"Second\",\"Second\",\"Second\",\"Second\",\"Second\",\"Second\",\"Second\",\"Second\",\"Second\",\"Second\",\"Second\",\"Second\",\"Second\",\"Second\",\"Second\",\"Second\",\"Second\",\"Second\",\"Second\",\"Second\",\"Second\",\"Second\",\"Second\",\"Second\",\"Second\",\"Second\",\"Second\",\"Second\",\"Second\",\"Second\",\"Second\",\"Second\",\"Second\",\"Second\",\"Second\",\"Second\",\"Second\",\"Second\",\"Second\",\"Second\",\"Second\",\"Second\",\"Second\",\"Second\",\"Second\",\"Second\",\"Second\",\"Second\",\"Second\",\"Second\",\"Second\",\"Second\",\"Second\",\"Second\",\"Second\",\"Second\",\"Second\",\"Second\",\"Second\",\"Second\",\"Second\",\"Second\",\"Second\",\"Second\",\"Second\",\"Second\",\"Second\",\"Second\",\"Second\",\"Second\",\"Second\",\"Second\",\"Second\",\"Second\",\"Second\",\"Second\",\"Second\",\"Second\",\"Second\",\"Second\",\"Second\",\"Second\",\"Second\",\"Second\",\"Second\",\"Second\",\"Second\",\"Second\",\"Second\",\"Second\",\"Second\",\"Second\",\"Second\",\"Second\",\"Second\",\"Second\",\"Third\",\"Third\",\"Third\",\"Third\",\"Third\",\"Third\",\"Third\",\"Third\",\"Third\",\"Third\",\"Third\",\"Third\",\"Third\",\"Third\",\"Third\",\"Third\",\"Third\",\"Third\",\"Third\",\"Third\",\"Third\",\"Third\",\"Third\",\"Third\",\"Third\",\"Third\",\"Third\",\"Third\",\"Third\",\"Third\",\"Third\",\"Third\",\"Third\",\"Third\",\"Third\",\"Third\",\"Third\",\"Third\",\"Third\",\"Third\",\"Third\",\"Third\",\"Third\",\"Third\",\"Third\",\"Third\",\"Third\",\"Third\",\"Third\",\"Third\",\"Third\",\"Third\",\"Third\",\"Third\",\"Third\",\"Third\",\"Third\",\"Third\",\"Third\",\"Third\",\"Third\",\"Third\",\"Third\",\"Third\",\"Third\",\"Third\",\"Third\",\"Third\",\"Third\",\"Third\",\"Third\",\"Third\",\"Third\",\"Third\",\"Third\",\"Third\",\"Third\",\"Third\",\"Third\",\"Third\",\"Third\",\"Third\",\"Third\",\"Third\",\"Third\",\"Third\",\"Third\",\"Third\",\"Third\",\"Third\",\"Third\",\"Third\",\"Third\",\"Third\",\"Third\",\"Third\",\"Third\",\"Third\",\"Third\",\"Third\",\"Third\",\"Third\",\"Third\",\"Third\",\"Third\",\"Third\",\"Third\",\"Third\",\"Third\",\"Third\",\"Third\",\"Third\",\"Third\",\"Third\",\"Third\",\"Third\",\"Third\",\"Third\",\"Third\",\"Third\",\"Third\",\"Third\",\"Third\",\"Third\",\"Third\",\"Third\",\"Third\",\"Third\",\"Third\",\"Third\",\"Third\",\"Third\",\"Third\",\"Third\",\"Third\",\"Third\",\"Third\",\"Third\",\"Third\",\"Third\",\"Third\",\"Third\",\"Third\",\"Third\",\"Third\",\"Third\",\"Third\",\"Third\",\"Third\",\"Third\",\"Third\",\"Third\",\"Third\",\"Third\",\"Third\",\"Third\",\"Third\",\"Third\",\"Third\",\"Third\",\"Third\",\"Third\",\"Third\",\"Third\",\"Third\",\"Third\",\"Third\",\"Third\",\"Third\",\"Third\",\"Third\",\"Third\",\"Third\",\"Third\",\"Third\",\"Third\",\"Third\",\"Third\",\"Third\",\"Third\",\"Third\",\"Third\",\"Third\",\"Third\",\"Third\",\"Third\",\"Third\",\"Third\",\"Third\",\"Third\",\"Third\",\"Third\",\"Third\",\"Third\",\"Third\",\"Third\",\"Third\",\"Third\",\"Third\",\"Third\",\"Third\",\"Third\",\"Third\",\"Third\",\"Third\",\"Third\",\"Third\",\"Third\",\"Third\",\"Third\",\"Third\",\"Third\",\"Third\",\"Third\",\"Third\",\"Third\",\"Third\",\"Third\",\"Third\",\"Third\",\"Third\",\"Third\",\"Third\",\"Third\",\"Third\",\"Third\",\"Third\",\"Third\",\"Third\",\"Third\",\"Third\",\"Third\",\"Third\",\"Third\",\"Third\",\"Third\",\"Third\",\"Third\",\"Third\",\"Third\",\"Third\",\"Third\",\"Third\",\"Third\",\"Third\",\"Third\",\"Third\",\"Third\",\"Third\",\"Third\",\"Third\",\"Third\",\"Third\",\"Third\",\"Third\",\"Third\",\"Third\",\"Third\",\"Third\",\"Third\",\"Third\",\"Third\",\"Third\",\"Third\",\"Third\",\"Third\",\"Third\",\"Third\",\"Third\",\"Third\",\"Third\",\"Third\",\"Third\",\"Third\",\"Third\",\"Third\",\"Third\",\"Third\",\"Third\",\"Third\",\"Third\",\"Third\",\"Third\",\"Third\",\"Third\",\"Third\",\"Third\",\"Third\",\"Third\",\"Third\",\"Third\",\"Third\",\"Third\",\"Third\",\"Third\",\"Third\",\"Third\",\"Third\",\"Third\",\"Third\",\"Third\",\"Third\",\"Third\",\"Third\",\"Third\",\"Third\",\"Third\",\"Third\",\"Third\",\"Third\",\"Third\",\"Third\",\"Third\",\"Third\",\"Third\",\"Third\",\"Third\",\"Third\",\"Third\",\"Third\",\"Third\",\"Third\",\"Third\",\"Third\",\"Third\",\"Third\",\"Third\",\"Third\",\"Third\",\"Third\",\"Third\",\"Third\",\"Third\",\"Third\",\"Third\",\"Third\",\"Third\",\"Third\",\"Third\",\"Third\",\"Third\",\"Third\",\"Third\",\"Third\",\"Third\",\"Third\",\"Third\",\"Third\",\"Third\",\"Third\",\"Third\",\"Third\",\"Third\",\"Third\",\"Third\",\"Third\",\"Third\",\"Third\",\"Third\",\"Third\",\"Third\",\"Third\",\"Third\",\"Third\",\"Third\",\"Third\",\"Third\",\"Third\",\"Third\",\"Third\",\"Third\",\"Third\",\"Third\",\"Third\",\"Third\",\"Third\",\"Third\",\"Third\",\"Third\",\"Third\",\"Third\",\"Third\",\"Third\",\"Third\",\"Third\",\"Third\",\"Third\",\"Third\",\"Third\",\"Third\",\"Third\",\"Third\",\"Third\",\"Third\",\"Third\",\"Third\",\"Third\",\"Third\",\"Third\",\"Third\",\"Third\",\"Third\",\"Third\",\"Third\",\"Third\",\"Third\",\"Third\",\"Third\",\"Third\",\"Third\",\"Third\",\"Third\",\"Third\",\"Third\",\"Third\",\"Third\",\"Third\",\"Third\",\"Third\",\"Third\",\"Third\",\"Third\",\"Third\",\"Third\",\"Third\",\"Third\",\"Third\",\"Third\",\"Third\",\"Third\",\"Third\",\"Third\",\"Third\",\"Third\",\"Third\",\"Third\",\"Third\",\"Third\",\"Third\",\"Third\",\"Third\",\"Third\",\"Third\",\"Third\",\"Third\",\"Third\",\"Third\",\"Third\",\"Third\",\"Third\",\"Third\",\"Third\",\"Third\",\"Third\",\"Third\",\"Third\",\"Third\",\"Third\",\"Third\",\"Third\",\"Third\",\"Third\",\"Third\",\"Third\",\"Third\",\"Third\",\"Third\",\"Third\",\"Third\",\"Third\",\"Third\",\"Third\",\"Third\",\"Third\",\"Third\",\"Third\",\"Third\",\"Third\",\"Third\",\"Third\",\"Third\",\"Third\",\"Third\",\"Third\",\"Third\",\"Third\",\"Third\",\"Third\",\"Third\",\"Third\",\"Third\",\"Third\",\"Third\",\"Third\",\"Third\",\"Third\",\"Third\",\"Third\",\"Third\",\"Third\",\"Third\",\"Third\",\"Third\",\"Third\",\"Third\",\"Third\",\"Third\",\"Third\",\"Third\",\"Third\",\"Third\",\"Third\",\"Third\",\"Third\",\"Third\",\"Third\",\"Third\",\"Third\",\"Third\",\"Third\",\"Third\",\"Third\",\"Third\",\"Third\",\"Third\",\"Third\",\"Third\",\"Third\"],\"type\":\"histogram\",\"xaxis\":\"x\",\"yaxis\":\"y\"}],                        {\"template\":{\"data\":{\"histogram2dcontour\":[{\"type\":\"histogram2dcontour\",\"colorbar\":{\"outlinewidth\":0,\"ticks\":\"\"},\"colorscale\":[[0.0,\"#0d0887\"],[0.1111111111111111,\"#46039f\"],[0.2222222222222222,\"#7201a8\"],[0.3333333333333333,\"#9c179e\"],[0.4444444444444444,\"#bd3786\"],[0.5555555555555556,\"#d8576b\"],[0.6666666666666666,\"#ed7953\"],[0.7777777777777778,\"#fb9f3a\"],[0.8888888888888888,\"#fdca26\"],[1.0,\"#f0f921\"]]}],\"choropleth\":[{\"type\":\"choropleth\",\"colorbar\":{\"outlinewidth\":0,\"ticks\":\"\"}}],\"histogram2d\":[{\"type\":\"histogram2d\",\"colorbar\":{\"outlinewidth\":0,\"ticks\":\"\"},\"colorscale\":[[0.0,\"#0d0887\"],[0.1111111111111111,\"#46039f\"],[0.2222222222222222,\"#7201a8\"],[0.3333333333333333,\"#9c179e\"],[0.4444444444444444,\"#bd3786\"],[0.5555555555555556,\"#d8576b\"],[0.6666666666666666,\"#ed7953\"],[0.7777777777777778,\"#fb9f3a\"],[0.8888888888888888,\"#fdca26\"],[1.0,\"#f0f921\"]]}],\"heatmap\":[{\"type\":\"heatmap\",\"colorbar\":{\"outlinewidth\":0,\"ticks\":\"\"},\"colorscale\":[[0.0,\"#0d0887\"],[0.1111111111111111,\"#46039f\"],[0.2222222222222222,\"#7201a8\"],[0.3333333333333333,\"#9c179e\"],[0.4444444444444444,\"#bd3786\"],[0.5555555555555556,\"#d8576b\"],[0.6666666666666666,\"#ed7953\"],[0.7777777777777778,\"#fb9f3a\"],[0.8888888888888888,\"#fdca26\"],[1.0,\"#f0f921\"]]}],\"heatmapgl\":[{\"type\":\"heatmapgl\",\"colorbar\":{\"outlinewidth\":0,\"ticks\":\"\"},\"colorscale\":[[0.0,\"#0d0887\"],[0.1111111111111111,\"#46039f\"],[0.2222222222222222,\"#7201a8\"],[0.3333333333333333,\"#9c179e\"],[0.4444444444444444,\"#bd3786\"],[0.5555555555555556,\"#d8576b\"],[0.6666666666666666,\"#ed7953\"],[0.7777777777777778,\"#fb9f3a\"],[0.8888888888888888,\"#fdca26\"],[1.0,\"#f0f921\"]]}],\"contourcarpet\":[{\"type\":\"contourcarpet\",\"colorbar\":{\"outlinewidth\":0,\"ticks\":\"\"}}],\"contour\":[{\"type\":\"contour\",\"colorbar\":{\"outlinewidth\":0,\"ticks\":\"\"},\"colorscale\":[[0.0,\"#0d0887\"],[0.1111111111111111,\"#46039f\"],[0.2222222222222222,\"#7201a8\"],[0.3333333333333333,\"#9c179e\"],[0.4444444444444444,\"#bd3786\"],[0.5555555555555556,\"#d8576b\"],[0.6666666666666666,\"#ed7953\"],[0.7777777777777778,\"#fb9f3a\"],[0.8888888888888888,\"#fdca26\"],[1.0,\"#f0f921\"]]}],\"surface\":[{\"type\":\"surface\",\"colorbar\":{\"outlinewidth\":0,\"ticks\":\"\"},\"colorscale\":[[0.0,\"#0d0887\"],[0.1111111111111111,\"#46039f\"],[0.2222222222222222,\"#7201a8\"],[0.3333333333333333,\"#9c179e\"],[0.4444444444444444,\"#bd3786\"],[0.5555555555555556,\"#d8576b\"],[0.6666666666666666,\"#ed7953\"],[0.7777777777777778,\"#fb9f3a\"],[0.8888888888888888,\"#fdca26\"],[1.0,\"#f0f921\"]]}],\"mesh3d\":[{\"type\":\"mesh3d\",\"colorbar\":{\"outlinewidth\":0,\"ticks\":\"\"}}],\"scatter\":[{\"fillpattern\":{\"fillmode\":\"overlay\",\"size\":10,\"solidity\":0.2},\"type\":\"scatter\"}],\"parcoords\":[{\"type\":\"parcoords\",\"line\":{\"colorbar\":{\"outlinewidth\":0,\"ticks\":\"\"}}}],\"scatterpolargl\":[{\"type\":\"scatterpolargl\",\"marker\":{\"colorbar\":{\"outlinewidth\":0,\"ticks\":\"\"}}}],\"bar\":[{\"error_x\":{\"color\":\"#2a3f5f\"},\"error_y\":{\"color\":\"#2a3f5f\"},\"marker\":{\"line\":{\"color\":\"#E5ECF6\",\"width\":0.5},\"pattern\":{\"fillmode\":\"overlay\",\"size\":10,\"solidity\":0.2}},\"type\":\"bar\"}],\"scattergeo\":[{\"type\":\"scattergeo\",\"marker\":{\"colorbar\":{\"outlinewidth\":0,\"ticks\":\"\"}}}],\"scatterpolar\":[{\"type\":\"scatterpolar\",\"marker\":{\"colorbar\":{\"outlinewidth\":0,\"ticks\":\"\"}}}],\"histogram\":[{\"marker\":{\"pattern\":{\"fillmode\":\"overlay\",\"size\":10,\"solidity\":0.2}},\"type\":\"histogram\"}],\"scattergl\":[{\"type\":\"scattergl\",\"marker\":{\"colorbar\":{\"outlinewidth\":0,\"ticks\":\"\"}}}],\"scatter3d\":[{\"type\":\"scatter3d\",\"line\":{\"colorbar\":{\"outlinewidth\":0,\"ticks\":\"\"}},\"marker\":{\"colorbar\":{\"outlinewidth\":0,\"ticks\":\"\"}}}],\"scattermapbox\":[{\"type\":\"scattermapbox\",\"marker\":{\"colorbar\":{\"outlinewidth\":0,\"ticks\":\"\"}}}],\"scatterternary\":[{\"type\":\"scatterternary\",\"marker\":{\"colorbar\":{\"outlinewidth\":0,\"ticks\":\"\"}}}],\"scattercarpet\":[{\"type\":\"scattercarpet\",\"marker\":{\"colorbar\":{\"outlinewidth\":0,\"ticks\":\"\"}}}],\"carpet\":[{\"aaxis\":{\"endlinecolor\":\"#2a3f5f\",\"gridcolor\":\"white\",\"linecolor\":\"white\",\"minorgridcolor\":\"white\",\"startlinecolor\":\"#2a3f5f\"},\"baxis\":{\"endlinecolor\":\"#2a3f5f\",\"gridcolor\":\"white\",\"linecolor\":\"white\",\"minorgridcolor\":\"white\",\"startlinecolor\":\"#2a3f5f\"},\"type\":\"carpet\"}],\"table\":[{\"cells\":{\"fill\":{\"color\":\"#EBF0F8\"},\"line\":{\"color\":\"white\"}},\"header\":{\"fill\":{\"color\":\"#C8D4E3\"},\"line\":{\"color\":\"white\"}},\"type\":\"table\"}],\"barpolar\":[{\"marker\":{\"line\":{\"color\":\"#E5ECF6\",\"width\":0.5},\"pattern\":{\"fillmode\":\"overlay\",\"size\":10,\"solidity\":0.2}},\"type\":\"barpolar\"}],\"pie\":[{\"automargin\":true,\"type\":\"pie\"}]},\"layout\":{\"autotypenumbers\":\"strict\",\"colorway\":[\"#636efa\",\"#EF553B\",\"#00cc96\",\"#ab63fa\",\"#FFA15A\",\"#19d3f3\",\"#FF6692\",\"#B6E880\",\"#FF97FF\",\"#FECB52\"],\"font\":{\"color\":\"#2a3f5f\"},\"hovermode\":\"closest\",\"hoverlabel\":{\"align\":\"left\"},\"paper_bgcolor\":\"white\",\"plot_bgcolor\":\"#E5ECF6\",\"polar\":{\"bgcolor\":\"#E5ECF6\",\"angularaxis\":{\"gridcolor\":\"white\",\"linecolor\":\"white\",\"ticks\":\"\"},\"radialaxis\":{\"gridcolor\":\"white\",\"linecolor\":\"white\",\"ticks\":\"\"}},\"ternary\":{\"bgcolor\":\"#E5ECF6\",\"aaxis\":{\"gridcolor\":\"white\",\"linecolor\":\"white\",\"ticks\":\"\"},\"baxis\":{\"gridcolor\":\"white\",\"linecolor\":\"white\",\"ticks\":\"\"},\"caxis\":{\"gridcolor\":\"white\",\"linecolor\":\"white\",\"ticks\":\"\"}},\"coloraxis\":{\"colorbar\":{\"outlinewidth\":0,\"ticks\":\"\"}},\"colorscale\":{\"sequential\":[[0.0,\"#0d0887\"],[0.1111111111111111,\"#46039f\"],[0.2222222222222222,\"#7201a8\"],[0.3333333333333333,\"#9c179e\"],[0.4444444444444444,\"#bd3786\"],[0.5555555555555556,\"#d8576b\"],[0.6666666666666666,\"#ed7953\"],[0.7777777777777778,\"#fb9f3a\"],[0.8888888888888888,\"#fdca26\"],[1.0,\"#f0f921\"]],\"sequentialminus\":[[0.0,\"#0d0887\"],[0.1111111111111111,\"#46039f\"],[0.2222222222222222,\"#7201a8\"],[0.3333333333333333,\"#9c179e\"],[0.4444444444444444,\"#bd3786\"],[0.5555555555555556,\"#d8576b\"],[0.6666666666666666,\"#ed7953\"],[0.7777777777777778,\"#fb9f3a\"],[0.8888888888888888,\"#fdca26\"],[1.0,\"#f0f921\"]],\"diverging\":[[0,\"#8e0152\"],[0.1,\"#c51b7d\"],[0.2,\"#de77ae\"],[0.3,\"#f1b6da\"],[0.4,\"#fde0ef\"],[0.5,\"#f7f7f7\"],[0.6,\"#e6f5d0\"],[0.7,\"#b8e186\"],[0.8,\"#7fbc41\"],[0.9,\"#4d9221\"],[1,\"#276419\"]]},\"xaxis\":{\"gridcolor\":\"white\",\"linecolor\":\"white\",\"ticks\":\"\",\"title\":{\"standoff\":15},\"zerolinecolor\":\"white\",\"automargin\":true,\"zerolinewidth\":2},\"yaxis\":{\"gridcolor\":\"white\",\"linecolor\":\"white\",\"ticks\":\"\",\"title\":{\"standoff\":15},\"zerolinecolor\":\"white\",\"automargin\":true,\"zerolinewidth\":2},\"scene\":{\"xaxis\":{\"backgroundcolor\":\"#E5ECF6\",\"gridcolor\":\"white\",\"linecolor\":\"white\",\"showbackground\":true,\"ticks\":\"\",\"zerolinecolor\":\"white\",\"gridwidth\":2},\"yaxis\":{\"backgroundcolor\":\"#E5ECF6\",\"gridcolor\":\"white\",\"linecolor\":\"white\",\"showbackground\":true,\"ticks\":\"\",\"zerolinecolor\":\"white\",\"gridwidth\":2},\"zaxis\":{\"backgroundcolor\":\"#E5ECF6\",\"gridcolor\":\"white\",\"linecolor\":\"white\",\"showbackground\":true,\"ticks\":\"\",\"zerolinecolor\":\"white\",\"gridwidth\":2}},\"shapedefaults\":{\"line\":{\"color\":\"#2a3f5f\"}},\"annotationdefaults\":{\"arrowcolor\":\"#2a3f5f\",\"arrowhead\":0,\"arrowwidth\":1},\"geo\":{\"bgcolor\":\"white\",\"landcolor\":\"#E5ECF6\",\"subunitcolor\":\"white\",\"showland\":true,\"showlakes\":true,\"lakecolor\":\"white\"},\"title\":{\"x\":0.05},\"mapbox\":{\"style\":\"light\"}}},\"xaxis\":{\"anchor\":\"y\",\"domain\":[0.0,1.0]},\"yaxis\":{\"anchor\":\"x\",\"domain\":[0.0,1.0],\"range\":[0,800]},\"annotations\":[{\"font\":{\"size\":16},\"showarrow\":false,\"text\":\"Survival of Passengers by Class\",\"x\":0.5,\"xanchor\":\"center\",\"xref\":\"paper\",\"y\":1.0,\"yanchor\":\"bottom\",\"yref\":\"paper\"}],\"bargap\":0.4,\"bargroupgap\":0},                        {\"responsive\": true}                    ).then(function(){\n",
       "                            \n",
       "var gd = document.getElementById('32c1dddf-bbf4-4804-b7be-243861bd59d0');\n",
       "var x = new MutationObserver(function (mutations, observer) {{\n",
       "        var display = window.getComputedStyle(gd).display;\n",
       "        if (!display || display === 'none') {{\n",
       "            console.log([gd, 'removed!']);\n",
       "            Plotly.purge(gd);\n",
       "            observer.disconnect();\n",
       "        }}\n",
       "}});\n",
       "\n",
       "// Listen for the removal of the full notebook cells\n",
       "var notebookContainer = gd.closest('#notebook-container');\n",
       "if (notebookContainer) {{\n",
       "    x.observe(notebookContainer, {childList: true});\n",
       "}}\n",
       "\n",
       "// Listen for the clearing of the current output cell\n",
       "var outputEl = gd.closest('.output');\n",
       "if (outputEl) {{\n",
       "    x.observe(outputEl, {childList: true});\n",
       "}}\n",
       "\n",
       "                        })                };                });            </script>        </div>"
      ]
     },
     "metadata": {},
     "output_type": "display_data"
    }
   ],
   "source": [
    "#Question 2\n",
    "#How many from each class survived the disaster\n",
    "figClass = make_subplots(rows = 1, cols = 1,\n",
    "                   subplot_titles=(\"Survival of Passengers by Class\",))\n",
    "trace5 = go.Histogram(x=df[df['survivedStatus']=='Survived'][\"classStatus\"],  \n",
    "                        text=[\"200\", \"119\", \"181\"], textposition=\"outside\", opacity=0.75, \n",
    "                      marker_color='#003758', name='Survived', \n",
    "                      showlegend=True)\n",
    "trace6 = go.Histogram(x=df[df['survivedStatus']=='Not Survived'][\"classStatus\"],  \n",
    "                        text=[\"123\", \"158\", \"528\"], textposition=\"outside\", opacity=0.75, \n",
    "                      marker_color='#8b0000', name='Did not survive', \n",
    "                      showlegend=True)\n",
    "\n",
    "figClass.update_layout( \n",
    "    bargap=0.4,\n",
    "    bargroupgap=0, \n",
    "    yaxis = dict(range=[0, 800])) \n",
    "\n",
    "figClass.append_trace(trace5, 1, 1) \n",
    "figClass.append_trace(trace6, 1, 1)\n",
    "\n",
    "\n",
    "figClass.show()\n"
   ]
  },
  {
   "cell_type": "code",
   "execution_count": 83,
   "id": "b745d1ee",
   "metadata": {},
   "outputs": [
    {
     "data": {
      "application/vnd.plotly.v1+json": {
       "config": {
        "plotlyServerURL": "https://plot.ly"
       },
       "data": [
        {
         "domain": {
          "x": [
           0,
           0.45
          ],
          "y": [
           0.575,
           1
          ]
         },
         "hole": 0.4,
         "hoverinfo": "label+percent+name+value",
         "labels": [
          "female",
          "female",
          "male",
          "male",
          "female",
          "female",
          "female",
          "female",
          "female",
          "female",
          "female",
          "female",
          "male",
          "female",
          "male",
          "male",
          "female",
          "female",
          "male",
          "female",
          "male",
          "male",
          "male",
          "female",
          "male",
          "female",
          "male",
          "female",
          "male",
          "female",
          "female",
          "female",
          "male",
          "male",
          "male",
          "male",
          "male",
          "male",
          "male",
          "female",
          "male",
          "female",
          "male",
          "male",
          "male",
          "male",
          "male",
          "male",
          "male",
          "female",
          "female",
          "male",
          "female",
          "male",
          "male",
          "male",
          "male",
          "female",
          "male",
          "male",
          "female",
          "male",
          "male",
          "male",
          "male",
          "male",
          "male",
          "male",
          "male",
          "male",
          "male",
          "male",
          "female",
          "female",
          "male",
          "female",
          "male",
          "male",
          "female",
          "male",
          "male",
          "male",
          "male",
          "male",
          "male",
          "male",
          "male",
          "male",
          "male",
          "male",
          "male",
          "male",
          "male",
          "female",
          "male"
         ],
         "marker": {
          "colors": [
           "blue",
           "red"
          ]
         },
         "name": "Passengers 50+",
         "type": "pie"
        },
        {
         "domain": {
          "x": [
           0.55,
           1
          ],
          "y": [
           0.575,
           1
          ]
         },
         "hole": 0.4,
         "hoverinfo": "label+percent+name+value",
         "labels": [
          "female",
          "male",
          "female",
          "male",
          "female",
          "male",
          "male",
          "male",
          "female",
          "female",
          "female",
          "male",
          "male",
          "female",
          "female",
          "male",
          "male",
          "female",
          "male",
          "female",
          "female",
          "male",
          "male",
          "female",
          "female",
          "male",
          "male",
          "male",
          "female",
          "male",
          "female",
          "female",
          "male",
          "male",
          "male",
          "male",
          "female",
          "female",
          "male",
          "male",
          "male",
          "male",
          "male",
          "male",
          "male",
          "male",
          "female",
          "male",
          "female",
          "male",
          "female",
          "male",
          "male",
          "female",
          "male",
          "female",
          "female",
          "female",
          "male",
          "female",
          "male",
          "male",
          "female",
          "female",
          "male",
          "male",
          "female",
          "male",
          "male",
          "female",
          "male",
          "female",
          "male",
          "female",
          "male",
          "female",
          "male",
          "female",
          "male",
          "male",
          "female",
          "female",
          "female",
          "male",
          "male",
          "female",
          "female",
          "female",
          "male",
          "female",
          "female",
          "male",
          "male",
          "female",
          "female",
          "female",
          "male",
          "female",
          "male",
          "male",
          "male",
          "female",
          "female",
          "female",
          "male",
          "male",
          "female",
          "male",
          "female",
          "female",
          "female",
          "male",
          "male",
          "female",
          "female",
          "male",
          "male",
          "female",
          "male",
          "male",
          "female",
          "male",
          "female",
          "male",
          "male",
          "female",
          "male",
          "male",
          "male",
          "female",
          "male",
          "male",
          "female",
          "female",
          "male",
          "female",
          "male",
          "male",
          "male",
          "female",
          "female",
          "female",
          "male",
          "male",
          "male",
          "male",
          "male",
          "female",
          "male",
          "female",
          "male",
          "female",
          "female",
          "female",
          "male",
          "male",
          "male",
          "female",
          "male",
          "female",
          "male",
          "female",
          "male",
          "female",
          "male",
          "male",
          "female",
          "female",
          "male",
          "male",
          "male",
          "female",
          "male",
          "female",
          "female",
          "male",
          "male",
          "male",
          "female",
          "female",
          "female",
          "female",
          "male",
          "female",
          "male",
          "male",
          "male",
          "male",
          "male",
          "female",
          "male",
          "female",
          "female",
          "male",
          "male",
          "male",
          "male",
          "male",
          "female",
          "male",
          "male",
          "male",
          "female",
          "male",
          "male",
          "female",
          "male",
          "male",
          "female",
          "female",
          "female",
          "male",
          "female",
          "male",
          "female",
          "female",
          "male",
          "female",
          "male",
          "male",
          "female",
          "male",
          "male",
          "male",
          "female",
          "male",
          "female",
          "male",
          "male",
          "female",
          "female",
          "male",
          "female",
          "male",
          "female",
          "female",
          "female",
          "male",
          "female",
          "male",
          "male",
          "female",
          "female",
          "male",
          "male",
          "male",
          "female",
          "male",
          "female",
          "female",
          "male",
          "male",
          "female",
          "female",
          "male",
          "male",
          "female",
          "male",
          "female",
          "male",
          "female",
          "male",
          "male",
          "male",
          "male",
          "female",
          "male",
          "male",
          "female",
          "male",
          "male",
          "female",
          "male",
          "male",
          "female",
          "female",
          "female",
          "male",
          "female",
          "male",
          "male",
          "male",
          "male",
          "female",
          "female",
          "female",
          "female",
          "male",
          "female",
          "male",
          "male",
          "female",
          "male",
          "male",
          "female",
          "female",
          "male",
          "male",
          "female",
          "male",
          "female",
          "female",
          "female",
          "male",
          "female",
          "male",
          "male",
          "male",
          "female",
          "male",
          "female",
          "female",
          "female",
          "female",
          "male",
          "male",
          "male",
          "male",
          "female",
          "female",
          "male",
          "male",
          "male",
          "female",
          "male",
          "male",
          "female",
          "female",
          "male",
          "male",
          "female",
          "female",
          "female",
          "male",
          "male",
          "male",
          "male",
          "female",
          "male",
          "male",
          "male",
          "female",
          "male",
          "male",
          "male",
          "female",
          "male",
          "male",
          "male",
          "male",
          "male",
          "male",
          "male",
          "male",
          "male",
          "male",
          "male",
          "female",
          "male",
          "female",
          "male",
          "male",
          "female",
          "male",
          "female",
          "female",
          "female",
          "male",
          "female",
          "male",
          "male",
          "male",
          "female",
          "female",
          "male",
          "male",
          "male",
          "male",
          "female",
          "male",
          "male",
          "male",
          "female",
          "male",
          "female",
          "male",
          "male",
          "male",
          "male",
          "female",
          "male",
          "female",
          "female",
          "female",
          "male",
          "female",
          "male",
          "male",
          "female",
          "male",
          "male",
          "female",
          "female",
          "male",
          "female",
          "female",
          "female",
          "female",
          "male",
          "male",
          "male",
          "female",
          "male",
          "male",
          "male",
          "female",
          "male",
          "male",
          "male",
          "male",
          "male",
          "male",
          "female",
          "female",
          "male",
          "male",
          "male",
          "male",
          "male",
          "male",
          "male",
          "female",
          "male",
          "male",
          "male",
          "male",
          "male",
          "male",
          "male",
          "female",
          "male",
          "male",
          "male",
          "male",
          "male",
          "male",
          "male",
          "female",
          "male",
          "male",
          "male",
          "female",
          "female",
          "male",
          "female",
          "male",
          "male",
          "male",
          "female",
          "female",
          "female",
          "male",
          "male",
          "female",
          "female",
          "male",
          "male",
          "male",
          "female",
          "female",
          "male",
          "female",
          "male",
          "male",
          "male",
          "female",
          "female",
          "female",
          "female",
          "female",
          "male",
          "female",
          "male",
          "male",
          "male",
          "male",
          "male",
          "female",
          "male",
          "female",
          "female",
          "male",
          "female",
          "male",
          "female",
          "male",
          "male",
          "female",
          "male",
          "female",
          "female",
          "female",
          "male",
          "female",
          "male",
          "female",
          "female",
          "female",
          "female",
          "male",
          "female",
          "male",
          "male",
          "male",
          "female",
          "female",
          "male",
          "male",
          "male",
          "female",
          "female",
          "male",
          "male",
          "female",
          "male",
          "male",
          "female",
          "male",
          "female",
          "male",
          "male",
          "male",
          "male",
          "male",
          "male",
          "male",
          "male",
          "female",
          "male",
          "female",
          "female",
          "female",
          "female",
          "female",
          "female",
          "male",
          "male",
          "male",
          "female",
          "male",
          "male",
          "male",
          "female",
          "male",
          "male",
          "male",
          "male",
          "male",
          "male",
          "female",
          "male",
          "male",
          "female",
          "female",
          "male",
          "male",
          "female",
          "male",
          "male",
          "female",
          "male",
          "male",
          "female",
          "female",
          "female",
          "female",
          "female",
          "female",
          "male",
          "male",
          "male",
          "female",
          "female",
          "female",
          "male",
          "male",
          "male",
          "male",
          "male",
          "male",
          "male",
          "male",
          "male",
          "male",
          "male",
          "female",
          "male",
          "female",
          "female",
          "male",
          "female",
          "male",
          "female",
          "female",
          "male",
          "male",
          "male",
          "male",
          "female",
          "male",
          "male",
          "female",
          "female",
          "female",
          "male",
          "male",
          "male",
          "male",
          "female",
          "male",
          "male",
          "male",
          "female",
          "male",
          "male",
          "female",
          "female",
          "male",
          "male",
          "male",
          "male",
          "male",
          "male",
          "male",
          "male",
          "male",
          "male",
          "male",
          "male",
          "male",
          "male",
          "female",
          "female",
          "male",
          "male",
          "male",
          "male",
          "male",
          "male",
          "male",
          "female",
          "male",
          "female",
          "male",
          "male",
          "male",
          "male",
          "female",
          "male",
          "female",
          "male",
          "male",
          "male",
          "female",
          "male",
          "male",
          "male",
          "male",
          "male",
          "male",
          "male",
          "female",
          "male",
          "female",
          "male",
          "male",
          "male",
          "female",
          "male",
          "female",
          "male",
          "male",
          "male",
          "male",
          "male",
          "female",
          "male",
          "male",
          "male",
          "male",
          "male",
          "male",
          "female",
          "female",
          "female",
          "male",
          "male",
          "male",
          "female",
          "male",
          "male",
          "male",
          "male",
          "male",
          "male",
          "male",
          "male",
          "female",
          "male",
          "male",
          "male",
          "male",
          "male",
          "female",
          "male",
          "male",
          "male",
          "male",
          "male",
          "female",
          "female",
          "male",
          "male",
          "male",
          "female",
          "male",
          "male",
          "male",
          "male",
          "male",
          "male",
          "female",
          "female",
          "male",
          "male",
          "male",
          "female",
          "male",
          "male",
          "male",
          "male",
          "female",
          "female",
          "male",
          "male",
          "female",
          "male",
          "male",
          "male",
          "male",
          "male",
          "male",
          "female",
          "female",
          "male",
          "male",
          "male",
          "female",
          "male",
          "male",
          "male",
          "male",
          "male",
          "female",
          "female",
          "male",
          "male",
          "male",
          "female",
          "male",
          "male",
          "female",
          "female",
          "female",
          "female",
          "male",
          "female",
          "female",
          "female",
          "female",
          "male",
          "male",
          "female",
          "male",
          "female",
          "male",
          "male",
          "male",
          "male",
          "female",
          "female",
          "male",
          "male",
          "male",
          "male",
          "male",
          "male",
          "male",
          "female",
          "male",
          "male",
          "male",
          "male",
          "male",
          "male",
          "male",
          "male",
          "female",
          "male",
          "male",
          "male",
          "female",
          "male",
          "female",
          "male",
          "female",
          "male",
          "male",
          "male",
          "female",
          "female",
          "male",
          "male",
          "male",
          "male",
          "male",
          "male",
          "male",
          "female",
          "male",
          "male",
          "male",
          "male",
          "male",
          "female",
          "female",
          "male",
          "male",
          "male",
          "male",
          "female",
          "male",
          "male",
          "male",
          "female",
          "male",
          "female",
          "male",
          "female",
          "female",
          "male",
          "female",
          "male",
          "male",
          "male",
          "female",
          "male",
          "male",
          "male",
          "female",
          "male",
          "male",
          "male",
          "male",
          "male",
          "male",
          "male",
          "female",
          "female",
          "female",
          "female",
          "male",
          "male",
          "female",
          "male",
          "male",
          "male",
          "male",
          "female",
          "female",
          "male",
          "female",
          "male",
          "male",
          "male",
          "male",
          "male",
          "female",
          "male",
          "male",
          "male",
          "female",
          "male",
          "male",
          "male",
          "female",
          "male",
          "male",
          "female",
          "male",
          "male",
          "male",
          "male",
          "female",
          "female",
          "male",
          "male",
          "male",
          "female",
          "male",
          "female",
          "male",
          "female",
          "female",
          "male",
          "female",
          "male",
          "female",
          "female",
          "female",
          "male",
          "male",
          "female",
          "female",
          "female",
          "female",
          "male",
          "male",
          "male",
          "male",
          "male",
          "male",
          "male",
          "female",
          "male",
          "male",
          "female",
          "male",
          "female",
          "male",
          "male",
          "male",
          "male",
          "male",
          "male",
          "male",
          "female",
          "female",
          "male",
          "female",
          "female",
          "male",
          "female",
          "female",
          "female",
          "male",
          "male",
          "female",
          "female",
          "male",
          "female",
          "male",
          "male",
          "male",
          "female",
          "male",
          "male",
          "female",
          "female",
          "male",
          "female",
          "female",
          "male",
          "male",
          "male",
          "male",
          "male",
          "female",
          "male",
          "male",
          "female",
          "male",
          "male",
          "male",
          "male",
          "female",
          "female",
          "female",
          "female",
          "male",
          "female",
          "male",
          "male",
          "male",
          "male",
          "female",
          "male",
          "male",
          "male",
          "female",
          "female",
          "male",
          "male",
          "female",
          "female",
          "male",
          "male",
          "female",
          "female",
          "female",
          "male",
          "male",
          "male",
          "male",
          "male",
          "female",
          "male",
          "male",
          "male",
          "male",
          "male",
          "female",
          "female",
          "male",
          "male",
          "male",
          "male",
          "male",
          "male",
          "male",
          "male",
          "female",
          "female",
          "female",
          "male",
          "female",
          "male",
          "male",
          "male",
          "female",
          "male",
          "male",
          "male",
          "male",
          "male",
          "female",
          "male",
          "male",
          "male",
          "male",
          "male",
          "male",
          "male",
          "male",
          "male",
          "female",
          "female",
          "male",
          "female",
          "male",
          "female",
          "male",
          "female",
          "male",
          "male",
          "female",
          "male",
          "female",
          "female",
          "male",
          "male",
          "male",
          "male",
          "male",
          "male",
          "male",
          "male",
          "male",
          "male",
          "male",
          "male",
          "female",
          "female",
          "female",
          "female",
          "male",
          "male",
          "male",
          "male",
          "female",
          "male",
          "female",
          "male",
          "male",
          "male",
          "male",
          "female",
          "female",
          "female",
          "male",
          "male",
          "male",
          "male",
          "male",
          "male",
          "male",
          "male",
          "female",
          "male",
          "male",
          "male",
          "male",
          "male",
          "male",
          "female",
          "male",
          "male",
          "female",
          "female",
          "male",
          "female",
          "male",
          "male",
          "male",
          "male",
          "female",
          "male",
          "male",
          "male",
          "male",
          "male",
          "male",
          "female",
          "male",
          "male",
          "female",
          "male",
          "male",
          "female",
          "female",
          "male",
          "male",
          "male",
          "male",
          "male",
          "male",
          "male",
          "male",
          "male",
          "male",
          "male",
          "female",
          "male",
          "male",
          "female",
          "male",
          "male",
          "male",
          "male",
          "male",
          "male",
          "male",
          "male",
          "male",
          "female",
          "female",
          "male",
          "female",
          "male",
          "male",
          "male",
          "female",
          "male",
          "female",
          "male",
          "male",
          "male",
          "male",
          "male",
          "female",
          "male",
          "male",
          "female",
          "male",
          "male",
          "female",
          "male",
          "male",
          "male",
          "male",
          "male",
          "male",
          "female",
          "male",
          "male",
          "female",
          "male",
          "male",
          "male",
          "male",
          "male",
          "male",
          "male",
          "male",
          "male",
          "female",
          "male",
          "male",
          "male",
          "female",
          "female",
          "male",
          "male",
          "male"
         ],
         "marker": {
          "colors": [
           "blue",
           "red"
          ]
         },
         "name": "Passengers Under 50",
         "type": "pie"
        },
        {
         "domain": {
          "x": [
           0,
           0.45
          ],
          "y": [
           0,
           0.425
          ]
         },
         "hole": 0.4,
         "hoverinfo": "label+percent+name+value",
         "labels": [
          "female",
          "female",
          "male",
          "female",
          "female",
          "female",
          "female",
          "female",
          "female",
          "female",
          "female",
          "female",
          "male",
          "male",
          "female",
          "female",
          "female",
          "male",
          "male",
          "female",
          "female",
          "female",
          "female",
          "female",
          "female",
          "male",
          "female",
          "female",
          "male",
          "male",
          "female",
          "female",
          "female",
          "female",
          "male",
          "female",
          "female",
          "female"
         ],
         "marker": {
          "colors": [
           "blue",
           "red"
          ]
         },
         "name": "50+ Survived",
         "type": "pie"
        },
        {
         "domain": {
          "x": [
           0.55,
           1
          ],
          "y": [
           0,
           0.425
          ]
         },
         "hole": 0.4,
         "hoverinfo": "label+percent+name+value",
         "labels": [
          "male",
          "male",
          "male",
          "male",
          "male",
          "male",
          "male",
          "male",
          "male",
          "male",
          "male",
          "male",
          "male",
          "male",
          "male",
          "male",
          "male",
          "male",
          "male",
          "male",
          "female",
          "male",
          "male",
          "male",
          "male",
          "male",
          "male",
          "male",
          "male",
          "male",
          "male",
          "male",
          "male",
          "male",
          "male",
          "male",
          "male",
          "male",
          "female",
          "male",
          "male",
          "female",
          "male",
          "male",
          "male",
          "male",
          "male",
          "male",
          "male",
          "male",
          "male",
          "male",
          "male",
          "male",
          "male",
          "male",
          "male"
         ],
         "marker": {
          "colors": [
           "red",
           "blue"
          ]
         },
         "name": "50+ Deceased",
         "type": "pie"
        }
       ],
       "layout": {
        "annotations": [
         {
          "font": {
           "size": 13
          },
          "showarrow": false,
          "text": "Passengers 50+",
          "x": 0.16,
          "y": 0.51
         },
         {
          "font": {
           "size": 13
          },
          "showarrow": false,
          "text": "Passengers Under 50",
          "x": 0.87,
          "y": 0.51
         },
         {
          "font": {
           "size": 13
          },
          "showarrow": false,
          "text": "Passengers 50+ that Survived",
          "x": 0.09,
          "y": -0.09
         },
         {
          "font": {
           "size": 13
          },
          "showarrow": false,
          "text": "Passengers 50+ that did not Survive",
          "x": 0.95,
          "y": -0.09
         }
        ],
        "hoverlabel": {
         "font": {
          "color": "white",
          "family": "Arial",
          "size": 14
         }
        },
        "paper_bgcolor": "#bcbcbc",
        "template": {
         "data": {
          "bar": [
           {
            "error_x": {
             "color": "#2a3f5f"
            },
            "error_y": {
             "color": "#2a3f5f"
            },
            "marker": {
             "line": {
              "color": "#E5ECF6",
              "width": 0.5
             },
             "pattern": {
              "fillmode": "overlay",
              "size": 10,
              "solidity": 0.2
             }
            },
            "type": "bar"
           }
          ],
          "barpolar": [
           {
            "marker": {
             "line": {
              "color": "#E5ECF6",
              "width": 0.5
             },
             "pattern": {
              "fillmode": "overlay",
              "size": 10,
              "solidity": 0.2
             }
            },
            "type": "barpolar"
           }
          ],
          "carpet": [
           {
            "aaxis": {
             "endlinecolor": "#2a3f5f",
             "gridcolor": "white",
             "linecolor": "white",
             "minorgridcolor": "white",
             "startlinecolor": "#2a3f5f"
            },
            "baxis": {
             "endlinecolor": "#2a3f5f",
             "gridcolor": "white",
             "linecolor": "white",
             "minorgridcolor": "white",
             "startlinecolor": "#2a3f5f"
            },
            "type": "carpet"
           }
          ],
          "choropleth": [
           {
            "colorbar": {
             "outlinewidth": 0,
             "ticks": ""
            },
            "type": "choropleth"
           }
          ],
          "contour": [
           {
            "colorbar": {
             "outlinewidth": 0,
             "ticks": ""
            },
            "colorscale": [
             [
              0,
              "#0d0887"
             ],
             [
              0.1111111111111111,
              "#46039f"
             ],
             [
              0.2222222222222222,
              "#7201a8"
             ],
             [
              0.3333333333333333,
              "#9c179e"
             ],
             [
              0.4444444444444444,
              "#bd3786"
             ],
             [
              0.5555555555555556,
              "#d8576b"
             ],
             [
              0.6666666666666666,
              "#ed7953"
             ],
             [
              0.7777777777777778,
              "#fb9f3a"
             ],
             [
              0.8888888888888888,
              "#fdca26"
             ],
             [
              1,
              "#f0f921"
             ]
            ],
            "type": "contour"
           }
          ],
          "contourcarpet": [
           {
            "colorbar": {
             "outlinewidth": 0,
             "ticks": ""
            },
            "type": "contourcarpet"
           }
          ],
          "heatmap": [
           {
            "colorbar": {
             "outlinewidth": 0,
             "ticks": ""
            },
            "colorscale": [
             [
              0,
              "#0d0887"
             ],
             [
              0.1111111111111111,
              "#46039f"
             ],
             [
              0.2222222222222222,
              "#7201a8"
             ],
             [
              0.3333333333333333,
              "#9c179e"
             ],
             [
              0.4444444444444444,
              "#bd3786"
             ],
             [
              0.5555555555555556,
              "#d8576b"
             ],
             [
              0.6666666666666666,
              "#ed7953"
             ],
             [
              0.7777777777777778,
              "#fb9f3a"
             ],
             [
              0.8888888888888888,
              "#fdca26"
             ],
             [
              1,
              "#f0f921"
             ]
            ],
            "type": "heatmap"
           }
          ],
          "heatmapgl": [
           {
            "colorbar": {
             "outlinewidth": 0,
             "ticks": ""
            },
            "colorscale": [
             [
              0,
              "#0d0887"
             ],
             [
              0.1111111111111111,
              "#46039f"
             ],
             [
              0.2222222222222222,
              "#7201a8"
             ],
             [
              0.3333333333333333,
              "#9c179e"
             ],
             [
              0.4444444444444444,
              "#bd3786"
             ],
             [
              0.5555555555555556,
              "#d8576b"
             ],
             [
              0.6666666666666666,
              "#ed7953"
             ],
             [
              0.7777777777777778,
              "#fb9f3a"
             ],
             [
              0.8888888888888888,
              "#fdca26"
             ],
             [
              1,
              "#f0f921"
             ]
            ],
            "type": "heatmapgl"
           }
          ],
          "histogram": [
           {
            "marker": {
             "pattern": {
              "fillmode": "overlay",
              "size": 10,
              "solidity": 0.2
             }
            },
            "type": "histogram"
           }
          ],
          "histogram2d": [
           {
            "colorbar": {
             "outlinewidth": 0,
             "ticks": ""
            },
            "colorscale": [
             [
              0,
              "#0d0887"
             ],
             [
              0.1111111111111111,
              "#46039f"
             ],
             [
              0.2222222222222222,
              "#7201a8"
             ],
             [
              0.3333333333333333,
              "#9c179e"
             ],
             [
              0.4444444444444444,
              "#bd3786"
             ],
             [
              0.5555555555555556,
              "#d8576b"
             ],
             [
              0.6666666666666666,
              "#ed7953"
             ],
             [
              0.7777777777777778,
              "#fb9f3a"
             ],
             [
              0.8888888888888888,
              "#fdca26"
             ],
             [
              1,
              "#f0f921"
             ]
            ],
            "type": "histogram2d"
           }
          ],
          "histogram2dcontour": [
           {
            "colorbar": {
             "outlinewidth": 0,
             "ticks": ""
            },
            "colorscale": [
             [
              0,
              "#0d0887"
             ],
             [
              0.1111111111111111,
              "#46039f"
             ],
             [
              0.2222222222222222,
              "#7201a8"
             ],
             [
              0.3333333333333333,
              "#9c179e"
             ],
             [
              0.4444444444444444,
              "#bd3786"
             ],
             [
              0.5555555555555556,
              "#d8576b"
             ],
             [
              0.6666666666666666,
              "#ed7953"
             ],
             [
              0.7777777777777778,
              "#fb9f3a"
             ],
             [
              0.8888888888888888,
              "#fdca26"
             ],
             [
              1,
              "#f0f921"
             ]
            ],
            "type": "histogram2dcontour"
           }
          ],
          "mesh3d": [
           {
            "colorbar": {
             "outlinewidth": 0,
             "ticks": ""
            },
            "type": "mesh3d"
           }
          ],
          "parcoords": [
           {
            "line": {
             "colorbar": {
              "outlinewidth": 0,
              "ticks": ""
             }
            },
            "type": "parcoords"
           }
          ],
          "pie": [
           {
            "automargin": true,
            "type": "pie"
           }
          ],
          "scatter": [
           {
            "fillpattern": {
             "fillmode": "overlay",
             "size": 10,
             "solidity": 0.2
            },
            "type": "scatter"
           }
          ],
          "scatter3d": [
           {
            "line": {
             "colorbar": {
              "outlinewidth": 0,
              "ticks": ""
             }
            },
            "marker": {
             "colorbar": {
              "outlinewidth": 0,
              "ticks": ""
             }
            },
            "type": "scatter3d"
           }
          ],
          "scattercarpet": [
           {
            "marker": {
             "colorbar": {
              "outlinewidth": 0,
              "ticks": ""
             }
            },
            "type": "scattercarpet"
           }
          ],
          "scattergeo": [
           {
            "marker": {
             "colorbar": {
              "outlinewidth": 0,
              "ticks": ""
             }
            },
            "type": "scattergeo"
           }
          ],
          "scattergl": [
           {
            "marker": {
             "colorbar": {
              "outlinewidth": 0,
              "ticks": ""
             }
            },
            "type": "scattergl"
           }
          ],
          "scattermapbox": [
           {
            "marker": {
             "colorbar": {
              "outlinewidth": 0,
              "ticks": ""
             }
            },
            "type": "scattermapbox"
           }
          ],
          "scatterpolar": [
           {
            "marker": {
             "colorbar": {
              "outlinewidth": 0,
              "ticks": ""
             }
            },
            "type": "scatterpolar"
           }
          ],
          "scatterpolargl": [
           {
            "marker": {
             "colorbar": {
              "outlinewidth": 0,
              "ticks": ""
             }
            },
            "type": "scatterpolargl"
           }
          ],
          "scatterternary": [
           {
            "marker": {
             "colorbar": {
              "outlinewidth": 0,
              "ticks": ""
             }
            },
            "type": "scatterternary"
           }
          ],
          "surface": [
           {
            "colorbar": {
             "outlinewidth": 0,
             "ticks": ""
            },
            "colorscale": [
             [
              0,
              "#0d0887"
             ],
             [
              0.1111111111111111,
              "#46039f"
             ],
             [
              0.2222222222222222,
              "#7201a8"
             ],
             [
              0.3333333333333333,
              "#9c179e"
             ],
             [
              0.4444444444444444,
              "#bd3786"
             ],
             [
              0.5555555555555556,
              "#d8576b"
             ],
             [
              0.6666666666666666,
              "#ed7953"
             ],
             [
              0.7777777777777778,
              "#fb9f3a"
             ],
             [
              0.8888888888888888,
              "#fdca26"
             ],
             [
              1,
              "#f0f921"
             ]
            ],
            "type": "surface"
           }
          ],
          "table": [
           {
            "cells": {
             "fill": {
              "color": "#EBF0F8"
             },
             "line": {
              "color": "white"
             }
            },
            "header": {
             "fill": {
              "color": "#C8D4E3"
             },
             "line": {
              "color": "white"
             }
            },
            "type": "table"
           }
          ]
         },
         "layout": {
          "annotationdefaults": {
           "arrowcolor": "#2a3f5f",
           "arrowhead": 0,
           "arrowwidth": 1
          },
          "autotypenumbers": "strict",
          "coloraxis": {
           "colorbar": {
            "outlinewidth": 0,
            "ticks": ""
           }
          },
          "colorscale": {
           "diverging": [
            [
             0,
             "#8e0152"
            ],
            [
             0.1,
             "#c51b7d"
            ],
            [
             0.2,
             "#de77ae"
            ],
            [
             0.3,
             "#f1b6da"
            ],
            [
             0.4,
             "#fde0ef"
            ],
            [
             0.5,
             "#f7f7f7"
            ],
            [
             0.6,
             "#e6f5d0"
            ],
            [
             0.7,
             "#b8e186"
            ],
            [
             0.8,
             "#7fbc41"
            ],
            [
             0.9,
             "#4d9221"
            ],
            [
             1,
             "#276419"
            ]
           ],
           "sequential": [
            [
             0,
             "#0d0887"
            ],
            [
             0.1111111111111111,
             "#46039f"
            ],
            [
             0.2222222222222222,
             "#7201a8"
            ],
            [
             0.3333333333333333,
             "#9c179e"
            ],
            [
             0.4444444444444444,
             "#bd3786"
            ],
            [
             0.5555555555555556,
             "#d8576b"
            ],
            [
             0.6666666666666666,
             "#ed7953"
            ],
            [
             0.7777777777777778,
             "#fb9f3a"
            ],
            [
             0.8888888888888888,
             "#fdca26"
            ],
            [
             1,
             "#f0f921"
            ]
           ],
           "sequentialminus": [
            [
             0,
             "#0d0887"
            ],
            [
             0.1111111111111111,
             "#46039f"
            ],
            [
             0.2222222222222222,
             "#7201a8"
            ],
            [
             0.3333333333333333,
             "#9c179e"
            ],
            [
             0.4444444444444444,
             "#bd3786"
            ],
            [
             0.5555555555555556,
             "#d8576b"
            ],
            [
             0.6666666666666666,
             "#ed7953"
            ],
            [
             0.7777777777777778,
             "#fb9f3a"
            ],
            [
             0.8888888888888888,
             "#fdca26"
            ],
            [
             1,
             "#f0f921"
            ]
           ]
          },
          "colorway": [
           "#636efa",
           "#EF553B",
           "#00cc96",
           "#ab63fa",
           "#FFA15A",
           "#19d3f3",
           "#FF6692",
           "#B6E880",
           "#FF97FF",
           "#FECB52"
          ],
          "font": {
           "color": "#2a3f5f"
          },
          "geo": {
           "bgcolor": "white",
           "lakecolor": "white",
           "landcolor": "#E5ECF6",
           "showlakes": true,
           "showland": true,
           "subunitcolor": "white"
          },
          "hoverlabel": {
           "align": "left"
          },
          "hovermode": "closest",
          "mapbox": {
           "style": "light"
          },
          "paper_bgcolor": "white",
          "plot_bgcolor": "#E5ECF6",
          "polar": {
           "angularaxis": {
            "gridcolor": "white",
            "linecolor": "white",
            "ticks": ""
           },
           "bgcolor": "#E5ECF6",
           "radialaxis": {
            "gridcolor": "white",
            "linecolor": "white",
            "ticks": ""
           }
          },
          "scene": {
           "xaxis": {
            "backgroundcolor": "#E5ECF6",
            "gridcolor": "white",
            "gridwidth": 2,
            "linecolor": "white",
            "showbackground": true,
            "ticks": "",
            "zerolinecolor": "white"
           },
           "yaxis": {
            "backgroundcolor": "#E5ECF6",
            "gridcolor": "white",
            "gridwidth": 2,
            "linecolor": "white",
            "showbackground": true,
            "ticks": "",
            "zerolinecolor": "white"
           },
           "zaxis": {
            "backgroundcolor": "#E5ECF6",
            "gridcolor": "white",
            "gridwidth": 2,
            "linecolor": "white",
            "showbackground": true,
            "ticks": "",
            "zerolinecolor": "white"
           }
          },
          "shapedefaults": {
           "line": {
            "color": "#2a3f5f"
           }
          },
          "ternary": {
           "aaxis": {
            "gridcolor": "white",
            "linecolor": "white",
            "ticks": ""
           },
           "baxis": {
            "gridcolor": "white",
            "linecolor": "white",
            "ticks": ""
           },
           "bgcolor": "#E5ECF6",
           "caxis": {
            "gridcolor": "white",
            "linecolor": "white",
            "ticks": ""
           }
          },
          "title": {
           "x": 0.05
          },
          "xaxis": {
           "automargin": true,
           "gridcolor": "white",
           "linecolor": "white",
           "ticks": "",
           "title": {
            "standoff": 15
           },
           "zerolinecolor": "white",
           "zerolinewidth": 2
          },
          "yaxis": {
           "automargin": true,
           "gridcolor": "white",
           "linecolor": "white",
           "ticks": "",
           "title": {
            "standoff": 15
           },
           "zerolinecolor": "white",
           "zerolinewidth": 2
          }
         }
        },
        "title": {
         "text": "Passengers 50+ on Titanic by Sex"
        }
       }
      },
      "text/html": [
       "<div>                            <div id=\"6adab617-874e-42f7-a365-5962d6059d15\" class=\"plotly-graph-div\" style=\"height:525px; width:100%;\"></div>            <script type=\"text/javascript\">                require([\"plotly\"], function(Plotly) {                    window.PLOTLYENV=window.PLOTLYENV || {};                                    if (document.getElementById(\"6adab617-874e-42f7-a365-5962d6059d15\")) {                    Plotly.newPlot(                        \"6adab617-874e-42f7-a365-5962d6059d15\",                        [{\"hole\":0.4,\"hoverinfo\":\"label+percent+name+value\",\"labels\":[\"female\",\"female\",\"male\",\"male\",\"female\",\"female\",\"female\",\"female\",\"female\",\"female\",\"female\",\"female\",\"male\",\"female\",\"male\",\"male\",\"female\",\"female\",\"male\",\"female\",\"male\",\"male\",\"male\",\"female\",\"male\",\"female\",\"male\",\"female\",\"male\",\"female\",\"female\",\"female\",\"male\",\"male\",\"male\",\"male\",\"male\",\"male\",\"male\",\"female\",\"male\",\"female\",\"male\",\"male\",\"male\",\"male\",\"male\",\"male\",\"male\",\"female\",\"female\",\"male\",\"female\",\"male\",\"male\",\"male\",\"male\",\"female\",\"male\",\"male\",\"female\",\"male\",\"male\",\"male\",\"male\",\"male\",\"male\",\"male\",\"male\",\"male\",\"male\",\"male\",\"female\",\"female\",\"male\",\"female\",\"male\",\"male\",\"female\",\"male\",\"male\",\"male\",\"male\",\"male\",\"male\",\"male\",\"male\",\"male\",\"male\",\"male\",\"male\",\"male\",\"male\",\"female\",\"male\"],\"marker\":{\"colors\":[\"blue\",\"red\"]},\"name\":\"Passengers 50+\",\"type\":\"pie\",\"domain\":{\"x\":[0.0,0.45],\"y\":[0.575,1.0]}},{\"hole\":0.4,\"hoverinfo\":\"label+percent+name+value\",\"labels\":[\"female\",\"male\",\"female\",\"male\",\"female\",\"male\",\"male\",\"male\",\"female\",\"female\",\"female\",\"male\",\"male\",\"female\",\"female\",\"male\",\"male\",\"female\",\"male\",\"female\",\"female\",\"male\",\"male\",\"female\",\"female\",\"male\",\"male\",\"male\",\"female\",\"male\",\"female\",\"female\",\"male\",\"male\",\"male\",\"male\",\"female\",\"female\",\"male\",\"male\",\"male\",\"male\",\"male\",\"male\",\"male\",\"male\",\"female\",\"male\",\"female\",\"male\",\"female\",\"male\",\"male\",\"female\",\"male\",\"female\",\"female\",\"female\",\"male\",\"female\",\"male\",\"male\",\"female\",\"female\",\"male\",\"male\",\"female\",\"male\",\"male\",\"female\",\"male\",\"female\",\"male\",\"female\",\"male\",\"female\",\"male\",\"female\",\"male\",\"male\",\"female\",\"female\",\"female\",\"male\",\"male\",\"female\",\"female\",\"female\",\"male\",\"female\",\"female\",\"male\",\"male\",\"female\",\"female\",\"female\",\"male\",\"female\",\"male\",\"male\",\"male\",\"female\",\"female\",\"female\",\"male\",\"male\",\"female\",\"male\",\"female\",\"female\",\"female\",\"male\",\"male\",\"female\",\"female\",\"male\",\"male\",\"female\",\"male\",\"male\",\"female\",\"male\",\"female\",\"male\",\"male\",\"female\",\"male\",\"male\",\"male\",\"female\",\"male\",\"male\",\"female\",\"female\",\"male\",\"female\",\"male\",\"male\",\"male\",\"female\",\"female\",\"female\",\"male\",\"male\",\"male\",\"male\",\"male\",\"female\",\"male\",\"female\",\"male\",\"female\",\"female\",\"female\",\"male\",\"male\",\"male\",\"female\",\"male\",\"female\",\"male\",\"female\",\"male\",\"female\",\"male\",\"male\",\"female\",\"female\",\"male\",\"male\",\"male\",\"female\",\"male\",\"female\",\"female\",\"male\",\"male\",\"male\",\"female\",\"female\",\"female\",\"female\",\"male\",\"female\",\"male\",\"male\",\"male\",\"male\",\"male\",\"female\",\"male\",\"female\",\"female\",\"male\",\"male\",\"male\",\"male\",\"male\",\"female\",\"male\",\"male\",\"male\",\"female\",\"male\",\"male\",\"female\",\"male\",\"male\",\"female\",\"female\",\"female\",\"male\",\"female\",\"male\",\"female\",\"female\",\"male\",\"female\",\"male\",\"male\",\"female\",\"male\",\"male\",\"male\",\"female\",\"male\",\"female\",\"male\",\"male\",\"female\",\"female\",\"male\",\"female\",\"male\",\"female\",\"female\",\"female\",\"male\",\"female\",\"male\",\"male\",\"female\",\"female\",\"male\",\"male\",\"male\",\"female\",\"male\",\"female\",\"female\",\"male\",\"male\",\"female\",\"female\",\"male\",\"male\",\"female\",\"male\",\"female\",\"male\",\"female\",\"male\",\"male\",\"male\",\"male\",\"female\",\"male\",\"male\",\"female\",\"male\",\"male\",\"female\",\"male\",\"male\",\"female\",\"female\",\"female\",\"male\",\"female\",\"male\",\"male\",\"male\",\"male\",\"female\",\"female\",\"female\",\"female\",\"male\",\"female\",\"male\",\"male\",\"female\",\"male\",\"male\",\"female\",\"female\",\"male\",\"male\",\"female\",\"male\",\"female\",\"female\",\"female\",\"male\",\"female\",\"male\",\"male\",\"male\",\"female\",\"male\",\"female\",\"female\",\"female\",\"female\",\"male\",\"male\",\"male\",\"male\",\"female\",\"female\",\"male\",\"male\",\"male\",\"female\",\"male\",\"male\",\"female\",\"female\",\"male\",\"male\",\"female\",\"female\",\"female\",\"male\",\"male\",\"male\",\"male\",\"female\",\"male\",\"male\",\"male\",\"female\",\"male\",\"male\",\"male\",\"female\",\"male\",\"male\",\"male\",\"male\",\"male\",\"male\",\"male\",\"male\",\"male\",\"male\",\"male\",\"female\",\"male\",\"female\",\"male\",\"male\",\"female\",\"male\",\"female\",\"female\",\"female\",\"male\",\"female\",\"male\",\"male\",\"male\",\"female\",\"female\",\"male\",\"male\",\"male\",\"male\",\"female\",\"male\",\"male\",\"male\",\"female\",\"male\",\"female\",\"male\",\"male\",\"male\",\"male\",\"female\",\"male\",\"female\",\"female\",\"female\",\"male\",\"female\",\"male\",\"male\",\"female\",\"male\",\"male\",\"female\",\"female\",\"male\",\"female\",\"female\",\"female\",\"female\",\"male\",\"male\",\"male\",\"female\",\"male\",\"male\",\"male\",\"female\",\"male\",\"male\",\"male\",\"male\",\"male\",\"male\",\"female\",\"female\",\"male\",\"male\",\"male\",\"male\",\"male\",\"male\",\"male\",\"female\",\"male\",\"male\",\"male\",\"male\",\"male\",\"male\",\"male\",\"female\",\"male\",\"male\",\"male\",\"male\",\"male\",\"male\",\"male\",\"female\",\"male\",\"male\",\"male\",\"female\",\"female\",\"male\",\"female\",\"male\",\"male\",\"male\",\"female\",\"female\",\"female\",\"male\",\"male\",\"female\",\"female\",\"male\",\"male\",\"male\",\"female\",\"female\",\"male\",\"female\",\"male\",\"male\",\"male\",\"female\",\"female\",\"female\",\"female\",\"female\",\"male\",\"female\",\"male\",\"male\",\"male\",\"male\",\"male\",\"female\",\"male\",\"female\",\"female\",\"male\",\"female\",\"male\",\"female\",\"male\",\"male\",\"female\",\"male\",\"female\",\"female\",\"female\",\"male\",\"female\",\"male\",\"female\",\"female\",\"female\",\"female\",\"male\",\"female\",\"male\",\"male\",\"male\",\"female\",\"female\",\"male\",\"male\",\"male\",\"female\",\"female\",\"male\",\"male\",\"female\",\"male\",\"male\",\"female\",\"male\",\"female\",\"male\",\"male\",\"male\",\"male\",\"male\",\"male\",\"male\",\"male\",\"female\",\"male\",\"female\",\"female\",\"female\",\"female\",\"female\",\"female\",\"male\",\"male\",\"male\",\"female\",\"male\",\"male\",\"male\",\"female\",\"male\",\"male\",\"male\",\"male\",\"male\",\"male\",\"female\",\"male\",\"male\",\"female\",\"female\",\"male\",\"male\",\"female\",\"male\",\"male\",\"female\",\"male\",\"male\",\"female\",\"female\",\"female\",\"female\",\"female\",\"female\",\"male\",\"male\",\"male\",\"female\",\"female\",\"female\",\"male\",\"male\",\"male\",\"male\",\"male\",\"male\",\"male\",\"male\",\"male\",\"male\",\"male\",\"female\",\"male\",\"female\",\"female\",\"male\",\"female\",\"male\",\"female\",\"female\",\"male\",\"male\",\"male\",\"male\",\"female\",\"male\",\"male\",\"female\",\"female\",\"female\",\"male\",\"male\",\"male\",\"male\",\"female\",\"male\",\"male\",\"male\",\"female\",\"male\",\"male\",\"female\",\"female\",\"male\",\"male\",\"male\",\"male\",\"male\",\"male\",\"male\",\"male\",\"male\",\"male\",\"male\",\"male\",\"male\",\"male\",\"female\",\"female\",\"male\",\"male\",\"male\",\"male\",\"male\",\"male\",\"male\",\"female\",\"male\",\"female\",\"male\",\"male\",\"male\",\"male\",\"female\",\"male\",\"female\",\"male\",\"male\",\"male\",\"female\",\"male\",\"male\",\"male\",\"male\",\"male\",\"male\",\"male\",\"female\",\"male\",\"female\",\"male\",\"male\",\"male\",\"female\",\"male\",\"female\",\"male\",\"male\",\"male\",\"male\",\"male\",\"female\",\"male\",\"male\",\"male\",\"male\",\"male\",\"male\",\"female\",\"female\",\"female\",\"male\",\"male\",\"male\",\"female\",\"male\",\"male\",\"male\",\"male\",\"male\",\"male\",\"male\",\"male\",\"female\",\"male\",\"male\",\"male\",\"male\",\"male\",\"female\",\"male\",\"male\",\"male\",\"male\",\"male\",\"female\",\"female\",\"male\",\"male\",\"male\",\"female\",\"male\",\"male\",\"male\",\"male\",\"male\",\"male\",\"female\",\"female\",\"male\",\"male\",\"male\",\"female\",\"male\",\"male\",\"male\",\"male\",\"female\",\"female\",\"male\",\"male\",\"female\",\"male\",\"male\",\"male\",\"male\",\"male\",\"male\",\"female\",\"female\",\"male\",\"male\",\"male\",\"female\",\"male\",\"male\",\"male\",\"male\",\"male\",\"female\",\"female\",\"male\",\"male\",\"male\",\"female\",\"male\",\"male\",\"female\",\"female\",\"female\",\"female\",\"male\",\"female\",\"female\",\"female\",\"female\",\"male\",\"male\",\"female\",\"male\",\"female\",\"male\",\"male\",\"male\",\"male\",\"female\",\"female\",\"male\",\"male\",\"male\",\"male\",\"male\",\"male\",\"male\",\"female\",\"male\",\"male\",\"male\",\"male\",\"male\",\"male\",\"male\",\"male\",\"female\",\"male\",\"male\",\"male\",\"female\",\"male\",\"female\",\"male\",\"female\",\"male\",\"male\",\"male\",\"female\",\"female\",\"male\",\"male\",\"male\",\"male\",\"male\",\"male\",\"male\",\"female\",\"male\",\"male\",\"male\",\"male\",\"male\",\"female\",\"female\",\"male\",\"male\",\"male\",\"male\",\"female\",\"male\",\"male\",\"male\",\"female\",\"male\",\"female\",\"male\",\"female\",\"female\",\"male\",\"female\",\"male\",\"male\",\"male\",\"female\",\"male\",\"male\",\"male\",\"female\",\"male\",\"male\",\"male\",\"male\",\"male\",\"male\",\"male\",\"female\",\"female\",\"female\",\"female\",\"male\",\"male\",\"female\",\"male\",\"male\",\"male\",\"male\",\"female\",\"female\",\"male\",\"female\",\"male\",\"male\",\"male\",\"male\",\"male\",\"female\",\"male\",\"male\",\"male\",\"female\",\"male\",\"male\",\"male\",\"female\",\"male\",\"male\",\"female\",\"male\",\"male\",\"male\",\"male\",\"female\",\"female\",\"male\",\"male\",\"male\",\"female\",\"male\",\"female\",\"male\",\"female\",\"female\",\"male\",\"female\",\"male\",\"female\",\"female\",\"female\",\"male\",\"male\",\"female\",\"female\",\"female\",\"female\",\"male\",\"male\",\"male\",\"male\",\"male\",\"male\",\"male\",\"female\",\"male\",\"male\",\"female\",\"male\",\"female\",\"male\",\"male\",\"male\",\"male\",\"male\",\"male\",\"male\",\"female\",\"female\",\"male\",\"female\",\"female\",\"male\",\"female\",\"female\",\"female\",\"male\",\"male\",\"female\",\"female\",\"male\",\"female\",\"male\",\"male\",\"male\",\"female\",\"male\",\"male\",\"female\",\"female\",\"male\",\"female\",\"female\",\"male\",\"male\",\"male\",\"male\",\"male\",\"female\",\"male\",\"male\",\"female\",\"male\",\"male\",\"male\",\"male\",\"female\",\"female\",\"female\",\"female\",\"male\",\"female\",\"male\",\"male\",\"male\",\"male\",\"female\",\"male\",\"male\",\"male\",\"female\",\"female\",\"male\",\"male\",\"female\",\"female\",\"male\",\"male\",\"female\",\"female\",\"female\",\"male\",\"male\",\"male\",\"male\",\"male\",\"female\",\"male\",\"male\",\"male\",\"male\",\"male\",\"female\",\"female\",\"male\",\"male\",\"male\",\"male\",\"male\",\"male\",\"male\",\"male\",\"female\",\"female\",\"female\",\"male\",\"female\",\"male\",\"male\",\"male\",\"female\",\"male\",\"male\",\"male\",\"male\",\"male\",\"female\",\"male\",\"male\",\"male\",\"male\",\"male\",\"male\",\"male\",\"male\",\"male\",\"female\",\"female\",\"male\",\"female\",\"male\",\"female\",\"male\",\"female\",\"male\",\"male\",\"female\",\"male\",\"female\",\"female\",\"male\",\"male\",\"male\",\"male\",\"male\",\"male\",\"male\",\"male\",\"male\",\"male\",\"male\",\"male\",\"female\",\"female\",\"female\",\"female\",\"male\",\"male\",\"male\",\"male\",\"female\",\"male\",\"female\",\"male\",\"male\",\"male\",\"male\",\"female\",\"female\",\"female\",\"male\",\"male\",\"male\",\"male\",\"male\",\"male\",\"male\",\"male\",\"female\",\"male\",\"male\",\"male\",\"male\",\"male\",\"male\",\"female\",\"male\",\"male\",\"female\",\"female\",\"male\",\"female\",\"male\",\"male\",\"male\",\"male\",\"female\",\"male\",\"male\",\"male\",\"male\",\"male\",\"male\",\"female\",\"male\",\"male\",\"female\",\"male\",\"male\",\"female\",\"female\",\"male\",\"male\",\"male\",\"male\",\"male\",\"male\",\"male\",\"male\",\"male\",\"male\",\"male\",\"female\",\"male\",\"male\",\"female\",\"male\",\"male\",\"male\",\"male\",\"male\",\"male\",\"male\",\"male\",\"male\",\"female\",\"female\",\"male\",\"female\",\"male\",\"male\",\"male\",\"female\",\"male\",\"female\",\"male\",\"male\",\"male\",\"male\",\"male\",\"female\",\"male\",\"male\",\"female\",\"male\",\"male\",\"female\",\"male\",\"male\",\"male\",\"male\",\"male\",\"male\",\"female\",\"male\",\"male\",\"female\",\"male\",\"male\",\"male\",\"male\",\"male\",\"male\",\"male\",\"male\",\"male\",\"female\",\"male\",\"male\",\"male\",\"female\",\"female\",\"male\",\"male\",\"male\"],\"marker\":{\"colors\":[\"blue\",\"red\"]},\"name\":\"Passengers Under 50\",\"type\":\"pie\",\"domain\":{\"x\":[0.55,1.0],\"y\":[0.575,1.0]}},{\"hole\":0.4,\"hoverinfo\":\"label+percent+name+value\",\"labels\":[\"female\",\"female\",\"male\",\"female\",\"female\",\"female\",\"female\",\"female\",\"female\",\"female\",\"female\",\"female\",\"male\",\"male\",\"female\",\"female\",\"female\",\"male\",\"male\",\"female\",\"female\",\"female\",\"female\",\"female\",\"female\",\"male\",\"female\",\"female\",\"male\",\"male\",\"female\",\"female\",\"female\",\"female\",\"male\",\"female\",\"female\",\"female\"],\"marker\":{\"colors\":[\"blue\",\"red\"]},\"name\":\"50+ Survived\",\"type\":\"pie\",\"domain\":{\"x\":[0.0,0.45],\"y\":[0.0,0.425]}},{\"hole\":0.4,\"hoverinfo\":\"label+percent+name+value\",\"labels\":[\"male\",\"male\",\"male\",\"male\",\"male\",\"male\",\"male\",\"male\",\"male\",\"male\",\"male\",\"male\",\"male\",\"male\",\"male\",\"male\",\"male\",\"male\",\"male\",\"male\",\"female\",\"male\",\"male\",\"male\",\"male\",\"male\",\"male\",\"male\",\"male\",\"male\",\"male\",\"male\",\"male\",\"male\",\"male\",\"male\",\"male\",\"male\",\"female\",\"male\",\"male\",\"female\",\"male\",\"male\",\"male\",\"male\",\"male\",\"male\",\"male\",\"male\",\"male\",\"male\",\"male\",\"male\",\"male\",\"male\",\"male\"],\"marker\":{\"colors\":[\"red\",\"blue\"]},\"name\":\"50+ Deceased\",\"type\":\"pie\",\"domain\":{\"x\":[0.55,1.0],\"y\":[0.0,0.425]}}],                        {\"template\":{\"data\":{\"histogram2dcontour\":[{\"type\":\"histogram2dcontour\",\"colorbar\":{\"outlinewidth\":0,\"ticks\":\"\"},\"colorscale\":[[0.0,\"#0d0887\"],[0.1111111111111111,\"#46039f\"],[0.2222222222222222,\"#7201a8\"],[0.3333333333333333,\"#9c179e\"],[0.4444444444444444,\"#bd3786\"],[0.5555555555555556,\"#d8576b\"],[0.6666666666666666,\"#ed7953\"],[0.7777777777777778,\"#fb9f3a\"],[0.8888888888888888,\"#fdca26\"],[1.0,\"#f0f921\"]]}],\"choropleth\":[{\"type\":\"choropleth\",\"colorbar\":{\"outlinewidth\":0,\"ticks\":\"\"}}],\"histogram2d\":[{\"type\":\"histogram2d\",\"colorbar\":{\"outlinewidth\":0,\"ticks\":\"\"},\"colorscale\":[[0.0,\"#0d0887\"],[0.1111111111111111,\"#46039f\"],[0.2222222222222222,\"#7201a8\"],[0.3333333333333333,\"#9c179e\"],[0.4444444444444444,\"#bd3786\"],[0.5555555555555556,\"#d8576b\"],[0.6666666666666666,\"#ed7953\"],[0.7777777777777778,\"#fb9f3a\"],[0.8888888888888888,\"#fdca26\"],[1.0,\"#f0f921\"]]}],\"heatmap\":[{\"type\":\"heatmap\",\"colorbar\":{\"outlinewidth\":0,\"ticks\":\"\"},\"colorscale\":[[0.0,\"#0d0887\"],[0.1111111111111111,\"#46039f\"],[0.2222222222222222,\"#7201a8\"],[0.3333333333333333,\"#9c179e\"],[0.4444444444444444,\"#bd3786\"],[0.5555555555555556,\"#d8576b\"],[0.6666666666666666,\"#ed7953\"],[0.7777777777777778,\"#fb9f3a\"],[0.8888888888888888,\"#fdca26\"],[1.0,\"#f0f921\"]]}],\"heatmapgl\":[{\"type\":\"heatmapgl\",\"colorbar\":{\"outlinewidth\":0,\"ticks\":\"\"},\"colorscale\":[[0.0,\"#0d0887\"],[0.1111111111111111,\"#46039f\"],[0.2222222222222222,\"#7201a8\"],[0.3333333333333333,\"#9c179e\"],[0.4444444444444444,\"#bd3786\"],[0.5555555555555556,\"#d8576b\"],[0.6666666666666666,\"#ed7953\"],[0.7777777777777778,\"#fb9f3a\"],[0.8888888888888888,\"#fdca26\"],[1.0,\"#f0f921\"]]}],\"contourcarpet\":[{\"type\":\"contourcarpet\",\"colorbar\":{\"outlinewidth\":0,\"ticks\":\"\"}}],\"contour\":[{\"type\":\"contour\",\"colorbar\":{\"outlinewidth\":0,\"ticks\":\"\"},\"colorscale\":[[0.0,\"#0d0887\"],[0.1111111111111111,\"#46039f\"],[0.2222222222222222,\"#7201a8\"],[0.3333333333333333,\"#9c179e\"],[0.4444444444444444,\"#bd3786\"],[0.5555555555555556,\"#d8576b\"],[0.6666666666666666,\"#ed7953\"],[0.7777777777777778,\"#fb9f3a\"],[0.8888888888888888,\"#fdca26\"],[1.0,\"#f0f921\"]]}],\"surface\":[{\"type\":\"surface\",\"colorbar\":{\"outlinewidth\":0,\"ticks\":\"\"},\"colorscale\":[[0.0,\"#0d0887\"],[0.1111111111111111,\"#46039f\"],[0.2222222222222222,\"#7201a8\"],[0.3333333333333333,\"#9c179e\"],[0.4444444444444444,\"#bd3786\"],[0.5555555555555556,\"#d8576b\"],[0.6666666666666666,\"#ed7953\"],[0.7777777777777778,\"#fb9f3a\"],[0.8888888888888888,\"#fdca26\"],[1.0,\"#f0f921\"]]}],\"mesh3d\":[{\"type\":\"mesh3d\",\"colorbar\":{\"outlinewidth\":0,\"ticks\":\"\"}}],\"scatter\":[{\"fillpattern\":{\"fillmode\":\"overlay\",\"size\":10,\"solidity\":0.2},\"type\":\"scatter\"}],\"parcoords\":[{\"type\":\"parcoords\",\"line\":{\"colorbar\":{\"outlinewidth\":0,\"ticks\":\"\"}}}],\"scatterpolargl\":[{\"type\":\"scatterpolargl\",\"marker\":{\"colorbar\":{\"outlinewidth\":0,\"ticks\":\"\"}}}],\"bar\":[{\"error_x\":{\"color\":\"#2a3f5f\"},\"error_y\":{\"color\":\"#2a3f5f\"},\"marker\":{\"line\":{\"color\":\"#E5ECF6\",\"width\":0.5},\"pattern\":{\"fillmode\":\"overlay\",\"size\":10,\"solidity\":0.2}},\"type\":\"bar\"}],\"scattergeo\":[{\"type\":\"scattergeo\",\"marker\":{\"colorbar\":{\"outlinewidth\":0,\"ticks\":\"\"}}}],\"scatterpolar\":[{\"type\":\"scatterpolar\",\"marker\":{\"colorbar\":{\"outlinewidth\":0,\"ticks\":\"\"}}}],\"histogram\":[{\"marker\":{\"pattern\":{\"fillmode\":\"overlay\",\"size\":10,\"solidity\":0.2}},\"type\":\"histogram\"}],\"scattergl\":[{\"type\":\"scattergl\",\"marker\":{\"colorbar\":{\"outlinewidth\":0,\"ticks\":\"\"}}}],\"scatter3d\":[{\"type\":\"scatter3d\",\"line\":{\"colorbar\":{\"outlinewidth\":0,\"ticks\":\"\"}},\"marker\":{\"colorbar\":{\"outlinewidth\":0,\"ticks\":\"\"}}}],\"scattermapbox\":[{\"type\":\"scattermapbox\",\"marker\":{\"colorbar\":{\"outlinewidth\":0,\"ticks\":\"\"}}}],\"scatterternary\":[{\"type\":\"scatterternary\",\"marker\":{\"colorbar\":{\"outlinewidth\":0,\"ticks\":\"\"}}}],\"scattercarpet\":[{\"type\":\"scattercarpet\",\"marker\":{\"colorbar\":{\"outlinewidth\":0,\"ticks\":\"\"}}}],\"carpet\":[{\"aaxis\":{\"endlinecolor\":\"#2a3f5f\",\"gridcolor\":\"white\",\"linecolor\":\"white\",\"minorgridcolor\":\"white\",\"startlinecolor\":\"#2a3f5f\"},\"baxis\":{\"endlinecolor\":\"#2a3f5f\",\"gridcolor\":\"white\",\"linecolor\":\"white\",\"minorgridcolor\":\"white\",\"startlinecolor\":\"#2a3f5f\"},\"type\":\"carpet\"}],\"table\":[{\"cells\":{\"fill\":{\"color\":\"#EBF0F8\"},\"line\":{\"color\":\"white\"}},\"header\":{\"fill\":{\"color\":\"#C8D4E3\"},\"line\":{\"color\":\"white\"}},\"type\":\"table\"}],\"barpolar\":[{\"marker\":{\"line\":{\"color\":\"#E5ECF6\",\"width\":0.5},\"pattern\":{\"fillmode\":\"overlay\",\"size\":10,\"solidity\":0.2}},\"type\":\"barpolar\"}],\"pie\":[{\"automargin\":true,\"type\":\"pie\"}]},\"layout\":{\"autotypenumbers\":\"strict\",\"colorway\":[\"#636efa\",\"#EF553B\",\"#00cc96\",\"#ab63fa\",\"#FFA15A\",\"#19d3f3\",\"#FF6692\",\"#B6E880\",\"#FF97FF\",\"#FECB52\"],\"font\":{\"color\":\"#2a3f5f\"},\"hovermode\":\"closest\",\"hoverlabel\":{\"align\":\"left\"},\"paper_bgcolor\":\"white\",\"plot_bgcolor\":\"#E5ECF6\",\"polar\":{\"bgcolor\":\"#E5ECF6\",\"angularaxis\":{\"gridcolor\":\"white\",\"linecolor\":\"white\",\"ticks\":\"\"},\"radialaxis\":{\"gridcolor\":\"white\",\"linecolor\":\"white\",\"ticks\":\"\"}},\"ternary\":{\"bgcolor\":\"#E5ECF6\",\"aaxis\":{\"gridcolor\":\"white\",\"linecolor\":\"white\",\"ticks\":\"\"},\"baxis\":{\"gridcolor\":\"white\",\"linecolor\":\"white\",\"ticks\":\"\"},\"caxis\":{\"gridcolor\":\"white\",\"linecolor\":\"white\",\"ticks\":\"\"}},\"coloraxis\":{\"colorbar\":{\"outlinewidth\":0,\"ticks\":\"\"}},\"colorscale\":{\"sequential\":[[0.0,\"#0d0887\"],[0.1111111111111111,\"#46039f\"],[0.2222222222222222,\"#7201a8\"],[0.3333333333333333,\"#9c179e\"],[0.4444444444444444,\"#bd3786\"],[0.5555555555555556,\"#d8576b\"],[0.6666666666666666,\"#ed7953\"],[0.7777777777777778,\"#fb9f3a\"],[0.8888888888888888,\"#fdca26\"],[1.0,\"#f0f921\"]],\"sequentialminus\":[[0.0,\"#0d0887\"],[0.1111111111111111,\"#46039f\"],[0.2222222222222222,\"#7201a8\"],[0.3333333333333333,\"#9c179e\"],[0.4444444444444444,\"#bd3786\"],[0.5555555555555556,\"#d8576b\"],[0.6666666666666666,\"#ed7953\"],[0.7777777777777778,\"#fb9f3a\"],[0.8888888888888888,\"#fdca26\"],[1.0,\"#f0f921\"]],\"diverging\":[[0,\"#8e0152\"],[0.1,\"#c51b7d\"],[0.2,\"#de77ae\"],[0.3,\"#f1b6da\"],[0.4,\"#fde0ef\"],[0.5,\"#f7f7f7\"],[0.6,\"#e6f5d0\"],[0.7,\"#b8e186\"],[0.8,\"#7fbc41\"],[0.9,\"#4d9221\"],[1,\"#276419\"]]},\"xaxis\":{\"gridcolor\":\"white\",\"linecolor\":\"white\",\"ticks\":\"\",\"title\":{\"standoff\":15},\"zerolinecolor\":\"white\",\"automargin\":true,\"zerolinewidth\":2},\"yaxis\":{\"gridcolor\":\"white\",\"linecolor\":\"white\",\"ticks\":\"\",\"title\":{\"standoff\":15},\"zerolinecolor\":\"white\",\"automargin\":true,\"zerolinewidth\":2},\"scene\":{\"xaxis\":{\"backgroundcolor\":\"#E5ECF6\",\"gridcolor\":\"white\",\"linecolor\":\"white\",\"showbackground\":true,\"ticks\":\"\",\"zerolinecolor\":\"white\",\"gridwidth\":2},\"yaxis\":{\"backgroundcolor\":\"#E5ECF6\",\"gridcolor\":\"white\",\"linecolor\":\"white\",\"showbackground\":true,\"ticks\":\"\",\"zerolinecolor\":\"white\",\"gridwidth\":2},\"zaxis\":{\"backgroundcolor\":\"#E5ECF6\",\"gridcolor\":\"white\",\"linecolor\":\"white\",\"showbackground\":true,\"ticks\":\"\",\"zerolinecolor\":\"white\",\"gridwidth\":2}},\"shapedefaults\":{\"line\":{\"color\":\"#2a3f5f\"}},\"annotationdefaults\":{\"arrowcolor\":\"#2a3f5f\",\"arrowhead\":0,\"arrowwidth\":1},\"geo\":{\"bgcolor\":\"white\",\"landcolor\":\"#E5ECF6\",\"subunitcolor\":\"white\",\"showland\":true,\"showlakes\":true,\"lakecolor\":\"white\"},\"title\":{\"x\":0.05},\"mapbox\":{\"style\":\"light\"}}},\"title\":{\"text\":\"Passengers 50+ on Titanic by Sex\"},\"hoverlabel\":{\"font\":{\"family\":\"Arial\",\"size\":14,\"color\":\"white\"}},\"paper_bgcolor\":\"#bcbcbc\",\"annotations\":[{\"showarrow\":false,\"text\":\"Passengers 50+\",\"x\":0.16,\"y\":0.51,\"font\":{\"size\":13}},{\"showarrow\":false,\"text\":\"Passengers Under 50\",\"x\":0.87,\"y\":0.51,\"font\":{\"size\":13}},{\"showarrow\":false,\"text\":\"Passengers 50+ that Survived\",\"x\":0.09,\"y\":-0.09,\"font\":{\"size\":13}},{\"showarrow\":false,\"text\":\"Passengers 50+ that did not Survive\",\"x\":0.95,\"y\":-0.09,\"font\":{\"size\":13}}]},                        {\"responsive\": true}                    ).then(function(){\n",
       "                            \n",
       "var gd = document.getElementById('6adab617-874e-42f7-a365-5962d6059d15');\n",
       "var x = new MutationObserver(function (mutations, observer) {{\n",
       "        var display = window.getComputedStyle(gd).display;\n",
       "        if (!display || display === 'none') {{\n",
       "            console.log([gd, 'removed!']);\n",
       "            Plotly.purge(gd);\n",
       "            observer.disconnect();\n",
       "        }}\n",
       "}});\n",
       "\n",
       "// Listen for the removal of the full notebook cells\n",
       "var notebookContainer = gd.closest('#notebook-container');\n",
       "if (notebookContainer) {{\n",
       "    x.observe(notebookContainer, {childList: true});\n",
       "}}\n",
       "\n",
       "// Listen for the clearing of the current output cell\n",
       "var outputEl = gd.closest('.output');\n",
       "if (outputEl) {{\n",
       "    x.observe(outputEl, {childList: true});\n",
       "}}\n",
       "\n",
       "                        })                };                });            </script>        </div>"
      ]
     },
     "metadata": {},
     "output_type": "display_data"
    }
   ],
   "source": [
    "#Question 3\n",
    "#What were percent of males vs. females over the age of 49 (50+) were on the survivedStatus, sex, 50plus Under 50 50+\n",
    "#Titanic during the incident and what was their % fate?\n",
    "\n",
    "colors = ['blue', 'red']\n",
    "font_style = dict(family=\"Arial\", size=14, color=\"black\")\n",
    "\n",
    "specs = [[{'type':'domain'}, {'type':'domain'}], [{'type':'domain'}, {'type':'domain'}]]\n",
    "fig50 = make_subplots(rows=2, cols=2, specs=specs)\n",
    "fig50.add_trace(go.Pie(labels=df['sex'][df['50plus']=='50+'], hole=.4,\n",
    "                     hoverinfo=\"label+percent+name+value\", name='Passengers 50+', marker=dict(colors=colors)), 1, 1)\n",
    "fig50.add_trace(go.Pie(labels=df['sex'][df['50plus']=='Under 50'], hole=.4\n",
    "                     ,hoverinfo=\"label+percent+name+value\", name='Passengers Under 50', marker=dict(colors=colors)), 1, 2)\n",
    "fig50.add_trace(go.Pie(labels=df['sex'][df['survivedStatus']=='Survived'][df['50plus']=='50+'], hole=.4,\n",
    "                     hoverinfo=\"label+percent+name+value\", name='50+ Survived', marker=dict(colors=colors)), 2, 1)\n",
    "fig50.add_trace(go.Pie(labels=df['sex'][df['survivedStatus']=='Not Survived'][df['50plus']=='50+'], hole=.4,\n",
    "                     hoverinfo=\"label+percent+name+value\", name='50+ Deceased', marker=dict(colors=['red', 'blue'])), 2, 2)\n",
    "fig50.update_layout(title_text=\"Passengers 50+ on Titanic by Sex\",\n",
    "                             paper_bgcolor=\"#bcbcbc\", hoverlabel=dict(font=dict(family=\"Arial\", size=14, color=\"white\")),\n",
    "                 annotations=[dict(text='Passengers 50+', x=0.16, y=.51, font_size=13, showarrow=False),\n",
    "                              dict(text='Passengers Under 50', x=0.87, y=.51, font_size=13, showarrow=False),\n",
    "                             dict(text='Passengers 50+ that Survived', x=.09, y=-0.09, font_size=13, showarrow=False),\n",
    "                             dict(text='Passengers 50+ that did not Survive', x=.95, y=-.09, font_size=13, showarrow=False)])\n",
    "fig50.show()"
   ]
  },
  {
   "cell_type": "code",
   "execution_count": 100,
   "id": "b581eb8c",
   "metadata": {},
   "outputs": [
    {
     "data": {
      "application/vnd.plotly.v1+json": {
       "config": {
        "plotlyServerURL": "https://plot.ly"
       },
       "data": [
        {
         "domain": {
          "x": [
           0,
           0.2888888888888889
          ],
          "y": [
           0,
           1
          ]
         },
         "hole": 0.4,
         "hoverinfo": "label+percent+name+value",
         "labels": [
          "Survived",
          "Survived",
          "Not Survived",
          "Not Survived",
          "Not Survived",
          "Survived",
          "Survived",
          "Not Survived",
          "Survived",
          "Survived",
          "Survived",
          "Not Survived",
          "Survived",
          "Survived",
          "Survived",
          "Survived",
          "Survived",
          "Not Survived",
          "Survived",
          "Survived",
          "Not Survived",
          "Survived",
          "Survived",
          "Not Survived",
          "Survived",
          "Not Survived",
          "Not Survived",
          "Survived",
          "Not Survived",
          "Not Survived",
          "Not Survived",
          "Survived",
          "Survived",
          "Survived",
          "Survived",
          "Not Survived",
          "Not Survived",
          "Survived",
          "Not Survived",
          "Survived",
          "Survived",
          "Survived",
          "Survived",
          "Survived",
          "Not Survived",
          "Survived",
          "Not Survived",
          "Not Survived",
          "Survived",
          "Not Survived",
          "Not Survived",
          "Survived",
          "Survived",
          "Survived",
          "Survived",
          "Survived",
          "Not Survived",
          "Survived",
          "Survived",
          "Survived",
          "Survived",
          "Survived",
          "Survived",
          "Not Survived",
          "Survived",
          "Survived",
          "Survived",
          "Survived",
          "Survived",
          "Not Survived",
          "Not Survived",
          "Survived",
          "Not Survived",
          "Survived",
          "Survived",
          "Not Survived",
          "Not Survived",
          "Survived",
          "Not Survived",
          "Survived",
          "Not Survived",
          "Survived",
          "Not Survived",
          "Not Survived",
          "Survived",
          "Not Survived",
          "Survived",
          "Not Survived",
          "Survived",
          "Not Survived",
          "Not Survived",
          "Not Survived",
          "Survived",
          "Not Survived",
          "Survived",
          "Survived",
          "Survived",
          "Survived",
          "Not Survived",
          "Not Survived",
          "Not Survived",
          "Survived",
          "Survived",
          "Survived",
          "Not Survived",
          "Survived",
          "Survived",
          "Not Survived",
          "Survived",
          "Survived",
          "Not Survived",
          "Survived",
          "Not Survived",
          "Survived",
          "Not Survived",
          "Survived",
          "Not Survived",
          "Survived",
          "Not Survived",
          "Survived",
          "Not Survived",
          "Not Survived",
          "Not Survived",
          "Survived",
          "Not Survived",
          "Not Survived",
          "Not Survived",
          "Not Survived",
          "Not Survived",
          "Survived",
          "Survived",
          "Survived",
          "Not Survived",
          "Not Survived",
          "Survived",
          "Survived",
          "Not Survived",
          "Survived",
          "Not Survived",
          "Survived",
          "Not Survived",
          "Survived",
          "Survived",
          "Survived",
          "Survived",
          "Survived",
          "Not Survived",
          "Survived",
          "Survived",
          "Not Survived",
          "Not Survived",
          "Not Survived",
          "Survived",
          "Survived",
          "Survived",
          "Not Survived",
          "Not Survived",
          "Not Survived",
          "Not Survived",
          "Survived",
          "Survived",
          "Not Survived",
          "Survived",
          "Survived",
          "Survived",
          "Not Survived",
          "Not Survived",
          "Not Survived",
          "Not Survived",
          "Not Survived",
          "Survived",
          "Not Survived",
          "Survived",
          "Survived",
          "Not Survived",
          "Survived",
          "Not Survived",
          "Not Survived",
          "Not Survived",
          "Not Survived",
          "Not Survived",
          "Survived",
          "Not Survived",
          "Not Survived",
          "Not Survived",
          "Survived",
          "Not Survived",
          "Not Survived",
          "Survived",
          "Survived",
          "Not Survived",
          "Survived",
          "Survived",
          "Survived",
          "Survived",
          "Survived",
          "Survived",
          "Not Survived",
          "Not Survived",
          "Not Survived",
          "Not Survived",
          "Survived",
          "Survived",
          "Not Survived",
          "Survived",
          "Survived",
          "Not Survived",
          "Survived",
          "Not Survived",
          "Not Survived",
          "Survived",
          "Survived",
          "Survived",
          "Survived",
          "Survived",
          "Not Survived",
          "Not Survived",
          "Not Survived",
          "Not Survived",
          "Not Survived",
          "Not Survived",
          "Not Survived",
          "Survived",
          "Survived",
          "Not Survived",
          "Survived",
          "Not Survived",
          "Not Survived",
          "Survived",
          "Survived",
          "Not Survived",
          "Survived",
          "Survived",
          "Not Survived",
          "Not Survived",
          "Not Survived",
          "Not Survived",
          "Survived",
          "Not Survived",
          "Survived",
          "Survived",
          "Not Survived",
          "Not Survived",
          "Not Survived",
          "Not Survived",
          "Survived",
          "Survived",
          "Not Survived",
          "Survived",
          "Not Survived",
          "Survived",
          "Not Survived",
          "Not Survived",
          "Not Survived",
          "Not Survived",
          "Survived",
          "Not Survived",
          "Not Survived",
          "Not Survived",
          "Not Survived",
          "Not Survived",
          "Not Survived",
          "Not Survived",
          "Survived",
          "Not Survived",
          "Not Survived",
          "Not Survived",
          "Not Survived",
          "Not Survived",
          "Not Survived",
          "Not Survived",
          "Not Survived",
          "Not Survived",
          "Not Survived",
          "Not Survived",
          "Survived",
          "Survived",
          "Not Survived",
          "Survived",
          "Not Survived",
          "Survived",
          "Not Survived",
          "Survived",
          "Not Survived",
          "Survived",
          "Survived",
          "Survived",
          "Not Survived",
          "Survived",
          "Survived",
          "Not Survived",
          "Not Survived",
          "Not Survived",
          "Not Survived",
          "Survived",
          "Not Survived",
          "Not Survived",
          "Survived",
          "Not Survived",
          "Not Survived",
          "Survived",
          "Not Survived",
          "Survived",
          "Not Survived",
          "Not Survived",
          "Not Survived",
          "Survived",
          "Not Survived",
          "Survived",
          "Not Survived",
          "Not Survived",
          "Not Survived",
          "Not Survived",
          "Not Survived",
          "Survived",
          "Not Survived",
          "Survived",
          "Not Survived",
          "Not Survived",
          "Not Survived",
          "Not Survived",
          "Survived",
          "Survived",
          "Not Survived",
          "Not Survived",
          "Survived",
          "Not Survived",
          "Not Survived",
          "Not Survived",
          "Not Survived",
          "Not Survived",
          "Not Survived",
          "Survived",
          "Survived",
          "Survived",
          "Not Survived",
          "Not Survived",
          "Not Survived",
          "Not Survived",
          "Not Survived",
          "Not Survived",
          "Not Survived",
          "Survived",
          "Survived",
          "Not Survived",
          "Not Survived",
          "Not Survived",
          "Not Survived",
          "Survived",
          "Not Survived",
          "Survived",
          "Not Survived",
          "Not Survived",
          "Not Survived",
          "Survived",
          "Not Survived",
          "Not Survived",
          "Survived",
          "Survived",
          "Not Survived",
          "Survived",
          "Not Survived",
          "Survived",
          "Survived",
          "Survived",
          "Not Survived",
          "Not Survived",
          "Survived",
          "Survived",
          "Survived",
          "Survived",
          "Survived",
          "Survived",
          "Not Survived",
          "Survived",
          "Not Survived",
          "Not Survived",
          "Not Survived",
          "Survived",
          "Survived",
          "Survived",
          "Survived",
          "Not Survived",
          "Not Survived",
          "Survived",
          "Not Survived",
          "Not Survived",
          "Not Survived",
          "Not Survived",
          "Survived",
          "Not Survived",
          "Survived",
          "Survived",
          "Not Survived",
          "Not Survived",
          "Not Survived",
          "Survived",
          "Not Survived",
          "Not Survived",
          "Survived",
          "Not Survived",
          "Survived",
          "Survived",
          "Survived",
          "Not Survived",
          "Survived",
          "Survived",
          "Survived",
          "Survived",
          "Survived",
          "Survived",
          "Not Survived",
          "Survived",
          "Not Survived",
          "Not Survived",
          "Survived",
          "Survived",
          "Survived",
          "Not Survived",
          "Not Survived",
          "Not Survived",
          "Not Survived",
          "Survived",
          "Survived",
          "Survived",
          "Survived",
          "Not Survived",
          "Not Survived",
          "Not Survived",
          "Survived",
          "Survived",
          "Not Survived",
          "Not Survived",
          "Not Survived",
          "Not Survived",
          "Not Survived",
          "Not Survived",
          "Not Survived",
          "Survived",
          "Not Survived",
          "Not Survived",
          "Not Survived",
          "Survived",
          "Not Survived",
          "Not Survived",
          "Not Survived",
          "Not Survived",
          "Survived",
          "Not Survived",
          "Not Survived",
          "Not Survived",
          "Not Survived",
          "Not Survived",
          "Not Survived",
          "Not Survived",
          "Not Survived",
          "Not Survived",
          "Not Survived",
          "Survived",
          "Not Survived",
          "Survived",
          "Not Survived",
          "Survived",
          "Survived",
          "Not Survived",
          "Not Survived",
          "Not Survived",
          "Survived",
          "Survived",
          "Not Survived",
          "Not Survived",
          "Not Survived",
          "Not Survived",
          "Not Survived",
          "Survived",
          "Not Survived",
          "Not Survived",
          "Not Survived",
          "Not Survived",
          "Not Survived",
          "Not Survived",
          "Not Survived",
          "Not Survived",
          "Not Survived",
          "Not Survived",
          "Not Survived",
          "Not Survived",
          "Not Survived",
          "Not Survived",
          "Not Survived",
          "Not Survived",
          "Not Survived",
          "Not Survived",
          "Not Survived",
          "Not Survived",
          "Survived",
          "Not Survived",
          "Not Survived",
          "Survived",
          "Not Survived",
          "Not Survived",
          "Not Survived",
          "Not Survived",
          "Not Survived",
          "Not Survived",
          "Not Survived",
          "Survived",
          "Survived",
          "Survived",
          "Not Survived",
          "Not Survived",
          "Survived",
          "Not Survived",
          "Not Survived",
          "Survived",
          "Not Survived",
          "Not Survived",
          "Not Survived",
          "Not Survived",
          "Not Survived",
          "Not Survived",
          "Not Survived",
          "Not Survived",
          "Not Survived",
          "Not Survived",
          "Not Survived",
          "Not Survived",
          "Survived",
          "Survived",
          "Survived",
          "Survived",
          "Not Survived",
          "Survived",
          "Survived",
          "Not Survived",
          "Survived",
          "Not Survived",
          "Not Survived",
          "Not Survived",
          "Not Survived",
          "Not Survived",
          "Not Survived",
          "Not Survived",
          "Not Survived",
          "Survived",
          "Survived",
          "Survived",
          "Survived",
          "Not Survived",
          "Survived",
          "Not Survived",
          "Not Survived",
          "Not Survived",
          "Not Survived",
          "Survived",
          "Not Survived",
          "Survived",
          "Not Survived",
          "Survived",
          "Not Survived",
          "Not Survived",
          "Not Survived",
          "Not Survived",
          "Not Survived",
          "Not Survived",
          "Not Survived",
          "Not Survived",
          "Not Survived",
          "Survived",
          "Not Survived",
          "Not Survived",
          "Survived",
          "Not Survived",
          "Not Survived",
          "Not Survived",
          "Not Survived",
          "Not Survived",
          "Not Survived",
          "Not Survived",
          "Not Survived",
          "Not Survived",
          "Not Survived",
          "Not Survived",
          "Not Survived",
          "Not Survived",
          "Not Survived",
          "Not Survived",
          "Not Survived",
          "Not Survived",
          "Not Survived",
          "Not Survived",
          "Not Survived",
          "Survived",
          "Not Survived",
          "Not Survived",
          "Not Survived",
          "Not Survived",
          "Survived",
          "Not Survived",
          "Not Survived",
          "Survived",
          "Survived",
          "Survived",
          "Not Survived",
          "Survived",
          "Not Survived",
          "Not Survived",
          "Survived",
          "Survived",
          "Not Survived",
          "Not Survived",
          "Survived",
          "Survived",
          "Not Survived",
          "Survived",
          "Not Survived",
          "Not Survived",
          "Not Survived",
          "Not Survived",
          "Survived",
          "Not Survived",
          "Not Survived",
          "Not Survived",
          "Not Survived",
          "Survived",
          "Not Survived",
          "Survived",
          "Not Survived",
          "Not Survived",
          "Not Survived",
          "Not Survived",
          "Survived",
          "Survived",
          "Not Survived",
          "Not Survived",
          "Not Survived",
          "Survived",
          "Not Survived",
          "Not Survived",
          "Not Survived",
          "Not Survived",
          "Not Survived",
          "Survived",
          "Not Survived",
          "Not Survived",
          "Not Survived",
          "Survived",
          "Not Survived",
          "Not Survived",
          "Not Survived",
          "Survived",
          "Not Survived",
          "Not Survived",
          "Not Survived",
          "Not Survived",
          "Not Survived",
          "Not Survived",
          "Survived",
          "Survived",
          "Survived",
          "Not Survived",
          "Not Survived",
          "Not Survived",
          "Not Survived",
          "Not Survived",
          "Survived",
          "Not Survived",
          "Survived",
          "Survived",
          "Not Survived",
          "Not Survived",
          "Not Survived",
          "Not Survived",
          "Not Survived",
          "Not Survived",
          "Not Survived",
          "Not Survived",
          "Not Survived",
          "Not Survived",
          "Not Survived",
          "Not Survived",
          "Not Survived",
          "Not Survived",
          "Not Survived",
          "Not Survived",
          "Survived",
          "Not Survived",
          "Not Survived",
          "Not Survived",
          "Not Survived",
          "Not Survived",
          "Not Survived",
          "Survived",
          "Not Survived",
          "Survived",
          "Survived",
          "Not Survived",
          "Not Survived",
          "Survived",
          "Not Survived",
          "Not Survived",
          "Not Survived",
          "Not Survived",
          "Not Survived",
          "Not Survived",
          "Not Survived",
          "Not Survived",
          "Not Survived",
          "Survived",
          "Not Survived",
          "Not Survived",
          "Not Survived",
          "Not Survived",
          "Not Survived",
          "Not Survived",
          "Survived",
          "Survived",
          "Not Survived",
          "Not Survived",
          "Survived",
          "Not Survived",
          "Not Survived",
          "Not Survived",
          "Not Survived",
          "Not Survived",
          "Not Survived",
          "Not Survived",
          "Not Survived",
          "Not Survived",
          "Survived",
          "Survived",
          "Not Survived",
          "Not Survived",
          "Survived",
          "Not Survived",
          "Survived",
          "Not Survived",
          "Not Survived",
          "Survived",
          "Survived",
          "Not Survived",
          "Not Survived",
          "Not Survived",
          "Not Survived",
          "Not Survived",
          "Survived",
          "Not Survived",
          "Not Survived",
          "Not Survived",
          "Not Survived",
          "Not Survived",
          "Survived",
          "Not Survived",
          "Not Survived",
          "Not Survived",
          "Not Survived",
          "Not Survived",
          "Not Survived",
          "Not Survived",
          "Not Survived",
          "Not Survived",
          "Not Survived",
          "Not Survived",
          "Not Survived",
          "Not Survived",
          "Not Survived",
          "Not Survived",
          "Not Survived",
          "Not Survived",
          "Not Survived",
          "Not Survived",
          "Not Survived",
          "Not Survived",
          "Not Survived",
          "Not Survived",
          "Survived",
          "Not Survived",
          "Not Survived",
          "Not Survived",
          "Not Survived",
          "Not Survived",
          "Not Survived",
          "Survived",
          "Not Survived",
          "Not Survived",
          "Not Survived",
          "Not Survived",
          "Not Survived",
          "Not Survived",
          "Not Survived",
          "Not Survived",
          "Not Survived",
          "Not Survived",
          "Not Survived",
          "Not Survived",
          "Not Survived",
          "Not Survived",
          "Not Survived",
          "Not Survived",
          "Not Survived",
          "Not Survived",
          "Not Survived",
          "Survived",
          "Not Survived",
          "Not Survived",
          "Not Survived",
          "Not Survived",
          "Not Survived",
          "Not Survived",
          "Not Survived",
          "Not Survived",
          "Not Survived",
          "Not Survived",
          "Not Survived",
          "Not Survived",
          "Not Survived",
          "Not Survived",
          "Not Survived",
          "Not Survived",
          "Survived",
          "Not Survived",
          "Survived",
          "Survived",
          "Survived",
          "Survived",
          "Not Survived",
          "Not Survived",
          "Not Survived",
          "Survived",
          "Not Survived",
          "Not Survived",
          "Not Survived",
          "Not Survived",
          "Not Survived",
          "Not Survived",
          "Survived",
          "Not Survived",
          "Not Survived",
          "Not Survived",
          "Not Survived",
          "Not Survived",
          "Not Survived",
          "Not Survived",
          "Not Survived",
          "Not Survived",
          "Not Survived",
          "Not Survived",
          "Not Survived",
          "Not Survived",
          "Not Survived",
          "Survived",
          "Not Survived",
          "Not Survived",
          "Not Survived",
          "Not Survived",
          "Survived",
          "Not Survived",
          "Not Survived",
          "Not Survived",
          "Survived",
          "Survived",
          "Not Survived",
          "Not Survived",
          "Survived",
          "Not Survived",
          "Survived",
          "Not Survived",
          "Not Survived",
          "Not Survived",
          "Survived",
          "Not Survived",
          "Not Survived",
          "Not Survived",
          "Not Survived",
          "Survived",
          "Not Survived",
          "Survived",
          "Survived",
          "Not Survived",
          "Not Survived",
          "Not Survived",
          "Not Survived",
          "Not Survived",
          "Not Survived",
          "Not Survived",
          "Not Survived",
          "Not Survived",
          "Not Survived",
          "Not Survived",
          "Not Survived",
          "Not Survived",
          "Not Survived",
          "Not Survived",
          "Not Survived",
          "Not Survived",
          "Not Survived",
          "Not Survived",
          "Not Survived",
          "Not Survived",
          "Not Survived",
          "Not Survived",
          "Not Survived",
          "Not Survived",
          "Not Survived",
          "Survived",
          "Not Survived",
          "Not Survived",
          "Not Survived",
          "Not Survived",
          "Not Survived",
          "Not Survived",
          "Not Survived",
          "Not Survived",
          "Not Survived"
         ],
         "marker": {
          "colors": [
           "#003758",
           "#8b0000",
           "#d62728"
          ]
         },
         "name": "Survived",
         "type": "pie"
        },
        {
         "domain": {
          "x": [
           0.35555555555555557,
           0.6444444444444445
          ],
          "y": [
           0,
           1
          ]
         },
         "hole": 0.4,
         "hoverinfo": "label+percent+name+value",
         "labels": [
          "Not Survived",
          "Not Survived",
          "Survived",
          "Survived",
          "Not Survived",
          "Survived",
          "Survived",
          "Not Survived",
          "Survived",
          "Survived",
          "Not Survived",
          "Survived",
          "Survived",
          "Survived",
          "Survived",
          "Not Survived",
          "Not Survived",
          "Survived",
          "Survived",
          "Survived",
          "Survived",
          "Survived",
          "Survived",
          "Survived",
          "Survived",
          "Survived",
          "Not Survived",
          "Survived",
          "Survived",
          "Not Survived",
          "Survived",
          "Not Survived",
          "Survived",
          "Not Survived",
          "Survived",
          "Survived",
          "Survived",
          "Survived",
          "Not Survived",
          "Survived",
          "Survived",
          "Survived",
          "Not Survived",
          "Survived",
          "Not Survived",
          "Survived",
          "Survived",
          "Survived",
          "Survived",
          "Survived",
          "Survived",
          "Survived",
          "Survived",
          "Not Survived",
          "Survived",
          "Survived",
          "Not Survived",
          "Survived",
          "Survived",
          "Survived",
          "Not Survived",
          "Survived",
          "Survived",
          "Survived",
          "Survived",
          "Survived",
          "Survived",
          "Survived",
          "Survived",
          "Survived",
          "Not Survived",
          "Not Survived",
          "Not Survived",
          "Not Survived",
          "Survived",
          "Survived",
          "Not Survived",
          "Survived",
          "Survived",
          "Survived",
          "Survived",
          "Not Survived",
          "Not Survived",
          "Survived",
          "Survived",
          "Not Survived",
          "Survived",
          "Survived",
          "Not Survived",
          "Survived",
          "Survived",
          "Survived",
          "Not Survived",
          "Not Survived",
          "Not Survived",
          "Survived",
          "Survived",
          "Not Survived",
          "Not Survived",
          "Survived",
          "Not Survived",
          "Not Survived",
          "Not Survived",
          "Survived",
          "Survived",
          "Survived",
          "Survived",
          "Not Survived",
          "Survived",
          "Survived",
          "Survived",
          "Survived",
          "Survived",
          "Not Survived",
          "Survived",
          "Survived",
          "Survived",
          "Not Survived",
          "Survived",
          "Survived",
          "Survived",
          "Survived",
          "Survived",
          "Not Survived",
          "Not Survived",
          "Survived",
          "Survived",
          "Survived",
          "Survived",
          "Not Survived",
          "Survived",
          "Not Survived",
          "Survived",
          "Survived",
          "Not Survived",
          "Not Survived",
          "Survived",
          "Not Survived",
          "Survived",
          "Survived",
          "Survived",
          "Not Survived",
          "Survived",
          "Not Survived",
          "Survived",
          "Survived",
          "Survived",
          "Survived",
          "Survived",
          "Survived",
          "Not Survived",
          "Survived",
          "Survived",
          "Not Survived",
          "Not Survived",
          "Survived",
          "Not Survived",
          "Survived",
          "Not Survived",
          "Not Survived",
          "Survived",
          "Survived",
          "Survived",
          "Survived",
          "Not Survived",
          "Survived",
          "Not Survived",
          "Not Survived",
          "Not Survived",
          "Survived",
          "Survived",
          "Survived",
          "Not Survived",
          "Not Survived",
          "Not Survived",
          "Survived",
          "Not Survived",
          "Survived",
          "Survived",
          "Survived",
          "Survived",
          "Not Survived",
          "Survived",
          "Not Survived",
          "Not Survived",
          "Not Survived",
          "Not Survived",
          "Not Survived",
          "Not Survived",
          "Not Survived",
          "Not Survived",
          "Not Survived",
          "Not Survived",
          "Not Survived",
          "Not Survived",
          "Not Survived",
          "Not Survived",
          "Not Survived",
          "Not Survived",
          "Not Survived",
          "Not Survived",
          "Not Survived",
          "Not Survived",
          "Not Survived",
          "Not Survived",
          "Not Survived",
          "Not Survived",
          "Survived",
          "Survived",
          "Survived",
          "Not Survived",
          "Not Survived",
          "Not Survived",
          "Not Survived",
          "Not Survived",
          "Survived",
          "Not Survived",
          "Survived",
          "Not Survived",
          "Survived",
          "Not Survived",
          "Not Survived",
          "Survived",
          "Not Survived",
          "Survived",
          "Survived",
          "Survived",
          "Survived",
          "Survived",
          "Survived",
          "Survived",
          "Survived",
          "Not Survived",
          "Survived",
          "Survived",
          "Not Survived",
          "Not Survived",
          "Survived",
          "Survived",
          "Survived",
          "Not Survived",
          "Not Survived",
          "Not Survived",
          "Not Survived",
          "Not Survived",
          "Not Survived",
          "Not Survived",
          "Not Survived",
          "Not Survived",
          "Survived",
          "Not Survived",
          "Not Survived",
          "Not Survived",
          "Survived",
          "Not Survived",
          "Not Survived",
          "Survived",
          "Survived",
          "Survived",
          "Survived",
          "Survived",
          "Not Survived",
          "Survived",
          "Not Survived",
          "Not Survived",
          "Not Survived",
          "Not Survived",
          "Not Survived",
          "Not Survived",
          "Not Survived"
         ],
         "marker": {
          "colors": [
           "#003758",
           "#8b0000",
           "#d62728"
          ]
         },
         "name": "Not Survived",
         "type": "pie"
        },
        {
         "domain": {
          "x": [
           0.7111111111111111,
           1
          ],
          "y": [
           0,
           1
          ]
         },
         "hole": 0.4,
         "hoverinfo": "label+percent+name+value",
         "labels": [
          "Not Survived",
          "Survived",
          "Survived",
          "Survived",
          "Not Survived",
          "Not Survived",
          "Not Survived",
          "Not Survived",
          "Not Survived",
          "Survived",
          "Not Survived",
          "Not Survived",
          "Not Survived",
          "Not Survived",
          "Survived",
          "Not Survived",
          "Survived",
          "Not Survived",
          "Not Survived",
          "Not Survived",
          "Not Survived",
          "Survived",
          "Not Survived",
          "Not Survived",
          "Not Survived",
          "Not Survived",
          "Not Survived",
          "Survived",
          "Not Survived",
          "Not Survived",
          "Survived",
          "Survived",
          "Survived",
          "Not Survived",
          "Not Survived",
          "Not Survived",
          "Not Survived",
          "Not Survived",
          "Not Survived",
          "Not Survived",
          "Not Survived",
          "Not Survived",
          "Not Survived",
          "Not Survived",
          "Survived",
          "Survived",
          "Not Survived",
          "Not Survived",
          "Survived",
          "Not Survived",
          "Not Survived",
          "Not Survived",
          "Survived",
          "Not Survived",
          "Survived",
          "Survived",
          "Not Survived",
          "Survived",
          "Not Survived",
          "Not Survived",
          "Not Survived",
          "Not Survived",
          "Not Survived",
          "Not Survived",
          "Not Survived",
          "Survived",
          "Not Survived",
          "Not Survived",
          "Not Survived",
          "Survived",
          "Survived",
          "Survived",
          "Survived",
          "Survived",
          "Survived",
          "Survived",
          "Not Survived",
          "Survived",
          "Survived",
          "Not Survived",
          "Not Survived",
          "Not Survived",
          "Not Survived",
          "Survived",
          "Survived",
          "Not Survived",
          "Not Survived",
          "Not Survived",
          "Survived",
          "Survived",
          "Survived",
          "Survived",
          "Survived",
          "Not Survived",
          "Not Survived",
          "Not Survived",
          "Survived",
          "Not Survived",
          "Not Survived",
          "Not Survived",
          "Not Survived",
          "Survived",
          "Survived",
          "Survived",
          "Survived",
          "Not Survived",
          "Not Survived",
          "Not Survived",
          "Not Survived",
          "Not Survived",
          "Not Survived",
          "Not Survived",
          "Not Survived",
          "Survived",
          "Survived",
          "Not Survived",
          "Not Survived",
          "Not Survived",
          "Not Survived",
          "Survived",
          "Not Survived",
          "Survived",
          "Not Survived"
         ],
         "marker": {
          "colors": [
           "#003758",
           "#8b0000",
           "#d62728"
          ]
         },
         "name": "Not Survived",
         "type": "pie"
        }
       ],
       "layout": {
        "annotations": [
         {
          "font": {
           "size": 13
          },
          "showarrow": false,
          "text": "Southampton",
          "x": 0.07,
          "y": 0
         },
         {
          "font": {
           "size": 13
          },
          "showarrow": false,
          "text": "Cherbourg",
          "x": 0.5,
          "y": 0
         },
         {
          "font": {
           "size": 13
          },
          "showarrow": false,
          "text": "Queenstown",
          "x": 0.93,
          "y": 0
         }
        ],
        "hoverlabel": {
         "font": {
          "color": "white",
          "family": "Arial",
          "size": 14
         }
        },
        "paper_bgcolor": "#bcbcbc",
        "template": {
         "data": {
          "bar": [
           {
            "error_x": {
             "color": "#2a3f5f"
            },
            "error_y": {
             "color": "#2a3f5f"
            },
            "marker": {
             "line": {
              "color": "#E5ECF6",
              "width": 0.5
             },
             "pattern": {
              "fillmode": "overlay",
              "size": 10,
              "solidity": 0.2
             }
            },
            "type": "bar"
           }
          ],
          "barpolar": [
           {
            "marker": {
             "line": {
              "color": "#E5ECF6",
              "width": 0.5
             },
             "pattern": {
              "fillmode": "overlay",
              "size": 10,
              "solidity": 0.2
             }
            },
            "type": "barpolar"
           }
          ],
          "carpet": [
           {
            "aaxis": {
             "endlinecolor": "#2a3f5f",
             "gridcolor": "white",
             "linecolor": "white",
             "minorgridcolor": "white",
             "startlinecolor": "#2a3f5f"
            },
            "baxis": {
             "endlinecolor": "#2a3f5f",
             "gridcolor": "white",
             "linecolor": "white",
             "minorgridcolor": "white",
             "startlinecolor": "#2a3f5f"
            },
            "type": "carpet"
           }
          ],
          "choropleth": [
           {
            "colorbar": {
             "outlinewidth": 0,
             "ticks": ""
            },
            "type": "choropleth"
           }
          ],
          "contour": [
           {
            "colorbar": {
             "outlinewidth": 0,
             "ticks": ""
            },
            "colorscale": [
             [
              0,
              "#0d0887"
             ],
             [
              0.1111111111111111,
              "#46039f"
             ],
             [
              0.2222222222222222,
              "#7201a8"
             ],
             [
              0.3333333333333333,
              "#9c179e"
             ],
             [
              0.4444444444444444,
              "#bd3786"
             ],
             [
              0.5555555555555556,
              "#d8576b"
             ],
             [
              0.6666666666666666,
              "#ed7953"
             ],
             [
              0.7777777777777778,
              "#fb9f3a"
             ],
             [
              0.8888888888888888,
              "#fdca26"
             ],
             [
              1,
              "#f0f921"
             ]
            ],
            "type": "contour"
           }
          ],
          "contourcarpet": [
           {
            "colorbar": {
             "outlinewidth": 0,
             "ticks": ""
            },
            "type": "contourcarpet"
           }
          ],
          "heatmap": [
           {
            "colorbar": {
             "outlinewidth": 0,
             "ticks": ""
            },
            "colorscale": [
             [
              0,
              "#0d0887"
             ],
             [
              0.1111111111111111,
              "#46039f"
             ],
             [
              0.2222222222222222,
              "#7201a8"
             ],
             [
              0.3333333333333333,
              "#9c179e"
             ],
             [
              0.4444444444444444,
              "#bd3786"
             ],
             [
              0.5555555555555556,
              "#d8576b"
             ],
             [
              0.6666666666666666,
              "#ed7953"
             ],
             [
              0.7777777777777778,
              "#fb9f3a"
             ],
             [
              0.8888888888888888,
              "#fdca26"
             ],
             [
              1,
              "#f0f921"
             ]
            ],
            "type": "heatmap"
           }
          ],
          "heatmapgl": [
           {
            "colorbar": {
             "outlinewidth": 0,
             "ticks": ""
            },
            "colorscale": [
             [
              0,
              "#0d0887"
             ],
             [
              0.1111111111111111,
              "#46039f"
             ],
             [
              0.2222222222222222,
              "#7201a8"
             ],
             [
              0.3333333333333333,
              "#9c179e"
             ],
             [
              0.4444444444444444,
              "#bd3786"
             ],
             [
              0.5555555555555556,
              "#d8576b"
             ],
             [
              0.6666666666666666,
              "#ed7953"
             ],
             [
              0.7777777777777778,
              "#fb9f3a"
             ],
             [
              0.8888888888888888,
              "#fdca26"
             ],
             [
              1,
              "#f0f921"
             ]
            ],
            "type": "heatmapgl"
           }
          ],
          "histogram": [
           {
            "marker": {
             "pattern": {
              "fillmode": "overlay",
              "size": 10,
              "solidity": 0.2
             }
            },
            "type": "histogram"
           }
          ],
          "histogram2d": [
           {
            "colorbar": {
             "outlinewidth": 0,
             "ticks": ""
            },
            "colorscale": [
             [
              0,
              "#0d0887"
             ],
             [
              0.1111111111111111,
              "#46039f"
             ],
             [
              0.2222222222222222,
              "#7201a8"
             ],
             [
              0.3333333333333333,
              "#9c179e"
             ],
             [
              0.4444444444444444,
              "#bd3786"
             ],
             [
              0.5555555555555556,
              "#d8576b"
             ],
             [
              0.6666666666666666,
              "#ed7953"
             ],
             [
              0.7777777777777778,
              "#fb9f3a"
             ],
             [
              0.8888888888888888,
              "#fdca26"
             ],
             [
              1,
              "#f0f921"
             ]
            ],
            "type": "histogram2d"
           }
          ],
          "histogram2dcontour": [
           {
            "colorbar": {
             "outlinewidth": 0,
             "ticks": ""
            },
            "colorscale": [
             [
              0,
              "#0d0887"
             ],
             [
              0.1111111111111111,
              "#46039f"
             ],
             [
              0.2222222222222222,
              "#7201a8"
             ],
             [
              0.3333333333333333,
              "#9c179e"
             ],
             [
              0.4444444444444444,
              "#bd3786"
             ],
             [
              0.5555555555555556,
              "#d8576b"
             ],
             [
              0.6666666666666666,
              "#ed7953"
             ],
             [
              0.7777777777777778,
              "#fb9f3a"
             ],
             [
              0.8888888888888888,
              "#fdca26"
             ],
             [
              1,
              "#f0f921"
             ]
            ],
            "type": "histogram2dcontour"
           }
          ],
          "mesh3d": [
           {
            "colorbar": {
             "outlinewidth": 0,
             "ticks": ""
            },
            "type": "mesh3d"
           }
          ],
          "parcoords": [
           {
            "line": {
             "colorbar": {
              "outlinewidth": 0,
              "ticks": ""
             }
            },
            "type": "parcoords"
           }
          ],
          "pie": [
           {
            "automargin": true,
            "type": "pie"
           }
          ],
          "scatter": [
           {
            "fillpattern": {
             "fillmode": "overlay",
             "size": 10,
             "solidity": 0.2
            },
            "type": "scatter"
           }
          ],
          "scatter3d": [
           {
            "line": {
             "colorbar": {
              "outlinewidth": 0,
              "ticks": ""
             }
            },
            "marker": {
             "colorbar": {
              "outlinewidth": 0,
              "ticks": ""
             }
            },
            "type": "scatter3d"
           }
          ],
          "scattercarpet": [
           {
            "marker": {
             "colorbar": {
              "outlinewidth": 0,
              "ticks": ""
             }
            },
            "type": "scattercarpet"
           }
          ],
          "scattergeo": [
           {
            "marker": {
             "colorbar": {
              "outlinewidth": 0,
              "ticks": ""
             }
            },
            "type": "scattergeo"
           }
          ],
          "scattergl": [
           {
            "marker": {
             "colorbar": {
              "outlinewidth": 0,
              "ticks": ""
             }
            },
            "type": "scattergl"
           }
          ],
          "scattermapbox": [
           {
            "marker": {
             "colorbar": {
              "outlinewidth": 0,
              "ticks": ""
             }
            },
            "type": "scattermapbox"
           }
          ],
          "scatterpolar": [
           {
            "marker": {
             "colorbar": {
              "outlinewidth": 0,
              "ticks": ""
             }
            },
            "type": "scatterpolar"
           }
          ],
          "scatterpolargl": [
           {
            "marker": {
             "colorbar": {
              "outlinewidth": 0,
              "ticks": ""
             }
            },
            "type": "scatterpolargl"
           }
          ],
          "scatterternary": [
           {
            "marker": {
             "colorbar": {
              "outlinewidth": 0,
              "ticks": ""
             }
            },
            "type": "scatterternary"
           }
          ],
          "surface": [
           {
            "colorbar": {
             "outlinewidth": 0,
             "ticks": ""
            },
            "colorscale": [
             [
              0,
              "#0d0887"
             ],
             [
              0.1111111111111111,
              "#46039f"
             ],
             [
              0.2222222222222222,
              "#7201a8"
             ],
             [
              0.3333333333333333,
              "#9c179e"
             ],
             [
              0.4444444444444444,
              "#bd3786"
             ],
             [
              0.5555555555555556,
              "#d8576b"
             ],
             [
              0.6666666666666666,
              "#ed7953"
             ],
             [
              0.7777777777777778,
              "#fb9f3a"
             ],
             [
              0.8888888888888888,
              "#fdca26"
             ],
             [
              1,
              "#f0f921"
             ]
            ],
            "type": "surface"
           }
          ],
          "table": [
           {
            "cells": {
             "fill": {
              "color": "#EBF0F8"
             },
             "line": {
              "color": "white"
             }
            },
            "header": {
             "fill": {
              "color": "#C8D4E3"
             },
             "line": {
              "color": "white"
             }
            },
            "type": "table"
           }
          ]
         },
         "layout": {
          "annotationdefaults": {
           "arrowcolor": "#2a3f5f",
           "arrowhead": 0,
           "arrowwidth": 1
          },
          "autotypenumbers": "strict",
          "coloraxis": {
           "colorbar": {
            "outlinewidth": 0,
            "ticks": ""
           }
          },
          "colorscale": {
           "diverging": [
            [
             0,
             "#8e0152"
            ],
            [
             0.1,
             "#c51b7d"
            ],
            [
             0.2,
             "#de77ae"
            ],
            [
             0.3,
             "#f1b6da"
            ],
            [
             0.4,
             "#fde0ef"
            ],
            [
             0.5,
             "#f7f7f7"
            ],
            [
             0.6,
             "#e6f5d0"
            ],
            [
             0.7,
             "#b8e186"
            ],
            [
             0.8,
             "#7fbc41"
            ],
            [
             0.9,
             "#4d9221"
            ],
            [
             1,
             "#276419"
            ]
           ],
           "sequential": [
            [
             0,
             "#0d0887"
            ],
            [
             0.1111111111111111,
             "#46039f"
            ],
            [
             0.2222222222222222,
             "#7201a8"
            ],
            [
             0.3333333333333333,
             "#9c179e"
            ],
            [
             0.4444444444444444,
             "#bd3786"
            ],
            [
             0.5555555555555556,
             "#d8576b"
            ],
            [
             0.6666666666666666,
             "#ed7953"
            ],
            [
             0.7777777777777778,
             "#fb9f3a"
            ],
            [
             0.8888888888888888,
             "#fdca26"
            ],
            [
             1,
             "#f0f921"
            ]
           ],
           "sequentialminus": [
            [
             0,
             "#0d0887"
            ],
            [
             0.1111111111111111,
             "#46039f"
            ],
            [
             0.2222222222222222,
             "#7201a8"
            ],
            [
             0.3333333333333333,
             "#9c179e"
            ],
            [
             0.4444444444444444,
             "#bd3786"
            ],
            [
             0.5555555555555556,
             "#d8576b"
            ],
            [
             0.6666666666666666,
             "#ed7953"
            ],
            [
             0.7777777777777778,
             "#fb9f3a"
            ],
            [
             0.8888888888888888,
             "#fdca26"
            ],
            [
             1,
             "#f0f921"
            ]
           ]
          },
          "colorway": [
           "#636efa",
           "#EF553B",
           "#00cc96",
           "#ab63fa",
           "#FFA15A",
           "#19d3f3",
           "#FF6692",
           "#B6E880",
           "#FF97FF",
           "#FECB52"
          ],
          "font": {
           "color": "#2a3f5f"
          },
          "geo": {
           "bgcolor": "white",
           "lakecolor": "white",
           "landcolor": "#E5ECF6",
           "showlakes": true,
           "showland": true,
           "subunitcolor": "white"
          },
          "hoverlabel": {
           "align": "left"
          },
          "hovermode": "closest",
          "mapbox": {
           "style": "light"
          },
          "paper_bgcolor": "white",
          "plot_bgcolor": "#E5ECF6",
          "polar": {
           "angularaxis": {
            "gridcolor": "white",
            "linecolor": "white",
            "ticks": ""
           },
           "bgcolor": "#E5ECF6",
           "radialaxis": {
            "gridcolor": "white",
            "linecolor": "white",
            "ticks": ""
           }
          },
          "scene": {
           "xaxis": {
            "backgroundcolor": "#E5ECF6",
            "gridcolor": "white",
            "gridwidth": 2,
            "linecolor": "white",
            "showbackground": true,
            "ticks": "",
            "zerolinecolor": "white"
           },
           "yaxis": {
            "backgroundcolor": "#E5ECF6",
            "gridcolor": "white",
            "gridwidth": 2,
            "linecolor": "white",
            "showbackground": true,
            "ticks": "",
            "zerolinecolor": "white"
           },
           "zaxis": {
            "backgroundcolor": "#E5ECF6",
            "gridcolor": "white",
            "gridwidth": 2,
            "linecolor": "white",
            "showbackground": true,
            "ticks": "",
            "zerolinecolor": "white"
           }
          },
          "shapedefaults": {
           "line": {
            "color": "#2a3f5f"
           }
          },
          "ternary": {
           "aaxis": {
            "gridcolor": "white",
            "linecolor": "white",
            "ticks": ""
           },
           "baxis": {
            "gridcolor": "white",
            "linecolor": "white",
            "ticks": ""
           },
           "bgcolor": "#E5ECF6",
           "caxis": {
            "gridcolor": "white",
            "linecolor": "white",
            "ticks": ""
           }
          },
          "title": {
           "x": 0.05
          },
          "xaxis": {
           "automargin": true,
           "gridcolor": "white",
           "linecolor": "white",
           "ticks": "",
           "title": {
            "standoff": 15
           },
           "zerolinecolor": "white",
           "zerolinewidth": 2
          },
          "yaxis": {
           "automargin": true,
           "gridcolor": "white",
           "linecolor": "white",
           "ticks": "",
           "title": {
            "standoff": 15
           },
           "zerolinecolor": "white",
           "zerolinewidth": 2
          }
         }
        },
        "title": {
         "text": "Survival by Port of Embarkation"
        }
       }
      },
      "text/html": [
       "<div>                            <div id=\"72a3ec8b-7b6d-4dd1-97a1-ddf837123d8c\" class=\"plotly-graph-div\" style=\"height:525px; width:100%;\"></div>            <script type=\"text/javascript\">                require([\"plotly\"], function(Plotly) {                    window.PLOTLYENV=window.PLOTLYENV || {};                                    if (document.getElementById(\"72a3ec8b-7b6d-4dd1-97a1-ddf837123d8c\")) {                    Plotly.newPlot(                        \"72a3ec8b-7b6d-4dd1-97a1-ddf837123d8c\",                        [{\"hole\":0.4,\"hoverinfo\":\"label+percent+name+value\",\"labels\":[\"Survived\",\"Survived\",\"Not Survived\",\"Not Survived\",\"Not Survived\",\"Survived\",\"Survived\",\"Not Survived\",\"Survived\",\"Survived\",\"Survived\",\"Not Survived\",\"Survived\",\"Survived\",\"Survived\",\"Survived\",\"Survived\",\"Not Survived\",\"Survived\",\"Survived\",\"Not Survived\",\"Survived\",\"Survived\",\"Not Survived\",\"Survived\",\"Not Survived\",\"Not Survived\",\"Survived\",\"Not Survived\",\"Not Survived\",\"Not Survived\",\"Survived\",\"Survived\",\"Survived\",\"Survived\",\"Not Survived\",\"Not Survived\",\"Survived\",\"Not Survived\",\"Survived\",\"Survived\",\"Survived\",\"Survived\",\"Survived\",\"Not Survived\",\"Survived\",\"Not Survived\",\"Not Survived\",\"Survived\",\"Not Survived\",\"Not Survived\",\"Survived\",\"Survived\",\"Survived\",\"Survived\",\"Survived\",\"Not Survived\",\"Survived\",\"Survived\",\"Survived\",\"Survived\",\"Survived\",\"Survived\",\"Not Survived\",\"Survived\",\"Survived\",\"Survived\",\"Survived\",\"Survived\",\"Not Survived\",\"Not Survived\",\"Survived\",\"Not Survived\",\"Survived\",\"Survived\",\"Not Survived\",\"Not Survived\",\"Survived\",\"Not Survived\",\"Survived\",\"Not Survived\",\"Survived\",\"Not Survived\",\"Not Survived\",\"Survived\",\"Not Survived\",\"Survived\",\"Not Survived\",\"Survived\",\"Not Survived\",\"Not Survived\",\"Not Survived\",\"Survived\",\"Not Survived\",\"Survived\",\"Survived\",\"Survived\",\"Survived\",\"Not Survived\",\"Not Survived\",\"Not Survived\",\"Survived\",\"Survived\",\"Survived\",\"Not Survived\",\"Survived\",\"Survived\",\"Not Survived\",\"Survived\",\"Survived\",\"Not Survived\",\"Survived\",\"Not Survived\",\"Survived\",\"Not Survived\",\"Survived\",\"Not Survived\",\"Survived\",\"Not Survived\",\"Survived\",\"Not Survived\",\"Not Survived\",\"Not Survived\",\"Survived\",\"Not Survived\",\"Not Survived\",\"Not Survived\",\"Not Survived\",\"Not Survived\",\"Survived\",\"Survived\",\"Survived\",\"Not Survived\",\"Not Survived\",\"Survived\",\"Survived\",\"Not Survived\",\"Survived\",\"Not Survived\",\"Survived\",\"Not Survived\",\"Survived\",\"Survived\",\"Survived\",\"Survived\",\"Survived\",\"Not Survived\",\"Survived\",\"Survived\",\"Not Survived\",\"Not Survived\",\"Not Survived\",\"Survived\",\"Survived\",\"Survived\",\"Not Survived\",\"Not Survived\",\"Not Survived\",\"Not Survived\",\"Survived\",\"Survived\",\"Not Survived\",\"Survived\",\"Survived\",\"Survived\",\"Not Survived\",\"Not Survived\",\"Not Survived\",\"Not Survived\",\"Not Survived\",\"Survived\",\"Not Survived\",\"Survived\",\"Survived\",\"Not Survived\",\"Survived\",\"Not Survived\",\"Not Survived\",\"Not Survived\",\"Not Survived\",\"Not Survived\",\"Survived\",\"Not Survived\",\"Not Survived\",\"Not Survived\",\"Survived\",\"Not Survived\",\"Not Survived\",\"Survived\",\"Survived\",\"Not Survived\",\"Survived\",\"Survived\",\"Survived\",\"Survived\",\"Survived\",\"Survived\",\"Not Survived\",\"Not Survived\",\"Not Survived\",\"Not Survived\",\"Survived\",\"Survived\",\"Not Survived\",\"Survived\",\"Survived\",\"Not Survived\",\"Survived\",\"Not Survived\",\"Not Survived\",\"Survived\",\"Survived\",\"Survived\",\"Survived\",\"Survived\",\"Not Survived\",\"Not Survived\",\"Not Survived\",\"Not Survived\",\"Not Survived\",\"Not Survived\",\"Not Survived\",\"Survived\",\"Survived\",\"Not Survived\",\"Survived\",\"Not Survived\",\"Not Survived\",\"Survived\",\"Survived\",\"Not Survived\",\"Survived\",\"Survived\",\"Not Survived\",\"Not Survived\",\"Not Survived\",\"Not Survived\",\"Survived\",\"Not Survived\",\"Survived\",\"Survived\",\"Not Survived\",\"Not Survived\",\"Not Survived\",\"Not Survived\",\"Survived\",\"Survived\",\"Not Survived\",\"Survived\",\"Not Survived\",\"Survived\",\"Not Survived\",\"Not Survived\",\"Not Survived\",\"Not Survived\",\"Survived\",\"Not Survived\",\"Not Survived\",\"Not Survived\",\"Not Survived\",\"Not Survived\",\"Not Survived\",\"Not Survived\",\"Survived\",\"Not Survived\",\"Not Survived\",\"Not Survived\",\"Not Survived\",\"Not Survived\",\"Not Survived\",\"Not Survived\",\"Not Survived\",\"Not Survived\",\"Not Survived\",\"Not Survived\",\"Survived\",\"Survived\",\"Not Survived\",\"Survived\",\"Not Survived\",\"Survived\",\"Not Survived\",\"Survived\",\"Not Survived\",\"Survived\",\"Survived\",\"Survived\",\"Not Survived\",\"Survived\",\"Survived\",\"Not Survived\",\"Not Survived\",\"Not Survived\",\"Not Survived\",\"Survived\",\"Not Survived\",\"Not Survived\",\"Survived\",\"Not Survived\",\"Not Survived\",\"Survived\",\"Not Survived\",\"Survived\",\"Not Survived\",\"Not Survived\",\"Not Survived\",\"Survived\",\"Not Survived\",\"Survived\",\"Not Survived\",\"Not Survived\",\"Not Survived\",\"Not Survived\",\"Not Survived\",\"Survived\",\"Not Survived\",\"Survived\",\"Not Survived\",\"Not Survived\",\"Not Survived\",\"Not Survived\",\"Survived\",\"Survived\",\"Not Survived\",\"Not Survived\",\"Survived\",\"Not Survived\",\"Not Survived\",\"Not Survived\",\"Not Survived\",\"Not Survived\",\"Not Survived\",\"Survived\",\"Survived\",\"Survived\",\"Not Survived\",\"Not Survived\",\"Not Survived\",\"Not Survived\",\"Not Survived\",\"Not Survived\",\"Not Survived\",\"Survived\",\"Survived\",\"Not Survived\",\"Not Survived\",\"Not Survived\",\"Not Survived\",\"Survived\",\"Not Survived\",\"Survived\",\"Not Survived\",\"Not Survived\",\"Not Survived\",\"Survived\",\"Not Survived\",\"Not Survived\",\"Survived\",\"Survived\",\"Not Survived\",\"Survived\",\"Not Survived\",\"Survived\",\"Survived\",\"Survived\",\"Not Survived\",\"Not Survived\",\"Survived\",\"Survived\",\"Survived\",\"Survived\",\"Survived\",\"Survived\",\"Not Survived\",\"Survived\",\"Not Survived\",\"Not Survived\",\"Not Survived\",\"Survived\",\"Survived\",\"Survived\",\"Survived\",\"Not Survived\",\"Not Survived\",\"Survived\",\"Not Survived\",\"Not Survived\",\"Not Survived\",\"Not Survived\",\"Survived\",\"Not Survived\",\"Survived\",\"Survived\",\"Not Survived\",\"Not Survived\",\"Not Survived\",\"Survived\",\"Not Survived\",\"Not Survived\",\"Survived\",\"Not Survived\",\"Survived\",\"Survived\",\"Survived\",\"Not Survived\",\"Survived\",\"Survived\",\"Survived\",\"Survived\",\"Survived\",\"Survived\",\"Not Survived\",\"Survived\",\"Not Survived\",\"Not Survived\",\"Survived\",\"Survived\",\"Survived\",\"Not Survived\",\"Not Survived\",\"Not Survived\",\"Not Survived\",\"Survived\",\"Survived\",\"Survived\",\"Survived\",\"Not Survived\",\"Not Survived\",\"Not Survived\",\"Survived\",\"Survived\",\"Not Survived\",\"Not Survived\",\"Not Survived\",\"Not Survived\",\"Not Survived\",\"Not Survived\",\"Not Survived\",\"Survived\",\"Not Survived\",\"Not Survived\",\"Not Survived\",\"Survived\",\"Not Survived\",\"Not Survived\",\"Not Survived\",\"Not Survived\",\"Survived\",\"Not Survived\",\"Not Survived\",\"Not Survived\",\"Not Survived\",\"Not Survived\",\"Not Survived\",\"Not Survived\",\"Not Survived\",\"Not Survived\",\"Not Survived\",\"Survived\",\"Not Survived\",\"Survived\",\"Not Survived\",\"Survived\",\"Survived\",\"Not Survived\",\"Not Survived\",\"Not Survived\",\"Survived\",\"Survived\",\"Not Survived\",\"Not Survived\",\"Not Survived\",\"Not Survived\",\"Not Survived\",\"Survived\",\"Not Survived\",\"Not Survived\",\"Not Survived\",\"Not Survived\",\"Not Survived\",\"Not Survived\",\"Not Survived\",\"Not Survived\",\"Not Survived\",\"Not Survived\",\"Not Survived\",\"Not Survived\",\"Not Survived\",\"Not Survived\",\"Not Survived\",\"Not Survived\",\"Not Survived\",\"Not Survived\",\"Not Survived\",\"Not Survived\",\"Survived\",\"Not Survived\",\"Not Survived\",\"Survived\",\"Not Survived\",\"Not Survived\",\"Not Survived\",\"Not Survived\",\"Not Survived\",\"Not Survived\",\"Not Survived\",\"Survived\",\"Survived\",\"Survived\",\"Not Survived\",\"Not Survived\",\"Survived\",\"Not Survived\",\"Not Survived\",\"Survived\",\"Not Survived\",\"Not Survived\",\"Not Survived\",\"Not Survived\",\"Not Survived\",\"Not Survived\",\"Not Survived\",\"Not Survived\",\"Not Survived\",\"Not Survived\",\"Not Survived\",\"Not Survived\",\"Survived\",\"Survived\",\"Survived\",\"Survived\",\"Not Survived\",\"Survived\",\"Survived\",\"Not Survived\",\"Survived\",\"Not Survived\",\"Not Survived\",\"Not Survived\",\"Not Survived\",\"Not Survived\",\"Not Survived\",\"Not Survived\",\"Not Survived\",\"Survived\",\"Survived\",\"Survived\",\"Survived\",\"Not Survived\",\"Survived\",\"Not Survived\",\"Not Survived\",\"Not Survived\",\"Not Survived\",\"Survived\",\"Not Survived\",\"Survived\",\"Not Survived\",\"Survived\",\"Not Survived\",\"Not Survived\",\"Not Survived\",\"Not Survived\",\"Not Survived\",\"Not Survived\",\"Not Survived\",\"Not Survived\",\"Not Survived\",\"Survived\",\"Not Survived\",\"Not Survived\",\"Survived\",\"Not Survived\",\"Not Survived\",\"Not Survived\",\"Not Survived\",\"Not Survived\",\"Not Survived\",\"Not Survived\",\"Not Survived\",\"Not Survived\",\"Not Survived\",\"Not Survived\",\"Not Survived\",\"Not Survived\",\"Not Survived\",\"Not Survived\",\"Not Survived\",\"Not Survived\",\"Not Survived\",\"Not Survived\",\"Not Survived\",\"Survived\",\"Not Survived\",\"Not Survived\",\"Not Survived\",\"Not Survived\",\"Survived\",\"Not Survived\",\"Not Survived\",\"Survived\",\"Survived\",\"Survived\",\"Not Survived\",\"Survived\",\"Not Survived\",\"Not Survived\",\"Survived\",\"Survived\",\"Not Survived\",\"Not Survived\",\"Survived\",\"Survived\",\"Not Survived\",\"Survived\",\"Not Survived\",\"Not Survived\",\"Not Survived\",\"Not Survived\",\"Survived\",\"Not Survived\",\"Not Survived\",\"Not Survived\",\"Not Survived\",\"Survived\",\"Not Survived\",\"Survived\",\"Not Survived\",\"Not Survived\",\"Not Survived\",\"Not Survived\",\"Survived\",\"Survived\",\"Not Survived\",\"Not Survived\",\"Not Survived\",\"Survived\",\"Not Survived\",\"Not Survived\",\"Not Survived\",\"Not Survived\",\"Not Survived\",\"Survived\",\"Not Survived\",\"Not Survived\",\"Not Survived\",\"Survived\",\"Not Survived\",\"Not Survived\",\"Not Survived\",\"Survived\",\"Not Survived\",\"Not Survived\",\"Not Survived\",\"Not Survived\",\"Not Survived\",\"Not Survived\",\"Survived\",\"Survived\",\"Survived\",\"Not Survived\",\"Not Survived\",\"Not Survived\",\"Not Survived\",\"Not Survived\",\"Survived\",\"Not Survived\",\"Survived\",\"Survived\",\"Not Survived\",\"Not Survived\",\"Not Survived\",\"Not Survived\",\"Not Survived\",\"Not Survived\",\"Not Survived\",\"Not Survived\",\"Not Survived\",\"Not Survived\",\"Not Survived\",\"Not Survived\",\"Not Survived\",\"Not Survived\",\"Not Survived\",\"Not Survived\",\"Survived\",\"Not Survived\",\"Not Survived\",\"Not Survived\",\"Not Survived\",\"Not Survived\",\"Not Survived\",\"Survived\",\"Not Survived\",\"Survived\",\"Survived\",\"Not Survived\",\"Not Survived\",\"Survived\",\"Not Survived\",\"Not Survived\",\"Not Survived\",\"Not Survived\",\"Not Survived\",\"Not Survived\",\"Not Survived\",\"Not Survived\",\"Not Survived\",\"Survived\",\"Not Survived\",\"Not Survived\",\"Not Survived\",\"Not Survived\",\"Not Survived\",\"Not Survived\",\"Survived\",\"Survived\",\"Not Survived\",\"Not Survived\",\"Survived\",\"Not Survived\",\"Not Survived\",\"Not Survived\",\"Not Survived\",\"Not Survived\",\"Not Survived\",\"Not Survived\",\"Not Survived\",\"Not Survived\",\"Survived\",\"Survived\",\"Not Survived\",\"Not Survived\",\"Survived\",\"Not Survived\",\"Survived\",\"Not Survived\",\"Not Survived\",\"Survived\",\"Survived\",\"Not Survived\",\"Not Survived\",\"Not Survived\",\"Not Survived\",\"Not Survived\",\"Survived\",\"Not Survived\",\"Not Survived\",\"Not Survived\",\"Not Survived\",\"Not Survived\",\"Survived\",\"Not Survived\",\"Not Survived\",\"Not Survived\",\"Not Survived\",\"Not Survived\",\"Not Survived\",\"Not Survived\",\"Not Survived\",\"Not Survived\",\"Not Survived\",\"Not Survived\",\"Not Survived\",\"Not Survived\",\"Not Survived\",\"Not Survived\",\"Not Survived\",\"Not Survived\",\"Not Survived\",\"Not Survived\",\"Not Survived\",\"Not Survived\",\"Not Survived\",\"Not Survived\",\"Survived\",\"Not Survived\",\"Not Survived\",\"Not Survived\",\"Not Survived\",\"Not Survived\",\"Not Survived\",\"Survived\",\"Not Survived\",\"Not Survived\",\"Not Survived\",\"Not Survived\",\"Not Survived\",\"Not Survived\",\"Not Survived\",\"Not Survived\",\"Not Survived\",\"Not Survived\",\"Not Survived\",\"Not Survived\",\"Not Survived\",\"Not Survived\",\"Not Survived\",\"Not Survived\",\"Not Survived\",\"Not Survived\",\"Not Survived\",\"Survived\",\"Not Survived\",\"Not Survived\",\"Not Survived\",\"Not Survived\",\"Not Survived\",\"Not Survived\",\"Not Survived\",\"Not Survived\",\"Not Survived\",\"Not Survived\",\"Not Survived\",\"Not Survived\",\"Not Survived\",\"Not Survived\",\"Not Survived\",\"Not Survived\",\"Survived\",\"Not Survived\",\"Survived\",\"Survived\",\"Survived\",\"Survived\",\"Not Survived\",\"Not Survived\",\"Not Survived\",\"Survived\",\"Not Survived\",\"Not Survived\",\"Not Survived\",\"Not Survived\",\"Not Survived\",\"Not Survived\",\"Survived\",\"Not Survived\",\"Not Survived\",\"Not Survived\",\"Not Survived\",\"Not Survived\",\"Not Survived\",\"Not Survived\",\"Not Survived\",\"Not Survived\",\"Not Survived\",\"Not Survived\",\"Not Survived\",\"Not Survived\",\"Not Survived\",\"Survived\",\"Not Survived\",\"Not Survived\",\"Not Survived\",\"Not Survived\",\"Survived\",\"Not Survived\",\"Not Survived\",\"Not Survived\",\"Survived\",\"Survived\",\"Not Survived\",\"Not Survived\",\"Survived\",\"Not Survived\",\"Survived\",\"Not Survived\",\"Not Survived\",\"Not Survived\",\"Survived\",\"Not Survived\",\"Not Survived\",\"Not Survived\",\"Not Survived\",\"Survived\",\"Not Survived\",\"Survived\",\"Survived\",\"Not Survived\",\"Not Survived\",\"Not Survived\",\"Not Survived\",\"Not Survived\",\"Not Survived\",\"Not Survived\",\"Not Survived\",\"Not Survived\",\"Not Survived\",\"Not Survived\",\"Not Survived\",\"Not Survived\",\"Not Survived\",\"Not Survived\",\"Not Survived\",\"Not Survived\",\"Not Survived\",\"Not Survived\",\"Not Survived\",\"Not Survived\",\"Not Survived\",\"Not Survived\",\"Not Survived\",\"Not Survived\",\"Not Survived\",\"Survived\",\"Not Survived\",\"Not Survived\",\"Not Survived\",\"Not Survived\",\"Not Survived\",\"Not Survived\",\"Not Survived\",\"Not Survived\",\"Not Survived\"],\"marker\":{\"colors\":[\"#003758\",\"#8b0000\",\"#d62728\"]},\"name\":\"Survived\",\"type\":\"pie\",\"domain\":{\"x\":[0.0,0.2888888888888889],\"y\":[0.0,1.0]}},{\"hole\":0.4,\"hoverinfo\":\"label+percent+name+value\",\"labels\":[\"Not Survived\",\"Not Survived\",\"Survived\",\"Survived\",\"Not Survived\",\"Survived\",\"Survived\",\"Not Survived\",\"Survived\",\"Survived\",\"Not Survived\",\"Survived\",\"Survived\",\"Survived\",\"Survived\",\"Not Survived\",\"Not Survived\",\"Survived\",\"Survived\",\"Survived\",\"Survived\",\"Survived\",\"Survived\",\"Survived\",\"Survived\",\"Survived\",\"Not Survived\",\"Survived\",\"Survived\",\"Not Survived\",\"Survived\",\"Not Survived\",\"Survived\",\"Not Survived\",\"Survived\",\"Survived\",\"Survived\",\"Survived\",\"Not Survived\",\"Survived\",\"Survived\",\"Survived\",\"Not Survived\",\"Survived\",\"Not Survived\",\"Survived\",\"Survived\",\"Survived\",\"Survived\",\"Survived\",\"Survived\",\"Survived\",\"Survived\",\"Not Survived\",\"Survived\",\"Survived\",\"Not Survived\",\"Survived\",\"Survived\",\"Survived\",\"Not Survived\",\"Survived\",\"Survived\",\"Survived\",\"Survived\",\"Survived\",\"Survived\",\"Survived\",\"Survived\",\"Survived\",\"Not Survived\",\"Not Survived\",\"Not Survived\",\"Not Survived\",\"Survived\",\"Survived\",\"Not Survived\",\"Survived\",\"Survived\",\"Survived\",\"Survived\",\"Not Survived\",\"Not Survived\",\"Survived\",\"Survived\",\"Not Survived\",\"Survived\",\"Survived\",\"Not Survived\",\"Survived\",\"Survived\",\"Survived\",\"Not Survived\",\"Not Survived\",\"Not Survived\",\"Survived\",\"Survived\",\"Not Survived\",\"Not Survived\",\"Survived\",\"Not Survived\",\"Not Survived\",\"Not Survived\",\"Survived\",\"Survived\",\"Survived\",\"Survived\",\"Not Survived\",\"Survived\",\"Survived\",\"Survived\",\"Survived\",\"Survived\",\"Not Survived\",\"Survived\",\"Survived\",\"Survived\",\"Not Survived\",\"Survived\",\"Survived\",\"Survived\",\"Survived\",\"Survived\",\"Not Survived\",\"Not Survived\",\"Survived\",\"Survived\",\"Survived\",\"Survived\",\"Not Survived\",\"Survived\",\"Not Survived\",\"Survived\",\"Survived\",\"Not Survived\",\"Not Survived\",\"Survived\",\"Not Survived\",\"Survived\",\"Survived\",\"Survived\",\"Not Survived\",\"Survived\",\"Not Survived\",\"Survived\",\"Survived\",\"Survived\",\"Survived\",\"Survived\",\"Survived\",\"Not Survived\",\"Survived\",\"Survived\",\"Not Survived\",\"Not Survived\",\"Survived\",\"Not Survived\",\"Survived\",\"Not Survived\",\"Not Survived\",\"Survived\",\"Survived\",\"Survived\",\"Survived\",\"Not Survived\",\"Survived\",\"Not Survived\",\"Not Survived\",\"Not Survived\",\"Survived\",\"Survived\",\"Survived\",\"Not Survived\",\"Not Survived\",\"Not Survived\",\"Survived\",\"Not Survived\",\"Survived\",\"Survived\",\"Survived\",\"Survived\",\"Not Survived\",\"Survived\",\"Not Survived\",\"Not Survived\",\"Not Survived\",\"Not Survived\",\"Not Survived\",\"Not Survived\",\"Not Survived\",\"Not Survived\",\"Not Survived\",\"Not Survived\",\"Not Survived\",\"Not Survived\",\"Not Survived\",\"Not Survived\",\"Not Survived\",\"Not Survived\",\"Not Survived\",\"Not Survived\",\"Not Survived\",\"Not Survived\",\"Not Survived\",\"Not Survived\",\"Not Survived\",\"Not Survived\",\"Survived\",\"Survived\",\"Survived\",\"Not Survived\",\"Not Survived\",\"Not Survived\",\"Not Survived\",\"Not Survived\",\"Survived\",\"Not Survived\",\"Survived\",\"Not Survived\",\"Survived\",\"Not Survived\",\"Not Survived\",\"Survived\",\"Not Survived\",\"Survived\",\"Survived\",\"Survived\",\"Survived\",\"Survived\",\"Survived\",\"Survived\",\"Survived\",\"Not Survived\",\"Survived\",\"Survived\",\"Not Survived\",\"Not Survived\",\"Survived\",\"Survived\",\"Survived\",\"Not Survived\",\"Not Survived\",\"Not Survived\",\"Not Survived\",\"Not Survived\",\"Not Survived\",\"Not Survived\",\"Not Survived\",\"Not Survived\",\"Survived\",\"Not Survived\",\"Not Survived\",\"Not Survived\",\"Survived\",\"Not Survived\",\"Not Survived\",\"Survived\",\"Survived\",\"Survived\",\"Survived\",\"Survived\",\"Not Survived\",\"Survived\",\"Not Survived\",\"Not Survived\",\"Not Survived\",\"Not Survived\",\"Not Survived\",\"Not Survived\",\"Not Survived\"],\"marker\":{\"colors\":[\"#003758\",\"#8b0000\",\"#d62728\"]},\"name\":\"Not Survived\",\"type\":\"pie\",\"domain\":{\"x\":[0.35555555555555557,0.6444444444444445],\"y\":[0.0,1.0]}},{\"hole\":0.4,\"hoverinfo\":\"label+percent+name+value\",\"labels\":[\"Not Survived\",\"Survived\",\"Survived\",\"Survived\",\"Not Survived\",\"Not Survived\",\"Not Survived\",\"Not Survived\",\"Not Survived\",\"Survived\",\"Not Survived\",\"Not Survived\",\"Not Survived\",\"Not Survived\",\"Survived\",\"Not Survived\",\"Survived\",\"Not Survived\",\"Not Survived\",\"Not Survived\",\"Not Survived\",\"Survived\",\"Not Survived\",\"Not Survived\",\"Not Survived\",\"Not Survived\",\"Not Survived\",\"Survived\",\"Not Survived\",\"Not Survived\",\"Survived\",\"Survived\",\"Survived\",\"Not Survived\",\"Not Survived\",\"Not Survived\",\"Not Survived\",\"Not Survived\",\"Not Survived\",\"Not Survived\",\"Not Survived\",\"Not Survived\",\"Not Survived\",\"Not Survived\",\"Survived\",\"Survived\",\"Not Survived\",\"Not Survived\",\"Survived\",\"Not Survived\",\"Not Survived\",\"Not Survived\",\"Survived\",\"Not Survived\",\"Survived\",\"Survived\",\"Not Survived\",\"Survived\",\"Not Survived\",\"Not Survived\",\"Not Survived\",\"Not Survived\",\"Not Survived\",\"Not Survived\",\"Not Survived\",\"Survived\",\"Not Survived\",\"Not Survived\",\"Not Survived\",\"Survived\",\"Survived\",\"Survived\",\"Survived\",\"Survived\",\"Survived\",\"Survived\",\"Not Survived\",\"Survived\",\"Survived\",\"Not Survived\",\"Not Survived\",\"Not Survived\",\"Not Survived\",\"Survived\",\"Survived\",\"Not Survived\",\"Not Survived\",\"Not Survived\",\"Survived\",\"Survived\",\"Survived\",\"Survived\",\"Survived\",\"Not Survived\",\"Not Survived\",\"Not Survived\",\"Survived\",\"Not Survived\",\"Not Survived\",\"Not Survived\",\"Not Survived\",\"Survived\",\"Survived\",\"Survived\",\"Survived\",\"Not Survived\",\"Not Survived\",\"Not Survived\",\"Not Survived\",\"Not Survived\",\"Not Survived\",\"Not Survived\",\"Not Survived\",\"Survived\",\"Survived\",\"Not Survived\",\"Not Survived\",\"Not Survived\",\"Not Survived\",\"Survived\",\"Not Survived\",\"Survived\",\"Not Survived\"],\"marker\":{\"colors\":[\"#003758\",\"#8b0000\",\"#d62728\"]},\"name\":\"Not Survived\",\"type\":\"pie\",\"domain\":{\"x\":[0.7111111111111111,1.0],\"y\":[0.0,1.0]}}],                        {\"template\":{\"data\":{\"histogram2dcontour\":[{\"type\":\"histogram2dcontour\",\"colorbar\":{\"outlinewidth\":0,\"ticks\":\"\"},\"colorscale\":[[0.0,\"#0d0887\"],[0.1111111111111111,\"#46039f\"],[0.2222222222222222,\"#7201a8\"],[0.3333333333333333,\"#9c179e\"],[0.4444444444444444,\"#bd3786\"],[0.5555555555555556,\"#d8576b\"],[0.6666666666666666,\"#ed7953\"],[0.7777777777777778,\"#fb9f3a\"],[0.8888888888888888,\"#fdca26\"],[1.0,\"#f0f921\"]]}],\"choropleth\":[{\"type\":\"choropleth\",\"colorbar\":{\"outlinewidth\":0,\"ticks\":\"\"}}],\"histogram2d\":[{\"type\":\"histogram2d\",\"colorbar\":{\"outlinewidth\":0,\"ticks\":\"\"},\"colorscale\":[[0.0,\"#0d0887\"],[0.1111111111111111,\"#46039f\"],[0.2222222222222222,\"#7201a8\"],[0.3333333333333333,\"#9c179e\"],[0.4444444444444444,\"#bd3786\"],[0.5555555555555556,\"#d8576b\"],[0.6666666666666666,\"#ed7953\"],[0.7777777777777778,\"#fb9f3a\"],[0.8888888888888888,\"#fdca26\"],[1.0,\"#f0f921\"]]}],\"heatmap\":[{\"type\":\"heatmap\",\"colorbar\":{\"outlinewidth\":0,\"ticks\":\"\"},\"colorscale\":[[0.0,\"#0d0887\"],[0.1111111111111111,\"#46039f\"],[0.2222222222222222,\"#7201a8\"],[0.3333333333333333,\"#9c179e\"],[0.4444444444444444,\"#bd3786\"],[0.5555555555555556,\"#d8576b\"],[0.6666666666666666,\"#ed7953\"],[0.7777777777777778,\"#fb9f3a\"],[0.8888888888888888,\"#fdca26\"],[1.0,\"#f0f921\"]]}],\"heatmapgl\":[{\"type\":\"heatmapgl\",\"colorbar\":{\"outlinewidth\":0,\"ticks\":\"\"},\"colorscale\":[[0.0,\"#0d0887\"],[0.1111111111111111,\"#46039f\"],[0.2222222222222222,\"#7201a8\"],[0.3333333333333333,\"#9c179e\"],[0.4444444444444444,\"#bd3786\"],[0.5555555555555556,\"#d8576b\"],[0.6666666666666666,\"#ed7953\"],[0.7777777777777778,\"#fb9f3a\"],[0.8888888888888888,\"#fdca26\"],[1.0,\"#f0f921\"]]}],\"contourcarpet\":[{\"type\":\"contourcarpet\",\"colorbar\":{\"outlinewidth\":0,\"ticks\":\"\"}}],\"contour\":[{\"type\":\"contour\",\"colorbar\":{\"outlinewidth\":0,\"ticks\":\"\"},\"colorscale\":[[0.0,\"#0d0887\"],[0.1111111111111111,\"#46039f\"],[0.2222222222222222,\"#7201a8\"],[0.3333333333333333,\"#9c179e\"],[0.4444444444444444,\"#bd3786\"],[0.5555555555555556,\"#d8576b\"],[0.6666666666666666,\"#ed7953\"],[0.7777777777777778,\"#fb9f3a\"],[0.8888888888888888,\"#fdca26\"],[1.0,\"#f0f921\"]]}],\"surface\":[{\"type\":\"surface\",\"colorbar\":{\"outlinewidth\":0,\"ticks\":\"\"},\"colorscale\":[[0.0,\"#0d0887\"],[0.1111111111111111,\"#46039f\"],[0.2222222222222222,\"#7201a8\"],[0.3333333333333333,\"#9c179e\"],[0.4444444444444444,\"#bd3786\"],[0.5555555555555556,\"#d8576b\"],[0.6666666666666666,\"#ed7953\"],[0.7777777777777778,\"#fb9f3a\"],[0.8888888888888888,\"#fdca26\"],[1.0,\"#f0f921\"]]}],\"mesh3d\":[{\"type\":\"mesh3d\",\"colorbar\":{\"outlinewidth\":0,\"ticks\":\"\"}}],\"scatter\":[{\"fillpattern\":{\"fillmode\":\"overlay\",\"size\":10,\"solidity\":0.2},\"type\":\"scatter\"}],\"parcoords\":[{\"type\":\"parcoords\",\"line\":{\"colorbar\":{\"outlinewidth\":0,\"ticks\":\"\"}}}],\"scatterpolargl\":[{\"type\":\"scatterpolargl\",\"marker\":{\"colorbar\":{\"outlinewidth\":0,\"ticks\":\"\"}}}],\"bar\":[{\"error_x\":{\"color\":\"#2a3f5f\"},\"error_y\":{\"color\":\"#2a3f5f\"},\"marker\":{\"line\":{\"color\":\"#E5ECF6\",\"width\":0.5},\"pattern\":{\"fillmode\":\"overlay\",\"size\":10,\"solidity\":0.2}},\"type\":\"bar\"}],\"scattergeo\":[{\"type\":\"scattergeo\",\"marker\":{\"colorbar\":{\"outlinewidth\":0,\"ticks\":\"\"}}}],\"scatterpolar\":[{\"type\":\"scatterpolar\",\"marker\":{\"colorbar\":{\"outlinewidth\":0,\"ticks\":\"\"}}}],\"histogram\":[{\"marker\":{\"pattern\":{\"fillmode\":\"overlay\",\"size\":10,\"solidity\":0.2}},\"type\":\"histogram\"}],\"scattergl\":[{\"type\":\"scattergl\",\"marker\":{\"colorbar\":{\"outlinewidth\":0,\"ticks\":\"\"}}}],\"scatter3d\":[{\"type\":\"scatter3d\",\"line\":{\"colorbar\":{\"outlinewidth\":0,\"ticks\":\"\"}},\"marker\":{\"colorbar\":{\"outlinewidth\":0,\"ticks\":\"\"}}}],\"scattermapbox\":[{\"type\":\"scattermapbox\",\"marker\":{\"colorbar\":{\"outlinewidth\":0,\"ticks\":\"\"}}}],\"scatterternary\":[{\"type\":\"scatterternary\",\"marker\":{\"colorbar\":{\"outlinewidth\":0,\"ticks\":\"\"}}}],\"scattercarpet\":[{\"type\":\"scattercarpet\",\"marker\":{\"colorbar\":{\"outlinewidth\":0,\"ticks\":\"\"}}}],\"carpet\":[{\"aaxis\":{\"endlinecolor\":\"#2a3f5f\",\"gridcolor\":\"white\",\"linecolor\":\"white\",\"minorgridcolor\":\"white\",\"startlinecolor\":\"#2a3f5f\"},\"baxis\":{\"endlinecolor\":\"#2a3f5f\",\"gridcolor\":\"white\",\"linecolor\":\"white\",\"minorgridcolor\":\"white\",\"startlinecolor\":\"#2a3f5f\"},\"type\":\"carpet\"}],\"table\":[{\"cells\":{\"fill\":{\"color\":\"#EBF0F8\"},\"line\":{\"color\":\"white\"}},\"header\":{\"fill\":{\"color\":\"#C8D4E3\"},\"line\":{\"color\":\"white\"}},\"type\":\"table\"}],\"barpolar\":[{\"marker\":{\"line\":{\"color\":\"#E5ECF6\",\"width\":0.5},\"pattern\":{\"fillmode\":\"overlay\",\"size\":10,\"solidity\":0.2}},\"type\":\"barpolar\"}],\"pie\":[{\"automargin\":true,\"type\":\"pie\"}]},\"layout\":{\"autotypenumbers\":\"strict\",\"colorway\":[\"#636efa\",\"#EF553B\",\"#00cc96\",\"#ab63fa\",\"#FFA15A\",\"#19d3f3\",\"#FF6692\",\"#B6E880\",\"#FF97FF\",\"#FECB52\"],\"font\":{\"color\":\"#2a3f5f\"},\"hovermode\":\"closest\",\"hoverlabel\":{\"align\":\"left\"},\"paper_bgcolor\":\"white\",\"plot_bgcolor\":\"#E5ECF6\",\"polar\":{\"bgcolor\":\"#E5ECF6\",\"angularaxis\":{\"gridcolor\":\"white\",\"linecolor\":\"white\",\"ticks\":\"\"},\"radialaxis\":{\"gridcolor\":\"white\",\"linecolor\":\"white\",\"ticks\":\"\"}},\"ternary\":{\"bgcolor\":\"#E5ECF6\",\"aaxis\":{\"gridcolor\":\"white\",\"linecolor\":\"white\",\"ticks\":\"\"},\"baxis\":{\"gridcolor\":\"white\",\"linecolor\":\"white\",\"ticks\":\"\"},\"caxis\":{\"gridcolor\":\"white\",\"linecolor\":\"white\",\"ticks\":\"\"}},\"coloraxis\":{\"colorbar\":{\"outlinewidth\":0,\"ticks\":\"\"}},\"colorscale\":{\"sequential\":[[0.0,\"#0d0887\"],[0.1111111111111111,\"#46039f\"],[0.2222222222222222,\"#7201a8\"],[0.3333333333333333,\"#9c179e\"],[0.4444444444444444,\"#bd3786\"],[0.5555555555555556,\"#d8576b\"],[0.6666666666666666,\"#ed7953\"],[0.7777777777777778,\"#fb9f3a\"],[0.8888888888888888,\"#fdca26\"],[1.0,\"#f0f921\"]],\"sequentialminus\":[[0.0,\"#0d0887\"],[0.1111111111111111,\"#46039f\"],[0.2222222222222222,\"#7201a8\"],[0.3333333333333333,\"#9c179e\"],[0.4444444444444444,\"#bd3786\"],[0.5555555555555556,\"#d8576b\"],[0.6666666666666666,\"#ed7953\"],[0.7777777777777778,\"#fb9f3a\"],[0.8888888888888888,\"#fdca26\"],[1.0,\"#f0f921\"]],\"diverging\":[[0,\"#8e0152\"],[0.1,\"#c51b7d\"],[0.2,\"#de77ae\"],[0.3,\"#f1b6da\"],[0.4,\"#fde0ef\"],[0.5,\"#f7f7f7\"],[0.6,\"#e6f5d0\"],[0.7,\"#b8e186\"],[0.8,\"#7fbc41\"],[0.9,\"#4d9221\"],[1,\"#276419\"]]},\"xaxis\":{\"gridcolor\":\"white\",\"linecolor\":\"white\",\"ticks\":\"\",\"title\":{\"standoff\":15},\"zerolinecolor\":\"white\",\"automargin\":true,\"zerolinewidth\":2},\"yaxis\":{\"gridcolor\":\"white\",\"linecolor\":\"white\",\"ticks\":\"\",\"title\":{\"standoff\":15},\"zerolinecolor\":\"white\",\"automargin\":true,\"zerolinewidth\":2},\"scene\":{\"xaxis\":{\"backgroundcolor\":\"#E5ECF6\",\"gridcolor\":\"white\",\"linecolor\":\"white\",\"showbackground\":true,\"ticks\":\"\",\"zerolinecolor\":\"white\",\"gridwidth\":2},\"yaxis\":{\"backgroundcolor\":\"#E5ECF6\",\"gridcolor\":\"white\",\"linecolor\":\"white\",\"showbackground\":true,\"ticks\":\"\",\"zerolinecolor\":\"white\",\"gridwidth\":2},\"zaxis\":{\"backgroundcolor\":\"#E5ECF6\",\"gridcolor\":\"white\",\"linecolor\":\"white\",\"showbackground\":true,\"ticks\":\"\",\"zerolinecolor\":\"white\",\"gridwidth\":2}},\"shapedefaults\":{\"line\":{\"color\":\"#2a3f5f\"}},\"annotationdefaults\":{\"arrowcolor\":\"#2a3f5f\",\"arrowhead\":0,\"arrowwidth\":1},\"geo\":{\"bgcolor\":\"white\",\"landcolor\":\"#E5ECF6\",\"subunitcolor\":\"white\",\"showland\":true,\"showlakes\":true,\"lakecolor\":\"white\"},\"title\":{\"x\":0.05},\"mapbox\":{\"style\":\"light\"}}},\"title\":{\"text\":\"Survival by Port of Embarkation\"},\"hoverlabel\":{\"font\":{\"family\":\"Arial\",\"size\":14,\"color\":\"white\"}},\"paper_bgcolor\":\"#bcbcbc\",\"annotations\":[{\"showarrow\":false,\"text\":\"Southampton\",\"x\":0.07,\"y\":0,\"font\":{\"size\":13}},{\"showarrow\":false,\"text\":\"Cherbourg\",\"x\":0.5,\"y\":0,\"font\":{\"size\":13}},{\"showarrow\":false,\"text\":\"Queenstown\",\"x\":0.93,\"y\":0,\"font\":{\"size\":13}}]},                        {\"responsive\": true}                    ).then(function(){\n",
       "                            \n",
       "var gd = document.getElementById('72a3ec8b-7b6d-4dd1-97a1-ddf837123d8c');\n",
       "var x = new MutationObserver(function (mutations, observer) {{\n",
       "        var display = window.getComputedStyle(gd).display;\n",
       "        if (!display || display === 'none') {{\n",
       "            console.log([gd, 'removed!']);\n",
       "            Plotly.purge(gd);\n",
       "            observer.disconnect();\n",
       "        }}\n",
       "}});\n",
       "\n",
       "// Listen for the removal of the full notebook cells\n",
       "var notebookContainer = gd.closest('#notebook-container');\n",
       "if (notebookContainer) {{\n",
       "    x.observe(notebookContainer, {childList: true});\n",
       "}}\n",
       "\n",
       "// Listen for the clearing of the current output cell\n",
       "var outputEl = gd.closest('.output');\n",
       "if (outputEl) {{\n",
       "    x.observe(outputEl, {childList: true});\n",
       "}}\n",
       "\n",
       "                        })                };                });            </script>        </div>"
      ]
     },
     "metadata": {},
     "output_type": "display_data"
    }
   ],
   "source": [
    "#Question 4\n",
    "#Which Port of Embarkation turned out to be the best one to leave from (survive the incident)?\n",
    "\n",
    "colors = ['#003758', '#8b0000','#d62728']\n",
    "figPE = make_subplots(rows =1, cols =3, specs=[[{'type':'domain'}, {'type':'domain'}, {'type':'domain'}]])\n",
    "figPE.add_trace(go.Pie(labels=df['survivedStatus'][df['portOfEmbark']=='Southampton'], hole=.4,\n",
    "                     hoverinfo=\"label+percent+name+value\", name='Survived',\n",
    "                    marker=dict(colors=colors)), 1, 1)\n",
    "figPE.add_trace(go.Pie(labels=df['survivedStatus'][df['portOfEmbark']=='Cherbourg'], hole=.4\n",
    "                     ,hoverinfo=\"label+percent+name+value\", name='Not Survived',\n",
    "                    marker=dict(colors=colors)), 1, 2)\n",
    "figPE.add_trace(go.Pie(labels=df['survivedStatus'][df['portOfEmbark']=='Queenstown'], hole=.4\n",
    "                     ,hoverinfo=\"label+percent+name+value\", name='Not Survived',\n",
    "                    marker=dict(colors=colors)), 1, 3)\n",
    "figPE.update_layout(title_text=\"Survival by Port of Embarkation\",\n",
    "                             paper_bgcolor=\"#bcbcbc\", hoverlabel=dict(font=dict(family=\"Arial\", size=14, color=\"white\")),\n",
    "                 annotations=[dict(text='Southampton', x=.07, y=0, font_size=13, showarrow=False),\n",
    "                              dict(text='Cherbourg', x=.50, y=0, font_size=13, showarrow=False),\n",
    "                              dict(text='Queenstown', x=.93, y=0, font_size=13, showarrow=False)])\n",
    "figPE.show()"
   ]
  },
  {
   "cell_type": "code",
   "execution_count": 20,
   "id": "61141ab4",
   "metadata": {},
   "outputs": [],
   "source": [
    "def add_recovered(row):\n",
    "    try:\n",
    "        if row['survivedStatus'] == \"Survived\":\n",
    "            return 'Survived'\n",
    "        elif row['survivedStatus'] == 'Not Survived':\n",
    "            if row['body'] > 0:\n",
    "                return 'Dead - Recovered'\n",
    "            else:\n",
    "                return 'Dead - Not Recovered'\n",
    "        else:\n",
    "            return 'Unknown'\n",
    "    except Exception as err:\n",
    "        # Handle the exception if needed\n",
    "        print(err)\n",
    "\n",
    "df['recovered'] = df.apply(add_recovered, axis=1)"
   ]
  },
  {
   "cell_type": "code",
   "execution_count": 21,
   "id": "708e4357",
   "metadata": {
    "scrolled": false
   },
   "outputs": [
    {
     "name": "stdout",
     "output_type": "stream",
     "text": [
      "      pclass  survived                                             name  \\\n",
      "0        1.0       1.0                    Allen, Miss. Elisabeth Walton   \n",
      "1        1.0       1.0                   Allison, Master. Hudson Trevor   \n",
      "2        1.0       0.0                     Allison, Miss. Helen Loraine   \n",
      "3        1.0       0.0             Allison, Mr. Hudson Joshua Creighton   \n",
      "4        1.0       0.0  Allison, Mrs. Hudson J C (Bessie Waldo Daniels)   \n",
      "...      ...       ...                                              ...   \n",
      "1304     3.0       0.0                             Zabour, Miss. Hileni   \n",
      "1305     3.0       0.0                            Zabour, Miss. Thamine   \n",
      "1306     3.0       0.0                        Zakarian, Mr. Mapriededer   \n",
      "1307     3.0       0.0                              Zakarian, Mr. Ortin   \n",
      "1308     3.0       0.0                               Zimmerman, Mr. Leo   \n",
      "\n",
      "         sex      age  sibsp  parch  ticket      fare    cabin  ... boat  \\\n",
      "0     female  29.0000    0.0    0.0   24160  211.3375       B5  ...    2   \n",
      "1       male   0.9167    1.0    2.0  113781  151.5500  C22 C26  ...   11   \n",
      "2     female   2.0000    1.0    2.0  113781  151.5500  C22 C26  ...  NaN   \n",
      "3       male  30.0000    1.0    2.0  113781  151.5500  C22 C26  ...  NaN   \n",
      "4     female  25.0000    1.0    2.0  113781  151.5500  C22 C26  ...  NaN   \n",
      "...      ...      ...    ...    ...     ...       ...      ...  ...  ...   \n",
      "1304  female  14.5000    1.0    0.0    2665   14.4542      NaN  ...  NaN   \n",
      "1305  female      NaN    1.0    0.0    2665   14.4542      NaN  ...  NaN   \n",
      "1306    male  26.5000    0.0    0.0    2656    7.2250      NaN  ...  NaN   \n",
      "1307    male  27.0000    0.0    0.0    2670    7.2250      NaN  ...  NaN   \n",
      "1308    male  29.0000    0.0    0.0  315082    7.8750      NaN  ...  NaN   \n",
      "\n",
      "       body                        home.dest    50plus survivedStatus  \\\n",
      "0       NaN                     St Louis, MO  Under 50       Survived   \n",
      "1       NaN  Montreal, PQ / Chesterville, ON  Under 50       Survived   \n",
      "2       NaN  Montreal, PQ / Chesterville, ON  Under 50   Not Survived   \n",
      "3     135.0  Montreal, PQ / Chesterville, ON  Under 50   Not Survived   \n",
      "4       NaN  Montreal, PQ / Chesterville, ON  Under 50   Not Survived   \n",
      "...     ...                              ...       ...            ...   \n",
      "1304  328.0                              NaN  Under 50   Not Survived   \n",
      "1305    NaN                              NaN  Under 50   Not Survived   \n",
      "1306  304.0                              NaN  Under 50   Not Survived   \n",
      "1307    NaN                              NaN  Under 50   Not Survived   \n",
      "1308    NaN                              NaN  Under 50   Not Survived   \n",
      "\n",
      "     classStatus childrenAdults     boyGirls portOfEmbark  \\\n",
      "0          First    Adult (18+)        Women  Southampton   \n",
      "1          First   Child (1-18)         Boys  Southampton   \n",
      "2          First   Child (1-18)        Girls  Southampton   \n",
      "3          First    Adult (18+)          Men  Southampton   \n",
      "4          First    Adult (18+)        Women  Southampton   \n",
      "...          ...            ...          ...          ...   \n",
      "1304       Third   Child (1-18)        Girls    Cherbourg   \n",
      "1305       Third        unknown  Age Unknown    Cherbourg   \n",
      "1306       Third    Adult (18+)          Men    Cherbourg   \n",
      "1307       Third    Adult (18+)          Men    Cherbourg   \n",
      "1308       Third    Adult (18+)          Men  Southampton   \n",
      "\n",
      "                 recovered  \n",
      "0                 Survived  \n",
      "1                 Survived  \n",
      "2     Dead - Not Recovered  \n",
      "3         Dead - Recovered  \n",
      "4     Dead - Not Recovered  \n",
      "...                    ...  \n",
      "1304      Dead - Recovered  \n",
      "1305  Dead - Not Recovered  \n",
      "1306      Dead - Recovered  \n",
      "1307  Dead - Not Recovered  \n",
      "1308  Dead - Not Recovered  \n",
      "\n",
      "[1309 rows x 21 columns]\n"
     ]
    }
   ],
   "source": [
    "print(df)"
   ]
  },
  {
   "cell_type": "code",
   "execution_count": 27,
   "id": "8a3b68cc",
   "metadata": {
    "scrolled": false
   },
   "outputs": [
    {
     "data": {
      "application/vnd.plotly.v1+json": {
       "config": {
        "plotlyServerURL": "https://plot.ly"
       },
       "data": [
        {
         "marker": {
          "color": "#003758"
         },
         "name": "Survived",
         "opacity": 0.75,
         "showlegend": true,
         "text": [
          "500"
         ],
         "textposition": "outside",
         "type": "histogram",
         "x": [
          "Survived",
          "Survived",
          "Survived",
          "Survived",
          "Survived",
          "Survived",
          "Survived",
          "Survived",
          "Survived",
          "Survived",
          "Survived",
          "Survived",
          "Survived",
          "Survived",
          "Survived",
          "Survived",
          "Survived",
          "Survived",
          "Survived",
          "Survived",
          "Survived",
          "Survived",
          "Survived",
          "Survived",
          "Survived",
          "Survived",
          "Survived",
          "Survived",
          "Survived",
          "Survived",
          "Survived",
          "Survived",
          "Survived",
          "Survived",
          "Survived",
          "Survived",
          "Survived",
          "Survived",
          "Survived",
          "Survived",
          "Survived",
          "Survived",
          "Survived",
          "Survived",
          "Survived",
          "Survived",
          "Survived",
          "Survived",
          "Survived",
          "Survived",
          "Survived",
          "Survived",
          "Survived",
          "Survived",
          "Survived",
          "Survived",
          "Survived",
          "Survived",
          "Survived",
          "Survived",
          "Survived",
          "Survived",
          "Survived",
          "Survived",
          "Survived",
          "Survived",
          "Survived",
          "Survived",
          "Survived",
          "Survived",
          "Survived",
          "Survived",
          "Survived",
          "Survived",
          "Survived",
          "Survived",
          "Survived",
          "Survived",
          "Survived",
          "Survived",
          "Survived",
          "Survived",
          "Survived",
          "Survived",
          "Survived",
          "Survived",
          "Survived",
          "Survived",
          "Survived",
          "Survived",
          "Survived",
          "Survived",
          "Survived",
          "Survived",
          "Survived",
          "Survived",
          "Survived",
          "Survived",
          "Survived",
          "Survived",
          "Survived",
          "Survived",
          "Survived",
          "Survived",
          "Survived",
          "Survived",
          "Survived",
          "Survived",
          "Survived",
          "Survived",
          "Survived",
          "Survived",
          "Survived",
          "Survived",
          "Survived",
          "Survived",
          "Survived",
          "Survived",
          "Survived",
          "Survived",
          "Survived",
          "Survived",
          "Survived",
          "Survived",
          "Survived",
          "Survived",
          "Survived",
          "Survived",
          "Survived",
          "Survived",
          "Survived",
          "Survived",
          "Survived",
          "Survived",
          "Survived",
          "Survived",
          "Survived",
          "Survived",
          "Survived",
          "Survived",
          "Survived",
          "Survived",
          "Survived",
          "Survived",
          "Survived",
          "Survived",
          "Survived",
          "Survived",
          "Survived",
          "Survived",
          "Survived",
          "Survived",
          "Survived",
          "Survived",
          "Survived",
          "Survived",
          "Survived",
          "Survived",
          "Survived",
          "Survived",
          "Survived",
          "Survived",
          "Survived",
          "Survived",
          "Survived",
          "Survived",
          "Survived",
          "Survived",
          "Survived",
          "Survived",
          "Survived",
          "Survived",
          "Survived",
          "Survived",
          "Survived",
          "Survived",
          "Survived",
          "Survived",
          "Survived",
          "Survived",
          "Survived",
          "Survived",
          "Survived",
          "Survived",
          "Survived",
          "Survived",
          "Survived",
          "Survived",
          "Survived",
          "Survived",
          "Survived",
          "Survived",
          "Survived",
          "Survived",
          "Survived",
          "Survived",
          "Survived",
          "Survived",
          "Survived",
          "Survived",
          "Survived",
          "Survived",
          "Survived",
          "Survived",
          "Survived",
          "Survived",
          "Survived",
          "Survived",
          "Survived",
          "Survived",
          "Survived",
          "Survived",
          "Survived",
          "Survived",
          "Survived",
          "Survived",
          "Survived",
          "Survived",
          "Survived",
          "Survived",
          "Survived",
          "Survived",
          "Survived",
          "Survived",
          "Survived",
          "Survived",
          "Survived",
          "Survived",
          "Survived",
          "Survived",
          "Survived",
          "Survived",
          "Survived",
          "Survived",
          "Survived",
          "Survived",
          "Survived",
          "Survived",
          "Survived",
          "Survived",
          "Survived",
          "Survived",
          "Survived",
          "Survived",
          "Survived",
          "Survived",
          "Survived",
          "Survived",
          "Survived",
          "Survived",
          "Survived",
          "Survived",
          "Survived",
          "Survived",
          "Survived",
          "Survived",
          "Survived",
          "Survived",
          "Survived",
          "Survived",
          "Survived",
          "Survived",
          "Survived",
          "Survived",
          "Survived",
          "Survived",
          "Survived",
          "Survived",
          "Survived",
          "Survived",
          "Survived",
          "Survived",
          "Survived",
          "Survived",
          "Survived",
          "Survived",
          "Survived",
          "Survived",
          "Survived",
          "Survived",
          "Survived",
          "Survived",
          "Survived",
          "Survived",
          "Survived",
          "Survived",
          "Survived",
          "Survived",
          "Survived",
          "Survived",
          "Survived",
          "Survived",
          "Survived",
          "Survived",
          "Survived",
          "Survived",
          "Survived",
          "Survived",
          "Survived",
          "Survived",
          "Survived",
          "Survived",
          "Survived",
          "Survived",
          "Survived",
          "Survived",
          "Survived",
          "Survived",
          "Survived",
          "Survived",
          "Survived",
          "Survived",
          "Survived",
          "Survived",
          "Survived",
          "Survived",
          "Survived",
          "Survived",
          "Survived",
          "Survived",
          "Survived",
          "Survived",
          "Survived",
          "Survived",
          "Survived",
          "Survived",
          "Survived",
          "Survived",
          "Survived",
          "Survived",
          "Survived",
          "Survived",
          "Survived",
          "Survived",
          "Survived",
          "Survived",
          "Survived",
          "Survived",
          "Survived",
          "Survived",
          "Survived",
          "Survived",
          "Survived",
          "Survived",
          "Survived",
          "Survived",
          "Survived",
          "Survived",
          "Survived",
          "Survived",
          "Survived",
          "Survived",
          "Survived",
          "Survived",
          "Survived",
          "Survived",
          "Survived",
          "Survived",
          "Survived",
          "Survived",
          "Survived",
          "Survived",
          "Survived",
          "Survived",
          "Survived",
          "Survived",
          "Survived",
          "Survived",
          "Survived",
          "Survived",
          "Survived",
          "Survived",
          "Survived",
          "Survived",
          "Survived",
          "Survived",
          "Survived",
          "Survived",
          "Survived",
          "Survived",
          "Survived",
          "Survived",
          "Survived",
          "Survived",
          "Survived",
          "Survived",
          "Survived",
          "Survived",
          "Survived",
          "Survived",
          "Survived",
          "Survived",
          "Survived",
          "Survived",
          "Survived",
          "Survived",
          "Survived",
          "Survived",
          "Survived",
          "Survived",
          "Survived",
          "Survived",
          "Survived",
          "Survived",
          "Survived",
          "Survived",
          "Survived",
          "Survived",
          "Survived",
          "Survived",
          "Survived",
          "Survived",
          "Survived",
          "Survived",
          "Survived",
          "Survived",
          "Survived",
          "Survived",
          "Survived",
          "Survived",
          "Survived",
          "Survived",
          "Survived",
          "Survived",
          "Survived",
          "Survived",
          "Survived",
          "Survived",
          "Survived",
          "Survived",
          "Survived",
          "Survived",
          "Survived",
          "Survived",
          "Survived",
          "Survived",
          "Survived",
          "Survived",
          "Survived",
          "Survived",
          "Survived",
          "Survived",
          "Survived",
          "Survived",
          "Survived",
          "Survived",
          "Survived",
          "Survived",
          "Survived",
          "Survived",
          "Survived",
          "Survived",
          "Survived",
          "Survived",
          "Survived",
          "Survived",
          "Survived",
          "Survived",
          "Survived",
          "Survived",
          "Survived",
          "Survived",
          "Survived",
          "Survived",
          "Survived",
          "Survived",
          "Survived",
          "Survived",
          "Survived",
          "Survived",
          "Survived",
          "Survived",
          "Survived",
          "Survived",
          "Survived",
          "Survived",
          "Survived",
          "Survived",
          "Survived",
          "Survived",
          "Survived",
          "Survived",
          "Survived",
          "Survived",
          "Survived",
          "Survived",
          "Survived",
          "Survived",
          "Survived",
          "Survived",
          "Survived",
          "Survived",
          "Survived",
          "Survived",
          "Survived",
          "Survived",
          "Survived",
          "Survived",
          "Survived",
          "Survived"
         ],
         "xaxis": "x",
         "yaxis": "y"
        },
        {
         "marker": {
          "color": "#8b0000"
         },
         "name": "Did not survive",
         "opacity": 0.75,
         "showlegend": true,
         "text": [
          "688",
          "121"
         ],
         "textposition": "outside",
         "type": "histogram",
         "x": [
          "Dead - Not Recovered",
          "Dead - Recovered",
          "Dead - Not Recovered",
          "Dead - Not Recovered",
          "Dead - Recovered",
          "Dead - Recovered",
          "Dead - Not Recovered",
          "Dead - Not Recovered",
          "Dead - Not Recovered",
          "Dead - Recovered",
          "Dead - Not Recovered",
          "Dead - Not Recovered",
          "Dead - Not Recovered",
          "Dead - Recovered",
          "Dead - Not Recovered",
          "Dead - Not Recovered",
          "Dead - Not Recovered",
          "Dead - Not Recovered",
          "Dead - Not Recovered",
          "Dead - Not Recovered",
          "Dead - Not Recovered",
          "Dead - Recovered",
          "Dead - Not Recovered",
          "Dead - Not Recovered",
          "Dead - Not Recovered",
          "Dead - Not Recovered",
          "Dead - Not Recovered",
          "Dead - Not Recovered",
          "Dead - Not Recovered",
          "Dead - Recovered",
          "Dead - Not Recovered",
          "Dead - Not Recovered",
          "Dead - Recovered",
          "Dead - Recovered",
          "Dead - Not Recovered",
          "Dead - Not Recovered",
          "Dead - Not Recovered",
          "Dead - Not Recovered",
          "Dead - Not Recovered",
          "Dead - Not Recovered",
          "Dead - Not Recovered",
          "Dead - Not Recovered",
          "Dead - Recovered",
          "Dead - Not Recovered",
          "Dead - Not Recovered",
          "Dead - Recovered",
          "Dead - Not Recovered",
          "Dead - Not Recovered",
          "Dead - Not Recovered",
          "Dead - Recovered",
          "Dead - Recovered",
          "Dead - Not Recovered",
          "Dead - Not Recovered",
          "Dead - Not Recovered",
          "Dead - Recovered",
          "Dead - Not Recovered",
          "Dead - Not Recovered",
          "Dead - Recovered",
          "Dead - Not Recovered",
          "Dead - Recovered",
          "Dead - Recovered",
          "Dead - Not Recovered",
          "Dead - Not Recovered",
          "Dead - Not Recovered",
          "Dead - Not Recovered",
          "Dead - Recovered",
          "Dead - Not Recovered",
          "Dead - Not Recovered",
          "Dead - Not Recovered",
          "Dead - Recovered",
          "Dead - Recovered",
          "Dead - Not Recovered",
          "Dead - Recovered",
          "Dead - Recovered",
          "Dead - Not Recovered",
          "Dead - Not Recovered",
          "Dead - Not Recovered",
          "Dead - Recovered",
          "Dead - Recovered",
          "Dead - Recovered",
          "Dead - Recovered",
          "Dead - Not Recovered",
          "Dead - Recovered",
          "Dead - Not Recovered",
          "Dead - Not Recovered",
          "Dead - Not Recovered",
          "Dead - Recovered",
          "Dead - Not Recovered",
          "Dead - Recovered",
          "Dead - Not Recovered",
          "Dead - Not Recovered",
          "Dead - Not Recovered",
          "Dead - Recovered",
          "Dead - Not Recovered",
          "Dead - Not Recovered",
          "Dead - Recovered",
          "Dead - Not Recovered",
          "Dead - Not Recovered",
          "Dead - Not Recovered",
          "Dead - Not Recovered",
          "Dead - Not Recovered",
          "Dead - Not Recovered",
          "Dead - Not Recovered",
          "Dead - Not Recovered",
          "Dead - Not Recovered",
          "Dead - Recovered",
          "Dead - Not Recovered",
          "Dead - Recovered",
          "Dead - Not Recovered",
          "Dead - Not Recovered",
          "Dead - Not Recovered",
          "Dead - Recovered",
          "Dead - Not Recovered",
          "Dead - Not Recovered",
          "Dead - Not Recovered",
          "Dead - Not Recovered",
          "Dead - Recovered",
          "Dead - Not Recovered",
          "Dead - Not Recovered",
          "Dead - Not Recovered",
          "Dead - Not Recovered",
          "Dead - Not Recovered",
          "Dead - Not Recovered",
          "Dead - Not Recovered",
          "Dead - Not Recovered",
          "Dead - Not Recovered",
          "Dead - Not Recovered",
          "Dead - Not Recovered",
          "Dead - Not Recovered",
          "Dead - Not Recovered",
          "Dead - Not Recovered",
          "Dead - Not Recovered",
          "Dead - Recovered",
          "Dead - Not Recovered",
          "Dead - Not Recovered",
          "Dead - Not Recovered",
          "Dead - Not Recovered",
          "Dead - Not Recovered",
          "Dead - Not Recovered",
          "Dead - Not Recovered",
          "Dead - Recovered",
          "Dead - Not Recovered",
          "Dead - Not Recovered",
          "Dead - Recovered",
          "Dead - Not Recovered",
          "Dead - Not Recovered",
          "Dead - Recovered",
          "Dead - Recovered",
          "Dead - Not Recovered",
          "Dead - Not Recovered",
          "Dead - Not Recovered",
          "Dead - Not Recovered",
          "Dead - Not Recovered",
          "Dead - Not Recovered",
          "Dead - Not Recovered",
          "Dead - Not Recovered",
          "Dead - Not Recovered",
          "Dead - Not Recovered",
          "Dead - Not Recovered",
          "Dead - Not Recovered",
          "Dead - Recovered",
          "Dead - Not Recovered",
          "Dead - Not Recovered",
          "Dead - Not Recovered",
          "Dead - Not Recovered",
          "Dead - Not Recovered",
          "Dead - Not Recovered",
          "Dead - Not Recovered",
          "Dead - Recovered",
          "Dead - Not Recovered",
          "Dead - Recovered",
          "Dead - Not Recovered",
          "Dead - Not Recovered",
          "Dead - Recovered",
          "Dead - Not Recovered",
          "Dead - Not Recovered",
          "Dead - Not Recovered",
          "Dead - Not Recovered",
          "Dead - Not Recovered",
          "Dead - Not Recovered",
          "Dead - Not Recovered",
          "Dead - Recovered",
          "Dead - Recovered",
          "Dead - Not Recovered",
          "Dead - Recovered",
          "Dead - Recovered",
          "Dead - Recovered",
          "Dead - Recovered",
          "Dead - Not Recovered",
          "Dead - Not Recovered",
          "Dead - Not Recovered",
          "Dead - Not Recovered",
          "Dead - Not Recovered",
          "Dead - Recovered",
          "Dead - Not Recovered",
          "Dead - Not Recovered",
          "Dead - Not Recovered",
          "Dead - Not Recovered",
          "Dead - Recovered",
          "Dead - Not Recovered",
          "Dead - Not Recovered",
          "Dead - Not Recovered",
          "Dead - Not Recovered",
          "Dead - Not Recovered",
          "Dead - Not Recovered",
          "Dead - Not Recovered",
          "Dead - Not Recovered",
          "Dead - Not Recovered",
          "Dead - Not Recovered",
          "Dead - Recovered",
          "Dead - Not Recovered",
          "Dead - Not Recovered",
          "Dead - Not Recovered",
          "Dead - Not Recovered",
          "Dead - Recovered",
          "Dead - Not Recovered",
          "Dead - Not Recovered",
          "Dead - Not Recovered",
          "Dead - Not Recovered",
          "Dead - Not Recovered",
          "Dead - Recovered",
          "Dead - Not Recovered",
          "Dead - Recovered",
          "Dead - Recovered",
          "Dead - Not Recovered",
          "Dead - Not Recovered",
          "Dead - Not Recovered",
          "Dead - Not Recovered",
          "Dead - Not Recovered",
          "Dead - Recovered",
          "Dead - Not Recovered",
          "Dead - Not Recovered",
          "Dead - Not Recovered",
          "Dead - Recovered",
          "Dead - Not Recovered",
          "Dead - Not Recovered",
          "Dead - Not Recovered",
          "Dead - Not Recovered",
          "Dead - Not Recovered",
          "Dead - Not Recovered",
          "Dead - Recovered",
          "Dead - Recovered",
          "Dead - Not Recovered",
          "Dead - Recovered",
          "Dead - Recovered",
          "Dead - Not Recovered",
          "Dead - Not Recovered",
          "Dead - Not Recovered",
          "Dead - Not Recovered",
          "Dead - Not Recovered",
          "Dead - Not Recovered",
          "Dead - Not Recovered",
          "Dead - Not Recovered",
          "Dead - Not Recovered",
          "Dead - Not Recovered",
          "Dead - Not Recovered",
          "Dead - Not Recovered",
          "Dead - Not Recovered",
          "Dead - Not Recovered",
          "Dead - Not Recovered",
          "Dead - Not Recovered",
          "Dead - Not Recovered",
          "Dead - Not Recovered",
          "Dead - Not Recovered",
          "Dead - Not Recovered",
          "Dead - Not Recovered",
          "Dead - Recovered",
          "Dead - Recovered",
          "Dead - Not Recovered",
          "Dead - Not Recovered",
          "Dead - Not Recovered",
          "Dead - Not Recovered",
          "Dead - Not Recovered",
          "Dead - Not Recovered",
          "Dead - Not Recovered",
          "Dead - Not Recovered",
          "Dead - Recovered",
          "Dead - Not Recovered",
          "Dead - Not Recovered",
          "Dead - Not Recovered",
          "Dead - Not Recovered",
          "Dead - Not Recovered",
          "Dead - Not Recovered",
          "Dead - Recovered",
          "Dead - Recovered",
          "Dead - Recovered",
          "Dead - Not Recovered",
          "Dead - Not Recovered",
          "Dead - Not Recovered",
          "Dead - Not Recovered",
          "Dead - Recovered",
          "Dead - Not Recovered",
          "Dead - Recovered",
          "Dead - Recovered",
          "Dead - Not Recovered",
          "Dead - Not Recovered",
          "Dead - Not Recovered",
          "Dead - Not Recovered",
          "Dead - Not Recovered",
          "Dead - Not Recovered",
          "Dead - Not Recovered",
          "Dead - Not Recovered",
          "Dead - Not Recovered",
          "Dead - Not Recovered",
          "Dead - Not Recovered",
          "Dead - Not Recovered",
          "Dead - Not Recovered",
          "Dead - Not Recovered",
          "Dead - Not Recovered",
          "Dead - Not Recovered",
          "Dead - Not Recovered",
          "Dead - Not Recovered",
          "Dead - Recovered",
          "Dead - Not Recovered",
          "Dead - Not Recovered",
          "Dead - Not Recovered",
          "Dead - Not Recovered",
          "Dead - Not Recovered",
          "Dead - Not Recovered",
          "Dead - Not Recovered",
          "Dead - Not Recovered",
          "Dead - Not Recovered",
          "Dead - Not Recovered",
          "Dead - Not Recovered",
          "Dead - Not Recovered",
          "Dead - Not Recovered",
          "Dead - Not Recovered",
          "Dead - Not Recovered",
          "Dead - Not Recovered",
          "Dead - Not Recovered",
          "Dead - Not Recovered",
          "Dead - Not Recovered",
          "Dead - Not Recovered",
          "Dead - Not Recovered",
          "Dead - Not Recovered",
          "Dead - Not Recovered",
          "Dead - Not Recovered",
          "Dead - Not Recovered",
          "Dead - Not Recovered",
          "Dead - Not Recovered",
          "Dead - Not Recovered",
          "Dead - Not Recovered",
          "Dead - Not Recovered",
          "Dead - Not Recovered",
          "Dead - Not Recovered",
          "Dead - Not Recovered",
          "Dead - Not Recovered",
          "Dead - Recovered",
          "Dead - Not Recovered",
          "Dead - Not Recovered",
          "Dead - Not Recovered",
          "Dead - Not Recovered",
          "Dead - Not Recovered",
          "Dead - Not Recovered",
          "Dead - Not Recovered",
          "Dead - Not Recovered",
          "Dead - Not Recovered",
          "Dead - Not Recovered",
          "Dead - Not Recovered",
          "Dead - Not Recovered",
          "Dead - Not Recovered",
          "Dead - Not Recovered",
          "Dead - Not Recovered",
          "Dead - Not Recovered",
          "Dead - Not Recovered",
          "Dead - Not Recovered",
          "Dead - Not Recovered",
          "Dead - Not Recovered",
          "Dead - Not Recovered",
          "Dead - Not Recovered",
          "Dead - Not Recovered",
          "Dead - Not Recovered",
          "Dead - Not Recovered",
          "Dead - Not Recovered",
          "Dead - Not Recovered",
          "Dead - Not Recovered",
          "Dead - Not Recovered",
          "Dead - Recovered",
          "Dead - Not Recovered",
          "Dead - Not Recovered",
          "Dead - Not Recovered",
          "Dead - Not Recovered",
          "Dead - Not Recovered",
          "Dead - Not Recovered",
          "Dead - Not Recovered",
          "Dead - Not Recovered",
          "Dead - Not Recovered",
          "Dead - Recovered",
          "Dead - Not Recovered",
          "Dead - Not Recovered",
          "Dead - Not Recovered",
          "Dead - Recovered",
          "Dead - Not Recovered",
          "Dead - Not Recovered",
          "Dead - Not Recovered",
          "Dead - Not Recovered",
          "Dead - Not Recovered",
          "Dead - Not Recovered",
          "Dead - Not Recovered",
          "Dead - Not Recovered",
          "Dead - Not Recovered",
          "Dead - Not Recovered",
          "Dead - Not Recovered",
          "Dead - Not Recovered",
          "Dead - Not Recovered",
          "Dead - Not Recovered",
          "Dead - Not Recovered",
          "Dead - Not Recovered",
          "Dead - Not Recovered",
          "Dead - Not Recovered",
          "Dead - Not Recovered",
          "Dead - Not Recovered",
          "Dead - Not Recovered",
          "Dead - Recovered",
          "Dead - Not Recovered",
          "Dead - Not Recovered",
          "Dead - Not Recovered",
          "Dead - Not Recovered",
          "Dead - Not Recovered",
          "Dead - Not Recovered",
          "Dead - Not Recovered",
          "Dead - Not Recovered",
          "Dead - Not Recovered",
          "Dead - Not Recovered",
          "Dead - Not Recovered",
          "Dead - Recovered",
          "Dead - Recovered",
          "Dead - Not Recovered",
          "Dead - Not Recovered",
          "Dead - Not Recovered",
          "Dead - Not Recovered",
          "Dead - Not Recovered",
          "Dead - Not Recovered",
          "Dead - Not Recovered",
          "Dead - Not Recovered",
          "Dead - Not Recovered",
          "Dead - Not Recovered",
          "Dead - Not Recovered",
          "Dead - Not Recovered",
          "Dead - Not Recovered",
          "Dead - Not Recovered",
          "Dead - Not Recovered",
          "Dead - Not Recovered",
          "Dead - Not Recovered",
          "Dead - Recovered",
          "Dead - Not Recovered",
          "Dead - Not Recovered",
          "Dead - Not Recovered",
          "Dead - Not Recovered",
          "Dead - Not Recovered",
          "Dead - Not Recovered",
          "Dead - Not Recovered",
          "Dead - Not Recovered",
          "Dead - Not Recovered",
          "Dead - Not Recovered",
          "Dead - Not Recovered",
          "Dead - Not Recovered",
          "Dead - Not Recovered",
          "Dead - Not Recovered",
          "Dead - Not Recovered",
          "Dead - Recovered",
          "Dead - Not Recovered",
          "Dead - Not Recovered",
          "Dead - Not Recovered",
          "Dead - Not Recovered",
          "Dead - Not Recovered",
          "Dead - Not Recovered",
          "Dead - Not Recovered",
          "Dead - Not Recovered",
          "Dead - Recovered",
          "Dead - Not Recovered",
          "Dead - Not Recovered",
          "Dead - Recovered",
          "Dead - Not Recovered",
          "Dead - Not Recovered",
          "Dead - Not Recovered",
          "Dead - Not Recovered",
          "Dead - Not Recovered",
          "Dead - Not Recovered",
          "Dead - Recovered",
          "Dead - Not Recovered",
          "Dead - Not Recovered",
          "Dead - Not Recovered",
          "Dead - Not Recovered",
          "Dead - Not Recovered",
          "Dead - Recovered",
          "Dead - Not Recovered",
          "Dead - Not Recovered",
          "Dead - Not Recovered",
          "Dead - Not Recovered",
          "Dead - Not Recovered",
          "Dead - Not Recovered",
          "Dead - Not Recovered",
          "Dead - Not Recovered",
          "Dead - Not Recovered",
          "Dead - Recovered",
          "Dead - Recovered",
          "Dead - Recovered",
          "Dead - Not Recovered",
          "Dead - Not Recovered",
          "Dead - Not Recovered",
          "Dead - Recovered",
          "Dead - Not Recovered",
          "Dead - Not Recovered",
          "Dead - Not Recovered",
          "Dead - Not Recovered",
          "Dead - Not Recovered",
          "Dead - Not Recovered",
          "Dead - Not Recovered",
          "Dead - Not Recovered",
          "Dead - Not Recovered",
          "Dead - Not Recovered",
          "Dead - Not Recovered",
          "Dead - Not Recovered",
          "Dead - Not Recovered",
          "Dead - Not Recovered",
          "Dead - Not Recovered",
          "Dead - Recovered",
          "Dead - Not Recovered",
          "Dead - Not Recovered",
          "Dead - Recovered",
          "Dead - Not Recovered",
          "Dead - Not Recovered",
          "Dead - Not Recovered",
          "Dead - Not Recovered",
          "Dead - Not Recovered",
          "Dead - Not Recovered",
          "Dead - Not Recovered",
          "Dead - Not Recovered",
          "Dead - Not Recovered",
          "Dead - Not Recovered",
          "Dead - Not Recovered",
          "Dead - Not Recovered",
          "Dead - Not Recovered",
          "Dead - Not Recovered",
          "Dead - Not Recovered",
          "Dead - Not Recovered",
          "Dead - Not Recovered",
          "Dead - Not Recovered",
          "Dead - Not Recovered",
          "Dead - Not Recovered",
          "Dead - Not Recovered",
          "Dead - Not Recovered",
          "Dead - Not Recovered",
          "Dead - Not Recovered",
          "Dead - Not Recovered",
          "Dead - Not Recovered",
          "Dead - Recovered",
          "Dead - Not Recovered",
          "Dead - Not Recovered",
          "Dead - Not Recovered",
          "Dead - Not Recovered",
          "Dead - Not Recovered",
          "Dead - Not Recovered",
          "Dead - Not Recovered",
          "Dead - Not Recovered",
          "Dead - Not Recovered",
          "Dead - Not Recovered",
          "Dead - Not Recovered",
          "Dead - Not Recovered",
          "Dead - Not Recovered",
          "Dead - Not Recovered",
          "Dead - Recovered",
          "Dead - Not Recovered",
          "Dead - Not Recovered",
          "Dead - Not Recovered",
          "Dead - Not Recovered",
          "Dead - Not Recovered",
          "Dead - Not Recovered",
          "Dead - Not Recovered",
          "Dead - Not Recovered",
          "Dead - Not Recovered",
          "Dead - Recovered",
          "Dead - Not Recovered",
          "Dead - Not Recovered",
          "Dead - Not Recovered",
          "Dead - Not Recovered",
          "Dead - Not Recovered",
          "Dead - Not Recovered",
          "Dead - Not Recovered",
          "Dead - Not Recovered",
          "Dead - Recovered",
          "Dead - Not Recovered",
          "Dead - Not Recovered",
          "Dead - Not Recovered",
          "Dead - Recovered",
          "Dead - Not Recovered",
          "Dead - Not Recovered",
          "Dead - Not Recovered",
          "Dead - Not Recovered",
          "Dead - Not Recovered",
          "Dead - Not Recovered",
          "Dead - Recovered",
          "Dead - Not Recovered",
          "Dead - Not Recovered",
          "Dead - Not Recovered",
          "Dead - Not Recovered",
          "Dead - Not Recovered",
          "Dead - Not Recovered",
          "Dead - Not Recovered",
          "Dead - Not Recovered",
          "Dead - Not Recovered",
          "Dead - Not Recovered",
          "Dead - Not Recovered",
          "Dead - Not Recovered",
          "Dead - Not Recovered",
          "Dead - Not Recovered",
          "Dead - Not Recovered",
          "Dead - Not Recovered",
          "Dead - Not Recovered",
          "Dead - Not Recovered",
          "Dead - Not Recovered",
          "Dead - Recovered",
          "Dead - Not Recovered",
          "Dead - Not Recovered",
          "Dead - Not Recovered",
          "Dead - Not Recovered",
          "Dead - Not Recovered",
          "Dead - Not Recovered",
          "Dead - Not Recovered",
          "Dead - Not Recovered",
          "Dead - Recovered",
          "Dead - Not Recovered",
          "Dead - Not Recovered",
          "Dead - Not Recovered",
          "Dead - Not Recovered",
          "Dead - Recovered",
          "Dead - Not Recovered",
          "Dead - Not Recovered",
          "Dead - Not Recovered",
          "Dead - Not Recovered",
          "Dead - Not Recovered",
          "Dead - Recovered",
          "Dead - Not Recovered",
          "Dead - Not Recovered",
          "Dead - Not Recovered",
          "Dead - Recovered",
          "Dead - Not Recovered",
          "Dead - Not Recovered",
          "Dead - Not Recovered",
          "Dead - Not Recovered",
          "Dead - Not Recovered",
          "Dead - Not Recovered",
          "Dead - Not Recovered",
          "Dead - Not Recovered",
          "Dead - Not Recovered",
          "Dead - Not Recovered",
          "Dead - Not Recovered",
          "Dead - Not Recovered",
          "Dead - Not Recovered",
          "Dead - Not Recovered",
          "Dead - Not Recovered",
          "Dead - Not Recovered",
          "Dead - Not Recovered",
          "Dead - Not Recovered",
          "Dead - Not Recovered",
          "Dead - Not Recovered",
          "Dead - Not Recovered",
          "Dead - Not Recovered",
          "Dead - Not Recovered",
          "Dead - Not Recovered",
          "Dead - Not Recovered",
          "Dead - Not Recovered",
          "Dead - Not Recovered",
          "Dead - Not Recovered",
          "Dead - Not Recovered",
          "Dead - Not Recovered",
          "Dead - Not Recovered",
          "Dead - Not Recovered",
          "Dead - Not Recovered",
          "Dead - Not Recovered",
          "Dead - Not Recovered",
          "Dead - Not Recovered",
          "Dead - Not Recovered",
          "Dead - Not Recovered",
          "Dead - Not Recovered",
          "Dead - Not Recovered",
          "Dead - Recovered",
          "Dead - Not Recovered",
          "Dead - Not Recovered",
          "Dead - Not Recovered",
          "Dead - Not Recovered",
          "Dead - Recovered",
          "Dead - Recovered",
          "Dead - Not Recovered",
          "Dead - Not Recovered",
          "Dead - Not Recovered",
          "Dead - Not Recovered",
          "Dead - Not Recovered",
          "Dead - Not Recovered",
          "Dead - Not Recovered",
          "Dead - Not Recovered",
          "Dead - Not Recovered",
          "Dead - Not Recovered",
          "Dead - Not Recovered",
          "Dead - Not Recovered",
          "Dead - Not Recovered",
          "Dead - Recovered",
          "Dead - Not Recovered",
          "Dead - Recovered",
          "Dead - Not Recovered",
          "Dead - Not Recovered",
          "Dead - Not Recovered",
          "Dead - Not Recovered",
          "Dead - Not Recovered",
          "Dead - Not Recovered",
          "Dead - Not Recovered",
          "Dead - Not Recovered",
          "Dead - Not Recovered",
          "Dead - Not Recovered",
          "Dead - Not Recovered",
          "Dead - Not Recovered",
          "Dead - Not Recovered",
          "Dead - Not Recovered",
          "Dead - Not Recovered",
          "Dead - Recovered",
          "Dead - Not Recovered",
          "Dead - Not Recovered",
          "Dead - Not Recovered",
          "Dead - Not Recovered",
          "Dead - Not Recovered",
          "Dead - Not Recovered",
          "Dead - Not Recovered",
          "Dead - Not Recovered",
          "Dead - Not Recovered",
          "Dead - Not Recovered",
          "Dead - Not Recovered",
          "Dead - Not Recovered",
          "Dead - Not Recovered",
          "Dead - Not Recovered",
          "Dead - Not Recovered",
          "Dead - Not Recovered",
          "Dead - Not Recovered",
          "Dead - Not Recovered",
          "Dead - Not Recovered",
          "Dead - Not Recovered",
          "Dead - Not Recovered",
          "Dead - Not Recovered",
          "Dead - Not Recovered",
          "Dead - Not Recovered",
          "Dead - Not Recovered",
          "Dead - Not Recovered",
          "Dead - Not Recovered",
          "Dead - Recovered",
          "Dead - Not Recovered",
          "Dead - Not Recovered",
          "Dead - Not Recovered",
          "Dead - Not Recovered",
          "Dead - Not Recovered",
          "Dead - Not Recovered",
          "Dead - Not Recovered",
          "Dead - Not Recovered",
          "Dead - Recovered",
          "Dead - Not Recovered",
          "Dead - Not Recovered",
          "Dead - Not Recovered",
          "Dead - Not Recovered",
          "Dead - Not Recovered",
          "Dead - Not Recovered",
          "Dead - Not Recovered",
          "Dead - Not Recovered",
          "Dead - Recovered",
          "Dead - Not Recovered",
          "Dead - Not Recovered",
          "Dead - Not Recovered",
          "Dead - Not Recovered",
          "Dead - Not Recovered",
          "Dead - Recovered",
          "Dead - Recovered",
          "Dead - Not Recovered",
          "Dead - Not Recovered",
          "Dead - Not Recovered",
          "Dead - Not Recovered",
          "Dead - Not Recovered",
          "Dead - Not Recovered",
          "Dead - Not Recovered",
          "Dead - Not Recovered",
          "Dead - Not Recovered",
          "Dead - Not Recovered",
          "Dead - Not Recovered",
          "Dead - Not Recovered",
          "Dead - Not Recovered",
          "Dead - Not Recovered",
          "Dead - Not Recovered",
          "Dead - Not Recovered",
          "Dead - Not Recovered",
          "Dead - Not Recovered",
          "Dead - Not Recovered",
          "Dead - Recovered",
          "Dead - Not Recovered",
          "Dead - Recovered",
          "Dead - Not Recovered",
          "Dead - Not Recovered",
          "Dead - Not Recovered",
          "Dead - Not Recovered",
          "Dead - Recovered",
          "Dead - Not Recovered",
          "Dead - Recovered",
          "Dead - Not Recovered",
          "Dead - Not Recovered",
          "Dead - Not Recovered",
          "Dead - Recovered",
          "Dead - Not Recovered",
          "Dead - Not Recovered",
          "Dead - Recovered",
          "Dead - Not Recovered",
          "Dead - Recovered",
          "Dead - Not Recovered",
          "Dead - Not Recovered"
         ],
         "xaxis": "x",
         "yaxis": "y"
        }
       ],
       "layout": {
        "annotations": [
         {
          "font": {
           "size": 16
          },
          "showarrow": false,
          "text": "Passenger Status after Titanic Crash",
          "x": 0.5,
          "xanchor": "center",
          "xref": "paper",
          "y": 1,
          "yanchor": "bottom",
          "yref": "paper"
         }
        ],
        "bargap": 0.4,
        "bargroupgap": 0,
        "template": {
         "data": {
          "bar": [
           {
            "error_x": {
             "color": "#2a3f5f"
            },
            "error_y": {
             "color": "#2a3f5f"
            },
            "marker": {
             "line": {
              "color": "#E5ECF6",
              "width": 0.5
             },
             "pattern": {
              "fillmode": "overlay",
              "size": 10,
              "solidity": 0.2
             }
            },
            "type": "bar"
           }
          ],
          "barpolar": [
           {
            "marker": {
             "line": {
              "color": "#E5ECF6",
              "width": 0.5
             },
             "pattern": {
              "fillmode": "overlay",
              "size": 10,
              "solidity": 0.2
             }
            },
            "type": "barpolar"
           }
          ],
          "carpet": [
           {
            "aaxis": {
             "endlinecolor": "#2a3f5f",
             "gridcolor": "white",
             "linecolor": "white",
             "minorgridcolor": "white",
             "startlinecolor": "#2a3f5f"
            },
            "baxis": {
             "endlinecolor": "#2a3f5f",
             "gridcolor": "white",
             "linecolor": "white",
             "minorgridcolor": "white",
             "startlinecolor": "#2a3f5f"
            },
            "type": "carpet"
           }
          ],
          "choropleth": [
           {
            "colorbar": {
             "outlinewidth": 0,
             "ticks": ""
            },
            "type": "choropleth"
           }
          ],
          "contour": [
           {
            "colorbar": {
             "outlinewidth": 0,
             "ticks": ""
            },
            "colorscale": [
             [
              0,
              "#0d0887"
             ],
             [
              0.1111111111111111,
              "#46039f"
             ],
             [
              0.2222222222222222,
              "#7201a8"
             ],
             [
              0.3333333333333333,
              "#9c179e"
             ],
             [
              0.4444444444444444,
              "#bd3786"
             ],
             [
              0.5555555555555556,
              "#d8576b"
             ],
             [
              0.6666666666666666,
              "#ed7953"
             ],
             [
              0.7777777777777778,
              "#fb9f3a"
             ],
             [
              0.8888888888888888,
              "#fdca26"
             ],
             [
              1,
              "#f0f921"
             ]
            ],
            "type": "contour"
           }
          ],
          "contourcarpet": [
           {
            "colorbar": {
             "outlinewidth": 0,
             "ticks": ""
            },
            "type": "contourcarpet"
           }
          ],
          "heatmap": [
           {
            "colorbar": {
             "outlinewidth": 0,
             "ticks": ""
            },
            "colorscale": [
             [
              0,
              "#0d0887"
             ],
             [
              0.1111111111111111,
              "#46039f"
             ],
             [
              0.2222222222222222,
              "#7201a8"
             ],
             [
              0.3333333333333333,
              "#9c179e"
             ],
             [
              0.4444444444444444,
              "#bd3786"
             ],
             [
              0.5555555555555556,
              "#d8576b"
             ],
             [
              0.6666666666666666,
              "#ed7953"
             ],
             [
              0.7777777777777778,
              "#fb9f3a"
             ],
             [
              0.8888888888888888,
              "#fdca26"
             ],
             [
              1,
              "#f0f921"
             ]
            ],
            "type": "heatmap"
           }
          ],
          "heatmapgl": [
           {
            "colorbar": {
             "outlinewidth": 0,
             "ticks": ""
            },
            "colorscale": [
             [
              0,
              "#0d0887"
             ],
             [
              0.1111111111111111,
              "#46039f"
             ],
             [
              0.2222222222222222,
              "#7201a8"
             ],
             [
              0.3333333333333333,
              "#9c179e"
             ],
             [
              0.4444444444444444,
              "#bd3786"
             ],
             [
              0.5555555555555556,
              "#d8576b"
             ],
             [
              0.6666666666666666,
              "#ed7953"
             ],
             [
              0.7777777777777778,
              "#fb9f3a"
             ],
             [
              0.8888888888888888,
              "#fdca26"
             ],
             [
              1,
              "#f0f921"
             ]
            ],
            "type": "heatmapgl"
           }
          ],
          "histogram": [
           {
            "marker": {
             "pattern": {
              "fillmode": "overlay",
              "size": 10,
              "solidity": 0.2
             }
            },
            "type": "histogram"
           }
          ],
          "histogram2d": [
           {
            "colorbar": {
             "outlinewidth": 0,
             "ticks": ""
            },
            "colorscale": [
             [
              0,
              "#0d0887"
             ],
             [
              0.1111111111111111,
              "#46039f"
             ],
             [
              0.2222222222222222,
              "#7201a8"
             ],
             [
              0.3333333333333333,
              "#9c179e"
             ],
             [
              0.4444444444444444,
              "#bd3786"
             ],
             [
              0.5555555555555556,
              "#d8576b"
             ],
             [
              0.6666666666666666,
              "#ed7953"
             ],
             [
              0.7777777777777778,
              "#fb9f3a"
             ],
             [
              0.8888888888888888,
              "#fdca26"
             ],
             [
              1,
              "#f0f921"
             ]
            ],
            "type": "histogram2d"
           }
          ],
          "histogram2dcontour": [
           {
            "colorbar": {
             "outlinewidth": 0,
             "ticks": ""
            },
            "colorscale": [
             [
              0,
              "#0d0887"
             ],
             [
              0.1111111111111111,
              "#46039f"
             ],
             [
              0.2222222222222222,
              "#7201a8"
             ],
             [
              0.3333333333333333,
              "#9c179e"
             ],
             [
              0.4444444444444444,
              "#bd3786"
             ],
             [
              0.5555555555555556,
              "#d8576b"
             ],
             [
              0.6666666666666666,
              "#ed7953"
             ],
             [
              0.7777777777777778,
              "#fb9f3a"
             ],
             [
              0.8888888888888888,
              "#fdca26"
             ],
             [
              1,
              "#f0f921"
             ]
            ],
            "type": "histogram2dcontour"
           }
          ],
          "mesh3d": [
           {
            "colorbar": {
             "outlinewidth": 0,
             "ticks": ""
            },
            "type": "mesh3d"
           }
          ],
          "parcoords": [
           {
            "line": {
             "colorbar": {
              "outlinewidth": 0,
              "ticks": ""
             }
            },
            "type": "parcoords"
           }
          ],
          "pie": [
           {
            "automargin": true,
            "type": "pie"
           }
          ],
          "scatter": [
           {
            "fillpattern": {
             "fillmode": "overlay",
             "size": 10,
             "solidity": 0.2
            },
            "type": "scatter"
           }
          ],
          "scatter3d": [
           {
            "line": {
             "colorbar": {
              "outlinewidth": 0,
              "ticks": ""
             }
            },
            "marker": {
             "colorbar": {
              "outlinewidth": 0,
              "ticks": ""
             }
            },
            "type": "scatter3d"
           }
          ],
          "scattercarpet": [
           {
            "marker": {
             "colorbar": {
              "outlinewidth": 0,
              "ticks": ""
             }
            },
            "type": "scattercarpet"
           }
          ],
          "scattergeo": [
           {
            "marker": {
             "colorbar": {
              "outlinewidth": 0,
              "ticks": ""
             }
            },
            "type": "scattergeo"
           }
          ],
          "scattergl": [
           {
            "marker": {
             "colorbar": {
              "outlinewidth": 0,
              "ticks": ""
             }
            },
            "type": "scattergl"
           }
          ],
          "scattermapbox": [
           {
            "marker": {
             "colorbar": {
              "outlinewidth": 0,
              "ticks": ""
             }
            },
            "type": "scattermapbox"
           }
          ],
          "scatterpolar": [
           {
            "marker": {
             "colorbar": {
              "outlinewidth": 0,
              "ticks": ""
             }
            },
            "type": "scatterpolar"
           }
          ],
          "scatterpolargl": [
           {
            "marker": {
             "colorbar": {
              "outlinewidth": 0,
              "ticks": ""
             }
            },
            "type": "scatterpolargl"
           }
          ],
          "scatterternary": [
           {
            "marker": {
             "colorbar": {
              "outlinewidth": 0,
              "ticks": ""
             }
            },
            "type": "scatterternary"
           }
          ],
          "surface": [
           {
            "colorbar": {
             "outlinewidth": 0,
             "ticks": ""
            },
            "colorscale": [
             [
              0,
              "#0d0887"
             ],
             [
              0.1111111111111111,
              "#46039f"
             ],
             [
              0.2222222222222222,
              "#7201a8"
             ],
             [
              0.3333333333333333,
              "#9c179e"
             ],
             [
              0.4444444444444444,
              "#bd3786"
             ],
             [
              0.5555555555555556,
              "#d8576b"
             ],
             [
              0.6666666666666666,
              "#ed7953"
             ],
             [
              0.7777777777777778,
              "#fb9f3a"
             ],
             [
              0.8888888888888888,
              "#fdca26"
             ],
             [
              1,
              "#f0f921"
             ]
            ],
            "type": "surface"
           }
          ],
          "table": [
           {
            "cells": {
             "fill": {
              "color": "#EBF0F8"
             },
             "line": {
              "color": "white"
             }
            },
            "header": {
             "fill": {
              "color": "#C8D4E3"
             },
             "line": {
              "color": "white"
             }
            },
            "type": "table"
           }
          ]
         },
         "layout": {
          "annotationdefaults": {
           "arrowcolor": "#2a3f5f",
           "arrowhead": 0,
           "arrowwidth": 1
          },
          "autotypenumbers": "strict",
          "coloraxis": {
           "colorbar": {
            "outlinewidth": 0,
            "ticks": ""
           }
          },
          "colorscale": {
           "diverging": [
            [
             0,
             "#8e0152"
            ],
            [
             0.1,
             "#c51b7d"
            ],
            [
             0.2,
             "#de77ae"
            ],
            [
             0.3,
             "#f1b6da"
            ],
            [
             0.4,
             "#fde0ef"
            ],
            [
             0.5,
             "#f7f7f7"
            ],
            [
             0.6,
             "#e6f5d0"
            ],
            [
             0.7,
             "#b8e186"
            ],
            [
             0.8,
             "#7fbc41"
            ],
            [
             0.9,
             "#4d9221"
            ],
            [
             1,
             "#276419"
            ]
           ],
           "sequential": [
            [
             0,
             "#0d0887"
            ],
            [
             0.1111111111111111,
             "#46039f"
            ],
            [
             0.2222222222222222,
             "#7201a8"
            ],
            [
             0.3333333333333333,
             "#9c179e"
            ],
            [
             0.4444444444444444,
             "#bd3786"
            ],
            [
             0.5555555555555556,
             "#d8576b"
            ],
            [
             0.6666666666666666,
             "#ed7953"
            ],
            [
             0.7777777777777778,
             "#fb9f3a"
            ],
            [
             0.8888888888888888,
             "#fdca26"
            ],
            [
             1,
             "#f0f921"
            ]
           ],
           "sequentialminus": [
            [
             0,
             "#0d0887"
            ],
            [
             0.1111111111111111,
             "#46039f"
            ],
            [
             0.2222222222222222,
             "#7201a8"
            ],
            [
             0.3333333333333333,
             "#9c179e"
            ],
            [
             0.4444444444444444,
             "#bd3786"
            ],
            [
             0.5555555555555556,
             "#d8576b"
            ],
            [
             0.6666666666666666,
             "#ed7953"
            ],
            [
             0.7777777777777778,
             "#fb9f3a"
            ],
            [
             0.8888888888888888,
             "#fdca26"
            ],
            [
             1,
             "#f0f921"
            ]
           ]
          },
          "colorway": [
           "#636efa",
           "#EF553B",
           "#00cc96",
           "#ab63fa",
           "#FFA15A",
           "#19d3f3",
           "#FF6692",
           "#B6E880",
           "#FF97FF",
           "#FECB52"
          ],
          "font": {
           "color": "#2a3f5f"
          },
          "geo": {
           "bgcolor": "white",
           "lakecolor": "white",
           "landcolor": "#E5ECF6",
           "showlakes": true,
           "showland": true,
           "subunitcolor": "white"
          },
          "hoverlabel": {
           "align": "left"
          },
          "hovermode": "closest",
          "mapbox": {
           "style": "light"
          },
          "paper_bgcolor": "white",
          "plot_bgcolor": "#E5ECF6",
          "polar": {
           "angularaxis": {
            "gridcolor": "white",
            "linecolor": "white",
            "ticks": ""
           },
           "bgcolor": "#E5ECF6",
           "radialaxis": {
            "gridcolor": "white",
            "linecolor": "white",
            "ticks": ""
           }
          },
          "scene": {
           "xaxis": {
            "backgroundcolor": "#E5ECF6",
            "gridcolor": "white",
            "gridwidth": 2,
            "linecolor": "white",
            "showbackground": true,
            "ticks": "",
            "zerolinecolor": "white"
           },
           "yaxis": {
            "backgroundcolor": "#E5ECF6",
            "gridcolor": "white",
            "gridwidth": 2,
            "linecolor": "white",
            "showbackground": true,
            "ticks": "",
            "zerolinecolor": "white"
           },
           "zaxis": {
            "backgroundcolor": "#E5ECF6",
            "gridcolor": "white",
            "gridwidth": 2,
            "linecolor": "white",
            "showbackground": true,
            "ticks": "",
            "zerolinecolor": "white"
           }
          },
          "shapedefaults": {
           "line": {
            "color": "#2a3f5f"
           }
          },
          "ternary": {
           "aaxis": {
            "gridcolor": "white",
            "linecolor": "white",
            "ticks": ""
           },
           "baxis": {
            "gridcolor": "white",
            "linecolor": "white",
            "ticks": ""
           },
           "bgcolor": "#E5ECF6",
           "caxis": {
            "gridcolor": "white",
            "linecolor": "white",
            "ticks": ""
           }
          },
          "title": {
           "x": 0.05
          },
          "xaxis": {
           "automargin": true,
           "gridcolor": "white",
           "linecolor": "white",
           "ticks": "",
           "title": {
            "standoff": 15
           },
           "zerolinecolor": "white",
           "zerolinewidth": 2
          },
          "yaxis": {
           "automargin": true,
           "gridcolor": "white",
           "linecolor": "white",
           "ticks": "",
           "title": {
            "standoff": 15
           },
           "zerolinecolor": "white",
           "zerolinewidth": 2
          }
         }
        },
        "xaxis": {
         "anchor": "y",
         "domain": [
          0,
          1
         ]
        },
        "yaxis": {
         "anchor": "x",
         "domain": [
          0,
          1
         ],
         "range": [
          0,
          800
         ]
        }
       }
      },
      "text/html": [
       "<div>                            <div id=\"eb995862-b5d0-499d-a290-e884f6b143b1\" class=\"plotly-graph-div\" style=\"height:525px; width:100%;\"></div>            <script type=\"text/javascript\">                require([\"plotly\"], function(Plotly) {                    window.PLOTLYENV=window.PLOTLYENV || {};                                    if (document.getElementById(\"eb995862-b5d0-499d-a290-e884f6b143b1\")) {                    Plotly.newPlot(                        \"eb995862-b5d0-499d-a290-e884f6b143b1\",                        [{\"marker\":{\"color\":\"#003758\"},\"name\":\"Survived\",\"opacity\":0.75,\"showlegend\":true,\"text\":[\"500\"],\"textposition\":\"outside\",\"x\":[\"Survived\",\"Survived\",\"Survived\",\"Survived\",\"Survived\",\"Survived\",\"Survived\",\"Survived\",\"Survived\",\"Survived\",\"Survived\",\"Survived\",\"Survived\",\"Survived\",\"Survived\",\"Survived\",\"Survived\",\"Survived\",\"Survived\",\"Survived\",\"Survived\",\"Survived\",\"Survived\",\"Survived\",\"Survived\",\"Survived\",\"Survived\",\"Survived\",\"Survived\",\"Survived\",\"Survived\",\"Survived\",\"Survived\",\"Survived\",\"Survived\",\"Survived\",\"Survived\",\"Survived\",\"Survived\",\"Survived\",\"Survived\",\"Survived\",\"Survived\",\"Survived\",\"Survived\",\"Survived\",\"Survived\",\"Survived\",\"Survived\",\"Survived\",\"Survived\",\"Survived\",\"Survived\",\"Survived\",\"Survived\",\"Survived\",\"Survived\",\"Survived\",\"Survived\",\"Survived\",\"Survived\",\"Survived\",\"Survived\",\"Survived\",\"Survived\",\"Survived\",\"Survived\",\"Survived\",\"Survived\",\"Survived\",\"Survived\",\"Survived\",\"Survived\",\"Survived\",\"Survived\",\"Survived\",\"Survived\",\"Survived\",\"Survived\",\"Survived\",\"Survived\",\"Survived\",\"Survived\",\"Survived\",\"Survived\",\"Survived\",\"Survived\",\"Survived\",\"Survived\",\"Survived\",\"Survived\",\"Survived\",\"Survived\",\"Survived\",\"Survived\",\"Survived\",\"Survived\",\"Survived\",\"Survived\",\"Survived\",\"Survived\",\"Survived\",\"Survived\",\"Survived\",\"Survived\",\"Survived\",\"Survived\",\"Survived\",\"Survived\",\"Survived\",\"Survived\",\"Survived\",\"Survived\",\"Survived\",\"Survived\",\"Survived\",\"Survived\",\"Survived\",\"Survived\",\"Survived\",\"Survived\",\"Survived\",\"Survived\",\"Survived\",\"Survived\",\"Survived\",\"Survived\",\"Survived\",\"Survived\",\"Survived\",\"Survived\",\"Survived\",\"Survived\",\"Survived\",\"Survived\",\"Survived\",\"Survived\",\"Survived\",\"Survived\",\"Survived\",\"Survived\",\"Survived\",\"Survived\",\"Survived\",\"Survived\",\"Survived\",\"Survived\",\"Survived\",\"Survived\",\"Survived\",\"Survived\",\"Survived\",\"Survived\",\"Survived\",\"Survived\",\"Survived\",\"Survived\",\"Survived\",\"Survived\",\"Survived\",\"Survived\",\"Survived\",\"Survived\",\"Survived\",\"Survived\",\"Survived\",\"Survived\",\"Survived\",\"Survived\",\"Survived\",\"Survived\",\"Survived\",\"Survived\",\"Survived\",\"Survived\",\"Survived\",\"Survived\",\"Survived\",\"Survived\",\"Survived\",\"Survived\",\"Survived\",\"Survived\",\"Survived\",\"Survived\",\"Survived\",\"Survived\",\"Survived\",\"Survived\",\"Survived\",\"Survived\",\"Survived\",\"Survived\",\"Survived\",\"Survived\",\"Survived\",\"Survived\",\"Survived\",\"Survived\",\"Survived\",\"Survived\",\"Survived\",\"Survived\",\"Survived\",\"Survived\",\"Survived\",\"Survived\",\"Survived\",\"Survived\",\"Survived\",\"Survived\",\"Survived\",\"Survived\",\"Survived\",\"Survived\",\"Survived\",\"Survived\",\"Survived\",\"Survived\",\"Survived\",\"Survived\",\"Survived\",\"Survived\",\"Survived\",\"Survived\",\"Survived\",\"Survived\",\"Survived\",\"Survived\",\"Survived\",\"Survived\",\"Survived\",\"Survived\",\"Survived\",\"Survived\",\"Survived\",\"Survived\",\"Survived\",\"Survived\",\"Survived\",\"Survived\",\"Survived\",\"Survived\",\"Survived\",\"Survived\",\"Survived\",\"Survived\",\"Survived\",\"Survived\",\"Survived\",\"Survived\",\"Survived\",\"Survived\",\"Survived\",\"Survived\",\"Survived\",\"Survived\",\"Survived\",\"Survived\",\"Survived\",\"Survived\",\"Survived\",\"Survived\",\"Survived\",\"Survived\",\"Survived\",\"Survived\",\"Survived\",\"Survived\",\"Survived\",\"Survived\",\"Survived\",\"Survived\",\"Survived\",\"Survived\",\"Survived\",\"Survived\",\"Survived\",\"Survived\",\"Survived\",\"Survived\",\"Survived\",\"Survived\",\"Survived\",\"Survived\",\"Survived\",\"Survived\",\"Survived\",\"Survived\",\"Survived\",\"Survived\",\"Survived\",\"Survived\",\"Survived\",\"Survived\",\"Survived\",\"Survived\",\"Survived\",\"Survived\",\"Survived\",\"Survived\",\"Survived\",\"Survived\",\"Survived\",\"Survived\",\"Survived\",\"Survived\",\"Survived\",\"Survived\",\"Survived\",\"Survived\",\"Survived\",\"Survived\",\"Survived\",\"Survived\",\"Survived\",\"Survived\",\"Survived\",\"Survived\",\"Survived\",\"Survived\",\"Survived\",\"Survived\",\"Survived\",\"Survived\",\"Survived\",\"Survived\",\"Survived\",\"Survived\",\"Survived\",\"Survived\",\"Survived\",\"Survived\",\"Survived\",\"Survived\",\"Survived\",\"Survived\",\"Survived\",\"Survived\",\"Survived\",\"Survived\",\"Survived\",\"Survived\",\"Survived\",\"Survived\",\"Survived\",\"Survived\",\"Survived\",\"Survived\",\"Survived\",\"Survived\",\"Survived\",\"Survived\",\"Survived\",\"Survived\",\"Survived\",\"Survived\",\"Survived\",\"Survived\",\"Survived\",\"Survived\",\"Survived\",\"Survived\",\"Survived\",\"Survived\",\"Survived\",\"Survived\",\"Survived\",\"Survived\",\"Survived\",\"Survived\",\"Survived\",\"Survived\",\"Survived\",\"Survived\",\"Survived\",\"Survived\",\"Survived\",\"Survived\",\"Survived\",\"Survived\",\"Survived\",\"Survived\",\"Survived\",\"Survived\",\"Survived\",\"Survived\",\"Survived\",\"Survived\",\"Survived\",\"Survived\",\"Survived\",\"Survived\",\"Survived\",\"Survived\",\"Survived\",\"Survived\",\"Survived\",\"Survived\",\"Survived\",\"Survived\",\"Survived\",\"Survived\",\"Survived\",\"Survived\",\"Survived\",\"Survived\",\"Survived\",\"Survived\",\"Survived\",\"Survived\",\"Survived\",\"Survived\",\"Survived\",\"Survived\",\"Survived\",\"Survived\",\"Survived\",\"Survived\",\"Survived\",\"Survived\",\"Survived\",\"Survived\",\"Survived\",\"Survived\",\"Survived\",\"Survived\",\"Survived\",\"Survived\",\"Survived\",\"Survived\",\"Survived\",\"Survived\",\"Survived\",\"Survived\",\"Survived\",\"Survived\",\"Survived\",\"Survived\",\"Survived\",\"Survived\",\"Survived\",\"Survived\",\"Survived\",\"Survived\",\"Survived\",\"Survived\",\"Survived\",\"Survived\",\"Survived\",\"Survived\",\"Survived\",\"Survived\",\"Survived\",\"Survived\",\"Survived\",\"Survived\",\"Survived\",\"Survived\",\"Survived\",\"Survived\",\"Survived\",\"Survived\",\"Survived\",\"Survived\",\"Survived\",\"Survived\",\"Survived\",\"Survived\",\"Survived\",\"Survived\",\"Survived\",\"Survived\",\"Survived\",\"Survived\",\"Survived\",\"Survived\",\"Survived\",\"Survived\",\"Survived\",\"Survived\",\"Survived\",\"Survived\",\"Survived\",\"Survived\",\"Survived\",\"Survived\",\"Survived\",\"Survived\",\"Survived\",\"Survived\",\"Survived\",\"Survived\",\"Survived\",\"Survived\",\"Survived\",\"Survived\",\"Survived\",\"Survived\",\"Survived\"],\"type\":\"histogram\",\"xaxis\":\"x\",\"yaxis\":\"y\"},{\"marker\":{\"color\":\"#8b0000\"},\"name\":\"Did not survive\",\"opacity\":0.75,\"showlegend\":true,\"text\":[\"688\",\"121\"],\"textposition\":\"outside\",\"x\":[\"Dead - Not Recovered\",\"Dead - Recovered\",\"Dead - Not Recovered\",\"Dead - Not Recovered\",\"Dead - Recovered\",\"Dead - Recovered\",\"Dead - Not Recovered\",\"Dead - Not Recovered\",\"Dead - Not Recovered\",\"Dead - Recovered\",\"Dead - Not Recovered\",\"Dead - Not Recovered\",\"Dead - Not Recovered\",\"Dead - Recovered\",\"Dead - Not Recovered\",\"Dead - Not Recovered\",\"Dead - Not Recovered\",\"Dead - Not Recovered\",\"Dead - Not Recovered\",\"Dead - Not Recovered\",\"Dead - Not Recovered\",\"Dead - Recovered\",\"Dead - Not Recovered\",\"Dead - Not Recovered\",\"Dead - Not Recovered\",\"Dead - Not Recovered\",\"Dead - Not Recovered\",\"Dead - Not Recovered\",\"Dead - Not Recovered\",\"Dead - Recovered\",\"Dead - Not Recovered\",\"Dead - Not Recovered\",\"Dead - Recovered\",\"Dead - Recovered\",\"Dead - Not Recovered\",\"Dead - Not Recovered\",\"Dead - Not Recovered\",\"Dead - Not Recovered\",\"Dead - Not Recovered\",\"Dead - Not Recovered\",\"Dead - Not Recovered\",\"Dead - Not Recovered\",\"Dead - Recovered\",\"Dead - Not Recovered\",\"Dead - Not Recovered\",\"Dead - Recovered\",\"Dead - Not Recovered\",\"Dead - Not Recovered\",\"Dead - Not Recovered\",\"Dead - Recovered\",\"Dead - Recovered\",\"Dead - Not Recovered\",\"Dead - Not Recovered\",\"Dead - Not Recovered\",\"Dead - Recovered\",\"Dead - Not Recovered\",\"Dead - Not Recovered\",\"Dead - Recovered\",\"Dead - Not Recovered\",\"Dead - Recovered\",\"Dead - Recovered\",\"Dead - Not Recovered\",\"Dead - Not Recovered\",\"Dead - Not Recovered\",\"Dead - Not Recovered\",\"Dead - Recovered\",\"Dead - Not Recovered\",\"Dead - Not Recovered\",\"Dead - Not Recovered\",\"Dead - Recovered\",\"Dead - Recovered\",\"Dead - Not Recovered\",\"Dead - Recovered\",\"Dead - Recovered\",\"Dead - Not Recovered\",\"Dead - Not Recovered\",\"Dead - Not Recovered\",\"Dead - Recovered\",\"Dead - Recovered\",\"Dead - Recovered\",\"Dead - Recovered\",\"Dead - Not Recovered\",\"Dead - Recovered\",\"Dead - Not Recovered\",\"Dead - Not Recovered\",\"Dead - Not Recovered\",\"Dead - Recovered\",\"Dead - Not Recovered\",\"Dead - Recovered\",\"Dead - Not Recovered\",\"Dead - Not Recovered\",\"Dead - Not Recovered\",\"Dead - Recovered\",\"Dead - Not Recovered\",\"Dead - Not Recovered\",\"Dead - Recovered\",\"Dead - Not Recovered\",\"Dead - Not Recovered\",\"Dead - Not Recovered\",\"Dead - Not Recovered\",\"Dead - Not Recovered\",\"Dead - Not Recovered\",\"Dead - Not Recovered\",\"Dead - Not Recovered\",\"Dead - Not Recovered\",\"Dead - Recovered\",\"Dead - Not Recovered\",\"Dead - Recovered\",\"Dead - Not Recovered\",\"Dead - Not Recovered\",\"Dead - Not Recovered\",\"Dead - Recovered\",\"Dead - Not Recovered\",\"Dead - Not Recovered\",\"Dead - Not Recovered\",\"Dead - Not Recovered\",\"Dead - Recovered\",\"Dead - Not Recovered\",\"Dead - Not Recovered\",\"Dead - Not Recovered\",\"Dead - Not Recovered\",\"Dead - Not Recovered\",\"Dead - Not Recovered\",\"Dead - Not Recovered\",\"Dead - Not Recovered\",\"Dead - Not Recovered\",\"Dead - Not Recovered\",\"Dead - Not Recovered\",\"Dead - Not Recovered\",\"Dead - Not Recovered\",\"Dead - Not Recovered\",\"Dead - Not Recovered\",\"Dead - Recovered\",\"Dead - Not Recovered\",\"Dead - Not Recovered\",\"Dead - Not Recovered\",\"Dead - Not Recovered\",\"Dead - Not Recovered\",\"Dead - Not Recovered\",\"Dead - Not Recovered\",\"Dead - Recovered\",\"Dead - Not Recovered\",\"Dead - Not Recovered\",\"Dead - Recovered\",\"Dead - Not Recovered\",\"Dead - Not Recovered\",\"Dead - Recovered\",\"Dead - Recovered\",\"Dead - Not Recovered\",\"Dead - Not Recovered\",\"Dead - Not Recovered\",\"Dead - Not Recovered\",\"Dead - Not Recovered\",\"Dead - Not Recovered\",\"Dead - Not Recovered\",\"Dead - Not Recovered\",\"Dead - Not Recovered\",\"Dead - Not Recovered\",\"Dead - Not Recovered\",\"Dead - Not Recovered\",\"Dead - Recovered\",\"Dead - Not Recovered\",\"Dead - Not Recovered\",\"Dead - Not Recovered\",\"Dead - Not Recovered\",\"Dead - Not Recovered\",\"Dead - Not Recovered\",\"Dead - Not Recovered\",\"Dead - Recovered\",\"Dead - Not Recovered\",\"Dead - Recovered\",\"Dead - Not Recovered\",\"Dead - Not Recovered\",\"Dead - Recovered\",\"Dead - Not Recovered\",\"Dead - Not Recovered\",\"Dead - Not Recovered\",\"Dead - Not Recovered\",\"Dead - Not Recovered\",\"Dead - Not Recovered\",\"Dead - Not Recovered\",\"Dead - Recovered\",\"Dead - Recovered\",\"Dead - Not Recovered\",\"Dead - Recovered\",\"Dead - Recovered\",\"Dead - Recovered\",\"Dead - Recovered\",\"Dead - Not Recovered\",\"Dead - Not Recovered\",\"Dead - Not Recovered\",\"Dead - Not Recovered\",\"Dead - Not Recovered\",\"Dead - Recovered\",\"Dead - Not Recovered\",\"Dead - Not Recovered\",\"Dead - Not Recovered\",\"Dead - Not Recovered\",\"Dead - Recovered\",\"Dead - Not Recovered\",\"Dead - Not Recovered\",\"Dead - Not Recovered\",\"Dead - Not Recovered\",\"Dead - Not Recovered\",\"Dead - Not Recovered\",\"Dead - Not Recovered\",\"Dead - Not Recovered\",\"Dead - Not Recovered\",\"Dead - Not Recovered\",\"Dead - Recovered\",\"Dead - Not Recovered\",\"Dead - Not Recovered\",\"Dead - Not Recovered\",\"Dead - Not Recovered\",\"Dead - Recovered\",\"Dead - Not Recovered\",\"Dead - Not Recovered\",\"Dead - Not Recovered\",\"Dead - Not Recovered\",\"Dead - Not Recovered\",\"Dead - Recovered\",\"Dead - Not Recovered\",\"Dead - Recovered\",\"Dead - Recovered\",\"Dead - Not Recovered\",\"Dead - Not Recovered\",\"Dead - Not Recovered\",\"Dead - Not Recovered\",\"Dead - Not Recovered\",\"Dead - Recovered\",\"Dead - Not Recovered\",\"Dead - Not Recovered\",\"Dead - Not Recovered\",\"Dead - Recovered\",\"Dead - Not Recovered\",\"Dead - Not Recovered\",\"Dead - Not Recovered\",\"Dead - Not Recovered\",\"Dead - Not Recovered\",\"Dead - Not Recovered\",\"Dead - Recovered\",\"Dead - Recovered\",\"Dead - Not Recovered\",\"Dead - Recovered\",\"Dead - Recovered\",\"Dead - Not Recovered\",\"Dead - Not Recovered\",\"Dead - Not Recovered\",\"Dead - Not Recovered\",\"Dead - Not Recovered\",\"Dead - Not Recovered\",\"Dead - Not Recovered\",\"Dead - Not Recovered\",\"Dead - Not Recovered\",\"Dead - Not Recovered\",\"Dead - Not Recovered\",\"Dead - Not Recovered\",\"Dead - Not Recovered\",\"Dead - Not Recovered\",\"Dead - Not Recovered\",\"Dead - Not Recovered\",\"Dead - Not Recovered\",\"Dead - Not Recovered\",\"Dead - Not Recovered\",\"Dead - Not Recovered\",\"Dead - Not Recovered\",\"Dead - Recovered\",\"Dead - Recovered\",\"Dead - Not Recovered\",\"Dead - Not Recovered\",\"Dead - Not Recovered\",\"Dead - Not Recovered\",\"Dead - Not Recovered\",\"Dead - Not Recovered\",\"Dead - Not Recovered\",\"Dead - Not Recovered\",\"Dead - Recovered\",\"Dead - Not Recovered\",\"Dead - Not Recovered\",\"Dead - Not Recovered\",\"Dead - Not Recovered\",\"Dead - Not Recovered\",\"Dead - Not Recovered\",\"Dead - Recovered\",\"Dead - Recovered\",\"Dead - Recovered\",\"Dead - Not Recovered\",\"Dead - Not Recovered\",\"Dead - Not Recovered\",\"Dead - Not Recovered\",\"Dead - Recovered\",\"Dead - Not Recovered\",\"Dead - Recovered\",\"Dead - Recovered\",\"Dead - Not Recovered\",\"Dead - Not Recovered\",\"Dead - Not Recovered\",\"Dead - Not Recovered\",\"Dead - Not Recovered\",\"Dead - Not Recovered\",\"Dead - Not Recovered\",\"Dead - Not Recovered\",\"Dead - Not Recovered\",\"Dead - Not Recovered\",\"Dead - Not Recovered\",\"Dead - Not Recovered\",\"Dead - Not Recovered\",\"Dead - Not Recovered\",\"Dead - Not Recovered\",\"Dead - Not Recovered\",\"Dead - Not Recovered\",\"Dead - Not Recovered\",\"Dead - Recovered\",\"Dead - Not Recovered\",\"Dead - Not Recovered\",\"Dead - Not Recovered\",\"Dead - Not Recovered\",\"Dead - Not Recovered\",\"Dead - Not Recovered\",\"Dead - Not Recovered\",\"Dead - Not Recovered\",\"Dead - Not Recovered\",\"Dead - Not Recovered\",\"Dead - Not Recovered\",\"Dead - Not Recovered\",\"Dead - Not Recovered\",\"Dead - Not Recovered\",\"Dead - Not Recovered\",\"Dead - Not Recovered\",\"Dead - Not Recovered\",\"Dead - Not Recovered\",\"Dead - Not Recovered\",\"Dead - Not Recovered\",\"Dead - Not Recovered\",\"Dead - Not Recovered\",\"Dead - Not Recovered\",\"Dead - Not Recovered\",\"Dead - Not Recovered\",\"Dead - Not Recovered\",\"Dead - Not Recovered\",\"Dead - Not Recovered\",\"Dead - Not Recovered\",\"Dead - Not Recovered\",\"Dead - Not Recovered\",\"Dead - Not Recovered\",\"Dead - Not Recovered\",\"Dead - Not Recovered\",\"Dead - Recovered\",\"Dead - Not Recovered\",\"Dead - Not Recovered\",\"Dead - Not Recovered\",\"Dead - Not Recovered\",\"Dead - Not Recovered\",\"Dead - Not Recovered\",\"Dead - Not Recovered\",\"Dead - Not Recovered\",\"Dead - Not Recovered\",\"Dead - Not Recovered\",\"Dead - Not Recovered\",\"Dead - Not Recovered\",\"Dead - Not Recovered\",\"Dead - Not Recovered\",\"Dead - Not Recovered\",\"Dead - Not Recovered\",\"Dead - Not Recovered\",\"Dead - Not Recovered\",\"Dead - Not Recovered\",\"Dead - Not Recovered\",\"Dead - Not Recovered\",\"Dead - Not Recovered\",\"Dead - Not Recovered\",\"Dead - Not Recovered\",\"Dead - Not Recovered\",\"Dead - Not Recovered\",\"Dead - Not Recovered\",\"Dead - Not Recovered\",\"Dead - Not Recovered\",\"Dead - Recovered\",\"Dead - Not Recovered\",\"Dead - Not Recovered\",\"Dead - Not Recovered\",\"Dead - Not Recovered\",\"Dead - Not Recovered\",\"Dead - Not Recovered\",\"Dead - Not Recovered\",\"Dead - Not Recovered\",\"Dead - Not Recovered\",\"Dead - Recovered\",\"Dead - Not Recovered\",\"Dead - Not Recovered\",\"Dead - Not Recovered\",\"Dead - Recovered\",\"Dead - Not Recovered\",\"Dead - Not Recovered\",\"Dead - Not Recovered\",\"Dead - Not Recovered\",\"Dead - Not Recovered\",\"Dead - Not Recovered\",\"Dead - Not Recovered\",\"Dead - Not Recovered\",\"Dead - Not Recovered\",\"Dead - Not Recovered\",\"Dead - Not Recovered\",\"Dead - Not Recovered\",\"Dead - Not Recovered\",\"Dead - Not Recovered\",\"Dead - Not Recovered\",\"Dead - Not Recovered\",\"Dead - Not Recovered\",\"Dead - Not Recovered\",\"Dead - Not Recovered\",\"Dead - Not Recovered\",\"Dead - Not Recovered\",\"Dead - Recovered\",\"Dead - Not Recovered\",\"Dead - Not Recovered\",\"Dead - Not Recovered\",\"Dead - Not Recovered\",\"Dead - Not Recovered\",\"Dead - Not Recovered\",\"Dead - Not Recovered\",\"Dead - Not Recovered\",\"Dead - Not Recovered\",\"Dead - Not Recovered\",\"Dead - Not Recovered\",\"Dead - Recovered\",\"Dead - Recovered\",\"Dead - Not Recovered\",\"Dead - Not Recovered\",\"Dead - Not Recovered\",\"Dead - Not Recovered\",\"Dead - Not Recovered\",\"Dead - Not Recovered\",\"Dead - Not Recovered\",\"Dead - Not Recovered\",\"Dead - Not Recovered\",\"Dead - Not Recovered\",\"Dead - Not Recovered\",\"Dead - Not Recovered\",\"Dead - Not Recovered\",\"Dead - Not Recovered\",\"Dead - Not Recovered\",\"Dead - Not Recovered\",\"Dead - Not Recovered\",\"Dead - Recovered\",\"Dead - Not Recovered\",\"Dead - Not Recovered\",\"Dead - Not Recovered\",\"Dead - Not Recovered\",\"Dead - Not Recovered\",\"Dead - Not Recovered\",\"Dead - Not Recovered\",\"Dead - Not Recovered\",\"Dead - Not Recovered\",\"Dead - Not Recovered\",\"Dead - Not Recovered\",\"Dead - Not Recovered\",\"Dead - Not Recovered\",\"Dead - Not Recovered\",\"Dead - Not Recovered\",\"Dead - Recovered\",\"Dead - Not Recovered\",\"Dead - Not Recovered\",\"Dead - Not Recovered\",\"Dead - Not Recovered\",\"Dead - Not Recovered\",\"Dead - Not Recovered\",\"Dead - Not Recovered\",\"Dead - Not Recovered\",\"Dead - Recovered\",\"Dead - Not Recovered\",\"Dead - Not Recovered\",\"Dead - Recovered\",\"Dead - Not Recovered\",\"Dead - Not Recovered\",\"Dead - Not Recovered\",\"Dead - Not Recovered\",\"Dead - Not Recovered\",\"Dead - Not Recovered\",\"Dead - Recovered\",\"Dead - Not Recovered\",\"Dead - Not Recovered\",\"Dead - Not Recovered\",\"Dead - Not Recovered\",\"Dead - Not Recovered\",\"Dead - Recovered\",\"Dead - Not Recovered\",\"Dead - Not Recovered\",\"Dead - Not Recovered\",\"Dead - Not Recovered\",\"Dead - Not Recovered\",\"Dead - Not Recovered\",\"Dead - Not Recovered\",\"Dead - Not Recovered\",\"Dead - Not Recovered\",\"Dead - Recovered\",\"Dead - Recovered\",\"Dead - Recovered\",\"Dead - Not Recovered\",\"Dead - Not Recovered\",\"Dead - Not Recovered\",\"Dead - Recovered\",\"Dead - Not Recovered\",\"Dead - Not Recovered\",\"Dead - Not Recovered\",\"Dead - Not Recovered\",\"Dead - Not Recovered\",\"Dead - Not Recovered\",\"Dead - Not Recovered\",\"Dead - Not Recovered\",\"Dead - Not Recovered\",\"Dead - Not Recovered\",\"Dead - Not Recovered\",\"Dead - Not Recovered\",\"Dead - Not Recovered\",\"Dead - Not Recovered\",\"Dead - Not Recovered\",\"Dead - Recovered\",\"Dead - Not Recovered\",\"Dead - Not Recovered\",\"Dead - Recovered\",\"Dead - Not Recovered\",\"Dead - Not Recovered\",\"Dead - Not Recovered\",\"Dead - Not Recovered\",\"Dead - Not Recovered\",\"Dead - Not Recovered\",\"Dead - Not Recovered\",\"Dead - Not Recovered\",\"Dead - Not Recovered\",\"Dead - Not Recovered\",\"Dead - Not Recovered\",\"Dead - Not Recovered\",\"Dead - Not Recovered\",\"Dead - Not Recovered\",\"Dead - Not Recovered\",\"Dead - Not Recovered\",\"Dead - Not Recovered\",\"Dead - Not Recovered\",\"Dead - Not Recovered\",\"Dead - Not Recovered\",\"Dead - Not Recovered\",\"Dead - Not Recovered\",\"Dead - Not Recovered\",\"Dead - Not Recovered\",\"Dead - Not Recovered\",\"Dead - Not Recovered\",\"Dead - Recovered\",\"Dead - Not Recovered\",\"Dead - Not Recovered\",\"Dead - Not Recovered\",\"Dead - Not Recovered\",\"Dead - Not Recovered\",\"Dead - Not Recovered\",\"Dead - Not Recovered\",\"Dead - Not Recovered\",\"Dead - Not Recovered\",\"Dead - Not Recovered\",\"Dead - Not Recovered\",\"Dead - Not Recovered\",\"Dead - Not Recovered\",\"Dead - Not Recovered\",\"Dead - Recovered\",\"Dead - Not Recovered\",\"Dead - Not Recovered\",\"Dead - Not Recovered\",\"Dead - Not Recovered\",\"Dead - Not Recovered\",\"Dead - Not Recovered\",\"Dead - Not Recovered\",\"Dead - Not Recovered\",\"Dead - Not Recovered\",\"Dead - Recovered\",\"Dead - Not Recovered\",\"Dead - Not Recovered\",\"Dead - Not Recovered\",\"Dead - Not Recovered\",\"Dead - Not Recovered\",\"Dead - Not Recovered\",\"Dead - Not Recovered\",\"Dead - Not Recovered\",\"Dead - Recovered\",\"Dead - Not Recovered\",\"Dead - Not Recovered\",\"Dead - Not Recovered\",\"Dead - Recovered\",\"Dead - Not Recovered\",\"Dead - Not Recovered\",\"Dead - Not Recovered\",\"Dead - Not Recovered\",\"Dead - Not Recovered\",\"Dead - Not Recovered\",\"Dead - Recovered\",\"Dead - Not Recovered\",\"Dead - Not Recovered\",\"Dead - Not Recovered\",\"Dead - Not Recovered\",\"Dead - Not Recovered\",\"Dead - Not Recovered\",\"Dead - Not Recovered\",\"Dead - Not Recovered\",\"Dead - Not Recovered\",\"Dead - Not Recovered\",\"Dead - Not Recovered\",\"Dead - Not Recovered\",\"Dead - Not Recovered\",\"Dead - Not Recovered\",\"Dead - Not Recovered\",\"Dead - Not Recovered\",\"Dead - Not Recovered\",\"Dead - Not Recovered\",\"Dead - Not Recovered\",\"Dead - Recovered\",\"Dead - Not Recovered\",\"Dead - Not Recovered\",\"Dead - Not Recovered\",\"Dead - Not Recovered\",\"Dead - Not Recovered\",\"Dead - Not Recovered\",\"Dead - Not Recovered\",\"Dead - Not Recovered\",\"Dead - Recovered\",\"Dead - Not Recovered\",\"Dead - Not Recovered\",\"Dead - Not Recovered\",\"Dead - Not Recovered\",\"Dead - Recovered\",\"Dead - Not Recovered\",\"Dead - Not Recovered\",\"Dead - Not Recovered\",\"Dead - Not Recovered\",\"Dead - Not Recovered\",\"Dead - Recovered\",\"Dead - Not Recovered\",\"Dead - Not Recovered\",\"Dead - Not Recovered\",\"Dead - Recovered\",\"Dead - Not Recovered\",\"Dead - Not Recovered\",\"Dead - Not Recovered\",\"Dead - Not Recovered\",\"Dead - Not Recovered\",\"Dead - Not Recovered\",\"Dead - Not Recovered\",\"Dead - Not Recovered\",\"Dead - Not Recovered\",\"Dead - Not Recovered\",\"Dead - Not Recovered\",\"Dead - Not Recovered\",\"Dead - Not Recovered\",\"Dead - Not Recovered\",\"Dead - Not Recovered\",\"Dead - Not Recovered\",\"Dead - Not Recovered\",\"Dead - Not Recovered\",\"Dead - Not Recovered\",\"Dead - Not Recovered\",\"Dead - Not Recovered\",\"Dead - Not Recovered\",\"Dead - Not Recovered\",\"Dead - Not Recovered\",\"Dead - Not Recovered\",\"Dead - Not Recovered\",\"Dead - Not Recovered\",\"Dead - Not Recovered\",\"Dead - Not Recovered\",\"Dead - Not Recovered\",\"Dead - Not Recovered\",\"Dead - Not Recovered\",\"Dead - Not Recovered\",\"Dead - Not Recovered\",\"Dead - Not Recovered\",\"Dead - Not Recovered\",\"Dead - Not Recovered\",\"Dead - Not Recovered\",\"Dead - Not Recovered\",\"Dead - Not Recovered\",\"Dead - Recovered\",\"Dead - Not Recovered\",\"Dead - Not Recovered\",\"Dead - Not Recovered\",\"Dead - Not Recovered\",\"Dead - Recovered\",\"Dead - Recovered\",\"Dead - Not Recovered\",\"Dead - Not Recovered\",\"Dead - Not Recovered\",\"Dead - Not Recovered\",\"Dead - Not Recovered\",\"Dead - Not Recovered\",\"Dead - Not Recovered\",\"Dead - Not Recovered\",\"Dead - Not Recovered\",\"Dead - Not Recovered\",\"Dead - Not Recovered\",\"Dead - Not Recovered\",\"Dead - Not Recovered\",\"Dead - Recovered\",\"Dead - Not Recovered\",\"Dead - Recovered\",\"Dead - Not Recovered\",\"Dead - Not Recovered\",\"Dead - Not Recovered\",\"Dead - Not Recovered\",\"Dead - Not Recovered\",\"Dead - Not Recovered\",\"Dead - Not Recovered\",\"Dead - Not Recovered\",\"Dead - Not Recovered\",\"Dead - Not Recovered\",\"Dead - Not Recovered\",\"Dead - Not Recovered\",\"Dead - Not Recovered\",\"Dead - Not Recovered\",\"Dead - Not Recovered\",\"Dead - Recovered\",\"Dead - Not Recovered\",\"Dead - Not Recovered\",\"Dead - Not Recovered\",\"Dead - Not Recovered\",\"Dead - Not Recovered\",\"Dead - Not Recovered\",\"Dead - Not Recovered\",\"Dead - Not Recovered\",\"Dead - Not Recovered\",\"Dead - Not Recovered\",\"Dead - Not Recovered\",\"Dead - Not Recovered\",\"Dead - Not Recovered\",\"Dead - Not Recovered\",\"Dead - Not Recovered\",\"Dead - Not Recovered\",\"Dead - Not Recovered\",\"Dead - Not Recovered\",\"Dead - Not Recovered\",\"Dead - Not Recovered\",\"Dead - Not Recovered\",\"Dead - Not Recovered\",\"Dead - Not Recovered\",\"Dead - Not Recovered\",\"Dead - Not Recovered\",\"Dead - Not Recovered\",\"Dead - Not Recovered\",\"Dead - Recovered\",\"Dead - Not Recovered\",\"Dead - Not Recovered\",\"Dead - Not Recovered\",\"Dead - Not Recovered\",\"Dead - Not Recovered\",\"Dead - Not Recovered\",\"Dead - Not Recovered\",\"Dead - Not Recovered\",\"Dead - Recovered\",\"Dead - Not Recovered\",\"Dead - Not Recovered\",\"Dead - Not Recovered\",\"Dead - Not Recovered\",\"Dead - Not Recovered\",\"Dead - Not Recovered\",\"Dead - Not Recovered\",\"Dead - Not Recovered\",\"Dead - Recovered\",\"Dead - Not Recovered\",\"Dead - Not Recovered\",\"Dead - Not Recovered\",\"Dead - Not Recovered\",\"Dead - Not Recovered\",\"Dead - Recovered\",\"Dead - Recovered\",\"Dead - Not Recovered\",\"Dead - Not Recovered\",\"Dead - Not Recovered\",\"Dead - Not Recovered\",\"Dead - Not Recovered\",\"Dead - Not Recovered\",\"Dead - Not Recovered\",\"Dead - Not Recovered\",\"Dead - Not Recovered\",\"Dead - Not Recovered\",\"Dead - Not Recovered\",\"Dead - Not Recovered\",\"Dead - Not Recovered\",\"Dead - Not Recovered\",\"Dead - Not Recovered\",\"Dead - Not Recovered\",\"Dead - Not Recovered\",\"Dead - Not Recovered\",\"Dead - Not Recovered\",\"Dead - Recovered\",\"Dead - Not Recovered\",\"Dead - Recovered\",\"Dead - Not Recovered\",\"Dead - Not Recovered\",\"Dead - Not Recovered\",\"Dead - Not Recovered\",\"Dead - Recovered\",\"Dead - Not Recovered\",\"Dead - Recovered\",\"Dead - Not Recovered\",\"Dead - Not Recovered\",\"Dead - Not Recovered\",\"Dead - Recovered\",\"Dead - Not Recovered\",\"Dead - Not Recovered\",\"Dead - Recovered\",\"Dead - Not Recovered\",\"Dead - Recovered\",\"Dead - Not Recovered\",\"Dead - Not Recovered\"],\"type\":\"histogram\",\"xaxis\":\"x\",\"yaxis\":\"y\"}],                        {\"template\":{\"data\":{\"histogram2dcontour\":[{\"type\":\"histogram2dcontour\",\"colorbar\":{\"outlinewidth\":0,\"ticks\":\"\"},\"colorscale\":[[0.0,\"#0d0887\"],[0.1111111111111111,\"#46039f\"],[0.2222222222222222,\"#7201a8\"],[0.3333333333333333,\"#9c179e\"],[0.4444444444444444,\"#bd3786\"],[0.5555555555555556,\"#d8576b\"],[0.6666666666666666,\"#ed7953\"],[0.7777777777777778,\"#fb9f3a\"],[0.8888888888888888,\"#fdca26\"],[1.0,\"#f0f921\"]]}],\"choropleth\":[{\"type\":\"choropleth\",\"colorbar\":{\"outlinewidth\":0,\"ticks\":\"\"}}],\"histogram2d\":[{\"type\":\"histogram2d\",\"colorbar\":{\"outlinewidth\":0,\"ticks\":\"\"},\"colorscale\":[[0.0,\"#0d0887\"],[0.1111111111111111,\"#46039f\"],[0.2222222222222222,\"#7201a8\"],[0.3333333333333333,\"#9c179e\"],[0.4444444444444444,\"#bd3786\"],[0.5555555555555556,\"#d8576b\"],[0.6666666666666666,\"#ed7953\"],[0.7777777777777778,\"#fb9f3a\"],[0.8888888888888888,\"#fdca26\"],[1.0,\"#f0f921\"]]}],\"heatmap\":[{\"type\":\"heatmap\",\"colorbar\":{\"outlinewidth\":0,\"ticks\":\"\"},\"colorscale\":[[0.0,\"#0d0887\"],[0.1111111111111111,\"#46039f\"],[0.2222222222222222,\"#7201a8\"],[0.3333333333333333,\"#9c179e\"],[0.4444444444444444,\"#bd3786\"],[0.5555555555555556,\"#d8576b\"],[0.6666666666666666,\"#ed7953\"],[0.7777777777777778,\"#fb9f3a\"],[0.8888888888888888,\"#fdca26\"],[1.0,\"#f0f921\"]]}],\"heatmapgl\":[{\"type\":\"heatmapgl\",\"colorbar\":{\"outlinewidth\":0,\"ticks\":\"\"},\"colorscale\":[[0.0,\"#0d0887\"],[0.1111111111111111,\"#46039f\"],[0.2222222222222222,\"#7201a8\"],[0.3333333333333333,\"#9c179e\"],[0.4444444444444444,\"#bd3786\"],[0.5555555555555556,\"#d8576b\"],[0.6666666666666666,\"#ed7953\"],[0.7777777777777778,\"#fb9f3a\"],[0.8888888888888888,\"#fdca26\"],[1.0,\"#f0f921\"]]}],\"contourcarpet\":[{\"type\":\"contourcarpet\",\"colorbar\":{\"outlinewidth\":0,\"ticks\":\"\"}}],\"contour\":[{\"type\":\"contour\",\"colorbar\":{\"outlinewidth\":0,\"ticks\":\"\"},\"colorscale\":[[0.0,\"#0d0887\"],[0.1111111111111111,\"#46039f\"],[0.2222222222222222,\"#7201a8\"],[0.3333333333333333,\"#9c179e\"],[0.4444444444444444,\"#bd3786\"],[0.5555555555555556,\"#d8576b\"],[0.6666666666666666,\"#ed7953\"],[0.7777777777777778,\"#fb9f3a\"],[0.8888888888888888,\"#fdca26\"],[1.0,\"#f0f921\"]]}],\"surface\":[{\"type\":\"surface\",\"colorbar\":{\"outlinewidth\":0,\"ticks\":\"\"},\"colorscale\":[[0.0,\"#0d0887\"],[0.1111111111111111,\"#46039f\"],[0.2222222222222222,\"#7201a8\"],[0.3333333333333333,\"#9c179e\"],[0.4444444444444444,\"#bd3786\"],[0.5555555555555556,\"#d8576b\"],[0.6666666666666666,\"#ed7953\"],[0.7777777777777778,\"#fb9f3a\"],[0.8888888888888888,\"#fdca26\"],[1.0,\"#f0f921\"]]}],\"mesh3d\":[{\"type\":\"mesh3d\",\"colorbar\":{\"outlinewidth\":0,\"ticks\":\"\"}}],\"scatter\":[{\"fillpattern\":{\"fillmode\":\"overlay\",\"size\":10,\"solidity\":0.2},\"type\":\"scatter\"}],\"parcoords\":[{\"type\":\"parcoords\",\"line\":{\"colorbar\":{\"outlinewidth\":0,\"ticks\":\"\"}}}],\"scatterpolargl\":[{\"type\":\"scatterpolargl\",\"marker\":{\"colorbar\":{\"outlinewidth\":0,\"ticks\":\"\"}}}],\"bar\":[{\"error_x\":{\"color\":\"#2a3f5f\"},\"error_y\":{\"color\":\"#2a3f5f\"},\"marker\":{\"line\":{\"color\":\"#E5ECF6\",\"width\":0.5},\"pattern\":{\"fillmode\":\"overlay\",\"size\":10,\"solidity\":0.2}},\"type\":\"bar\"}],\"scattergeo\":[{\"type\":\"scattergeo\",\"marker\":{\"colorbar\":{\"outlinewidth\":0,\"ticks\":\"\"}}}],\"scatterpolar\":[{\"type\":\"scatterpolar\",\"marker\":{\"colorbar\":{\"outlinewidth\":0,\"ticks\":\"\"}}}],\"histogram\":[{\"marker\":{\"pattern\":{\"fillmode\":\"overlay\",\"size\":10,\"solidity\":0.2}},\"type\":\"histogram\"}],\"scattergl\":[{\"type\":\"scattergl\",\"marker\":{\"colorbar\":{\"outlinewidth\":0,\"ticks\":\"\"}}}],\"scatter3d\":[{\"type\":\"scatter3d\",\"line\":{\"colorbar\":{\"outlinewidth\":0,\"ticks\":\"\"}},\"marker\":{\"colorbar\":{\"outlinewidth\":0,\"ticks\":\"\"}}}],\"scattermapbox\":[{\"type\":\"scattermapbox\",\"marker\":{\"colorbar\":{\"outlinewidth\":0,\"ticks\":\"\"}}}],\"scatterternary\":[{\"type\":\"scatterternary\",\"marker\":{\"colorbar\":{\"outlinewidth\":0,\"ticks\":\"\"}}}],\"scattercarpet\":[{\"type\":\"scattercarpet\",\"marker\":{\"colorbar\":{\"outlinewidth\":0,\"ticks\":\"\"}}}],\"carpet\":[{\"aaxis\":{\"endlinecolor\":\"#2a3f5f\",\"gridcolor\":\"white\",\"linecolor\":\"white\",\"minorgridcolor\":\"white\",\"startlinecolor\":\"#2a3f5f\"},\"baxis\":{\"endlinecolor\":\"#2a3f5f\",\"gridcolor\":\"white\",\"linecolor\":\"white\",\"minorgridcolor\":\"white\",\"startlinecolor\":\"#2a3f5f\"},\"type\":\"carpet\"}],\"table\":[{\"cells\":{\"fill\":{\"color\":\"#EBF0F8\"},\"line\":{\"color\":\"white\"}},\"header\":{\"fill\":{\"color\":\"#C8D4E3\"},\"line\":{\"color\":\"white\"}},\"type\":\"table\"}],\"barpolar\":[{\"marker\":{\"line\":{\"color\":\"#E5ECF6\",\"width\":0.5},\"pattern\":{\"fillmode\":\"overlay\",\"size\":10,\"solidity\":0.2}},\"type\":\"barpolar\"}],\"pie\":[{\"automargin\":true,\"type\":\"pie\"}]},\"layout\":{\"autotypenumbers\":\"strict\",\"colorway\":[\"#636efa\",\"#EF553B\",\"#00cc96\",\"#ab63fa\",\"#FFA15A\",\"#19d3f3\",\"#FF6692\",\"#B6E880\",\"#FF97FF\",\"#FECB52\"],\"font\":{\"color\":\"#2a3f5f\"},\"hovermode\":\"closest\",\"hoverlabel\":{\"align\":\"left\"},\"paper_bgcolor\":\"white\",\"plot_bgcolor\":\"#E5ECF6\",\"polar\":{\"bgcolor\":\"#E5ECF6\",\"angularaxis\":{\"gridcolor\":\"white\",\"linecolor\":\"white\",\"ticks\":\"\"},\"radialaxis\":{\"gridcolor\":\"white\",\"linecolor\":\"white\",\"ticks\":\"\"}},\"ternary\":{\"bgcolor\":\"#E5ECF6\",\"aaxis\":{\"gridcolor\":\"white\",\"linecolor\":\"white\",\"ticks\":\"\"},\"baxis\":{\"gridcolor\":\"white\",\"linecolor\":\"white\",\"ticks\":\"\"},\"caxis\":{\"gridcolor\":\"white\",\"linecolor\":\"white\",\"ticks\":\"\"}},\"coloraxis\":{\"colorbar\":{\"outlinewidth\":0,\"ticks\":\"\"}},\"colorscale\":{\"sequential\":[[0.0,\"#0d0887\"],[0.1111111111111111,\"#46039f\"],[0.2222222222222222,\"#7201a8\"],[0.3333333333333333,\"#9c179e\"],[0.4444444444444444,\"#bd3786\"],[0.5555555555555556,\"#d8576b\"],[0.6666666666666666,\"#ed7953\"],[0.7777777777777778,\"#fb9f3a\"],[0.8888888888888888,\"#fdca26\"],[1.0,\"#f0f921\"]],\"sequentialminus\":[[0.0,\"#0d0887\"],[0.1111111111111111,\"#46039f\"],[0.2222222222222222,\"#7201a8\"],[0.3333333333333333,\"#9c179e\"],[0.4444444444444444,\"#bd3786\"],[0.5555555555555556,\"#d8576b\"],[0.6666666666666666,\"#ed7953\"],[0.7777777777777778,\"#fb9f3a\"],[0.8888888888888888,\"#fdca26\"],[1.0,\"#f0f921\"]],\"diverging\":[[0,\"#8e0152\"],[0.1,\"#c51b7d\"],[0.2,\"#de77ae\"],[0.3,\"#f1b6da\"],[0.4,\"#fde0ef\"],[0.5,\"#f7f7f7\"],[0.6,\"#e6f5d0\"],[0.7,\"#b8e186\"],[0.8,\"#7fbc41\"],[0.9,\"#4d9221\"],[1,\"#276419\"]]},\"xaxis\":{\"gridcolor\":\"white\",\"linecolor\":\"white\",\"ticks\":\"\",\"title\":{\"standoff\":15},\"zerolinecolor\":\"white\",\"automargin\":true,\"zerolinewidth\":2},\"yaxis\":{\"gridcolor\":\"white\",\"linecolor\":\"white\",\"ticks\":\"\",\"title\":{\"standoff\":15},\"zerolinecolor\":\"white\",\"automargin\":true,\"zerolinewidth\":2},\"scene\":{\"xaxis\":{\"backgroundcolor\":\"#E5ECF6\",\"gridcolor\":\"white\",\"linecolor\":\"white\",\"showbackground\":true,\"ticks\":\"\",\"zerolinecolor\":\"white\",\"gridwidth\":2},\"yaxis\":{\"backgroundcolor\":\"#E5ECF6\",\"gridcolor\":\"white\",\"linecolor\":\"white\",\"showbackground\":true,\"ticks\":\"\",\"zerolinecolor\":\"white\",\"gridwidth\":2},\"zaxis\":{\"backgroundcolor\":\"#E5ECF6\",\"gridcolor\":\"white\",\"linecolor\":\"white\",\"showbackground\":true,\"ticks\":\"\",\"zerolinecolor\":\"white\",\"gridwidth\":2}},\"shapedefaults\":{\"line\":{\"color\":\"#2a3f5f\"}},\"annotationdefaults\":{\"arrowcolor\":\"#2a3f5f\",\"arrowhead\":0,\"arrowwidth\":1},\"geo\":{\"bgcolor\":\"white\",\"landcolor\":\"#E5ECF6\",\"subunitcolor\":\"white\",\"showland\":true,\"showlakes\":true,\"lakecolor\":\"white\"},\"title\":{\"x\":0.05},\"mapbox\":{\"style\":\"light\"}}},\"xaxis\":{\"anchor\":\"y\",\"domain\":[0.0,1.0]},\"yaxis\":{\"anchor\":\"x\",\"domain\":[0.0,1.0],\"range\":[0,800]},\"annotations\":[{\"font\":{\"size\":16},\"showarrow\":false,\"text\":\"Passenger Status after Titanic Crash\",\"x\":0.5,\"xanchor\":\"center\",\"xref\":\"paper\",\"y\":1.0,\"yanchor\":\"bottom\",\"yref\":\"paper\"}],\"bargap\":0.4,\"bargroupgap\":0},                        {\"responsive\": true}                    ).then(function(){\n",
       "                            \n",
       "var gd = document.getElementById('eb995862-b5d0-499d-a290-e884f6b143b1');\n",
       "var x = new MutationObserver(function (mutations, observer) {{\n",
       "        var display = window.getComputedStyle(gd).display;\n",
       "        if (!display || display === 'none') {{\n",
       "            console.log([gd, 'removed!']);\n",
       "            Plotly.purge(gd);\n",
       "            observer.disconnect();\n",
       "        }}\n",
       "}});\n",
       "\n",
       "// Listen for the removal of the full notebook cells\n",
       "var notebookContainer = gd.closest('#notebook-container');\n",
       "if (notebookContainer) {{\n",
       "    x.observe(notebookContainer, {childList: true});\n",
       "}}\n",
       "\n",
       "// Listen for the clearing of the current output cell\n",
       "var outputEl = gd.closest('.output');\n",
       "if (outputEl) {{\n",
       "    x.observe(outputEl, {childList: true});\n",
       "}}\n",
       "\n",
       "                        })                };                });            </script>        </div>"
      ]
     },
     "metadata": {},
     "output_type": "display_data"
    }
   ],
   "source": [
    "#Question 5, of those that did not survive, how many of their bodies were recovered?\n",
    "figClass = make_subplots(rows = 1, cols = 1,\n",
    "                   subplot_titles=(\"Passenger Status after Titanic Crash\",))\n",
    "trace5 = go.Histogram(x=df[df['survivedStatus']=='Survived'][\"recovered\"],  \n",
    "                        text=[\"500\"], textposition=\"outside\", opacity=0.75, \n",
    "                      marker_color='#003758', name='Survived', \n",
    "                      showlegend=True)\n",
    "trace6 = go.Histogram(x=df[df['survivedStatus']=='Not Survived'][\"recovered\"],  \n",
    "                        text=[\"688\", \"121\"], textposition=\"outside\", opacity=0.75, \n",
    "                      marker_color='#8b0000', name='Did not survive', \n",
    "                      showlegend=True)\n",
    "\n",
    "figClass.update_layout( \n",
    "    bargap=0.4,\n",
    "    bargroupgap=0, \n",
    "    yaxis = dict(range=[0, 800])) \n",
    "\n",
    "figClass.append_trace(trace5, 1, 1) \n",
    "figClass.append_trace(trace6, 1, 1)\n",
    "\n",
    "\n",
    "figClass.show()"
   ]
  }
 ],
 "metadata": {
  "kernelspec": {
   "display_name": "Python 3 (ipykernel)",
   "language": "python",
   "name": "python3"
  },
  "language_info": {
   "codemirror_mode": {
    "name": "ipython",
    "version": 3
   },
   "file_extension": ".py",
   "mimetype": "text/x-python",
   "name": "python",
   "nbconvert_exporter": "python",
   "pygments_lexer": "ipython3",
   "version": "3.11.3"
  }
 },
 "nbformat": 4,
 "nbformat_minor": 5
}
